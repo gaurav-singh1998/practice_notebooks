{
 "cells": [
  {
   "cell_type": "code",
   "execution_count": 1,
   "metadata": {
    "colab": {},
    "colab_type": "code",
    "id": "REYPoTJ1Af7u"
   },
   "outputs": [],
   "source": [
    "import warnings\n",
    "warnings.filterwarnings(\"ignore\")\n",
    "from sklearn.datasets import load_boston\n",
    "from sklearn.model_selection import train_test_split \n",
    "from random import seed\n",
    "from random import randrange\n",
    "from csv import reader\n",
    "from math import sqrt\n",
    "from sklearn import preprocessing\n",
    "import pandas as pd\n",
    "import numpy as np\n",
    "import matplotlib.pyplot as plt\n",
    "from prettytable import PrettyTable\n",
    "from sklearn.linear_model import SGDRegressor\n",
    "from sklearn import preprocessing\n",
    "from sklearn.metrics import mean_squared_error\n",
    "import math\n",
    "import random\n",
    "from sklearn.linear_model import LinearRegression\n",
    "from sklearn.metrics import mean_squared_error\n",
    "from sklearn import linear_model"
   ]
  },
  {
   "cell_type": "code",
   "execution_count": 2,
   "metadata": {
    "colab": {},
    "colab_type": "code",
    "id": "NTQ2iH-kAwbo"
   },
   "outputs": [],
   "source": [
    "X = load_boston().data\n",
    "Y = load_boston().target"
   ]
  },
  {
   "cell_type": "code",
   "execution_count": 3,
   "metadata": {
    "colab": {},
    "colab_type": "code",
    "id": "FgUW39s6Be0U"
   },
   "outputs": [],
   "source": [
    "scaler = preprocessing.StandardScaler().fit(X)\n",
    "X = scaler.transform(X)"
   ]
  },
  {
   "cell_type": "code",
   "execution_count": 4,
   "metadata": {},
   "outputs": [
    {
     "data": {
      "text/plain": [
       "(506, 13)"
      ]
     },
     "execution_count": 4,
     "metadata": {},
     "output_type": "execute_result"
    }
   ],
   "source": [
    "X.shape"
   ]
  },
  {
   "cell_type": "code",
   "execution_count": 5,
   "metadata": {},
   "outputs": [
    {
     "data": {
      "text/plain": [
       "506"
      ]
     },
     "execution_count": 5,
     "metadata": {},
     "output_type": "execute_result"
    }
   ],
   "source": [
    "X.shape[0]"
   ]
  },
  {
   "cell_type": "code",
   "execution_count": 6,
   "metadata": {},
   "outputs": [
    {
     "data": {
      "text/plain": [
       "(506, 1)"
      ]
     },
     "execution_count": 6,
     "metadata": {},
     "output_type": "execute_result"
    }
   ],
   "source": [
    "Y = Y.reshape((506, 1))\n",
    "Y.shape"
   ]
  },
  {
   "cell_type": "markdown",
   "metadata": {},
   "source": [
    "## My implementation of linear regression with SGD."
   ]
  },
  {
   "cell_type": "code",
   "execution_count": 7,
   "metadata": {},
   "outputs": [],
   "source": [
    "def random_mini_batches(X, Y, mini_batch_size = 1, seed = 0):\n",
    "    np.random.seed(seed)            \n",
    "    m = X.shape[0]                  \n",
    "    mini_batches = []\n",
    "    permutation = list(np.random.permutation(m))\n",
    "    shuffled_X = X[permutation, :]\n",
    "    shuffled_Y = Y[permutation, :].reshape((m,1))\n",
    "    num_complete_minibatches = math.floor(m/mini_batch_size)\n",
    "    for k in range(0, num_complete_minibatches):\n",
    "        mini_batch_X = shuffled_X[k*mini_batch_size:(k+1)*mini_batch_size,:]\n",
    "        mini_batch_Y = shuffled_Y[k*mini_batch_size:(k+1)*mini_batch_size,:]\n",
    "        mini_batch = (mini_batch_X, mini_batch_Y)\n",
    "        mini_batches.append(mini_batch)\n",
    "    if m % mini_batch_size != 0:\n",
    "        mini_batch_X = shuffled_X[m-mini_batch_size*num_complete_minibatches:m, :]\n",
    "        mini_batch_Y = shuffled_Y[m-mini_batch_size*num_complete_minibatches:m, :]\n",
    "        mini_batch = (mini_batch_X, mini_batch_Y)\n",
    "        mini_batches.append(mini_batch)\n",
    "    \n",
    "    return mini_batches"
   ]
  },
  {
   "cell_type": "code",
   "execution_count": 11,
   "metadata": {},
   "outputs": [],
   "source": [
    "def initialize_parameters(X):\n",
    "    np.random.seed(3)\n",
    "    W1 = np.random.randn(X.shape[1], 1)*0.01\n",
    "    B1 = np.zeros((X.shape[0], 1))\n",
    "    return W1, B1"
   ]
  },
  {
   "cell_type": "code",
   "execution_count": 12,
   "metadata": {},
   "outputs": [],
   "source": [
    "def linear_forward(A, W, b):\n",
    "    Z = np.dot(A, W) + b  \n",
    "    cache = (A, W, b)\n",
    "    return Z, cache"
   ]
  },
  {
   "cell_type": "code",
   "execution_count": 13,
   "metadata": {},
   "outputs": [],
   "source": [
    "def compute_cost(AL, Y):\n",
    "    cost = (1/Y.shape[0])*((Y-AL)**2)\n",
    "    cost = np.squeeze(cost)      # To make sure your cost's shape is what we expect (e.g. this turns [[17]] into 17).\n",
    "    return cost"
   ]
  },
  {
   "cell_type": "code",
   "execution_count": 14,
   "metadata": {},
   "outputs": [],
   "source": [
    "def compute_cost_with_regularization(AL, Y, W, lambd):\n",
    "    L2_regularization_cost = lambd*(np.square(W))\n",
    "    cross_entropy_cost = compute_cost(AL, Y)\n",
    "    cost = cross_entropy_cost + L2_regularization_cost\n",
    "    cost = np.mean(cost)\n",
    "    return cost"
   ]
  },
  {
   "cell_type": "code",
   "execution_count": 15,
   "metadata": {},
   "outputs": [],
   "source": [
    "def going_forward(X, Y, lambd, no_of_iterations, learning_rate):\n",
    "    costs = []\n",
    "    W_s = []\n",
    "    B_s = []\n",
    "    mini_batches = random_mini_batches(X, Y)\n",
    "    secure_random = random.SystemRandom()\n",
    "    mini_batch = secure_random.choice(mini_batches)\n",
    "    minibatch_X = mini_batch[0]\n",
    "    minibatch_Y = mini_batch[1]\n",
    "    W, B = initialize_parameters(minibatch_X)\n",
    "    Z, cache = linear_forward(minibatch_X, W, B)\n",
    "    cost = compute_cost_with_regularization(Z, minibatch_Y, W, lambd)\n",
    "    costs.append(cost)\n",
    "    W_s.append(W)\n",
    "    B_s.append(B)\n",
    "    for i in range(no_of_iterations):\n",
    "        secure_random = random.SystemRandom()\n",
    "        mini_batch = secure_random.choice(mini_batches)\n",
    "        minibatch_X = mini_batch[0]\n",
    "        minibatch_Y = mini_batch[1]\n",
    "        X_for_W = (-2*minibatch_X)*(np.subtract(minibatch_Y, np.add(np.dot(minibatch_X, W), B)))\n",
    "        X_for_W = X_for_W.flatten()\n",
    "        X_for_W = X_for_W.reshape(X_for_W.shape[0], 1)\n",
    "        sum_for_W = np.sum(X_for_W)\n",
    "        W = W - learning_rate*sum_for_W\n",
    "        X_for_B = (-2)*(np.subtract(minibatch_Y, np.add(np.dot(minibatch_X, W), B)))\n",
    "        X_for_B = X_for_B.flatten()\n",
    "        X_for_B = X_for_B.reshape(X_for_B.shape[0], 1)\n",
    "        sum_for_B = np.sum(X_for_B)\n",
    "        B = B - learning_rate*sum_for_B\n",
    "        Z, cache = linear_forward(minibatch_X, W, B)\n",
    "        cost = compute_cost_with_regularization(Z, minibatch_Y, W, lambd)\n",
    "        costs.append(cost)\n",
    "        W_s.append(W)\n",
    "        B_s.append(B)\n",
    "        learning_rate = learning_rate/2\n",
    "    lowest_cost = min(costs)\n",
    "    optimal_W = W_s[costs.index(min(costs))]\n",
    "    optimal_B = B_s[costs.index(min(costs))]\n",
    "    return lowest_cost, optimal_W, optimal_B"
   ]
  },
  {
   "cell_type": "code",
   "execution_count": 16,
   "metadata": {},
   "outputs": [],
   "source": [
    "X_train, X_test, Y_train, Y_test = train_test_split(X, Y, test_size = 0.33, random_state = 5)"
   ]
  },
  {
   "cell_type": "code",
   "execution_count": 17,
   "metadata": {},
   "outputs": [],
   "source": [
    "C = []\n",
    "W = []\n",
    "B = []\n",
    "lr_during_looping = []\n",
    "lambds_during_looping = []\n",
    "learning_rates = [0.000001, 0.00001, 0.0001, 0.001,0.01,0.1, 1, 10, 100, 1000]\n",
    "lambds = [0.01, 0.1, 1, 2, 3, 4, 5]\n",
    "for learning_rate in learning_rates:\n",
    "    for lambd in lambds:\n",
    "        lowest_cost, best_W, best_B = going_forward(X_train, Y_train, lambd, 10000, learning_rate)\n",
    "        C.append(lowest_cost)\n",
    "        W.append(best_W)\n",
    "        B.append(best_B)\n",
    "        lr_during_looping.append(learning_rate)\n",
    "        lambds_during_looping.append(lambd)"
   ]
  },
  {
   "cell_type": "code",
   "execution_count": 18,
   "metadata": {},
   "outputs": [
    {
     "name": "stdout",
     "output_type": "stream",
     "text": [
      "The minimum cost came out to be: 0.0826887135105834\n"
     ]
    }
   ],
   "source": [
    "print('The minimum cost came out to be: {}'.format(min(C)))"
   ]
  },
  {
   "cell_type": "code",
   "execution_count": null,
   "metadata": {},
   "outputs": [],
   "source": []
  },
  {
   "cell_type": "code",
   "execution_count": 103,
   "metadata": {},
   "outputs": [
    {
     "name": "stdout",
     "output_type": "stream",
     "text": [
      "\n",
      "The optimal value of learning rate is 0.01\n"
     ]
    }
   ],
   "source": [
    "optimal_learning_rate = lr_during_looping[C.index(min(C))]\n",
    "print('\\nThe optimal value of learning rate is {}'.format(optimal_learning_rate))"
   ]
  },
  {
   "cell_type": "code",
   "execution_count": 104,
   "metadata": {},
   "outputs": [
    {
     "name": "stdout",
     "output_type": "stream",
     "text": [
      "\n",
      "The optimal value of lambda for regularization is 0.01\n"
     ]
    }
   ],
   "source": [
    "optimal_lambda = lambds_during_looping[C.index(min(C))]\n",
    "print('\\nThe optimal value of lambda for regularization is {}'.format(optimal_lambda))"
   ]
  },
  {
   "cell_type": "code",
   "execution_count": 105,
   "metadata": {},
   "outputs": [],
   "source": [
    "optimal_W = W[C.index(min(C))]"
   ]
  },
  {
   "cell_type": "code",
   "execution_count": 106,
   "metadata": {},
   "outputs": [
    {
     "data": {
      "text/plain": [
       "(13, 1)"
      ]
     },
     "execution_count": 106,
     "metadata": {},
     "output_type": "execute_result"
    }
   ],
   "source": [
    "optimal_W.shape"
   ]
  },
  {
   "cell_type": "code",
   "execution_count": 107,
   "metadata": {},
   "outputs": [],
   "source": [
    "optimal_B = B[C.index(min(C))]"
   ]
  },
  {
   "cell_type": "code",
   "execution_count": 108,
   "metadata": {},
   "outputs": [
    {
     "data": {
      "text/plain": [
       "(1, 1)"
      ]
     },
     "execution_count": 108,
     "metadata": {},
     "output_type": "execute_result"
    }
   ],
   "source": [
    "optimal_B.shape"
   ]
  },
  {
   "cell_type": "code",
   "execution_count": 109,
   "metadata": {},
   "outputs": [],
   "source": [
    "Y_pred, cache = linear_forward(X_test, optimal_W, optimal_B)"
   ]
  },
  {
   "cell_type": "code",
   "execution_count": 110,
   "metadata": {},
   "outputs": [
    {
     "data": {
      "text/plain": [
       "(167, 1)"
      ]
     },
     "execution_count": 110,
     "metadata": {},
     "output_type": "execute_result"
    }
   ],
   "source": [
    "Y_pred.shape"
   ]
  },
  {
   "cell_type": "code",
   "execution_count": 111,
   "metadata": {},
   "outputs": [
    {
     "data": {
      "image/png": "[encoded data removed]",
      "text/plain": [
       "<matplotlib.figure.Figure at 0x7f36020c2278>"
      ]
     },
     "metadata": {},
     "output_type": "display_data"
    }
   ],
   "source": [
    "plt.scatter(Y_test, Y_pred)\n",
    "plt.xlabel(\"Prices: $Y_i$\")\n",
    "plt.ylabel(\"Predicted prices: $\\hat{Y}_i$\")\n",
    "plt.title(\"Prices vs Predicted prices: $Y_i$ vs $\\hat{Y}_i$ for my version of SGD\")\n",
    "plt.show()"
   ]
  },
  {
   "cell_type": "code",
   "execution_count": 112,
   "metadata": {},
   "outputs": [
    {
     "name": "stdout",
     "output_type": "stream",
     "text": [
      "The cost on test data is 3.5482660632166327\n"
     ]
    }
   ],
   "source": [
    "cost = compute_cost_with_regularization(Y_pred, Y_test, optimal_W, optimal_lambda)\n",
    "print('The cost on test data is {}'.format(cost))"
   ]
  },
  {
   "cell_type": "markdown",
   "metadata": {},
   "source": [
    "## Sklearn implementation of linear regression"
   ]
  },
  {
   "cell_type": "code",
   "execution_count": 113,
   "metadata": {},
   "outputs": [
    {
     "data": {
      "image/png": "[encoded data removed]",
      "text/plain": [
       "<matplotlib.figure.Figure at 0x7f3601f15908>"
      ]
     },
     "metadata": {},
     "output_type": "display_data"
    }
   ],
   "source": [
    "\n",
    "lm=linear_model.SGDRegressor(loss='squared_loss', penalty='l2', alpha = 3, fit_intercept=True, max_iter=100, tol=None)\n",
    "lm.fit(X_train, Y_train)\n",
    "Y_pred = lm.predict(X_test)\n",
    "\n",
    "plt.scatter(Y_test, Y_pred)\n",
    "plt.xlabel(\"Prices: $Y_i$\")\n",
    "plt.ylabel(\"Predicted prices: $\\hat{Y}_i$\")\n",
    "plt.title(\"Prices vs Predicted prices: $Y_i$ vs $\\hat{Y}_i$ for sklearn implementation of SGD\")\n",
    "plt.show()"
   ]
  },
  {
   "cell_type": "code",
   "execution_count": 114,
   "metadata": {},
   "outputs": [
    {
     "name": "stdout",
     "output_type": "stream",
     "text": [
      "The error on test data is 51.276280141250105\n"
     ]
    }
   ],
   "source": [
    "error = mean_squared_error(Y_test, Y_pred)\n",
    "print('The error on test data is {}'.format(error))"
   ]
  },
  {
   "cell_type": "markdown",
   "metadata": {},
   "source": [
    "## Comparison for both implementations."
   ]
  },
  {
   "cell_type": "code",
   "execution_count": 115,
   "metadata": {},
   "outputs": [],
   "source": [
    "W_s = lm.coef_"
   ]
  },
  {
   "cell_type": "code",
   "execution_count": 116,
   "metadata": {},
   "outputs": [],
   "source": [
    "B_s = lm.intercept_"
   ]
  },
  {
   "cell_type": "code",
   "execution_count": 117,
   "metadata": {},
   "outputs": [],
   "source": [
    "W_s = W_s.reshape(13, 1)"
   ]
  },
  {
   "cell_type": "code",
   "execution_count": 118,
   "metadata": {},
   "outputs": [
    {
     "name": "stdout",
     "output_type": "stream",
     "text": [
      "+----------------------------------------------------+-----------------------------------------------+\n",
      "| value for weight vector for sklearn implementation | value for weight vector for my implementation |\n",
      "+----------------------------------------------------+-----------------------------------------------+\n",
      "|                   [-0.46144328]                    |                  [0.43857888]                 |\n",
      "|                    [0.30506616]                    |                  [0.42505769]                 |\n",
      "|                   [-0.48560377]                    |                  [0.42165757]                 |\n",
      "|                    [0.13301885]                    |                  [0.40205767]                 |\n",
      "|                   [-0.35152274]                    |                  [0.41791871]                 |\n",
      "|                    [1.14708353]                    |                   [0.417145]                  |\n",
      "|                   [-0.31624167]                    |                  [0.41986518]                 |\n",
      "|                   [-0.02263183]                    |                  [0.41442259]                 |\n",
      "|                   [-0.30520434]                    |                  [0.42025441]                 |\n",
      "|                   [-0.46839416]                    |                  [0.41592041]                 |\n",
      "|                   [-0.78443549]                    |                  [0.40755395]                 |\n",
      "|                    [0.35469081]                    |                  [0.42953882]                 |\n",
      "|                   [-1.05101435]                    |                  [0.42950577]                 |\n",
      "|                   [22.45814794]                    |                 [[0.4153005]]                 |\n",
      "+----------------------------------------------------+-----------------------------------------------+\n"
     ]
    }
   ],
   "source": [
    "x = PrettyTable()\n",
    "x.field_names = ['value for weight vector for sklearn implementation', 'value for weight vector for my implementation']\n",
    "for i in range(W_s.shape[0]):\n",
    "    x.add_row([W_s[i], optimal_W[i]])\n",
    "x.add_row([B_s, optimal_B])\n",
    "print(x)"
   ]
  },
  {
   "cell_type": "code",
   "execution_count": 119,
   "metadata": {},
   "outputs": [
    {
     "name": "stdout",
     "output_type": "stream",
     "text": [
      "+--------------------------------+---------------------------+\n",
      "| MSE for sklearn implementation | MSE for my implementation |\n",
      "+--------------------------------+---------------------------+\n",
      "|       51.276280141250105       |     3.5482660632166327    |\n",
      "+--------------------------------+---------------------------+\n"
     ]
    }
   ],
   "source": [
    "x = PrettyTable()\n",
    "x.field_names = ['MSE for sklearn implementation', 'MSE for my implementation']\n",
    "x.add_row([error, cost])\n",
    "print(x)"
   ]
  },
  {
   "cell_type": "code",
   "execution_count": null,
   "metadata": {},
   "outputs": [],
   "source": []
  }
 ],
 "metadata": {
  "colab": {
   "name": "Untitled3.ipynb",
   "provenance": [],
   "version": "0.3.2"
  },
  "kernelspec": {
   "display_name": "Python 3",
   "language": "python",
   "name": "python3"
  },
  "language_info": {
   "codemirror_mode": {
    "name": "ipython",
    "version": 3
   },
   "file_extension": ".py",
   "mimetype": "text/x-python",
   "name": "python",
   "nbconvert_exporter": "python",
   "pygments_lexer": "ipython3",
   "version": "3.6.4"
  }
 },
 "nbformat": 4,
 "nbformat_minor": 1
}
