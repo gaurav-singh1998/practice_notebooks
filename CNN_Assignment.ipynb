{
 "cells": [
  {
   "cell_type": "markdown",
   "metadata": {
    "colab_type": "text",
    "id": "3W3jusJeM2gq"
   },
   "source": [
    "# Importing the libraries and loading the dataset."
   ]
  },
  {
   "cell_type": "code",
   "execution_count": 1,
   "metadata": {
    "colab": {
     "base_uri": "https://localhost:8080/",
     "height": 34
    },
    "colab_type": "code",
    "id": "pRO6bCOCLQCy",
    "outputId": "c1f36c0e-3585-44d4-cc84-793cd897ca7f"
   },
   "outputs": [
    {
     "name": "stderr",
     "output_type": "stream",
     "text": [
      "Using TensorFlow backend.\n"
     ]
    }
   ],
   "source": [
    "from __future__ import print_function\n",
    "import keras\n",
    "from keras.datasets import mnist\n",
    "from keras.models import Sequential\n",
    "from keras.layers import Dense, Dropout, Flatten\n",
    "from keras.layers import Conv2D, MaxPooling2D\n",
    "from keras import backend as K\n",
    "from prettytable import PrettyTable\n",
    "import matplotlib.pyplot as plt"
   ]
  },
  {
   "cell_type": "markdown",
   "metadata": {
    "colab_type": "text",
    "id": "7SbXHHt5QhL7"
   },
   "source": [
    "## Data preprocessing."
   ]
  },
  {
   "cell_type": "code",
   "execution_count": 2,
   "metadata": {
    "colab": {
     "base_uri": "https://localhost:8080/",
     "height": 51
    },
    "colab_type": "code",
    "id": "5_wU4T8OQglS",
    "outputId": "5c1cec7a-9750-4e5e-932b-d4c2290ec473"
   },
   "outputs": [
    {
     "name": "stdout",
     "output_type": "stream",
     "text": [
      "Downloading data from https://s3.amazonaws.com/img-datasets/mnist.npz\n",
      "11493376/11490434 [==============================] - 1s 0us/step\n"
     ]
    }
   ],
   "source": [
    "(x_train, y_train), (x_test, y_test) = mnist.load_data()"
   ]
  },
  {
   "cell_type": "code",
   "execution_count": 0,
   "metadata": {
    "colab": {},
    "colab_type": "code",
    "id": "lSfb7LoJQr91"
   },
   "outputs": [],
   "source": [
    "img_rows, img_cols = 28, 28\n",
    "if K.image_data_format() == 'channels_first':\n",
    "    x_train = x_train.reshape(x_train.shape[0], 1, img_rows, img_cols)\n",
    "    x_test = x_test.reshape(x_test.shape[0], 1, img_rows, img_cols)\n",
    "    input_shape = (1, img_rows, img_cols)\n",
    "else:\n",
    "    x_train = x_train.reshape(x_train.shape[0], img_rows, img_cols, 1)\n",
    "    x_test = x_test.reshape(x_test.shape[0], img_rows, img_cols, 1)\n",
    "    input_shape = (img_rows, img_cols, 1)\n"
   ]
  },
  {
   "cell_type": "code",
   "execution_count": 4,
   "metadata": {
    "colab": {
     "base_uri": "https://localhost:8080/",
     "height": 68
    },
    "colab_type": "code",
    "id": "p7LMgdXsRAce",
    "outputId": "0f2bd50c-6dd7-4fe0-8374-453b5eeb4907"
   },
   "outputs": [
    {
     "name": "stdout",
     "output_type": "stream",
     "text": [
      "x_train shape: (60000, 28, 28, 1)\n",
      "60000 train samples\n",
      "10000 test samples\n"
     ]
    }
   ],
   "source": [
    "x_train = x_train.astype('float32')\n",
    "x_test = x_test.astype('float32')\n",
    "x_train /= 255\n",
    "x_test /= 255\n",
    "print('x_train shape:', x_train.shape)\n",
    "print(x_train.shape[0], 'train samples')\n",
    "print(x_test.shape[0], 'test samples')"
   ]
  },
  {
   "cell_type": "code",
   "execution_count": 0,
   "metadata": {
    "colab": {},
    "colab_type": "code",
    "id": "qX9bVFuiRFFA"
   },
   "outputs": [],
   "source": [
    "num_classes = 10\n",
    "y_train = keras.utils.to_categorical(y_train, num_classes)\n",
    "y_test = keras.utils.to_categorical(y_test, num_classes)\n"
   ]
  },
  {
   "cell_type": "markdown",
   "metadata": {
    "colab_type": "text",
    "id": "vv_3a3abNTiC"
   },
   "source": [
    "## [1] Convolutional Neural Network with 2x2 kernel and 2 covolutional layers followed by maxpooling and dense layers."
   ]
  },
  {
   "cell_type": "code",
   "execution_count": 0,
   "metadata": {
    "colab": {},
    "colab_type": "code",
    "id": "4m21FoC7RjBN"
   },
   "outputs": [],
   "source": [
    "batch_size = 128\n",
    "epochs = 32"
   ]
  },
  {
   "cell_type": "markdown",
   "metadata": {
    "colab_type": "text",
    "id": "2w6R_0TN37ff"
   },
   "source": [
    "#### With dropout rate = 0.5"
   ]
  },
  {
   "cell_type": "code",
   "execution_count": 7,
   "metadata": {
    "colab": {
     "base_uri": "https://localhost:8080/",
     "height": 139
    },
    "colab_type": "code",
    "id": "wXI3KGVcQa-4",
    "outputId": "13be27ad-988e-471d-cb49-a2669fcdad52"
   },
   "outputs": [
    {
     "name": "stdout",
     "output_type": "stream",
     "text": [
      "WARNING:tensorflow:From /usr/local/lib/python3.6/dist-packages/tensorflow/python/framework/op_def_library.py:263: colocate_with (from tensorflow.python.framework.ops) is deprecated and will be removed in a future version.\n",
      "Instructions for updating:\n",
      "Colocations handled automatically by placer.\n",
      "WARNING:tensorflow:From /usr/local/lib/python3.6/dist-packages/keras/backend/tensorflow_backend.py:3445: calling dropout (from tensorflow.python.ops.nn_ops) with keep_prob is deprecated and will be removed in a future version.\n",
      "Instructions for updating:\n",
      "Please use `rate` instead of `keep_prob`. Rate should be set to `rate = 1 - keep_prob`.\n"
     ]
    }
   ],
   "source": [
    "model = Sequential()\n",
    "model.add(Conv2D(32, kernel_size=(2, 2),\n",
    "                 activation='relu',\n",
    "                 input_shape=input_shape))\n",
    "model.add(Conv2D(64, (2, 2), activation='relu'))\n",
    "model.add(MaxPooling2D(pool_size=(2, 2)))\n",
    "model.add(Dropout(0.5))\n",
    "model.add(Flatten())\n",
    "model.add(Dense(128, activation='relu'))\n",
    "model.add(Dropout(0.5))\n",
    "model.add(Dense(num_classes, activation='softmax'))"
   ]
  },
  {
   "cell_type": "code",
   "execution_count": 0,
   "metadata": {
    "colab": {},
    "colab_type": "code",
    "id": "2RvXN2V2R7X0"
   },
   "outputs": [],
   "source": [
    "model.compile(loss=keras.losses.categorical_crossentropy,\n",
    "              optimizer=keras.optimizers.Adadelta(),\n",
    "              metrics=['accuracy'])\n"
   ]
  },
  {
   "cell_type": "code",
   "execution_count": 9,
   "metadata": {
    "colab": {
     "base_uri": "https://localhost:8080/",
     "height": 1584
    },
    "colab_type": "code",
    "id": "BgS0sU5CVOjF",
    "outputId": "bd71e15b-53ef-470a-b7c4-91b569cbf385"
   },
   "outputs": [
    {
     "name": "stdout",
     "output_type": "stream",
     "text": [
      "_________________________________________________________________\n",
      "Layer (type)                 Output Shape              Param #   \n",
      "=================================================================\n",
      "conv2d_1 (Conv2D)            (None, 27, 27, 32)        160       \n",
      "_________________________________________________________________\n",
      "conv2d_2 (Conv2D)            (None, 26, 26, 64)        8256      \n",
      "_________________________________________________________________\n",
      "max_pooling2d_1 (MaxPooling2 (None, 13, 13, 64)        0         \n",
      "_________________________________________________________________\n",
      "dropout_1 (Dropout)          (None, 13, 13, 64)        0         \n",
      "_________________________________________________________________\n",
      "flatten_1 (Flatten)          (None, 10816)             0         \n",
      "_________________________________________________________________\n",
      "dense_1 (Dense)              (None, 128)               1384576   \n",
      "_________________________________________________________________\n",
      "dropout_2 (Dropout)          (None, 128)               0         \n",
      "_________________________________________________________________\n",
      "dense_2 (Dense)              (None, 10)                1290      \n",
      "=================================================================\n",
      "Total params: 1,394,282\n",
      "Trainable params: 1,394,282\n",
      "Non-trainable params: 0\n",
      "_________________________________________________________________\n",
      "WARNING:tensorflow:From /usr/local/lib/python3.6/dist-packages/tensorflow/python/ops/math_ops.py:3066: to_int32 (from tensorflow.python.ops.math_ops) is deprecated and will be removed in a future version.\n",
      "Instructions for updating:\n",
      "Use tf.cast instead.\n",
      "Train on 60000 samples, validate on 10000 samples\n",
      "Epoch 1/32\n",
      "60000/60000 [==============================] - 13s 222us/step - loss: 0.3256 - acc: 0.9004 - val_loss: 0.0852 - val_acc: 0.9742\n",
      "Epoch 2/32\n",
      "60000/60000 [==============================] - 9s 143us/step - loss: 0.1317 - acc: 0.9601 - val_loss: 0.0634 - val_acc: 0.9796\n",
      "Epoch 3/32\n",
      "60000/60000 [==============================] - 9s 143us/step - loss: 0.1046 - acc: 0.9689 - val_loss: 0.0508 - val_acc: 0.9823\n",
      "Epoch 4/32\n",
      "60000/60000 [==============================] - 9s 142us/step - loss: 0.0855 - acc: 0.9740 - val_loss: 0.0484 - val_acc: 0.9834\n",
      "Epoch 5/32\n",
      "60000/60000 [==============================] - 9s 143us/step - loss: 0.0771 - acc: 0.9770 - val_loss: 0.0424 - val_acc: 0.9861\n",
      "Epoch 6/32\n",
      "60000/60000 [==============================] - 9s 142us/step - loss: 0.0687 - acc: 0.9789 - val_loss: 0.0406 - val_acc: 0.9864\n",
      "Epoch 7/32\n",
      "60000/60000 [==============================] - 9s 142us/step - loss: 0.0647 - acc: 0.9803 - val_loss: 0.0377 - val_acc: 0.9870\n",
      "Epoch 8/32\n",
      "60000/60000 [==============================] - 9s 143us/step - loss: 0.0610 - acc: 0.9813 - val_loss: 0.0366 - val_acc: 0.9883\n",
      "Epoch 9/32\n",
      "60000/60000 [==============================] - 9s 143us/step - loss: 0.0579 - acc: 0.9827 - val_loss: 0.0372 - val_acc: 0.9887\n",
      "Epoch 10/32\n",
      "60000/60000 [==============================] - 9s 143us/step - loss: 0.0540 - acc: 0.9831 - val_loss: 0.0397 - val_acc: 0.9882\n",
      "Epoch 11/32\n",
      "60000/60000 [==============================] - 9s 144us/step - loss: 0.0524 - acc: 0.9840 - val_loss: 0.0349 - val_acc: 0.9888\n",
      "Epoch 12/32\n",
      "60000/60000 [==============================] - 9s 143us/step - loss: 0.0518 - acc: 0.9849 - val_loss: 0.0391 - val_acc: 0.9874\n",
      "Epoch 13/32\n",
      "60000/60000 [==============================] - 8s 142us/step - loss: 0.0499 - acc: 0.9849 - val_loss: 0.0349 - val_acc: 0.9890\n",
      "Epoch 14/32\n",
      "60000/60000 [==============================] - 9s 142us/step - loss: 0.0474 - acc: 0.9854 - val_loss: 0.0352 - val_acc: 0.9895\n",
      "Epoch 15/32\n",
      "60000/60000 [==============================] - 9s 143us/step - loss: 0.0466 - acc: 0.9862 - val_loss: 0.0371 - val_acc: 0.9887\n",
      "Epoch 16/32\n",
      "60000/60000 [==============================] - 9s 142us/step - loss: 0.0475 - acc: 0.9853 - val_loss: 0.0314 - val_acc: 0.9902\n",
      "Epoch 17/32\n",
      "60000/60000 [==============================] - 9s 143us/step - loss: 0.0463 - acc: 0.9865 - val_loss: 0.0307 - val_acc: 0.9904\n",
      "Epoch 18/32\n",
      "60000/60000 [==============================] - 9s 142us/step - loss: 0.0447 - acc: 0.9866 - val_loss: 0.0358 - val_acc: 0.9885\n",
      "Epoch 19/32\n",
      "60000/60000 [==============================] - 9s 143us/step - loss: 0.0458 - acc: 0.9862 - val_loss: 0.0335 - val_acc: 0.9897\n",
      "Epoch 20/32\n",
      "60000/60000 [==============================] - 9s 143us/step - loss: 0.0432 - acc: 0.9869 - val_loss: 0.0331 - val_acc: 0.9891\n",
      "Epoch 21/32\n",
      "60000/60000 [==============================] - 9s 143us/step - loss: 0.0425 - acc: 0.9869 - val_loss: 0.0341 - val_acc: 0.9903\n",
      "Epoch 22/32\n",
      "60000/60000 [==============================] - 9s 142us/step - loss: 0.0440 - acc: 0.9869 - val_loss: 0.0360 - val_acc: 0.9890\n",
      "Epoch 23/32\n",
      "60000/60000 [==============================] - 9s 142us/step - loss: 0.0409 - acc: 0.9882 - val_loss: 0.0367 - val_acc: 0.9890\n",
      "Epoch 24/32\n",
      "60000/60000 [==============================] - 9s 142us/step - loss: 0.0419 - acc: 0.9876 - val_loss: 0.0353 - val_acc: 0.9898\n",
      "Epoch 25/32\n",
      "60000/60000 [==============================] - 9s 142us/step - loss: 0.0404 - acc: 0.9880 - val_loss: 0.0335 - val_acc: 0.9898\n",
      "Epoch 26/32\n",
      "60000/60000 [==============================] - 9s 142us/step - loss: 0.0405 - acc: 0.9879 - val_loss: 0.0385 - val_acc: 0.9879\n",
      "Epoch 27/32\n",
      "60000/60000 [==============================] - 8s 142us/step - loss: 0.0386 - acc: 0.9879 - val_loss: 0.0332 - val_acc: 0.9900\n",
      "Epoch 28/32\n",
      "60000/60000 [==============================] - 8s 141us/step - loss: 0.0373 - acc: 0.9889 - val_loss: 0.0342 - val_acc: 0.9894\n",
      "Epoch 29/32\n",
      "60000/60000 [==============================] - 9s 142us/step - loss: 0.0377 - acc: 0.9891 - val_loss: 0.0355 - val_acc: 0.9896\n",
      "Epoch 30/32\n",
      "60000/60000 [==============================] - 9s 143us/step - loss: 0.0383 - acc: 0.9885 - val_loss: 0.0352 - val_acc: 0.9905\n",
      "Epoch 31/32\n",
      "60000/60000 [==============================] - 8s 141us/step - loss: 0.0361 - acc: 0.9890 - val_loss: 0.0350 - val_acc: 0.9909\n",
      "Epoch 32/32\n",
      "60000/60000 [==============================] - 9s 142us/step - loss: 0.0355 - acc: 0.9890 - val_loss: 0.0310 - val_acc: 0.9906\n"
     ]
    }
   ],
   "source": [
    "model.summary()\n",
    "history = model.fit(x_train, y_train, batch_size=batch_size, epochs=epochs, verbose=1, validation_data=(x_test, y_test))"
   ]
  },
  {
   "cell_type": "code",
   "execution_count": 10,
   "metadata": {
    "colab": {
     "base_uri": "https://localhost:8080/",
     "height": 412
    },
    "colab_type": "code",
    "id": "_n83NkOcYHfH",
    "outputId": "c468f8d9-08b0-4cf2-81c7-a58cfb6aa044"
   },
   "outputs": [
    {
     "name": "stdout",
     "output_type": "stream",
     "text": [
      "Test score: 0.030957782491080433\n",
      "Test accuracy: 0.9906\n"
     ]
    },
    {
     "data": {
      "text/plain": [
       "Text(0, 0.5, 'Categorical Crossentropy Loss')"
      ]
     },
     "execution_count": 10,
     "metadata": {
      "tags": []
     },
     "output_type": "execute_result"
    },
    {
     "data": {
      "image/png": "[encoded data removed]",
      "text/plain": [
       "<Figure size 576x396 with 1 Axes>"
      ]
     },
     "metadata": {
      "tags": []
     },
     "output_type": "display_data"
    }
   ],
   "source": [
    "score = model.evaluate(x_test, y_test, verbose=0) \n",
    "print('Test score:', score[0]) \n",
    "print('Test accuracy:', score[1])\n",
    "\n",
    "import matplotlib.pyplot as plt\n",
    "import numpy as np\n",
    "import time\n",
    "plt.plot(list(range(1,epochs+1)), history.history['val_loss'], 'b', label=\"Train Loss\")\n",
    "plt.plot(list(range(1,epochs+1)), history.history['loss'], 'r', label=\"Test Loss\")\n",
    "plt.legend()\n",
    "plt.xlabel('epoch') ; plt.ylabel('Categorical Crossentropy Loss')"
   ]
  },
  {
   "cell_type": "markdown",
   "metadata": {
    "colab_type": "text",
    "id": "z-cHCXV54GW-"
   },
   "source": [
    "#### With dropout rate = 0.3\n",
    "\n"
   ]
  },
  {
   "cell_type": "code",
   "execution_count": 0,
   "metadata": {
    "colab": {},
    "colab_type": "code",
    "id": "EojLZab14LNH"
   },
   "outputs": [],
   "source": [
    "model = Sequential()\n",
    "model.add(Conv2D(32, kernel_size=(2, 2),\n",
    "                 activation='relu',\n",
    "                 input_shape=input_shape))\n",
    "model.add(Conv2D(64, (2, 2), activation='relu'))\n",
    "model.add(MaxPooling2D(pool_size=(2, 2)))\n",
    "model.add(Dropout(0.3))\n",
    "model.add(Flatten())\n",
    "model.add(Dense(128, activation='relu'))\n",
    "model.add(Dropout(0.3))\n",
    "model.add(Dense(num_classes, activation='softmax'))"
   ]
  },
  {
   "cell_type": "code",
   "execution_count": 0,
   "metadata": {
    "colab": {},
    "colab_type": "code",
    "id": "t2KqVwO94QPa"
   },
   "outputs": [],
   "source": [
    "model.compile(loss=keras.losses.categorical_crossentropy,\n",
    "              optimizer=keras.optimizers.Adadelta(),\n",
    "              metrics=['accuracy'])"
   ]
  },
  {
   "cell_type": "code",
   "execution_count": 13,
   "metadata": {
    "colab": {
     "base_uri": "https://localhost:8080/",
     "height": 1513
    },
    "colab_type": "code",
    "id": "XHF0KBBR4XFi",
    "outputId": "c1d5e2e7-f576-47e7-b3c8-76067d4caa85"
   },
   "outputs": [
    {
     "name": "stdout",
     "output_type": "stream",
     "text": [
      "_________________________________________________________________\n",
      "Layer (type)                 Output Shape              Param #   \n",
      "=================================================================\n",
      "conv2d_3 (Conv2D)            (None, 27, 27, 32)        160       \n",
      "_________________________________________________________________\n",
      "conv2d_4 (Conv2D)            (None, 26, 26, 64)        8256      \n",
      "_________________________________________________________________\n",
      "max_pooling2d_2 (MaxPooling2 (None, 13, 13, 64)        0         \n",
      "_________________________________________________________________\n",
      "dropout_3 (Dropout)          (None, 13, 13, 64)        0         \n",
      "_________________________________________________________________\n",
      "flatten_2 (Flatten)          (None, 10816)             0         \n",
      "_________________________________________________________________\n",
      "dense_3 (Dense)              (None, 128)               1384576   \n",
      "_________________________________________________________________\n",
      "dropout_4 (Dropout)          (None, 128)               0         \n",
      "_________________________________________________________________\n",
      "dense_4 (Dense)              (None, 10)                1290      \n",
      "=================================================================\n",
      "Total params: 1,394,282\n",
      "Trainable params: 1,394,282\n",
      "Non-trainable params: 0\n",
      "_________________________________________________________________\n",
      "Train on 60000 samples, validate on 10000 samples\n",
      "Epoch 1/32\n",
      "60000/60000 [==============================] - 9s 150us/step - loss: 0.2758 - acc: 0.9159 - val_loss: 0.0726 - val_acc: 0.9785\n",
      "Epoch 2/32\n",
      "60000/60000 [==============================] - 9s 143us/step - loss: 0.0891 - acc: 0.9731 - val_loss: 0.0512 - val_acc: 0.9835\n",
      "Epoch 3/32\n",
      "60000/60000 [==============================] - 9s 142us/step - loss: 0.0636 - acc: 0.9809 - val_loss: 0.0399 - val_acc: 0.9861\n",
      "Epoch 4/32\n",
      "60000/60000 [==============================] - 9s 142us/step - loss: 0.0513 - acc: 0.9844 - val_loss: 0.0355 - val_acc: 0.9877\n",
      "Epoch 5/32\n",
      "60000/60000 [==============================] - 9s 142us/step - loss: 0.0428 - acc: 0.9869 - val_loss: 0.0348 - val_acc: 0.9892\n",
      "Epoch 6/32\n",
      "60000/60000 [==============================] - 8s 141us/step - loss: 0.0366 - acc: 0.9883 - val_loss: 0.0337 - val_acc: 0.9892\n",
      "Epoch 7/32\n",
      "60000/60000 [==============================] - 9s 142us/step - loss: 0.0314 - acc: 0.9900 - val_loss: 0.0334 - val_acc: 0.9888\n",
      "Epoch 8/32\n",
      "60000/60000 [==============================] - 9s 145us/step - loss: 0.0270 - acc: 0.9912 - val_loss: 0.0333 - val_acc: 0.9889\n",
      "Epoch 9/32\n",
      "60000/60000 [==============================] - 9s 143us/step - loss: 0.0242 - acc: 0.9923 - val_loss: 0.0312 - val_acc: 0.9894\n",
      "Epoch 10/32\n",
      "60000/60000 [==============================] - 9s 142us/step - loss: 0.0229 - acc: 0.9921 - val_loss: 0.0333 - val_acc: 0.9894\n",
      "Epoch 11/32\n",
      "60000/60000 [==============================] - 9s 142us/step - loss: 0.0215 - acc: 0.9930 - val_loss: 0.0347 - val_acc: 0.9902\n",
      "Epoch 12/32\n",
      "60000/60000 [==============================] - 9s 143us/step - loss: 0.0182 - acc: 0.9943 - val_loss: 0.0317 - val_acc: 0.9895\n",
      "Epoch 13/32\n",
      "60000/60000 [==============================] - 9s 143us/step - loss: 0.0172 - acc: 0.9944 - val_loss: 0.0334 - val_acc: 0.9898\n",
      "Epoch 14/32\n",
      "60000/60000 [==============================] - 9s 144us/step - loss: 0.0159 - acc: 0.9945 - val_loss: 0.0326 - val_acc: 0.9904\n",
      "Epoch 15/32\n",
      "60000/60000 [==============================] - 9s 143us/step - loss: 0.0158 - acc: 0.9949 - val_loss: 0.0357 - val_acc: 0.9888\n",
      "Epoch 16/32\n",
      "60000/60000 [==============================] - 9s 143us/step - loss: 0.0140 - acc: 0.9955 - val_loss: 0.0342 - val_acc: 0.9911\n",
      "Epoch 17/32\n",
      "60000/60000 [==============================] - 9s 142us/step - loss: 0.0139 - acc: 0.9953 - val_loss: 0.0347 - val_acc: 0.9906\n",
      "Epoch 18/32\n",
      "60000/60000 [==============================] - 9s 143us/step - loss: 0.0120 - acc: 0.9960 - val_loss: 0.0398 - val_acc: 0.9901\n",
      "Epoch 19/32\n",
      "60000/60000 [==============================] - 9s 143us/step - loss: 0.0116 - acc: 0.9962 - val_loss: 0.0368 - val_acc: 0.9904\n",
      "Epoch 20/32\n",
      "60000/60000 [==============================] - 8s 142us/step - loss: 0.0116 - acc: 0.9962 - val_loss: 0.0431 - val_acc: 0.9890\n",
      "Epoch 21/32\n",
      "60000/60000 [==============================] - 9s 143us/step - loss: 0.0115 - acc: 0.9962 - val_loss: 0.0352 - val_acc: 0.9897\n",
      "Epoch 22/32\n",
      "60000/60000 [==============================] - 9s 142us/step - loss: 0.0119 - acc: 0.9962 - val_loss: 0.0335 - val_acc: 0.9904\n",
      "Epoch 23/32\n",
      "60000/60000 [==============================] - 9s 143us/step - loss: 0.0103 - acc: 0.9968 - val_loss: 0.0412 - val_acc: 0.9892\n",
      "Epoch 24/32\n",
      "60000/60000 [==============================] - 9s 142us/step - loss: 0.0103 - acc: 0.9967 - val_loss: 0.0376 - val_acc: 0.9907\n",
      "Epoch 25/32\n",
      "60000/60000 [==============================] - 9s 143us/step - loss: 0.0103 - acc: 0.9963 - val_loss: 0.0395 - val_acc: 0.9902\n",
      "Epoch 26/32\n",
      "60000/60000 [==============================] - 9s 145us/step - loss: 0.0098 - acc: 0.9967 - val_loss: 0.0444 - val_acc: 0.9893\n",
      "Epoch 27/32\n",
      "60000/60000 [==============================] - 9s 142us/step - loss: 0.0098 - acc: 0.9969 - val_loss: 0.0385 - val_acc: 0.9901\n",
      "Epoch 28/32\n",
      "60000/60000 [==============================] - 9s 143us/step - loss: 0.0087 - acc: 0.9970 - val_loss: 0.0378 - val_acc: 0.9903\n",
      "Epoch 29/32\n",
      "60000/60000 [==============================] - 9s 146us/step - loss: 0.0086 - acc: 0.9972 - val_loss: 0.0402 - val_acc: 0.9909\n",
      "Epoch 30/32\n",
      "60000/60000 [==============================] - 9s 143us/step - loss: 0.0093 - acc: 0.9969 - val_loss: 0.0393 - val_acc: 0.9914\n",
      "Epoch 31/32\n",
      "60000/60000 [==============================] - 9s 142us/step - loss: 0.0087 - acc: 0.9971 - val_loss: 0.0413 - val_acc: 0.9908\n",
      "Epoch 32/32\n",
      "60000/60000 [==============================] - 9s 142us/step - loss: 0.0090 - acc: 0.9971 - val_loss: 0.0426 - val_acc: 0.9901\n"
     ]
    }
   ],
   "source": [
    "model.summary()\n",
    "history = model.fit(x_train, y_train, batch_size=batch_size, epochs=epochs, verbose=1, validation_data=(x_test, y_test))"
   ]
  },
  {
   "cell_type": "code",
   "execution_count": 14,
   "metadata": {
    "colab": {
     "base_uri": "https://localhost:8080/",
     "height": 412
    },
    "colab_type": "code",
    "id": "gSrZKhNB4Yun",
    "outputId": "d1e0678e-c585-447f-d4ef-9511096c6a6b"
   },
   "outputs": [
    {
     "name": "stdout",
     "output_type": "stream",
     "text": [
      "Test score: 0.042580653054968436\n",
      "Test accuracy: 0.9901\n"
     ]
    },
    {
     "data": {
      "text/plain": [
       "Text(0, 0.5, 'Categorical Crossentropy Loss')"
      ]
     },
     "execution_count": 14,
     "metadata": {
      "tags": []
     },
     "output_type": "execute_result"
    },
    {
     "data": {
      "image/png": "[encoded data removed]",
      "text/plain": [
       "<Figure size 576x396 with 1 Axes>"
      ]
     },
     "metadata": {
      "tags": []
     },
     "output_type": "display_data"
    }
   ],
   "source": [
    "score = model.evaluate(x_test, y_test, verbose=0) \n",
    "print('Test score:', score[0]) \n",
    "print('Test accuracy:', score[1])\n",
    "\n",
    "import matplotlib.pyplot as plt\n",
    "import numpy as np\n",
    "import time\n",
    "plt.plot(list(range(1,epochs+1)), history.history['val_loss'], 'b', label=\"Train Loss\")\n",
    "plt.plot(list(range(1,epochs+1)), history.history['loss'], 'r', label=\"Test Loss\")\n",
    "plt.legend()\n",
    "plt.xlabel('epoch') ; plt.ylabel('Categorical Crossentropy Loss')"
   ]
  },
  {
   "cell_type": "markdown",
   "metadata": {
    "colab_type": "text",
    "id": "AuZYFZAH4dAj"
   },
   "source": [
    "\n",
    "\n",
    "#### With dropout rate = 0.1\n"
   ]
  },
  {
   "cell_type": "code",
   "execution_count": 0,
   "metadata": {
    "colab": {},
    "colab_type": "code",
    "id": "bFHb2Y9P4m1D"
   },
   "outputs": [],
   "source": [
    "model = Sequential()\n",
    "model.add(Conv2D(32, kernel_size=(2, 2),\n",
    "                 activation='relu',\n",
    "                 input_shape=input_shape))\n",
    "model.add(Conv2D(64, (2, 2), activation='relu'))\n",
    "model.add(MaxPooling2D(pool_size=(2, 2)))\n",
    "model.add(Dropout(0.1))\n",
    "model.add(Flatten())\n",
    "model.add(Dense(128, activation='relu'))\n",
    "model.add(Dropout(0.1))\n",
    "model.add(Dense(num_classes, activation='softmax'))"
   ]
  },
  {
   "cell_type": "code",
   "execution_count": 0,
   "metadata": {
    "colab": {},
    "colab_type": "code",
    "id": "e7cXi9oQ4m-G"
   },
   "outputs": [],
   "source": [
    "model.compile(loss=keras.losses.categorical_crossentropy,\n",
    "              optimizer=keras.optimizers.Adadelta(),\n",
    "              metrics=['accuracy'])"
   ]
  },
  {
   "cell_type": "code",
   "execution_count": 17,
   "metadata": {
    "colab": {
     "base_uri": "https://localhost:8080/",
     "height": 1513
    },
    "colab_type": "code",
    "id": "QAdJJLlK4nH8",
    "outputId": "6c195bcc-f606-47ec-fca7-2a8baa89e3d2"
   },
   "outputs": [
    {
     "name": "stdout",
     "output_type": "stream",
     "text": [
      "_________________________________________________________________\n",
      "Layer (type)                 Output Shape              Param #   \n",
      "=================================================================\n",
      "conv2d_5 (Conv2D)            (None, 27, 27, 32)        160       \n",
      "_________________________________________________________________\n",
      "conv2d_6 (Conv2D)            (None, 26, 26, 64)        8256      \n",
      "_________________________________________________________________\n",
      "max_pooling2d_3 (MaxPooling2 (None, 13, 13, 64)        0         \n",
      "_________________________________________________________________\n",
      "dropout_5 (Dropout)          (None, 13, 13, 64)        0         \n",
      "_________________________________________________________________\n",
      "flatten_3 (Flatten)          (None, 10816)             0         \n",
      "_________________________________________________________________\n",
      "dense_5 (Dense)              (None, 128)               1384576   \n",
      "_________________________________________________________________\n",
      "dropout_6 (Dropout)          (None, 128)               0         \n",
      "_________________________________________________________________\n",
      "dense_6 (Dense)              (None, 10)                1290      \n",
      "=================================================================\n",
      "Total params: 1,394,282\n",
      "Trainable params: 1,394,282\n",
      "Non-trainable params: 0\n",
      "_________________________________________________________________\n",
      "Train on 60000 samples, validate on 10000 samples\n",
      "Epoch 1/32\n",
      "60000/60000 [==============================] - 9s 151us/step - loss: 0.2587 - acc: 0.9208 - val_loss: 0.0862 - val_acc: 0.9722\n",
      "Epoch 2/32\n",
      "60000/60000 [==============================] - 9s 142us/step - loss: 0.0713 - acc: 0.9781 - val_loss: 0.0497 - val_acc: 0.9832\n",
      "Epoch 3/32\n",
      "60000/60000 [==============================] - 9s 143us/step - loss: 0.0456 - acc: 0.9859 - val_loss: 0.0470 - val_acc: 0.9847\n",
      "Epoch 4/32\n",
      "60000/60000 [==============================] - 9s 143us/step - loss: 0.0339 - acc: 0.9897 - val_loss: 0.0398 - val_acc: 0.9868\n",
      "Epoch 5/32\n",
      "60000/60000 [==============================] - 9s 142us/step - loss: 0.0252 - acc: 0.9925 - val_loss: 0.0348 - val_acc: 0.9877\n",
      "Epoch 6/32\n",
      "60000/60000 [==============================] - 9s 143us/step - loss: 0.0187 - acc: 0.9939 - val_loss: 0.0377 - val_acc: 0.9879\n",
      "Epoch 7/32\n",
      "60000/60000 [==============================] - 9s 143us/step - loss: 0.0151 - acc: 0.9952 - val_loss: 0.0371 - val_acc: 0.9886\n",
      "Epoch 8/32\n",
      "60000/60000 [==============================] - 9s 143us/step - loss: 0.0121 - acc: 0.9963 - val_loss: 0.0364 - val_acc: 0.9895\n",
      "Epoch 9/32\n",
      "60000/60000 [==============================] - 9s 143us/step - loss: 0.0108 - acc: 0.9963 - val_loss: 0.0387 - val_acc: 0.9886\n",
      "Epoch 10/32\n",
      "60000/60000 [==============================] - 9s 143us/step - loss: 0.0083 - acc: 0.9975 - val_loss: 0.0407 - val_acc: 0.9886\n",
      "Epoch 11/32\n",
      "60000/60000 [==============================] - 9s 143us/step - loss: 0.0072 - acc: 0.9976 - val_loss: 0.0401 - val_acc: 0.9894\n",
      "Epoch 12/32\n",
      "60000/60000 [==============================] - 9s 143us/step - loss: 0.0057 - acc: 0.9984 - val_loss: 0.0385 - val_acc: 0.9896\n",
      "Epoch 13/32\n",
      "60000/60000 [==============================] - 9s 144us/step - loss: 0.0051 - acc: 0.9984 - val_loss: 0.0438 - val_acc: 0.9888\n",
      "Epoch 14/32\n",
      "60000/60000 [==============================] - 9s 143us/step - loss: 0.0045 - acc: 0.9986 - val_loss: 0.0419 - val_acc: 0.9900\n",
      "Epoch 15/32\n",
      "60000/60000 [==============================] - 9s 145us/step - loss: 0.0037 - acc: 0.9989 - val_loss: 0.0444 - val_acc: 0.9889\n",
      "Epoch 16/32\n",
      "60000/60000 [==============================] - 9s 144us/step - loss: 0.0033 - acc: 0.9990 - val_loss: 0.0465 - val_acc: 0.9896\n",
      "Epoch 17/32\n",
      "60000/60000 [==============================] - 9s 145us/step - loss: 0.0029 - acc: 0.9992 - val_loss: 0.0402 - val_acc: 0.9902\n",
      "Epoch 18/32\n",
      "60000/60000 [==============================] - 9s 146us/step - loss: 0.0029 - acc: 0.9992 - val_loss: 0.0534 - val_acc: 0.9892\n",
      "Epoch 19/32\n",
      "60000/60000 [==============================] - 9s 144us/step - loss: 0.0028 - acc: 0.9990 - val_loss: 0.0501 - val_acc: 0.9890\n",
      "Epoch 20/32\n",
      "60000/60000 [==============================] - 9s 143us/step - loss: 0.0028 - acc: 0.9991 - val_loss: 0.0507 - val_acc: 0.9888\n",
      "Epoch 21/32\n",
      "60000/60000 [==============================] - 9s 144us/step - loss: 0.0022 - acc: 0.9993 - val_loss: 0.0474 - val_acc: 0.9901\n",
      "Epoch 22/32\n",
      "60000/60000 [==============================] - 9s 143us/step - loss: 0.0021 - acc: 0.9993 - val_loss: 0.0516 - val_acc: 0.9884\n",
      "Epoch 23/32\n",
      "60000/60000 [==============================] - 9s 143us/step - loss: 0.0021 - acc: 0.9993 - val_loss: 0.0516 - val_acc: 0.9891\n",
      "Epoch 24/32\n",
      "60000/60000 [==============================] - 9s 142us/step - loss: 0.0016 - acc: 0.9996 - val_loss: 0.0495 - val_acc: 0.9896\n",
      "Epoch 25/32\n",
      "60000/60000 [==============================] - 9s 143us/step - loss: 0.0015 - acc: 0.9996 - val_loss: 0.0497 - val_acc: 0.9908\n",
      "Epoch 26/32\n",
      "60000/60000 [==============================] - 9s 143us/step - loss: 0.0017 - acc: 0.9996 - val_loss: 0.0510 - val_acc: 0.9898\n",
      "Epoch 27/32\n",
      "60000/60000 [==============================] - 9s 143us/step - loss: 0.0015 - acc: 0.9996 - val_loss: 0.0519 - val_acc: 0.9897\n",
      "Epoch 28/32\n",
      "60000/60000 [==============================] - 9s 143us/step - loss: 0.0012 - acc: 0.9996 - val_loss: 0.0507 - val_acc: 0.9895\n",
      "Epoch 29/32\n",
      "60000/60000 [==============================] - 9s 143us/step - loss: 0.0013 - acc: 0.9996 - val_loss: 0.0522 - val_acc: 0.9888\n",
      "Epoch 30/32\n",
      "60000/60000 [==============================] - 9s 143us/step - loss: 0.0013 - acc: 0.9996 - val_loss: 0.0550 - val_acc: 0.9895\n",
      "Epoch 31/32\n",
      "60000/60000 [==============================] - 9s 142us/step - loss: 0.0014 - acc: 0.9996 - val_loss: 0.0516 - val_acc: 0.9893\n",
      "Epoch 32/32\n",
      "60000/60000 [==============================] - 9s 144us/step - loss: 0.0016 - acc: 0.9996 - val_loss: 0.0504 - val_acc: 0.9899\n"
     ]
    }
   ],
   "source": [
    "model.summary()\n",
    "history = model.fit(x_train, y_train, batch_size=batch_size, epochs=epochs, verbose=1, validation_data=(x_test, y_test))"
   ]
  },
  {
   "cell_type": "code",
   "execution_count": 18,
   "metadata": {
    "colab": {
     "base_uri": "https://localhost:8080/",
     "height": 412
    },
    "colab_type": "code",
    "id": "lHaDF2RT4nQb",
    "outputId": "8ed5ce52-9f58-4342-9923-73d5cc33fbc3"
   },
   "outputs": [
    {
     "name": "stdout",
     "output_type": "stream",
     "text": [
      "Test score: 0.050449168614755305\n",
      "Test accuracy: 0.9899\n"
     ]
    },
    {
     "data": {
      "text/plain": [
       "Text(0, 0.5, 'Categorical Crossentropy Loss')"
      ]
     },
     "execution_count": 18,
     "metadata": {
      "tags": []
     },
     "output_type": "execute_result"
    },
    {
     "data": {
      "image/png": "[encoded data removed]",
      "text/plain": [
       "<Figure size 576x396 with 1 Axes>"
      ]
     },
     "metadata": {
      "tags": []
     },
     "output_type": "display_data"
    }
   ],
   "source": [
    "score = model.evaluate(x_test, y_test, verbose=0) \n",
    "print('Test score:', score[0]) \n",
    "print('Test accuracy:', score[1])\n",
    "\n",
    "import matplotlib.pyplot as plt\n",
    "import numpy as np\n",
    "import time\n",
    "plt.plot(list(range(1,epochs+1)), history.history['val_loss'], 'b', label=\"Train Loss\")\n",
    "plt.plot(list(range(1,epochs+1)), history.history['loss'], 'r', label=\"Test Loss\")\n",
    "plt.legend()\n",
    "plt.xlabel('epoch') ; plt.ylabel('Categorical Crossentropy Loss')"
   ]
  },
  {
   "cell_type": "markdown",
   "metadata": {
    "colab_type": "text",
    "id": "67iLyDVlTfaW"
   },
   "source": [
    "## [2] Convolutional Neural Network with 5x5 kernel and 3 covolutional layers followed by maxpooling after 1st  layer and 3rd layer and at last dense layers."
   ]
  },
  {
   "cell_type": "code",
   "execution_count": 0,
   "metadata": {
    "colab": {},
    "colab_type": "code",
    "id": "Lj2gF7zQSLU5"
   },
   "outputs": [],
   "source": [
    "batch_size = 512\n",
    "epochs = 24"
   ]
  },
  {
   "cell_type": "markdown",
   "metadata": {
    "colab_type": "text",
    "id": "9t-IH0BT8WNd"
   },
   "source": [
    "#### With dropout rate = 0.5"
   ]
  },
  {
   "cell_type": "code",
   "execution_count": 0,
   "metadata": {
    "colab": {},
    "colab_type": "code",
    "id": "cHpC-QInVceY"
   },
   "outputs": [],
   "source": [
    "model = Sequential()\n",
    "model.add(Conv2D(8, kernel_size=(5, 5),\n",
    "                 activation='relu',\n",
    "                 input_shape=input_shape))\n",
    "model.add(MaxPooling2D(pool_size=(2, 2)))\n",
    "model.add(Conv2D(16, (5, 5), activation='relu'))\n",
    "model.add(Conv2D(32, (5, 5), activation='relu'))\n",
    "model.add(MaxPooling2D(pool_size=(2, 2)))\n",
    "model.add(Dropout(0.5))\n",
    "model.add(Flatten())\n",
    "model.add(Dense(64, activation='relu'))\n",
    "model.add(Dropout(0.5))\n",
    "model.add(Dense(128, activation='relu'))\n",
    "model.add(Dropout(0.5))\n",
    "model.add(Dense(512, activation='relu'))\n",
    "#model.add(Dropout(0.5))\n",
    "model.add(Dense(num_classes, activation='softmax'))"
   ]
  },
  {
   "cell_type": "code",
   "execution_count": 0,
   "metadata": {
    "colab": {},
    "colab_type": "code",
    "id": "2vD98p8rVtlP"
   },
   "outputs": [],
   "source": [
    "model.compile(loss=keras.losses.categorical_crossentropy,\n",
    "              optimizer=keras.optimizers.Adadelta(),\n",
    "              metrics=['accuracy'])"
   ]
  },
  {
   "cell_type": "code",
   "execution_count": 22,
   "metadata": {
    "colab": {
     "base_uri": "https://localhost:8080/",
     "height": 1411
    },
    "colab_type": "code",
    "id": "gNwpYUlkXMHA",
    "outputId": "a7bf2b7b-35c6-403e-9a52-d6ac0af3486b"
   },
   "outputs": [
    {
     "name": "stdout",
     "output_type": "stream",
     "text": [
      "_________________________________________________________________\n",
      "Layer (type)                 Output Shape              Param #   \n",
      "=================================================================\n",
      "conv2d_7 (Conv2D)            (None, 24, 24, 8)         208       \n",
      "_________________________________________________________________\n",
      "max_pooling2d_4 (MaxPooling2 (None, 12, 12, 8)         0         \n",
      "_________________________________________________________________\n",
      "conv2d_8 (Conv2D)            (None, 8, 8, 16)          3216      \n",
      "_________________________________________________________________\n",
      "conv2d_9 (Conv2D)            (None, 4, 4, 32)          12832     \n",
      "_________________________________________________________________\n",
      "max_pooling2d_5 (MaxPooling2 (None, 2, 2, 32)          0         \n",
      "_________________________________________________________________\n",
      "dropout_7 (Dropout)          (None, 2, 2, 32)          0         \n",
      "_________________________________________________________________\n",
      "flatten_4 (Flatten)          (None, 128)               0         \n",
      "_________________________________________________________________\n",
      "dense_7 (Dense)              (None, 64)                8256      \n",
      "_________________________________________________________________\n",
      "dropout_8 (Dropout)          (None, 64)                0         \n",
      "_________________________________________________________________\n",
      "dense_8 (Dense)              (None, 128)               8320      \n",
      "_________________________________________________________________\n",
      "dropout_9 (Dropout)          (None, 128)               0         \n",
      "_________________________________________________________________\n",
      "dense_9 (Dense)              (None, 512)               66048     \n",
      "_________________________________________________________________\n",
      "dense_10 (Dense)             (None, 10)                5130      \n",
      "=================================================================\n",
      "Total params: 104,010\n",
      "Trainable params: 104,010\n",
      "Non-trainable params: 0\n",
      "_________________________________________________________________\n",
      "Train on 60000 samples, validate on 10000 samples\n",
      "Epoch 1/24\n",
      "60000/60000 [==============================] - 3s 44us/step - loss: 1.5041 - acc: 0.4569 - val_loss: 0.5009 - val_acc: 0.8439\n",
      "Epoch 2/24\n",
      "60000/60000 [==============================] - 2s 30us/step - loss: 0.5878 - acc: 0.8119 - val_loss: 0.1555 - val_acc: 0.9519\n",
      "Epoch 3/24\n",
      "60000/60000 [==============================] - 2s 30us/step - loss: 0.3444 - acc: 0.8983 - val_loss: 0.1553 - val_acc: 0.9547\n",
      "Epoch 4/24\n",
      "60000/60000 [==============================] - 2s 30us/step - loss: 0.2562 - acc: 0.9271 - val_loss: 0.0845 - val_acc: 0.9748\n",
      "Epoch 5/24\n",
      "60000/60000 [==============================] - 2s 30us/step - loss: 0.2105 - acc: 0.9411 - val_loss: 0.0700 - val_acc: 0.9780\n",
      "Epoch 6/24\n",
      "60000/60000 [==============================] - 2s 30us/step - loss: 0.1769 - acc: 0.9515 - val_loss: 0.0689 - val_acc: 0.9804\n",
      "Epoch 7/24\n",
      "60000/60000 [==============================] - 2s 29us/step - loss: 0.1603 - acc: 0.9573 - val_loss: 0.0590 - val_acc: 0.9826\n",
      "Epoch 8/24\n",
      "60000/60000 [==============================] - 2s 29us/step - loss: 0.1394 - acc: 0.9629 - val_loss: 0.0594 - val_acc: 0.9824\n",
      "Epoch 9/24\n",
      "60000/60000 [==============================] - 2s 29us/step - loss: 0.1338 - acc: 0.9643 - val_loss: 0.0603 - val_acc: 0.9816\n",
      "Epoch 10/24\n",
      "60000/60000 [==============================] - 2s 29us/step - loss: 0.1261 - acc: 0.9665 - val_loss: 0.0562 - val_acc: 0.9837\n",
      "Epoch 11/24\n",
      "60000/60000 [==============================] - 2s 29us/step - loss: 0.1186 - acc: 0.9686 - val_loss: 0.0477 - val_acc: 0.9860\n",
      "Epoch 12/24\n",
      "60000/60000 [==============================] - 2s 29us/step - loss: 0.1103 - acc: 0.9708 - val_loss: 0.0413 - val_acc: 0.9886\n",
      "Epoch 13/24\n",
      "60000/60000 [==============================] - 2s 29us/step - loss: 0.1013 - acc: 0.9735 - val_loss: 0.0647 - val_acc: 0.9841\n",
      "Epoch 14/24\n",
      "60000/60000 [==============================] - 2s 29us/step - loss: 0.0997 - acc: 0.9742 - val_loss: 0.0454 - val_acc: 0.9880\n",
      "Epoch 15/24\n",
      "60000/60000 [==============================] - 2s 29us/step - loss: 0.0935 - acc: 0.9761 - val_loss: 0.0554 - val_acc: 0.9831\n",
      "Epoch 16/24\n",
      "60000/60000 [==============================] - 2s 29us/step - loss: 0.0921 - acc: 0.9758 - val_loss: 0.0489 - val_acc: 0.9868\n",
      "Epoch 17/24\n",
      "60000/60000 [==============================] - 2s 29us/step - loss: 0.0883 - acc: 0.9770 - val_loss: 0.0371 - val_acc: 0.9890\n",
      "Epoch 18/24\n",
      "60000/60000 [==============================] - 2s 29us/step - loss: 0.0819 - acc: 0.9784 - val_loss: 0.0486 - val_acc: 0.9872\n",
      "Epoch 19/24\n",
      "60000/60000 [==============================] - 2s 29us/step - loss: 0.0857 - acc: 0.9771 - val_loss: 0.0502 - val_acc: 0.9863\n",
      "Epoch 20/24\n",
      "60000/60000 [==============================] - 2s 29us/step - loss: 0.0819 - acc: 0.9787 - val_loss: 0.0533 - val_acc: 0.9857\n",
      "Epoch 21/24\n",
      "60000/60000 [==============================] - 2s 29us/step - loss: 0.0778 - acc: 0.9797 - val_loss: 0.0379 - val_acc: 0.9909\n",
      "Epoch 22/24\n",
      "60000/60000 [==============================] - 2s 29us/step - loss: 0.0760 - acc: 0.9804 - val_loss: 0.0356 - val_acc: 0.9906\n",
      "Epoch 23/24\n",
      "60000/60000 [==============================] - 2s 29us/step - loss: 0.0760 - acc: 0.9801 - val_loss: 0.0378 - val_acc: 0.9902\n",
      "Epoch 24/24\n",
      "60000/60000 [==============================] - 2s 29us/step - loss: 0.0721 - acc: 0.9814 - val_loss: 0.0359 - val_acc: 0.9904\n"
     ]
    }
   ],
   "source": [
    "model.summary()\n",
    "history = model.fit(x_train, y_train, batch_size=batch_size, epochs=epochs, verbose=1, validation_data=(x_test, y_test))"
   ]
  },
  {
   "cell_type": "code",
   "execution_count": 23,
   "metadata": {
    "colab": {
     "base_uri": "https://localhost:8080/",
     "height": 412
    },
    "colab_type": "code",
    "id": "4AX_JizucR04",
    "outputId": "fb849ff5-109a-4cd8-c52d-a9bce7efa5e9"
   },
   "outputs": [
    {
     "name": "stdout",
     "output_type": "stream",
     "text": [
      "Test score: 0.0359237082822503\n",
      "Test accuracy: 0.9904\n"
     ]
    },
    {
     "data": {
      "text/plain": [
       "Text(0, 0.5, 'Categorical Crossentropy Loss')"
      ]
     },
     "execution_count": 23,
     "metadata": {
      "tags": []
     },
     "output_type": "execute_result"
    },
    {
     "data": {
      "image/png": "[encoded data removed]",
      "text/plain": [
       "<Figure size 576x396 with 1 Axes>"
      ]
     },
     "metadata": {
      "tags": []
     },
     "output_type": "display_data"
    }
   ],
   "source": [
    "score = model.evaluate(x_test, y_test, verbose=0) \n",
    "print('Test score:', score[0]) \n",
    "print('Test accuracy:', score[1])\n",
    "\n",
    "import matplotlib.pyplot as plt\n",
    "import numpy as np\n",
    "import time\n",
    "plt.plot(list(range(1,epochs+1)), history.history['val_loss'], 'b', label=\"Train Loss\")\n",
    "plt.plot(list(range(1,epochs+1)), history.history['loss'], 'r', label=\"Test Loss\")\n",
    "plt.legend()\n",
    "plt.xlabel('epoch') ; plt.ylabel('Categorical Crossentropy Loss')"
   ]
  },
  {
   "cell_type": "markdown",
   "metadata": {
    "colab_type": "text",
    "id": "xbneAcU98g7L"
   },
   "source": [
    "#### With dropout rate = 0.3"
   ]
  },
  {
   "cell_type": "code",
   "execution_count": 0,
   "metadata": {
    "colab": {},
    "colab_type": "code",
    "id": "Oz-ZsTCW8kro"
   },
   "outputs": [],
   "source": [
    "model = Sequential()\n",
    "model.add(Conv2D(8, kernel_size=(5, 5),\n",
    "                 activation='relu',\n",
    "                 input_shape=input_shape))\n",
    "model.add(MaxPooling2D(pool_size=(2, 2)))\n",
    "model.add(Conv2D(16, (5, 5), activation='relu'))\n",
    "model.add(Conv2D(32, (5, 5), activation='relu'))\n",
    "model.add(MaxPooling2D(pool_size=(2, 2)))\n",
    "model.add(Dropout(0.3))\n",
    "model.add(Flatten())\n",
    "model.add(Dense(64, activation='relu'))\n",
    "model.add(Dropout(0.3))\n",
    "model.add(Dense(128, activation='relu'))\n",
    "model.add(Dropout(0.3))\n",
    "model.add(Dense(512, activation='relu'))\n",
    "#model.add(Dropout(0.5))\n",
    "model.add(Dense(num_classes, activation='softmax'))"
   ]
  },
  {
   "cell_type": "code",
   "execution_count": 0,
   "metadata": {
    "colab": {},
    "colab_type": "code",
    "id": "cvfPHtjj8kzc"
   },
   "outputs": [],
   "source": [
    "model.compile(loss=keras.losses.categorical_crossentropy,\n",
    "              optimizer=keras.optimizers.Adadelta(),\n",
    "              metrics=['accuracy'])"
   ]
  },
  {
   "cell_type": "code",
   "execution_count": 27,
   "metadata": {
    "colab": {
     "base_uri": "https://localhost:8080/",
     "height": 1411
    },
    "colab_type": "code",
    "id": "wEvcdLPd8k2l",
    "outputId": "35654251-4a49-4d13-d9cb-ee4ae77b7354"
   },
   "outputs": [
    {
     "name": "stdout",
     "output_type": "stream",
     "text": [
      "_________________________________________________________________\n",
      "Layer (type)                 Output Shape              Param #   \n",
      "=================================================================\n",
      "conv2d_13 (Conv2D)           (None, 24, 24, 8)         208       \n",
      "_________________________________________________________________\n",
      "max_pooling2d_8 (MaxPooling2 (None, 12, 12, 8)         0         \n",
      "_________________________________________________________________\n",
      "conv2d_14 (Conv2D)           (None, 8, 8, 16)          3216      \n",
      "_________________________________________________________________\n",
      "conv2d_15 (Conv2D)           (None, 4, 4, 32)          12832     \n",
      "_________________________________________________________________\n",
      "max_pooling2d_9 (MaxPooling2 (None, 2, 2, 32)          0         \n",
      "_________________________________________________________________\n",
      "dropout_13 (Dropout)         (None, 2, 2, 32)          0         \n",
      "_________________________________________________________________\n",
      "flatten_6 (Flatten)          (None, 128)               0         \n",
      "_________________________________________________________________\n",
      "dense_15 (Dense)             (None, 64)                8256      \n",
      "_________________________________________________________________\n",
      "dropout_14 (Dropout)         (None, 64)                0         \n",
      "_________________________________________________________________\n",
      "dense_16 (Dense)             (None, 128)               8320      \n",
      "_________________________________________________________________\n",
      "dropout_15 (Dropout)         (None, 128)               0         \n",
      "_________________________________________________________________\n",
      "dense_17 (Dense)             (None, 512)               66048     \n",
      "_________________________________________________________________\n",
      "dense_18 (Dense)             (None, 10)                5130      \n",
      "=================================================================\n",
      "Total params: 104,010\n",
      "Trainable params: 104,010\n",
      "Non-trainable params: 0\n",
      "_________________________________________________________________\n",
      "Train on 60000 samples, validate on 10000 samples\n",
      "Epoch 1/24\n",
      "60000/60000 [==============================] - 3s 45us/step - loss: 1.2549 - acc: 0.5563 - val_loss: 0.5244 - val_acc: 0.8068\n",
      "Epoch 2/24\n",
      "60000/60000 [==============================] - 2s 30us/step - loss: 0.3744 - acc: 0.8839 - val_loss: 0.1631 - val_acc: 0.9503\n",
      "Epoch 3/24\n",
      "60000/60000 [==============================] - 2s 30us/step - loss: 0.2215 - acc: 0.9349 - val_loss: 0.1000 - val_acc: 0.9699\n",
      "Epoch 4/24\n",
      "60000/60000 [==============================] - 2s 30us/step - loss: 0.1650 - acc: 0.9526 - val_loss: 0.1211 - val_acc: 0.9626\n",
      "Epoch 5/24\n",
      "60000/60000 [==============================] - 2s 30us/step - loss: 0.1354 - acc: 0.9613 - val_loss: 0.0710 - val_acc: 0.9804\n",
      "Epoch 6/24\n",
      "60000/60000 [==============================] - 2s 29us/step - loss: 0.1141 - acc: 0.9677 - val_loss: 0.0562 - val_acc: 0.9840\n",
      "Epoch 7/24\n",
      "60000/60000 [==============================] - 2s 29us/step - loss: 0.1048 - acc: 0.9705 - val_loss: 0.0608 - val_acc: 0.9809\n",
      "Epoch 8/24\n",
      "60000/60000 [==============================] - 2s 29us/step - loss: 0.0931 - acc: 0.9735 - val_loss: 0.0481 - val_acc: 0.9850\n",
      "Epoch 9/24\n",
      "60000/60000 [==============================] - 2s 29us/step - loss: 0.0849 - acc: 0.9759 - val_loss: 0.0411 - val_acc: 0.9875\n",
      "Epoch 10/24\n",
      "60000/60000 [==============================] - 2s 29us/step - loss: 0.0799 - acc: 0.9778 - val_loss: 0.0979 - val_acc: 0.9713\n",
      "Epoch 11/24\n",
      "60000/60000 [==============================] - 2s 29us/step - loss: 0.0756 - acc: 0.9788 - val_loss: 0.0435 - val_acc: 0.9873\n",
      "Epoch 12/24\n",
      "60000/60000 [==============================] - 2s 29us/step - loss: 0.0698 - acc: 0.9799 - val_loss: 0.0652 - val_acc: 0.9813\n",
      "Epoch 13/24\n",
      "60000/60000 [==============================] - 2s 29us/step - loss: 0.0647 - acc: 0.9814 - val_loss: 0.0328 - val_acc: 0.9907\n",
      "Epoch 14/24\n",
      "60000/60000 [==============================] - 2s 29us/step - loss: 0.0618 - acc: 0.9820 - val_loss: 0.0419 - val_acc: 0.9892\n",
      "Epoch 15/24\n",
      "60000/60000 [==============================] - 2s 29us/step - loss: 0.0570 - acc: 0.9839 - val_loss: 0.0409 - val_acc: 0.9873\n",
      "Epoch 16/24\n",
      "60000/60000 [==============================] - 2s 29us/step - loss: 0.0564 - acc: 0.9842 - val_loss: 0.0371 - val_acc: 0.9892\n",
      "Epoch 17/24\n",
      "60000/60000 [==============================] - 2s 29us/step - loss: 0.0535 - acc: 0.9844 - val_loss: 0.0392 - val_acc: 0.9897\n",
      "Epoch 18/24\n",
      "60000/60000 [==============================] - 2s 29us/step - loss: 0.0515 - acc: 0.9857 - val_loss: 0.0403 - val_acc: 0.9881\n",
      "Epoch 19/24\n",
      "60000/60000 [==============================] - 2s 29us/step - loss: 0.0498 - acc: 0.9862 - val_loss: 0.0307 - val_acc: 0.9913\n",
      "Epoch 20/24\n",
      "60000/60000 [==============================] - 2s 29us/step - loss: 0.0463 - acc: 0.9868 - val_loss: 0.0620 - val_acc: 0.9823\n",
      "Epoch 21/24\n",
      "60000/60000 [==============================] - 2s 30us/step - loss: 0.0461 - acc: 0.9868 - val_loss: 0.0538 - val_acc: 0.9852\n",
      "Epoch 22/24\n",
      "60000/60000 [==============================] - 2s 29us/step - loss: 0.0450 - acc: 0.9867 - val_loss: 0.0479 - val_acc: 0.9861\n",
      "Epoch 23/24\n",
      "60000/60000 [==============================] - 2s 29us/step - loss: 0.0419 - acc: 0.9880 - val_loss: 0.0408 - val_acc: 0.9876\n",
      "Epoch 24/24\n",
      "60000/60000 [==============================] - 2s 29us/step - loss: 0.0394 - acc: 0.9888 - val_loss: 0.0403 - val_acc: 0.9893\n"
     ]
    }
   ],
   "source": [
    "model.summary()\n",
    "history = model.fit(x_train, y_train, batch_size=batch_size, epochs=epochs, verbose=1, validation_data=(x_test, y_test))"
   ]
  },
  {
   "cell_type": "code",
   "execution_count": 28,
   "metadata": {
    "colab": {
     "base_uri": "https://localhost:8080/",
     "height": 412
    },
    "colab_type": "code",
    "id": "Y1zUxYL_8k5p",
    "outputId": "595e5480-4678-4580-eb27-8fc68010794f"
   },
   "outputs": [
    {
     "name": "stdout",
     "output_type": "stream",
     "text": [
      "Test score: 0.040330715390820476\n",
      "Test accuracy: 0.9893\n"
     ]
    },
    {
     "data": {
      "text/plain": [
       "Text(0, 0.5, 'Categorical Crossentropy Loss')"
      ]
     },
     "execution_count": 28,
     "metadata": {
      "tags": []
     },
     "output_type": "execute_result"
    },
    {
     "data": {
      "image/png": "[encoded data removed]",
      "text/plain": [
       "<Figure size 576x396 with 1 Axes>"
      ]
     },
     "metadata": {
      "tags": []
     },
     "output_type": "display_data"
    }
   ],
   "source": [
    "score = model.evaluate(x_test, y_test, verbose=0) \n",
    "print('Test score:', score[0]) \n",
    "print('Test accuracy:', score[1])\n",
    "\n",
    "import matplotlib.pyplot as plt\n",
    "import numpy as np\n",
    "import time\n",
    "plt.plot(list(range(1,epochs+1)), history.history['val_loss'], 'b', label=\"Train Loss\")\n",
    "plt.plot(list(range(1,epochs+1)), history.history['loss'], 'r', label=\"Test Loss\")\n",
    "plt.legend()\n",
    "plt.xlabel('epoch') ; plt.ylabel('Categorical Crossentropy Loss')"
   ]
  },
  {
   "cell_type": "markdown",
   "metadata": {
    "colab_type": "text",
    "id": "UXqDVD2v80tg"
   },
   "source": [
    "#### With dropout rate = 0.1"
   ]
  },
  {
   "cell_type": "code",
   "execution_count": 0,
   "metadata": {
    "colab": {},
    "colab_type": "code",
    "id": "pXvSzAFp85qc"
   },
   "outputs": [],
   "source": [
    "model = Sequential()\n",
    "model.add(Conv2D(8, kernel_size=(5, 5),\n",
    "                 activation='relu',\n",
    "                 input_shape=input_shape))\n",
    "model.add(MaxPooling2D(pool_size=(2, 2)))\n",
    "model.add(Conv2D(16, (5, 5), activation='relu'))\n",
    "model.add(Conv2D(32, (5, 5), activation='relu'))\n",
    "model.add(MaxPooling2D(pool_size=(2, 2)))\n",
    "model.add(Dropout(0.1))\n",
    "model.add(Flatten())\n",
    "model.add(Dense(64, activation='relu'))\n",
    "model.add(Dropout(0.1))\n",
    "model.add(Dense(128, activation='relu'))\n",
    "model.add(Dropout(0.1))\n",
    "model.add(Dense(512, activation='relu'))\n",
    "#model.add(Dropout(0.5))\n",
    "model.add(Dense(num_classes, activation='softmax'))"
   ]
  },
  {
   "cell_type": "code",
   "execution_count": 0,
   "metadata": {
    "colab": {},
    "colab_type": "code",
    "id": "w-89IhiN8544"
   },
   "outputs": [],
   "source": [
    "model.compile(loss=keras.losses.categorical_crossentropy,\n",
    "              optimizer=keras.optimizers.Adadelta(),\n",
    "              metrics=['accuracy'])"
   ]
  },
  {
   "cell_type": "code",
   "execution_count": 31,
   "metadata": {
    "colab": {
     "base_uri": "https://localhost:8080/",
     "height": 1411
    },
    "colab_type": "code",
    "id": "ueHjMjzM857u",
    "outputId": "ce0b8839-7cb2-4616-fbbc-3298cd529d6e"
   },
   "outputs": [
    {
     "name": "stdout",
     "output_type": "stream",
     "text": [
      "_________________________________________________________________\n",
      "Layer (type)                 Output Shape              Param #   \n",
      "=================================================================\n",
      "conv2d_16 (Conv2D)           (None, 24, 24, 8)         208       \n",
      "_________________________________________________________________\n",
      "max_pooling2d_10 (MaxPooling (None, 12, 12, 8)         0         \n",
      "_________________________________________________________________\n",
      "conv2d_17 (Conv2D)           (None, 8, 8, 16)          3216      \n",
      "_________________________________________________________________\n",
      "conv2d_18 (Conv2D)           (None, 4, 4, 32)          12832     \n",
      "_________________________________________________________________\n",
      "max_pooling2d_11 (MaxPooling (None, 2, 2, 32)          0         \n",
      "_________________________________________________________________\n",
      "dropout_16 (Dropout)         (None, 2, 2, 32)          0         \n",
      "_________________________________________________________________\n",
      "flatten_7 (Flatten)          (None, 128)               0         \n",
      "_________________________________________________________________\n",
      "dense_19 (Dense)             (None, 64)                8256      \n",
      "_________________________________________________________________\n",
      "dropout_17 (Dropout)         (None, 64)                0         \n",
      "_________________________________________________________________\n",
      "dense_20 (Dense)             (None, 128)               8320      \n",
      "_________________________________________________________________\n",
      "dropout_18 (Dropout)         (None, 128)               0         \n",
      "_________________________________________________________________\n",
      "dense_21 (Dense)             (None, 512)               66048     \n",
      "_________________________________________________________________\n",
      "dense_22 (Dense)             (None, 10)                5130      \n",
      "=================================================================\n",
      "Total params: 104,010\n",
      "Trainable params: 104,010\n",
      "Non-trainable params: 0\n",
      "_________________________________________________________________\n",
      "Train on 60000 samples, validate on 10000 samples\n",
      "Epoch 1/24\n",
      "60000/60000 [==============================] - 3s 45us/step - loss: 0.9642 - acc: 0.6741 - val_loss: 0.2606 - val_acc: 0.9183\n",
      "Epoch 2/24\n",
      "60000/60000 [==============================] - 2s 30us/step - loss: 0.2432 - acc: 0.9239 - val_loss: 0.2432 - val_acc: 0.9222\n",
      "Epoch 3/24\n",
      "60000/60000 [==============================] - 2s 29us/step - loss: 0.1538 - acc: 0.9528 - val_loss: 0.1415 - val_acc: 0.9566\n",
      "Epoch 4/24\n",
      "60000/60000 [==============================] - 2s 29us/step - loss: 0.1135 - acc: 0.9662 - val_loss: 0.0799 - val_acc: 0.9764\n",
      "Epoch 5/24\n",
      "60000/60000 [==============================] - 2s 29us/step - loss: 0.0930 - acc: 0.9720 - val_loss: 0.0765 - val_acc: 0.9759\n",
      "Epoch 6/24\n",
      "60000/60000 [==============================] - 2s 30us/step - loss: 0.0790 - acc: 0.9759 - val_loss: 0.1068 - val_acc: 0.9669\n",
      "Epoch 7/24\n",
      "60000/60000 [==============================] - 2s 30us/step - loss: 0.0695 - acc: 0.9786 - val_loss: 0.0737 - val_acc: 0.9767\n",
      "Epoch 8/24\n",
      "60000/60000 [==============================] - 2s 30us/step - loss: 0.0618 - acc: 0.9811 - val_loss: 0.0712 - val_acc: 0.9775\n",
      "Epoch 9/24\n",
      "60000/60000 [==============================] - 2s 30us/step - loss: 0.0552 - acc: 0.9835 - val_loss: 0.0537 - val_acc: 0.9833\n",
      "Epoch 10/24\n",
      "60000/60000 [==============================] - 2s 30us/step - loss: 0.0518 - acc: 0.9847 - val_loss: 0.0413 - val_acc: 0.9878\n",
      "Epoch 11/24\n",
      "60000/60000 [==============================] - 2s 30us/step - loss: 0.0483 - acc: 0.9850 - val_loss: 0.0763 - val_acc: 0.9797\n",
      "Epoch 12/24\n",
      "60000/60000 [==============================] - 2s 30us/step - loss: 0.0437 - acc: 0.9865 - val_loss: 0.1401 - val_acc: 0.9601\n",
      "Epoch 13/24\n",
      "60000/60000 [==============================] - 2s 29us/step - loss: 0.0396 - acc: 0.9876 - val_loss: 0.0466 - val_acc: 0.9858\n",
      "Epoch 14/24\n",
      "60000/60000 [==============================] - 2s 29us/step - loss: 0.0369 - acc: 0.9890 - val_loss: 0.0603 - val_acc: 0.9816\n",
      "Epoch 15/24\n",
      "60000/60000 [==============================] - 2s 29us/step - loss: 0.0359 - acc: 0.9892 - val_loss: 0.0390 - val_acc: 0.9881\n",
      "Epoch 16/24\n",
      "60000/60000 [==============================] - 2s 29us/step - loss: 0.0352 - acc: 0.9889 - val_loss: 0.0555 - val_acc: 0.9826\n",
      "Epoch 17/24\n",
      "60000/60000 [==============================] - 2s 29us/step - loss: 0.0332 - acc: 0.9896 - val_loss: 0.0390 - val_acc: 0.9889\n",
      "Epoch 18/24\n",
      "60000/60000 [==============================] - 2s 29us/step - loss: 0.0299 - acc: 0.9907 - val_loss: 0.0419 - val_acc: 0.9879\n",
      "Epoch 19/24\n",
      "60000/60000 [==============================] - 2s 29us/step - loss: 0.0301 - acc: 0.9904 - val_loss: 0.0320 - val_acc: 0.9907\n",
      "Epoch 20/24\n",
      "60000/60000 [==============================] - 2s 29us/step - loss: 0.0273 - acc: 0.9912 - val_loss: 0.0296 - val_acc: 0.9921\n",
      "Epoch 21/24\n",
      "60000/60000 [==============================] - 2s 29us/step - loss: 0.0258 - acc: 0.9922 - val_loss: 0.0365 - val_acc: 0.9900\n",
      "Epoch 22/24\n",
      "60000/60000 [==============================] - 2s 29us/step - loss: 0.0255 - acc: 0.9915 - val_loss: 0.0306 - val_acc: 0.9904\n",
      "Epoch 23/24\n",
      "60000/60000 [==============================] - 2s 29us/step - loss: 0.0238 - acc: 0.9926 - val_loss: 0.0349 - val_acc: 0.9904\n",
      "Epoch 24/24\n",
      "60000/60000 [==============================] - 2s 29us/step - loss: 0.0223 - acc: 0.9928 - val_loss: 0.0318 - val_acc: 0.9909\n"
     ]
    }
   ],
   "source": [
    "model.summary()\n",
    "history = model.fit(x_train, y_train, batch_size=batch_size, epochs=epochs, verbose=1, validation_data=(x_test, y_test))"
   ]
  },
  {
   "cell_type": "code",
   "execution_count": 32,
   "metadata": {
    "colab": {
     "base_uri": "https://localhost:8080/",
     "height": 413
    },
    "colab_type": "code",
    "id": "Bs2icsWi85_E",
    "outputId": "1210b630-89ed-4a3f-f51b-43e7f382346e"
   },
   "outputs": [
    {
     "name": "stdout",
     "output_type": "stream",
     "text": [
      "Test score: 0.03181809176017268\n",
      "Test accuracy: 0.9909\n"
     ]
    },
    {
     "data": {
      "text/plain": [
       "Text(0, 0.5, 'Categorical Crossentropy Loss')"
      ]
     },
     "execution_count": 32,
     "metadata": {
      "tags": []
     },
     "output_type": "execute_result"
    },
    {
     "data": {
      "image/png": "[encoded data removed]",
      "text/plain": [
       "<Figure size 576x396 with 1 Axes>"
      ]
     },
     "metadata": {
      "tags": []
     },
     "output_type": "display_data"
    }
   ],
   "source": [
    "score = model.evaluate(x_test, y_test, verbose=0) \n",
    "print('Test score:', score[0]) \n",
    "print('Test accuracy:', score[1])\n",
    "\n",
    "import matplotlib.pyplot as plt\n",
    "import numpy as np\n",
    "import time\n",
    "plt.plot(list(range(1,epochs+1)), history.history['val_loss'], 'b', label=\"Train Loss\")\n",
    "plt.plot(list(range(1,epochs+1)), history.history['loss'], 'r', label=\"Test Loss\")\n",
    "plt.legend()\n",
    "plt.xlabel('epoch') ; plt.ylabel('Categorical Crossentropy Loss')"
   ]
  },
  {
   "cell_type": "markdown",
   "metadata": {
    "colab_type": "text",
    "id": "Raf1cxGZNGLS"
   },
   "source": [
    "## [3] Convolutional Neural Network with 3x3 kernel and 5 covolutional layers followed by maxpooling after last layer and at last dense layers."
   ]
  },
  {
   "cell_type": "code",
   "execution_count": 0,
   "metadata": {
    "colab": {},
    "colab_type": "code",
    "id": "fyFS3MyeXPvg"
   },
   "outputs": [],
   "source": [
    "batch_size = 364\n",
    "epochs = 36"
   ]
  },
  {
   "cell_type": "markdown",
   "metadata": {
    "colab_type": "text",
    "id": "Z6luOZS69oK9"
   },
   "source": [
    "#### With dropout rate = 0.5"
   ]
  },
  {
   "cell_type": "code",
   "execution_count": 0,
   "metadata": {
    "colab": {},
    "colab_type": "code",
    "id": "szRYLnHTNS0n"
   },
   "outputs": [],
   "source": [
    "model = Sequential()\n",
    "model.add(Conv2D(8, kernel_size=(3, 3),\n",
    "                 activation='relu',\n",
    "                 input_shape=input_shape))\n",
    "model.add(Conv2D(16, (3, 3), activation='relu'))\n",
    "model.add(Conv2D(32, (3, 3), activation='relu'))\n",
    "model.add(Conv2D(36, (3, 3), activation='relu'))\n",
    "model.add(Conv2D(64, (3, 3), activation='relu'))\n",
    "model.add(Conv2D(72, (3, 3), activation='relu'))\n",
    "model.add(MaxPooling2D(pool_size=(2, 2)))\n",
    "model.add(Dropout(0.5))\n",
    "model.add(Flatten())\n",
    "model.add(Dense(64, activation='relu'))\n",
    "model.add(Dropout(0.5))\n",
    "model.add(Dense(128, activation='relu'))\n",
    "model.add(Dropout(0.5))\n",
    "model.add(Dense(512, activation='relu'))\n",
    "model.add(Dense(628, activation='relu'))\n",
    "#model.add(Dropout(0.5))\n",
    "model.add(Dense(num_classes, activation='softmax'))"
   ]
  },
  {
   "cell_type": "code",
   "execution_count": 0,
   "metadata": {
    "colab": {},
    "colab_type": "code",
    "id": "O9mAdBZFNcPc"
   },
   "outputs": [],
   "source": [
    "model.compile(loss=keras.losses.categorical_crossentropy,\n",
    "              optimizer=keras.optimizers.Adadelta(),\n",
    "              metrics=['accuracy'])"
   ]
  },
  {
   "cell_type": "code",
   "execution_count": 39,
   "metadata": {
    "colab": {
     "base_uri": "https://localhost:8080/",
     "height": 1921
    },
    "colab_type": "code",
    "id": "GM-v6F_-PS1g",
    "outputId": "f743b0ae-f479-4d58-afeb-a9a8a48d619f"
   },
   "outputs": [
    {
     "name": "stdout",
     "output_type": "stream",
     "text": [
      "_________________________________________________________________\n",
      "Layer (type)                 Output Shape              Param #   \n",
      "=================================================================\n",
      "conv2d_25 (Conv2D)           (None, 26, 26, 8)         80        \n",
      "_________________________________________________________________\n",
      "conv2d_26 (Conv2D)           (None, 24, 24, 16)        1168      \n",
      "_________________________________________________________________\n",
      "conv2d_27 (Conv2D)           (None, 22, 22, 32)        4640      \n",
      "_________________________________________________________________\n",
      "conv2d_28 (Conv2D)           (None, 20, 20, 36)        10404     \n",
      "_________________________________________________________________\n",
      "conv2d_29 (Conv2D)           (None, 18, 18, 64)        20800     \n",
      "_________________________________________________________________\n",
      "conv2d_30 (Conv2D)           (None, 16, 16, 72)        41544     \n",
      "_________________________________________________________________\n",
      "max_pooling2d_13 (MaxPooling (None, 8, 8, 72)          0         \n",
      "_________________________________________________________________\n",
      "dropout_22 (Dropout)         (None, 8, 8, 72)          0         \n",
      "_________________________________________________________________\n",
      "flatten_9 (Flatten)          (None, 4608)              0         \n",
      "_________________________________________________________________\n",
      "dense_28 (Dense)             (None, 64)                294976    \n",
      "_________________________________________________________________\n",
      "dropout_23 (Dropout)         (None, 64)                0         \n",
      "_________________________________________________________________\n",
      "dense_29 (Dense)             (None, 128)               8320      \n",
      "_________________________________________________________________\n",
      "dropout_24 (Dropout)         (None, 128)               0         \n",
      "_________________________________________________________________\n",
      "dense_30 (Dense)             (None, 512)               66048     \n",
      "_________________________________________________________________\n",
      "dense_31 (Dense)             (None, 628)               322164    \n",
      "_________________________________________________________________\n",
      "dense_32 (Dense)             (None, 10)                6290      \n",
      "=================================================================\n",
      "Total params: 776,434\n",
      "Trainable params: 776,434\n",
      "Non-trainable params: 0\n",
      "_________________________________________________________________\n",
      "Train on 60000 samples, validate on 10000 samples\n",
      "Epoch 1/36\n",
      "60000/60000 [==============================] - 14s 230us/step - loss: 1.2119 - acc: 0.5765 - val_loss: 0.2201 - val_acc: 0.9344\n",
      "Epoch 2/36\n",
      "60000/60000 [==============================] - 12s 202us/step - loss: 0.2773 - acc: 0.9196 - val_loss: 0.0793 - val_acc: 0.9786\n",
      "Epoch 3/36\n",
      "60000/60000 [==============================] - 12s 202us/step - loss: 0.1848 - acc: 0.9475 - val_loss: 0.0588 - val_acc: 0.9837\n",
      "Epoch 4/36\n",
      "60000/60000 [==============================] - 12s 202us/step - loss: 0.1521 - acc: 0.9578 - val_loss: 0.0516 - val_acc: 0.9852\n",
      "Epoch 5/36\n",
      "60000/60000 [==============================] - 12s 201us/step - loss: 0.1304 - acc: 0.9641 - val_loss: 0.0509 - val_acc: 0.9852\n",
      "Epoch 6/36\n",
      "60000/60000 [==============================] - 12s 202us/step - loss: 0.1142 - acc: 0.9690 - val_loss: 0.0340 - val_acc: 0.9896\n",
      "Epoch 7/36\n",
      "60000/60000 [==============================] - 12s 201us/step - loss: 0.1042 - acc: 0.9718 - val_loss: 0.0344 - val_acc: 0.9904\n",
      "Epoch 8/36\n",
      "60000/60000 [==============================] - 12s 201us/step - loss: 0.0960 - acc: 0.9739 - val_loss: 0.0320 - val_acc: 0.9910\n",
      "Epoch 9/36\n",
      "60000/60000 [==============================] - 12s 201us/step - loss: 0.0873 - acc: 0.9762 - val_loss: 0.0353 - val_acc: 0.9902\n",
      "Epoch 10/36\n",
      "60000/60000 [==============================] - 12s 202us/step - loss: 0.0837 - acc: 0.9767 - val_loss: 0.0340 - val_acc: 0.9917\n",
      "Epoch 11/36\n",
      "60000/60000 [==============================] - 12s 202us/step - loss: 0.0757 - acc: 0.9789 - val_loss: 0.0289 - val_acc: 0.9917\n",
      "Epoch 12/36\n",
      "60000/60000 [==============================] - 12s 201us/step - loss: 0.0764 - acc: 0.9794 - val_loss: 0.0351 - val_acc: 0.9909\n",
      "Epoch 13/36\n",
      "60000/60000 [==============================] - 12s 202us/step - loss: 0.0703 - acc: 0.9803 - val_loss: 0.0311 - val_acc: 0.9917\n",
      "Epoch 14/36\n",
      "60000/60000 [==============================] - 12s 201us/step - loss: 0.0657 - acc: 0.9818 - val_loss: 0.0269 - val_acc: 0.9928\n",
      "Epoch 15/36\n",
      "60000/60000 [==============================] - 12s 200us/step - loss: 0.0624 - acc: 0.9826 - val_loss: 0.0252 - val_acc: 0.9931\n",
      "Epoch 16/36\n",
      "60000/60000 [==============================] - 12s 202us/step - loss: 0.0593 - acc: 0.9839 - val_loss: 0.0281 - val_acc: 0.9923\n",
      "Epoch 17/36\n",
      "60000/60000 [==============================] - 12s 201us/step - loss: 0.0592 - acc: 0.9835 - val_loss: 0.0226 - val_acc: 0.9938\n",
      "Epoch 18/36\n",
      "60000/60000 [==============================] - 12s 201us/step - loss: 0.0585 - acc: 0.9846 - val_loss: 0.0249 - val_acc: 0.9929\n",
      "Epoch 19/36\n",
      "60000/60000 [==============================] - 12s 201us/step - loss: 0.0552 - acc: 0.9847 - val_loss: 0.0274 - val_acc: 0.9923\n",
      "Epoch 20/36\n",
      "60000/60000 [==============================] - 12s 201us/step - loss: 0.0552 - acc: 0.9850 - val_loss: 0.0281 - val_acc: 0.9921\n",
      "Epoch 21/36\n",
      "60000/60000 [==============================] - 12s 200us/step - loss: 0.0512 - acc: 0.9862 - val_loss: 0.0235 - val_acc: 0.9930\n",
      "Epoch 22/36\n",
      "60000/60000 [==============================] - 12s 200us/step - loss: 0.0502 - acc: 0.9861 - val_loss: 0.0260 - val_acc: 0.9928\n",
      "Epoch 23/36\n",
      "60000/60000 [==============================] - 12s 201us/step - loss: 0.0481 - acc: 0.9865 - val_loss: 0.0355 - val_acc: 0.9905\n",
      "Epoch 24/36\n",
      "60000/60000 [==============================] - 12s 201us/step - loss: 0.0489 - acc: 0.9859 - val_loss: 0.0242 - val_acc: 0.9929\n",
      "Epoch 25/36\n",
      "60000/60000 [==============================] - 12s 201us/step - loss: 0.0454 - acc: 0.9873 - val_loss: 0.0258 - val_acc: 0.9933\n",
      "Epoch 26/36\n",
      "60000/60000 [==============================] - 12s 201us/step - loss: 0.0469 - acc: 0.9870 - val_loss: 0.0315 - val_acc: 0.9912\n",
      "Epoch 27/36\n",
      "60000/60000 [==============================] - 12s 200us/step - loss: 0.0460 - acc: 0.9871 - val_loss: 0.0229 - val_acc: 0.9939\n",
      "Epoch 28/36\n",
      "60000/60000 [==============================] - 12s 201us/step - loss: 0.0425 - acc: 0.9878 - val_loss: 0.0282 - val_acc: 0.9929\n",
      "Epoch 29/36\n",
      "60000/60000 [==============================] - 12s 200us/step - loss: 0.0418 - acc: 0.9882 - val_loss: 0.0234 - val_acc: 0.9939\n",
      "Epoch 30/36\n",
      "60000/60000 [==============================] - 12s 200us/step - loss: 0.0405 - acc: 0.9886 - val_loss: 0.0220 - val_acc: 0.9935\n",
      "Epoch 31/36\n",
      "60000/60000 [==============================] - 12s 201us/step - loss: 0.0401 - acc: 0.9886 - val_loss: 0.0213 - val_acc: 0.9936\n",
      "Epoch 32/36\n",
      "60000/60000 [==============================] - 12s 202us/step - loss: 0.0374 - acc: 0.9896 - val_loss: 0.0199 - val_acc: 0.9948\n",
      "Epoch 33/36\n",
      "60000/60000 [==============================] - 12s 202us/step - loss: 0.0381 - acc: 0.9891 - val_loss: 0.0211 - val_acc: 0.9944\n",
      "Epoch 34/36\n",
      "60000/60000 [==============================] - 12s 201us/step - loss: 0.0368 - acc: 0.9898 - val_loss: 0.0207 - val_acc: 0.9948\n",
      "Epoch 35/36\n",
      "60000/60000 [==============================] - 12s 201us/step - loss: 0.0363 - acc: 0.9895 - val_loss: 0.0195 - val_acc: 0.9947\n",
      "Epoch 36/36\n",
      "60000/60000 [==============================] - 12s 201us/step - loss: 0.0353 - acc: 0.9898 - val_loss: 0.0177 - val_acc: 0.9950\n"
     ]
    }
   ],
   "source": [
    "model.summary()\n",
    "history = model.fit(x_train, y_train, batch_size=batch_size, epochs=epochs, verbose=1, validation_data=(x_test, y_test))"
   ]
  },
  {
   "cell_type": "code",
   "execution_count": 40,
   "metadata": {
    "colab": {
     "base_uri": "https://localhost:8080/",
     "height": 412
    },
    "colab_type": "code",
    "id": "Yf1A8mhfcxfY",
    "outputId": "89ffa59a-2ea2-46a9-d1a1-6ac0b76a4219"
   },
   "outputs": [
    {
     "name": "stdout",
     "output_type": "stream",
     "text": [
      "Test score: 0.01765020714525308\n",
      "Test accuracy: 0.995\n"
     ]
    },
    {
     "data": {
      "text/plain": [
       "Text(0, 0.5, 'Categorical Crossentropy Loss')"
      ]
     },
     "execution_count": 40,
     "metadata": {
      "tags": []
     },
     "output_type": "execute_result"
    },
    {
     "data": {
      "image/png": "[encoded data removed]",
      "text/plain": [
       "<Figure size 576x396 with 1 Axes>"
      ]
     },
     "metadata": {
      "tags": []
     },
     "output_type": "display_data"
    }
   ],
   "source": [
    "score = model.evaluate(x_test, y_test, verbose=0) \n",
    "print('Test score:', score[0]) \n",
    "print('Test accuracy:', score[1])\n",
    "\n",
    "import matplotlib.pyplot as plt\n",
    "import numpy as np\n",
    "import time\n",
    "plt.plot(list(range(1,epochs+1)), history.history['val_loss'], 'b', label=\"Train Loss\")\n",
    "plt.plot(list(range(1,epochs+1)), history.history['loss'], 'r', label=\"Test Loss\")\n",
    "plt.legend()\n",
    "plt.xlabel('epoch') ; plt.ylabel('Categorical Crossentropy Loss')"
   ]
  },
  {
   "cell_type": "markdown",
   "metadata": {
    "colab_type": "text",
    "id": "axP99-o1DGte"
   },
   "source": [
    "#### With dropout rate = 0.3"
   ]
  },
  {
   "cell_type": "code",
   "execution_count": 0,
   "metadata": {
    "colab": {},
    "colab_type": "code",
    "id": "6dwDciixDGNB"
   },
   "outputs": [],
   "source": [
    "model = Sequential()\n",
    "model.add(Conv2D(8, kernel_size=(3, 3),\n",
    "                 activation='relu',\n",
    "                 input_shape=input_shape))\n",
    "model.add(Conv2D(16, (3, 3), activation='relu'))\n",
    "model.add(Conv2D(32, (3, 3), activation='relu'))\n",
    "model.add(Conv2D(36, (3, 3), activation='relu'))\n",
    "model.add(Conv2D(64, (3, 3), activation='relu'))\n",
    "model.add(Conv2D(72, (3, 3), activation='relu'))\n",
    "model.add(MaxPooling2D(pool_size=(2, 2)))\n",
    "model.add(Dropout(0.3))\n",
    "model.add(Flatten())\n",
    "model.add(Dense(64, activation='relu'))\n",
    "model.add(Dropout(0.3))\n",
    "model.add(Dense(128, activation='relu'))\n",
    "model.add(Dropout(0.3))\n",
    "model.add(Dense(512, activation='relu'))\n",
    "model.add(Dense(628, activation='relu'))\n",
    "#model.add(Dropout(0.5))\n",
    "model.add(Dense(num_classes, activation='softmax'))"
   ]
  },
  {
   "cell_type": "code",
   "execution_count": 0,
   "metadata": {
    "colab": {},
    "colab_type": "code",
    "id": "nzM-1x6JDNUT"
   },
   "outputs": [],
   "source": [
    "model.compile(loss=keras.losses.categorical_crossentropy,\n",
    "              optimizer=keras.optimizers.Adadelta(),\n",
    "              metrics=['accuracy'])"
   ]
  },
  {
   "cell_type": "code",
   "execution_count": 43,
   "metadata": {
    "colab": {
     "base_uri": "https://localhost:8080/",
     "height": 1921
    },
    "colab_type": "code",
    "id": "4sEGG1GhDNYi",
    "outputId": "4c7c36ce-833d-4301-b08f-d7755b39ddb7"
   },
   "outputs": [
    {
     "name": "stdout",
     "output_type": "stream",
     "text": [
      "_________________________________________________________________\n",
      "Layer (type)                 Output Shape              Param #   \n",
      "=================================================================\n",
      "conv2d_31 (Conv2D)           (None, 26, 26, 8)         80        \n",
      "_________________________________________________________________\n",
      "conv2d_32 (Conv2D)           (None, 24, 24, 16)        1168      \n",
      "_________________________________________________________________\n",
      "conv2d_33 (Conv2D)           (None, 22, 22, 32)        4640      \n",
      "_________________________________________________________________\n",
      "conv2d_34 (Conv2D)           (None, 20, 20, 36)        10404     \n",
      "_________________________________________________________________\n",
      "conv2d_35 (Conv2D)           (None, 18, 18, 64)        20800     \n",
      "_________________________________________________________________\n",
      "conv2d_36 (Conv2D)           (None, 16, 16, 72)        41544     \n",
      "_________________________________________________________________\n",
      "max_pooling2d_14 (MaxPooling (None, 8, 8, 72)          0         \n",
      "_________________________________________________________________\n",
      "dropout_25 (Dropout)         (None, 8, 8, 72)          0         \n",
      "_________________________________________________________________\n",
      "flatten_10 (Flatten)         (None, 4608)              0         \n",
      "_________________________________________________________________\n",
      "dense_33 (Dense)             (None, 64)                294976    \n",
      "_________________________________________________________________\n",
      "dropout_26 (Dropout)         (None, 64)                0         \n",
      "_________________________________________________________________\n",
      "dense_34 (Dense)             (None, 128)               8320      \n",
      "_________________________________________________________________\n",
      "dropout_27 (Dropout)         (None, 128)               0         \n",
      "_________________________________________________________________\n",
      "dense_35 (Dense)             (None, 512)               66048     \n",
      "_________________________________________________________________\n",
      "dense_36 (Dense)             (None, 628)               322164    \n",
      "_________________________________________________________________\n",
      "dense_37 (Dense)             (None, 10)                6290      \n",
      "=================================================================\n",
      "Total params: 776,434\n",
      "Trainable params: 776,434\n",
      "Non-trainable params: 0\n",
      "_________________________________________________________________\n",
      "Train on 60000 samples, validate on 10000 samples\n",
      "Epoch 1/36\n",
      "60000/60000 [==============================] - 14s 233us/step - loss: 0.9027 - acc: 0.6858 - val_loss: 0.1030 - val_acc: 0.9692\n",
      "Epoch 2/36\n",
      "60000/60000 [==============================] - 12s 202us/step - loss: 0.1474 - acc: 0.9592 - val_loss: 0.0586 - val_acc: 0.9832\n",
      "Epoch 3/36\n",
      "60000/60000 [==============================] - 12s 200us/step - loss: 0.1021 - acc: 0.9713 - val_loss: 0.0695 - val_acc: 0.9802\n",
      "Epoch 4/36\n",
      "60000/60000 [==============================] - 12s 200us/step - loss: 0.0800 - acc: 0.9779 - val_loss: 0.0405 - val_acc: 0.9880\n",
      "Epoch 5/36\n",
      "60000/60000 [==============================] - 12s 200us/step - loss: 0.0664 - acc: 0.9815 - val_loss: 0.0387 - val_acc: 0.9892\n",
      "Epoch 6/36\n",
      "60000/60000 [==============================] - 12s 201us/step - loss: 0.0578 - acc: 0.9836 - val_loss: 0.0298 - val_acc: 0.9915\n",
      "Epoch 7/36\n",
      "60000/60000 [==============================] - 12s 201us/step - loss: 0.0522 - acc: 0.9856 - val_loss: 0.0284 - val_acc: 0.9911\n",
      "Epoch 8/36\n",
      "60000/60000 [==============================] - 12s 201us/step - loss: 0.0487 - acc: 0.9863 - val_loss: 0.0263 - val_acc: 0.9923\n",
      "Epoch 9/36\n",
      "60000/60000 [==============================] - 12s 201us/step - loss: 0.0421 - acc: 0.9880 - val_loss: 0.0255 - val_acc: 0.9928\n",
      "Epoch 10/36\n",
      "60000/60000 [==============================] - 12s 201us/step - loss: 0.0409 - acc: 0.9887 - val_loss: 0.0263 - val_acc: 0.9927\n",
      "Epoch 11/36\n",
      "60000/60000 [==============================] - 12s 201us/step - loss: 0.0360 - acc: 0.9899 - val_loss: 0.0274 - val_acc: 0.9929\n",
      "Epoch 12/36\n",
      "60000/60000 [==============================] - 12s 201us/step - loss: 0.0333 - acc: 0.9902 - val_loss: 0.0239 - val_acc: 0.9927\n",
      "Epoch 13/36\n",
      "60000/60000 [==============================] - 12s 202us/step - loss: 0.0321 - acc: 0.9910 - val_loss: 0.0258 - val_acc: 0.9925\n",
      "Epoch 14/36\n",
      "60000/60000 [==============================] - 12s 202us/step - loss: 0.0306 - acc: 0.9913 - val_loss: 0.0227 - val_acc: 0.9935\n",
      "Epoch 15/36\n",
      "60000/60000 [==============================] - 12s 202us/step - loss: 0.0291 - acc: 0.9918 - val_loss: 0.0215 - val_acc: 0.9936\n",
      "Epoch 16/36\n",
      "60000/60000 [==============================] - 12s 201us/step - loss: 0.0270 - acc: 0.9920 - val_loss: 0.0246 - val_acc: 0.9929\n",
      "Epoch 17/36\n",
      "60000/60000 [==============================] - 12s 201us/step - loss: 0.0263 - acc: 0.9927 - val_loss: 0.0232 - val_acc: 0.9933\n",
      "Epoch 18/36\n",
      "60000/60000 [==============================] - 12s 200us/step - loss: 0.0252 - acc: 0.9930 - val_loss: 0.0226 - val_acc: 0.9938\n",
      "Epoch 19/36\n",
      "60000/60000 [==============================] - 12s 201us/step - loss: 0.0227 - acc: 0.9932 - val_loss: 0.0512 - val_acc: 0.9869\n",
      "Epoch 20/36\n",
      "60000/60000 [==============================] - 12s 201us/step - loss: 0.0212 - acc: 0.9940 - val_loss: 0.0226 - val_acc: 0.9933\n",
      "Epoch 21/36\n",
      "60000/60000 [==============================] - 12s 201us/step - loss: 0.0209 - acc: 0.9939 - val_loss: 0.0288 - val_acc: 0.9926\n",
      "Epoch 22/36\n",
      "60000/60000 [==============================] - 12s 201us/step - loss: 0.0210 - acc: 0.9938 - val_loss: 0.0192 - val_acc: 0.9946\n",
      "Epoch 23/36\n",
      "60000/60000 [==============================] - 12s 201us/step - loss: 0.0208 - acc: 0.9940 - val_loss: 0.0256 - val_acc: 0.9935\n",
      "Epoch 24/36\n",
      "60000/60000 [==============================] - 12s 202us/step - loss: 0.0180 - acc: 0.9945 - val_loss: 0.0223 - val_acc: 0.9942\n",
      "Epoch 25/36\n",
      "60000/60000 [==============================] - 12s 201us/step - loss: 0.0184 - acc: 0.9949 - val_loss: 0.0259 - val_acc: 0.9932\n",
      "Epoch 26/36\n",
      "60000/60000 [==============================] - 12s 201us/step - loss: 0.0175 - acc: 0.9948 - val_loss: 0.0243 - val_acc: 0.9934\n",
      "Epoch 27/36\n",
      "60000/60000 [==============================] - 12s 201us/step - loss: 0.0162 - acc: 0.9950 - val_loss: 0.0251 - val_acc: 0.9946\n",
      "Epoch 28/36\n",
      "60000/60000 [==============================] - 12s 201us/step - loss: 0.0161 - acc: 0.9949 - val_loss: 0.0240 - val_acc: 0.9939\n",
      "Epoch 29/36\n",
      "60000/60000 [==============================] - 12s 201us/step - loss: 0.0155 - acc: 0.9952 - val_loss: 0.0234 - val_acc: 0.9936\n",
      "Epoch 30/36\n",
      "60000/60000 [==============================] - 12s 202us/step - loss: 0.0159 - acc: 0.9953 - val_loss: 0.0219 - val_acc: 0.9937\n",
      "Epoch 31/36\n",
      "60000/60000 [==============================] - 12s 201us/step - loss: 0.0136 - acc: 0.9961 - val_loss: 0.0204 - val_acc: 0.9941\n",
      "Epoch 32/36\n",
      "60000/60000 [==============================] - 12s 202us/step - loss: 0.0128 - acc: 0.9961 - val_loss: 0.0241 - val_acc: 0.9946\n",
      "Epoch 33/36\n",
      "60000/60000 [==============================] - 12s 201us/step - loss: 0.0147 - acc: 0.9955 - val_loss: 0.0265 - val_acc: 0.9931\n",
      "Epoch 34/36\n",
      "60000/60000 [==============================] - 12s 201us/step - loss: 0.0128 - acc: 0.9961 - val_loss: 0.0219 - val_acc: 0.9944\n",
      "Epoch 35/36\n",
      "60000/60000 [==============================] - 12s 201us/step - loss: 0.0135 - acc: 0.9961 - val_loss: 0.0216 - val_acc: 0.9937\n",
      "Epoch 36/36\n",
      "60000/60000 [==============================] - 12s 202us/step - loss: 0.0123 - acc: 0.9961 - val_loss: 0.0202 - val_acc: 0.9949\n"
     ]
    }
   ],
   "source": [
    "model.summary()\n",
    "history = model.fit(x_train, y_train, batch_size=batch_size, epochs=epochs, verbose=1, validation_data=(x_test, y_test))"
   ]
  },
  {
   "cell_type": "code",
   "execution_count": 44,
   "metadata": {
    "colab": {
     "base_uri": "https://localhost:8080/",
     "height": 412
    },
    "colab_type": "code",
    "id": "c8ZU_IymDNm3",
    "outputId": "998e36e9-b0e0-48b4-d1f3-4b975b36ad44"
   },
   "outputs": [
    {
     "name": "stdout",
     "output_type": "stream",
     "text": [
      "Test score: 0.02018869715525416\n",
      "Test accuracy: 0.9949\n"
     ]
    },
    {
     "data": {
      "text/plain": [
       "Text(0, 0.5, 'Categorical Crossentropy Loss')"
      ]
     },
     "execution_count": 44,
     "metadata": {
      "tags": []
     },
     "output_type": "execute_result"
    },
    {
     "data": {
      "image/png": "[encoded data removed]",
      "text/plain": [
       "<Figure size 576x396 with 1 Axes>"
      ]
     },
     "metadata": {
      "tags": []
     },
     "output_type": "display_data"
    }
   ],
   "source": [
    "score = model.evaluate(x_test, y_test, verbose=0) \n",
    "print('Test score:', score[0]) \n",
    "print('Test accuracy:', score[1])\n",
    "\n",
    "import matplotlib.pyplot as plt\n",
    "import numpy as np\n",
    "import time\n",
    "plt.plot(list(range(1,epochs+1)), history.history['val_loss'], 'b', label=\"Train Loss\")\n",
    "plt.plot(list(range(1,epochs+1)), history.history['loss'], 'r', label=\"Test Loss\")\n",
    "plt.legend()\n",
    "plt.xlabel('epoch') ; plt.ylabel('Categorical Crossentropy Loss')"
   ]
  },
  {
   "cell_type": "markdown",
   "metadata": {
    "colab_type": "text",
    "id": "fIYdUjZ9DcqA"
   },
   "source": [
    "#### With Dropout rate = 0.1"
   ]
  },
  {
   "cell_type": "code",
   "execution_count": 0,
   "metadata": {
    "colab": {},
    "colab_type": "code",
    "id": "Qjy3v3ZUDkYD"
   },
   "outputs": [],
   "source": [
    "model = Sequential()\n",
    "model.add(Conv2D(8, kernel_size=(3, 3),\n",
    "                 activation='relu',\n",
    "                 input_shape=input_shape))\n",
    "model.add(Conv2D(16, (3, 3), activation='relu'))\n",
    "model.add(Conv2D(32, (3, 3), activation='relu'))\n",
    "model.add(Conv2D(36, (3, 3), activation='relu'))\n",
    "model.add(Conv2D(64, (3, 3), activation='relu'))\n",
    "model.add(Conv2D(72, (3, 3), activation='relu'))\n",
    "model.add(MaxPooling2D(pool_size=(2, 2)))\n",
    "model.add(Dropout(0.1))\n",
    "model.add(Flatten())\n",
    "model.add(Dense(64, activation='relu'))\n",
    "model.add(Dropout(0.1))\n",
    "model.add(Dense(128, activation='relu'))\n",
    "model.add(Dropout(0.1))\n",
    "model.add(Dense(512, activation='relu'))\n",
    "model.add(Dense(628, activation='relu'))\n",
    "#model.add(Dropout(0.5))\n",
    "model.add(Dense(num_classes, activation='softmax'))"
   ]
  },
  {
   "cell_type": "code",
   "execution_count": 0,
   "metadata": {
    "colab": {},
    "colab_type": "code",
    "id": "5sKHiH13DkbE"
   },
   "outputs": [],
   "source": [
    "model.compile(loss=keras.losses.categorical_crossentropy,\n",
    "              optimizer=keras.optimizers.Adadelta(),\n",
    "              metrics=['accuracy'])"
   ]
  },
  {
   "cell_type": "code",
   "execution_count": 47,
   "metadata": {
    "colab": {
     "base_uri": "https://localhost:8080/",
     "height": 1921
    },
    "colab_type": "code",
    "id": "FWws4KQYDkey",
    "outputId": "83920256-712b-47b0-8753-df52052b6644"
   },
   "outputs": [
    {
     "name": "stdout",
     "output_type": "stream",
     "text": [
      "_________________________________________________________________\n",
      "Layer (type)                 Output Shape              Param #   \n",
      "=================================================================\n",
      "conv2d_37 (Conv2D)           (None, 26, 26, 8)         80        \n",
      "_________________________________________________________________\n",
      "conv2d_38 (Conv2D)           (None, 24, 24, 16)        1168      \n",
      "_________________________________________________________________\n",
      "conv2d_39 (Conv2D)           (None, 22, 22, 32)        4640      \n",
      "_________________________________________________________________\n",
      "conv2d_40 (Conv2D)           (None, 20, 20, 36)        10404     \n",
      "_________________________________________________________________\n",
      "conv2d_41 (Conv2D)           (None, 18, 18, 64)        20800     \n",
      "_________________________________________________________________\n",
      "conv2d_42 (Conv2D)           (None, 16, 16, 72)        41544     \n",
      "_________________________________________________________________\n",
      "max_pooling2d_15 (MaxPooling (None, 8, 8, 72)          0         \n",
      "_________________________________________________________________\n",
      "dropout_28 (Dropout)         (None, 8, 8, 72)          0         \n",
      "_________________________________________________________________\n",
      "flatten_11 (Flatten)         (None, 4608)              0         \n",
      "_________________________________________________________________\n",
      "dense_38 (Dense)             (None, 64)                294976    \n",
      "_________________________________________________________________\n",
      "dropout_29 (Dropout)         (None, 64)                0         \n",
      "_________________________________________________________________\n",
      "dense_39 (Dense)             (None, 128)               8320      \n",
      "_________________________________________________________________\n",
      "dropout_30 (Dropout)         (None, 128)               0         \n",
      "_________________________________________________________________\n",
      "dense_40 (Dense)             (None, 512)               66048     \n",
      "_________________________________________________________________\n",
      "dense_41 (Dense)             (None, 628)               322164    \n",
      "_________________________________________________________________\n",
      "dense_42 (Dense)             (None, 10)                6290      \n",
      "=================================================================\n",
      "Total params: 776,434\n",
      "Trainable params: 776,434\n",
      "Non-trainable params: 0\n",
      "_________________________________________________________________\n",
      "Train on 60000 samples, validate on 10000 samples\n",
      "Epoch 1/36\n",
      "60000/60000 [==============================] - 14s 231us/step - loss: 0.9457 - acc: 0.6728 - val_loss: 0.0969 - val_acc: 0.9685\n",
      "Epoch 2/36\n",
      "60000/60000 [==============================] - 12s 201us/step - loss: 0.1105 - acc: 0.9680 - val_loss: 0.0592 - val_acc: 0.9837\n",
      "Epoch 3/36\n",
      "60000/60000 [==============================] - 12s 201us/step - loss: 0.0680 - acc: 0.9802 - val_loss: 0.0428 - val_acc: 0.9868\n",
      "Epoch 4/36\n",
      "60000/60000 [==============================] - 12s 201us/step - loss: 0.0477 - acc: 0.9865 - val_loss: 0.0396 - val_acc: 0.9881\n",
      "Epoch 5/36\n",
      "60000/60000 [==============================] - 12s 201us/step - loss: 0.0391 - acc: 0.9888 - val_loss: 0.0284 - val_acc: 0.9919\n",
      "Epoch 6/36\n",
      "60000/60000 [==============================] - 12s 201us/step - loss: 0.0326 - acc: 0.9903 - val_loss: 0.0424 - val_acc: 0.9869\n",
      "Epoch 7/36\n",
      "60000/60000 [==============================] - 12s 202us/step - loss: 0.0259 - acc: 0.9919 - val_loss: 0.0307 - val_acc: 0.9907\n",
      "Epoch 8/36\n",
      "60000/60000 [==============================] - 12s 201us/step - loss: 0.0229 - acc: 0.9929 - val_loss: 0.0273 - val_acc: 0.9914\n",
      "Epoch 9/36\n",
      "60000/60000 [==============================] - 12s 201us/step - loss: 0.0195 - acc: 0.9939 - val_loss: 0.0352 - val_acc: 0.9903\n",
      "Epoch 10/36\n",
      "60000/60000 [==============================] - 12s 201us/step - loss: 0.0175 - acc: 0.9947 - val_loss: 0.0360 - val_acc: 0.9910\n",
      "Epoch 11/36\n",
      "60000/60000 [==============================] - 12s 202us/step - loss: 0.0154 - acc: 0.9955 - val_loss: 0.0397 - val_acc: 0.9897\n",
      "Epoch 12/36\n",
      "60000/60000 [==============================] - 12s 201us/step - loss: 0.0146 - acc: 0.9955 - val_loss: 0.0283 - val_acc: 0.9926\n",
      "Epoch 13/36\n",
      "60000/60000 [==============================] - 12s 201us/step - loss: 0.0119 - acc: 0.9963 - val_loss: 0.0352 - val_acc: 0.9911\n",
      "Epoch 14/36\n",
      "60000/60000 [==============================] - 12s 202us/step - loss: 0.0124 - acc: 0.9962 - val_loss: 0.0302 - val_acc: 0.9921\n",
      "Epoch 15/36\n",
      "60000/60000 [==============================] - 12s 201us/step - loss: 0.0095 - acc: 0.9973 - val_loss: 0.0250 - val_acc: 0.9931\n",
      "Epoch 16/36\n",
      "60000/60000 [==============================] - 12s 201us/step - loss: 0.0087 - acc: 0.9972 - val_loss: 0.0338 - val_acc: 0.9922\n",
      "Epoch 17/36\n",
      "60000/60000 [==============================] - 12s 201us/step - loss: 0.0082 - acc: 0.9976 - val_loss: 0.0339 - val_acc: 0.9923\n",
      "Epoch 18/36\n",
      "60000/60000 [==============================] - 12s 201us/step - loss: 0.0080 - acc: 0.9976 - val_loss: 0.0280 - val_acc: 0.9931\n",
      "Epoch 19/36\n",
      "60000/60000 [==============================] - 12s 201us/step - loss: 0.0071 - acc: 0.9979 - val_loss: 0.0349 - val_acc: 0.9920\n",
      "Epoch 20/36\n",
      "60000/60000 [==============================] - 12s 201us/step - loss: 0.0072 - acc: 0.9980 - val_loss: 0.0334 - val_acc: 0.9913\n",
      "Epoch 21/36\n",
      "60000/60000 [==============================] - 12s 201us/step - loss: 0.0062 - acc: 0.9981 - val_loss: 0.0370 - val_acc: 0.9933\n",
      "Epoch 22/36\n",
      "60000/60000 [==============================] - 12s 201us/step - loss: 0.0053 - acc: 0.9982 - val_loss: 0.0379 - val_acc: 0.9924\n",
      "Epoch 23/36\n",
      "60000/60000 [==============================] - 12s 201us/step - loss: 0.0064 - acc: 0.9978 - val_loss: 0.0302 - val_acc: 0.9935\n",
      "Epoch 24/36\n",
      "60000/60000 [==============================] - 12s 201us/step - loss: 0.0049 - acc: 0.9983 - val_loss: 0.0475 - val_acc: 0.9917\n",
      "Epoch 25/36\n",
      "60000/60000 [==============================] - 12s 201us/step - loss: 0.0048 - acc: 0.9985 - val_loss: 0.0433 - val_acc: 0.9924\n",
      "Epoch 26/36\n",
      "60000/60000 [==============================] - 12s 201us/step - loss: 0.0050 - acc: 0.9984 - val_loss: 0.0415 - val_acc: 0.9921\n",
      "Epoch 27/36\n",
      "60000/60000 [==============================] - 12s 203us/step - loss: 0.0042 - acc: 0.9986 - val_loss: 0.0481 - val_acc: 0.9918\n",
      "Epoch 28/36\n",
      "60000/60000 [==============================] - 12s 202us/step - loss: 0.0042 - acc: 0.9986 - val_loss: 0.0331 - val_acc: 0.9934\n",
      "Epoch 29/36\n",
      "60000/60000 [==============================] - 12s 201us/step - loss: 0.0042 - acc: 0.9987 - val_loss: 0.0415 - val_acc: 0.9926\n",
      "Epoch 30/36\n",
      "60000/60000 [==============================] - 12s 202us/step - loss: 0.0036 - acc: 0.9988 - val_loss: 0.0408 - val_acc: 0.9920\n",
      "Epoch 31/36\n",
      "60000/60000 [==============================] - 12s 202us/step - loss: 0.0041 - acc: 0.9986 - val_loss: 0.0428 - val_acc: 0.9922\n",
      "Epoch 32/36\n",
      "60000/60000 [==============================] - 12s 202us/step - loss: 0.0043 - acc: 0.9986 - val_loss: 0.0400 - val_acc: 0.9922\n",
      "Epoch 33/36\n",
      "60000/60000 [==============================] - 12s 202us/step - loss: 0.0037 - acc: 0.9988 - val_loss: 0.0457 - val_acc: 0.9915\n",
      "Epoch 34/36\n",
      "60000/60000 [==============================] - 12s 203us/step - loss: 0.0046 - acc: 0.9986 - val_loss: 0.0344 - val_acc: 0.9925\n",
      "Epoch 35/36\n",
      "60000/60000 [==============================] - 12s 203us/step - loss: 0.0032 - acc: 0.9990 - val_loss: 0.0403 - val_acc: 0.9932\n",
      "Epoch 36/36\n",
      "60000/60000 [==============================] - 12s 202us/step - loss: 0.0031 - acc: 0.9990 - val_loss: 0.0402 - val_acc: 0.9923\n"
     ]
    }
   ],
   "source": [
    "model.summary()\n",
    "history = model.fit(x_train, y_train, batch_size=batch_size, epochs=epochs, verbose=1, validation_data=(x_test, y_test))"
   ]
  },
  {
   "cell_type": "code",
   "execution_count": 48,
   "metadata": {
    "colab": {
     "base_uri": "https://localhost:8080/",
     "height": 412
    },
    "colab_type": "code",
    "id": "zknM24vIDkid",
    "outputId": "98811c90-ae04-45b3-e742-a1b1978ed6c6"
   },
   "outputs": [
    {
     "name": "stdout",
     "output_type": "stream",
     "text": [
      "Test score: 0.04020679708972575\n",
      "Test accuracy: 0.9923\n"
     ]
    },
    {
     "data": {
      "text/plain": [
       "Text(0, 0.5, 'Categorical Crossentropy Loss')"
      ]
     },
     "execution_count": 48,
     "metadata": {
      "tags": []
     },
     "output_type": "execute_result"
    },
    {
     "data": {
      "image/png": "[encoded data removed]",
      "text/plain": [
       "<Figure size 576x396 with 1 Axes>"
      ]
     },
     "metadata": {
      "tags": []
     },
     "output_type": "display_data"
    }
   ],
   "source": [
    "score = model.evaluate(x_test, y_test, verbose=0) \n",
    "print('Test score:', score[0]) \n",
    "print('Test accuracy:', score[1])\n",
    "\n",
    "import matplotlib.pyplot as plt\n",
    "import numpy as np\n",
    "import time\n",
    "plt.plot(list(range(1,epochs+1)), history.history['val_loss'], 'b', label=\"Train Loss\")\n",
    "plt.plot(list(range(1,epochs+1)), history.history['loss'], 'r', label=\"Test Loss\")\n",
    "plt.legend()\n",
    "plt.xlabel('epoch') ; plt.ylabel('Categorical Crossentropy Loss')"
   ]
  },
  {
   "cell_type": "markdown",
   "metadata": {
    "colab_type": "text",
    "id": "jqD7Uc-pc4uY"
   },
   "source": [
    "## Comparison of all the models."
   ]
  },
  {
   "cell_type": "code",
   "execution_count": 50,
   "metadata": {
    "colab": {
     "base_uri": "https://localhost:8080/",
     "height": 136
    },
    "colab_type": "code",
    "id": "taAFQQd2c3bb",
    "outputId": "1608f6a9-16bd-424a-c409-51c0524c335f"
   },
   "outputs": [
    {
     "name": "stdout",
     "output_type": "stream",
     "text": [
      "+--------------+--------------------+-------------+-------------------+-----------------+----------+\n",
      "| Model Number | No of convolutions | Kernel Size | Best dropout rate | Test data score | Accuracy |\n",
      "+--------------+--------------------+-------------+-------------------+-----------------+----------+\n",
      "|      1       |         2          |     2x2     |        0.5        |      0.0309     |  0.9906  |\n",
      "|      2       |         3          |     5x5     |        0.1        |      0.0318     |  0.9919  |\n",
      "|      3       |         5          |     3x3     |        0.5        |      0.0176     |  0.995   |\n",
      "+--------------+--------------------+-------------+-------------------+-----------------+----------+\n"
     ]
    }
   ],
   "source": [
    "x = PrettyTable()\n",
    "x.field_names = [\"Model Number\", \"No of convolutions\", \"Kernel Size\", \"Best dropout rate\", \"Test data score\", \"Accuracy\"]\n",
    "x.add_row([1, 2, '2x2',0.5,0.0309, 0.9906 ])\n",
    "x.add_row([2, 3, '5x5', 0.1, 0.0318, 0.9919])\n",
    "x.add_row([3, 5, '3x3',0.5, 0.0176, 0.995])\n",
    "print(x)"
   ]
  },
  {
   "cell_type": "markdown",
   "metadata": {
    "colab_type": "text",
    "id": "IC_dEnZVfc_g"
   },
   "source": [
    "#### Here I implemented 3 CNN models on the MNIST dataset with different dropout rates.\n",
    "\n",
    "\n",
    "[1] The first model consisted of only 2 convolutions with the kernel size of 2x2 followed by a max pooling layer and 1 dense layer with ReLU activation unit and the output layer which had the sigmoid activation unit it gave accuracy of 99.06%.\n",
    "\n",
    "\n",
    "[2] The second model consisted of 3 convolutions with the kernel size of 5x5 with the max pooling layer after the 1st layer and the 3rd layer followed by 3 dense layer with ReLU activation units and the output layer which had the sigmoid activation unit. This model gave accuracy of 99.19%.\n",
    "\n",
    "\n",
    "[3] The third model consisted of 5 convolutions with the kernel size of 3x3 with the maxpooling at the very end of the convolutions, it was followed by 4 dense layers with ReLU activation units and the output layer which had the sigmoid activation unit. This model gave accuracy of 99.50%.\n",
    "\n",
    "\n",
    "#### From the above comparison of the models in terms of accuracy it can be seen that the 3rd model performed better although the difference in the metric as compared to the other two models is very minute."
   ]
  }
 ],
 "metadata": {
  "accelerator": "GPU",
  "colab": {
   "collapsed_sections": [],
   "name": "CNN_Assignment",
   "provenance": [],
   "version": "0.3.2"
  },
  "kernelspec": {
   "display_name": "Python 3",
   "language": "python",
   "name": "python3"
  },
  "language_info": {
   "codemirror_mode": {
    "name": "ipython",
    "version": 3
   },
   "file_extension": ".py",
   "mimetype": "text/x-python",
   "name": "python",
   "nbconvert_exporter": "python",
   "pygments_lexer": "ipython3",
   "version": "3.6.4"
  }
 },
 "nbformat": 4,
 "nbformat_minor": 1
}
