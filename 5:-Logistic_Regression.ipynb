{
 "cells": [
  {
   "cell_type": "markdown",
   "metadata": {},
   "source": [
    "# Logistic Regression"
   ]
  },
  {
   "cell_type": "code",
   "execution_count": 1,
   "metadata": {},
   "outputs": [
    {
     "name": "stderr",
     "output_type": "stream",
     "text": [
      "/home/blurryface/anaconda3/lib/python3.6/site-packages/sklearn/cross_validation.py:41: DeprecationWarning: This module was deprecated in version 0.18 in favor of the model_selection module into which all the refactored classes and functions are moved. Also note that the interface of the new CV iterators are different from that of this module. This module will be removed in 0.20.\n",
      "  \"This module will be removed in 0.20.\", DeprecationWarning)\n"
     ]
    }
   ],
   "source": [
    "#importing the required libraries\n",
    "%matplotlib inline\n",
    "import warnings\n",
    "warnings.filterwarnings('ignore')\n",
    "import numpy as np\n",
    "import matplotlib.pyplot as plt\n",
    "from matplotlib.ticker import FuncFormatter\n",
    "import seaborn as sns\n",
    "import pandas as pd\n",
    "import sqlite3\n",
    "from sklearn.feature_extraction.text import TfidfTransformer\n",
    "from sklearn.feature_extraction.text import TfidfVectorizer\n",
    "import nltk\n",
    "from sklearn.feature_extraction.text import CountVectorizer\n",
    "from sklearn.preprocessing import StandardScaler\n",
    "from sklearn.metrics import roc_auc_score\n",
    "from scipy.linalg import eigh\n",
    "import re\n",
    "from gensim.models import word2vec\n",
    "import pickle\n",
    "from gensim.models import KeyedVectors\n",
    "import string\n",
    "from nltk.corpus import stopwords\n",
    "from nltk.stem.wordnet import WordNetLemmatizer\n",
    "from gensim.models import Word2Vec\n",
    "from sklearn import decomposition\n",
    "pca = decomposition.PCA()\n",
    "from sklearn.manifold import TSNE\n",
    "from scipy.sparse import csc_matrix\n",
    "from scipy.sparse import csr_matrix\n",
    "from scipy.sparse import lil_matrix\n",
    "from tqdm import tqdm\n",
    "import string\n",
    "from sklearn.linear_model import LogisticRegression\n",
    "from sklearn.cross_validation import cross_val_score\n",
    "from collections import Counter\n",
    "from sklearn.metrics import accuracy_score\n",
    "from sklearn import cross_validation\n",
    "from sklearn.model_selection import TimeSeriesSplit\n",
    "from sklearn.preprocessing import label_binarize\n",
    "from prettytable import PrettyTable\n",
    "from sklearn.metrics import confusion_matrix\n",
    "from sklearn.metrics import classification_report\n",
    "from sklearn.metrics import f1_score\n",
    "from sklearn.metrics import roc_curve, auc\n",
    "from sklearn.decomposition import TruncatedSVD\n",
    "from sklearn.utils import resample\n",
    "from sklearn.model_selection import ParameterGrid\n",
    "from sklearn.model_selection import RandomizedSearchCV\n",
    "from sklearn.model_selection import GridSearchCV\n",
    "import copy"
   ]
  },
  {
   "cell_type": "code",
   "execution_count": 5,
   "metadata": {},
   "outputs": [],
   "source": [
    "#loading the data through sqlite and preprocesing it a little bit.\n",
    "temp = sqlite3.connect('database.sqlite')\n",
    "temp = pd.read_sql_query(\"\"\"SELECT * FROM Reviews WHERE SCORE != 3\"\"\", temp)\n",
    "def partiton(x):\n",
    "    if x > 3:\n",
    "        return 'positive'\n",
    "    else:\n",
    "        return 'negative'\n",
    "score = temp['Score']\n",
    "positive_negative = score.map(partiton)\n",
    "temp['Score'] = positive_negative"
   ]
  },
  {
   "cell_type": "code",
   "execution_count": 6,
   "metadata": {},
   "outputs": [
    {
     "data": {
      "text/html": [
       "<div>\n",
       "<style scoped>\n",
       "    .dataframe tbody tr th:only-of-type {\n",
       "        vertical-align: middle;\n",
       "    }\n",
       "\n",
       "    .dataframe tbody tr th {\n",
       "        vertical-align: top;\n",
       "    }\n",
       "\n",
       "    .dataframe thead th {\n",
       "        text-align: right;\n",
       "    }\n",
       "</style>\n",
       "<table border=\"1\" class=\"dataframe\">\n",
       "  <thead>\n",
       "    <tr style=\"text-align: right;\">\n",
       "      <th></th>\n",
       "      <th>Id</th>\n",
       "      <th>ProductId</th>\n",
       "      <th>UserId</th>\n",
       "      <th>ProfileName</th>\n",
       "      <th>HelpfulnessNumerator</th>\n",
       "      <th>HelpfulnessDenominator</th>\n",
       "      <th>Score</th>\n",
       "      <th>Time</th>\n",
       "      <th>Summary</th>\n",
       "      <th>Text</th>\n",
       "    </tr>\n",
       "  </thead>\n",
       "  <tbody>\n",
       "    <tr>\n",
       "      <th>138706</th>\n",
       "      <td>150524</td>\n",
       "      <td>0006641040</td>\n",
       "      <td>ACITT7DI6IDDL</td>\n",
       "      <td>shari zychinski</td>\n",
       "      <td>0</td>\n",
       "      <td>0</td>\n",
       "      <td>positive</td>\n",
       "      <td>939340800</td>\n",
       "      <td>EVERY book is educational</td>\n",
       "      <td>this witty little book makes my son laugh at l...</td>\n",
       "    </tr>\n",
       "    <tr>\n",
       "      <th>138683</th>\n",
       "      <td>150501</td>\n",
       "      <td>0006641040</td>\n",
       "      <td>AJ46FKXOVC7NR</td>\n",
       "      <td>Nicholas A Mesiano</td>\n",
       "      <td>2</td>\n",
       "      <td>2</td>\n",
       "      <td>positive</td>\n",
       "      <td>940809600</td>\n",
       "      <td>This whole series is great way to spend time w...</td>\n",
       "      <td>I can remember seeing the show when it aired o...</td>\n",
       "    </tr>\n",
       "    <tr>\n",
       "      <th>417839</th>\n",
       "      <td>451856</td>\n",
       "      <td>B00004CXX9</td>\n",
       "      <td>AIUWLEQ1ADEG5</td>\n",
       "      <td>Elizabeth Medina</td>\n",
       "      <td>0</td>\n",
       "      <td>0</td>\n",
       "      <td>positive</td>\n",
       "      <td>944092800</td>\n",
       "      <td>Entertainingl Funny!</td>\n",
       "      <td>Beetlejuice is a well written movie ..... ever...</td>\n",
       "    </tr>\n",
       "    <tr>\n",
       "      <th>417859</th>\n",
       "      <td>451878</td>\n",
       "      <td>B00004CXX9</td>\n",
       "      <td>A344SMIA5JECGM</td>\n",
       "      <td>Vincent P. Ross</td>\n",
       "      <td>1</td>\n",
       "      <td>2</td>\n",
       "      <td>positive</td>\n",
       "      <td>944438400</td>\n",
       "      <td>A modern day fairy tale</td>\n",
       "      <td>A twist of rumplestiskin captured on film, sta...</td>\n",
       "    </tr>\n",
       "    <tr>\n",
       "      <th>212472</th>\n",
       "      <td>230285</td>\n",
       "      <td>B00004RYGX</td>\n",
       "      <td>A344SMIA5JECGM</td>\n",
       "      <td>Vincent P. Ross</td>\n",
       "      <td>1</td>\n",
       "      <td>2</td>\n",
       "      <td>positive</td>\n",
       "      <td>944438400</td>\n",
       "      <td>A modern day fairy tale</td>\n",
       "      <td>A twist of rumplestiskin captured on film, sta...</td>\n",
       "    </tr>\n",
       "  </tbody>\n",
       "</table>\n",
       "</div>"
      ],
      "text/plain": [
       "            Id   ProductId          UserId         ProfileName  \\\n",
       "138706  150524  0006641040   ACITT7DI6IDDL     shari zychinski   \n",
       "138683  150501  0006641040   AJ46FKXOVC7NR  Nicholas A Mesiano   \n",
       "417839  451856  B00004CXX9   AIUWLEQ1ADEG5    Elizabeth Medina   \n",
       "417859  451878  B00004CXX9  A344SMIA5JECGM     Vincent P. Ross   \n",
       "212472  230285  B00004RYGX  A344SMIA5JECGM     Vincent P. Ross   \n",
       "\n",
       "        HelpfulnessNumerator  HelpfulnessDenominator     Score       Time  \\\n",
       "138706                     0                       0  positive  939340800   \n",
       "138683                     2                       2  positive  940809600   \n",
       "417839                     0                       0  positive  944092800   \n",
       "417859                     1                       2  positive  944438400   \n",
       "212472                     1                       2  positive  944438400   \n",
       "\n",
       "                                                  Summary  \\\n",
       "138706                          EVERY book is educational   \n",
       "138683  This whole series is great way to spend time w...   \n",
       "417839                               Entertainingl Funny!   \n",
       "417859                            A modern day fairy tale   \n",
       "212472                            A modern day fairy tale   \n",
       "\n",
       "                                                     Text  \n",
       "138706  this witty little book makes my son laugh at l...  \n",
       "138683  I can remember seeing the show when it aired o...  \n",
       "417839  Beetlejuice is a well written movie ..... ever...  \n",
       "417859  A twist of rumplestiskin captured on film, sta...  \n",
       "212472  A twist of rumplestiskin captured on film, sta...  "
      ]
     },
     "execution_count": 6,
     "metadata": {},
     "output_type": "execute_result"
    }
   ],
   "source": [
    "#sorting the data in ascending order according to the time stamp\n",
    "temp.sort_values('Time', inplace=True)\n",
    "temp.head()"
   ]
  },
  {
   "cell_type": "code",
   "execution_count": 7,
   "metadata": {},
   "outputs": [
    {
     "data": {
      "text/plain": [
       "(364173, 10)"
      ]
     },
     "execution_count": 7,
     "metadata": {},
     "output_type": "execute_result"
    }
   ],
   "source": [
    "#getting rid of the duplicates\n",
    "final = temp.drop_duplicates(subset={\"UserId\",\"ProfileName\",\"Time\",\"Text\"}, keep='first', inplace=False)\n",
    "final.shape"
   ]
  },
  {
   "cell_type": "code",
   "execution_count": 8,
   "metadata": {},
   "outputs": [
    {
     "data": {
      "text/html": [
       "<div>\n",
       "<style scoped>\n",
       "    .dataframe tbody tr th:only-of-type {\n",
       "        vertical-align: middle;\n",
       "    }\n",
       "\n",
       "    .dataframe tbody tr th {\n",
       "        vertical-align: top;\n",
       "    }\n",
       "\n",
       "    .dataframe thead th {\n",
       "        text-align: right;\n",
       "    }\n",
       "</style>\n",
       "<table border=\"1\" class=\"dataframe\">\n",
       "  <thead>\n",
       "    <tr style=\"text-align: right;\">\n",
       "      <th></th>\n",
       "      <th>Id</th>\n",
       "      <th>ProductId</th>\n",
       "      <th>UserId</th>\n",
       "      <th>ProfileName</th>\n",
       "      <th>HelpfulnessNumerator</th>\n",
       "      <th>HelpfulnessDenominator</th>\n",
       "      <th>Score</th>\n",
       "      <th>Time</th>\n",
       "      <th>Summary</th>\n",
       "      <th>Text</th>\n",
       "    </tr>\n",
       "  </thead>\n",
       "  <tbody>\n",
       "    <tr>\n",
       "      <th>138706</th>\n",
       "      <td>150524</td>\n",
       "      <td>0006641040</td>\n",
       "      <td>ACITT7DI6IDDL</td>\n",
       "      <td>shari zychinski</td>\n",
       "      <td>0</td>\n",
       "      <td>0</td>\n",
       "      <td>positive</td>\n",
       "      <td>939340800</td>\n",
       "      <td>EVERY book is educational</td>\n",
       "      <td>this witty little book makes my son laugh at l...</td>\n",
       "    </tr>\n",
       "    <tr>\n",
       "      <th>138683</th>\n",
       "      <td>150501</td>\n",
       "      <td>0006641040</td>\n",
       "      <td>AJ46FKXOVC7NR</td>\n",
       "      <td>Nicholas A Mesiano</td>\n",
       "      <td>2</td>\n",
       "      <td>2</td>\n",
       "      <td>positive</td>\n",
       "      <td>940809600</td>\n",
       "      <td>This whole series is great way to spend time w...</td>\n",
       "      <td>I can remember seeing the show when it aired o...</td>\n",
       "    </tr>\n",
       "    <tr>\n",
       "      <th>417839</th>\n",
       "      <td>451856</td>\n",
       "      <td>B00004CXX9</td>\n",
       "      <td>AIUWLEQ1ADEG5</td>\n",
       "      <td>Elizabeth Medina</td>\n",
       "      <td>0</td>\n",
       "      <td>0</td>\n",
       "      <td>positive</td>\n",
       "      <td>944092800</td>\n",
       "      <td>Entertainingl Funny!</td>\n",
       "      <td>Beetlejuice is a well written movie ..... ever...</td>\n",
       "    </tr>\n",
       "    <tr>\n",
       "      <th>417859</th>\n",
       "      <td>451878</td>\n",
       "      <td>B00004CXX9</td>\n",
       "      <td>A344SMIA5JECGM</td>\n",
       "      <td>Vincent P. Ross</td>\n",
       "      <td>1</td>\n",
       "      <td>2</td>\n",
       "      <td>positive</td>\n",
       "      <td>944438400</td>\n",
       "      <td>A modern day fairy tale</td>\n",
       "      <td>A twist of rumplestiskin captured on film, sta...</td>\n",
       "    </tr>\n",
       "    <tr>\n",
       "      <th>417838</th>\n",
       "      <td>451855</td>\n",
       "      <td>B00004CXX9</td>\n",
       "      <td>AJH6LUC1UT1ON</td>\n",
       "      <td>The Phantom of the Opera</td>\n",
       "      <td>0</td>\n",
       "      <td>0</td>\n",
       "      <td>positive</td>\n",
       "      <td>946857600</td>\n",
       "      <td>FANTASTIC!</td>\n",
       "      <td>Beetlejuice is an excellent and funny movie. K...</td>\n",
       "    </tr>\n",
       "  </tbody>\n",
       "</table>\n",
       "</div>"
      ],
      "text/plain": [
       "            Id   ProductId          UserId               ProfileName  \\\n",
       "138706  150524  0006641040   ACITT7DI6IDDL           shari zychinski   \n",
       "138683  150501  0006641040   AJ46FKXOVC7NR        Nicholas A Mesiano   \n",
       "417839  451856  B00004CXX9   AIUWLEQ1ADEG5          Elizabeth Medina   \n",
       "417859  451878  B00004CXX9  A344SMIA5JECGM           Vincent P. Ross   \n",
       "417838  451855  B00004CXX9   AJH6LUC1UT1ON  The Phantom of the Opera   \n",
       "\n",
       "        HelpfulnessNumerator  HelpfulnessDenominator     Score       Time  \\\n",
       "138706                     0                       0  positive  939340800   \n",
       "138683                     2                       2  positive  940809600   \n",
       "417839                     0                       0  positive  944092800   \n",
       "417859                     1                       2  positive  944438400   \n",
       "417838                     0                       0  positive  946857600   \n",
       "\n",
       "                                                  Summary  \\\n",
       "138706                          EVERY book is educational   \n",
       "138683  This whole series is great way to spend time w...   \n",
       "417839                               Entertainingl Funny!   \n",
       "417859                            A modern day fairy tale   \n",
       "417838                                         FANTASTIC!   \n",
       "\n",
       "                                                     Text  \n",
       "138706  this witty little book makes my son laugh at l...  \n",
       "138683  I can remember seeing the show when it aired o...  \n",
       "417839  Beetlejuice is a well written movie ..... ever...  \n",
       "417859  A twist of rumplestiskin captured on film, sta...  \n",
       "417838  Beetlejuice is an excellent and funny movie. K...  "
      ]
     },
     "execution_count": 8,
     "metadata": {},
     "output_type": "execute_result"
    }
   ],
   "source": [
    "#Removing all the points where Denominator < Numerator\n",
    "final = final[final.HelpfulnessNumerator <= final.HelpfulnessDenominator]\n",
    "final.head()"
   ]
  },
  {
   "cell_type": "code",
   "execution_count": 9,
   "metadata": {},
   "outputs": [
    {
     "data": {
      "text/plain": [
       "(364171, 10)"
      ]
     },
     "execution_count": 9,
     "metadata": {},
     "output_type": "execute_result"
    }
   ],
   "source": [
    "final.shape"
   ]
  },
  {
   "cell_type": "code",
   "execution_count": 11,
   "metadata": {},
   "outputs": [],
   "source": [
    "final = final.iloc[: 60000, :]"
   ]
  },
  {
   "cell_type": "code",
   "execution_count": 12,
   "metadata": {},
   "outputs": [
    {
     "data": {
      "text/plain": [
       "(60000, 10)"
      ]
     },
     "execution_count": 12,
     "metadata": {},
     "output_type": "execute_result"
    }
   ],
   "source": [
    "final.shape"
   ]
  },
  {
   "cell_type": "markdown",
   "metadata": {},
   "source": [
    "# Text Preprocessing: Stemming, stop-word removal and Lemmatization."
   ]
  },
  {
   "cell_type": "markdown",
   "metadata": {},
   "source": [
    "#### Doing the text processing for text as well as summary of the review"
   ]
  },
  {
   "cell_type": "code",
   "execution_count": 11,
   "metadata": {},
   "outputs": [],
   "source": [
    "stop = set(stopwords.words('english'))\n",
    "sno = nltk.stem.SnowballStemmer('english')\n",
    "def clean_html(sentence):\n",
    "    clean = re.compile('<.*?>')\n",
    "    cleantext = re.sub(clean, ' ', sentence)\n",
    "    return cleantext\n",
    "def clean_punctuation(sentence):\n",
    "    cleaned = re.sub(r'[?|!|\\'|\"|#]',r'',sentence)\n",
    "    cleaned = re.sub(r'[.|,|)|(|\\|/]',r' ',cleaned)\n",
    "    return cleaned"
   ]
  },
  {
   "cell_type": "code",
   "execution_count": 14,
   "metadata": {},
   "outputs": [
    {
     "name": "stderr",
     "output_type": "stream",
     "text": [
      "100%|██████████| 60000/60000 [00:55<00:00, 1089.90it/s]\n"
     ]
    }
   ],
   "source": [
    "i=0\n",
    "strl = ' '\n",
    "final_string = []\n",
    "all_positive_words = []\n",
    "all_negative_words = []\n",
    "s = ''\n",
    "for sent in tqdm(final['Text'].values):\n",
    "    sent = clean_html(sent)\n",
    "    filtered_sentence = []\n",
    "    for w in sent.split():\n",
    "        for cleaned_words in clean_punctuation(w).split():\n",
    "            if ((cleaned_words.isalpha()) & (len(cleaned_words) > 2)):\n",
    "                if (cleaned_words.lower() not in stop):\n",
    "                    s=(sno.stem(cleaned_words.lower())).encode('utf8')\n",
    "                    filtered_sentence.append(s)\n",
    "                    if (final['Score'].values)[i] == 'positive': \n",
    "                        all_positive_words.append(s) \n",
    "                    if(final['Score'].values)[i] == 'negative':\n",
    "                        all_negative_words.append(s) \n",
    "                else:\n",
    "                    continue\n",
    "            else:\n",
    "                continue \n",
    "    str1 = b\" \".join(filtered_sentence) \n",
    "    \n",
    "    final_string.append(str1)\n",
    "    i+=1"
   ]
  },
  {
   "cell_type": "code",
   "execution_count": 15,
   "metadata": {},
   "outputs": [],
   "source": [
    "final['CleanedText']=final_string \n",
    "final['CleanedText']=final['CleanedText'].str.decode(\"utf-8\")"
   ]
  },
  {
   "cell_type": "code",
   "execution_count": 16,
   "metadata": {},
   "outputs": [
    {
     "data": {
      "text/html": [
       "<div>\n",
       "<style scoped>\n",
       "    .dataframe tbody tr th:only-of-type {\n",
       "        vertical-align: middle;\n",
       "    }\n",
       "\n",
       "    .dataframe tbody tr th {\n",
       "        vertical-align: top;\n",
       "    }\n",
       "\n",
       "    .dataframe thead th {\n",
       "        text-align: right;\n",
       "    }\n",
       "</style>\n",
       "<table border=\"1\" class=\"dataframe\">\n",
       "  <thead>\n",
       "    <tr style=\"text-align: right;\">\n",
       "      <th></th>\n",
       "      <th>Id</th>\n",
       "      <th>ProductId</th>\n",
       "      <th>UserId</th>\n",
       "      <th>ProfileName</th>\n",
       "      <th>HelpfulnessNumerator</th>\n",
       "      <th>HelpfulnessDenominator</th>\n",
       "      <th>Score</th>\n",
       "      <th>Time</th>\n",
       "      <th>Summary</th>\n",
       "      <th>Text</th>\n",
       "      <th>CleanedText</th>\n",
       "    </tr>\n",
       "  </thead>\n",
       "  <tbody>\n",
       "    <tr>\n",
       "      <th>138706</th>\n",
       "      <td>150524</td>\n",
       "      <td>0006641040</td>\n",
       "      <td>ACITT7DI6IDDL</td>\n",
       "      <td>shari zychinski</td>\n",
       "      <td>0</td>\n",
       "      <td>0</td>\n",
       "      <td>positive</td>\n",
       "      <td>939340800</td>\n",
       "      <td>EVERY book is educational</td>\n",
       "      <td>this witty little book makes my son laugh at l...</td>\n",
       "      <td>witti littl book make son laugh loud recit car...</td>\n",
       "    </tr>\n",
       "    <tr>\n",
       "      <th>138683</th>\n",
       "      <td>150501</td>\n",
       "      <td>0006641040</td>\n",
       "      <td>AJ46FKXOVC7NR</td>\n",
       "      <td>Nicholas A Mesiano</td>\n",
       "      <td>2</td>\n",
       "      <td>2</td>\n",
       "      <td>positive</td>\n",
       "      <td>940809600</td>\n",
       "      <td>This whole series is great way to spend time w...</td>\n",
       "      <td>I can remember seeing the show when it aired o...</td>\n",
       "      <td>rememb see show air televis year ago child sis...</td>\n",
       "    </tr>\n",
       "    <tr>\n",
       "      <th>417839</th>\n",
       "      <td>451856</td>\n",
       "      <td>B00004CXX9</td>\n",
       "      <td>AIUWLEQ1ADEG5</td>\n",
       "      <td>Elizabeth Medina</td>\n",
       "      <td>0</td>\n",
       "      <td>0</td>\n",
       "      <td>positive</td>\n",
       "      <td>944092800</td>\n",
       "      <td>Entertainingl Funny!</td>\n",
       "      <td>Beetlejuice is a well written movie ..... ever...</td>\n",
       "      <td>beetlejuic well written movi everyth excel act...</td>\n",
       "    </tr>\n",
       "    <tr>\n",
       "      <th>417859</th>\n",
       "      <td>451878</td>\n",
       "      <td>B00004CXX9</td>\n",
       "      <td>A344SMIA5JECGM</td>\n",
       "      <td>Vincent P. Ross</td>\n",
       "      <td>1</td>\n",
       "      <td>2</td>\n",
       "      <td>positive</td>\n",
       "      <td>944438400</td>\n",
       "      <td>A modern day fairy tale</td>\n",
       "      <td>A twist of rumplestiskin captured on film, sta...</td>\n",
       "      <td>twist rumplestiskin captur film star michael k...</td>\n",
       "    </tr>\n",
       "    <tr>\n",
       "      <th>417838</th>\n",
       "      <td>451855</td>\n",
       "      <td>B00004CXX9</td>\n",
       "      <td>AJH6LUC1UT1ON</td>\n",
       "      <td>The Phantom of the Opera</td>\n",
       "      <td>0</td>\n",
       "      <td>0</td>\n",
       "      <td>positive</td>\n",
       "      <td>946857600</td>\n",
       "      <td>FANTASTIC!</td>\n",
       "      <td>Beetlejuice is an excellent and funny movie. K...</td>\n",
       "      <td>beetlejuic excel funni movi keaton hilari wack...</td>\n",
       "    </tr>\n",
       "  </tbody>\n",
       "</table>\n",
       "</div>"
      ],
      "text/plain": [
       "            Id   ProductId          UserId               ProfileName  \\\n",
       "138706  150524  0006641040   ACITT7DI6IDDL           shari zychinski   \n",
       "138683  150501  0006641040   AJ46FKXOVC7NR        Nicholas A Mesiano   \n",
       "417839  451856  B00004CXX9   AIUWLEQ1ADEG5          Elizabeth Medina   \n",
       "417859  451878  B00004CXX9  A344SMIA5JECGM           Vincent P. Ross   \n",
       "417838  451855  B00004CXX9   AJH6LUC1UT1ON  The Phantom of the Opera   \n",
       "\n",
       "        HelpfulnessNumerator  HelpfulnessDenominator     Score       Time  \\\n",
       "138706                     0                       0  positive  939340800   \n",
       "138683                     2                       2  positive  940809600   \n",
       "417839                     0                       0  positive  944092800   \n",
       "417859                     1                       2  positive  944438400   \n",
       "417838                     0                       0  positive  946857600   \n",
       "\n",
       "                                                  Summary  \\\n",
       "138706                          EVERY book is educational   \n",
       "138683  This whole series is great way to spend time w...   \n",
       "417839                               Entertainingl Funny!   \n",
       "417859                            A modern day fairy tale   \n",
       "417838                                         FANTASTIC!   \n",
       "\n",
       "                                                     Text  \\\n",
       "138706  this witty little book makes my son laugh at l...   \n",
       "138683  I can remember seeing the show when it aired o...   \n",
       "417839  Beetlejuice is a well written movie ..... ever...   \n",
       "417859  A twist of rumplestiskin captured on film, sta...   \n",
       "417838  Beetlejuice is an excellent and funny movie. K...   \n",
       "\n",
       "                                              CleanedText  \n",
       "138706  witti littl book make son laugh loud recit car...  \n",
       "138683  rememb see show air televis year ago child sis...  \n",
       "417839  beetlejuic well written movi everyth excel act...  \n",
       "417859  twist rumplestiskin captur film star michael k...  \n",
       "417838  beetlejuic excel funni movi keaton hilari wack...  "
      ]
     },
     "execution_count": 16,
     "metadata": {},
     "output_type": "execute_result"
    }
   ],
   "source": [
    "final.head(3)\n",
    "conn = sqlite3.connect('final.sqlite')\n",
    "c=conn.cursor()\n",
    "conn.text_factory = str\n",
    "final.to_sql('Reviews', conn,  schema=None, if_exists='replace', index=True, index_label=None, chunksize=None, dtype=None)\n",
    "final.head()"
   ]
  },
  {
   "cell_type": "code",
   "execution_count": 17,
   "metadata": {},
   "outputs": [
    {
     "name": "stderr",
     "output_type": "stream",
     "text": [
      "100%|██████████| 60000/60000 [00:05<00:00, 11322.90it/s]\n"
     ]
    }
   ],
   "source": [
    "i=0\n",
    "strl = ' '\n",
    "final_string = []\n",
    "all_positive_words = []\n",
    "all_negative_words = []\n",
    "s = ''\n",
    "for sent in tqdm(final['Summary'].values):\n",
    "    sent = clean_html(sent)\n",
    "    filtered_sentence = []\n",
    "    for w in sent.split():\n",
    "        for cleaned_words in clean_punctuation(w).split():\n",
    "            if ((cleaned_words.isalpha()) & (len(cleaned_words) > 2)):\n",
    "                if (cleaned_words.lower() not in stop):\n",
    "                    s=(sno.stem(cleaned_words.lower())).encode('utf8')\n",
    "                    filtered_sentence.append(s)\n",
    "                    if (final['Score'].values)[i] == 'positive': \n",
    "                        all_positive_words.append(s) \n",
    "                    if(final['Score'].values)[i] == 'negative':\n",
    "                        all_negative_words.append(s) \n",
    "                else:\n",
    "                    continue\n",
    "            else:\n",
    "                continue \n",
    "    str1 = b\" \".join(filtered_sentence) \n",
    "    \n",
    "    final_string.append(str1)\n",
    "    i+=1"
   ]
  },
  {
   "cell_type": "code",
   "execution_count": 18,
   "metadata": {},
   "outputs": [],
   "source": [
    "final['CleanedSummary']=final_string \n",
    "final['CleanedSummary']=final['CleanedSummary'].str.decode(\"utf-8\")"
   ]
  },
  {
   "cell_type": "code",
   "execution_count": 19,
   "metadata": {},
   "outputs": [
    {
     "data": {
      "text/html": [
       "<div>\n",
       "<style scoped>\n",
       "    .dataframe tbody tr th:only-of-type {\n",
       "        vertical-align: middle;\n",
       "    }\n",
       "\n",
       "    .dataframe tbody tr th {\n",
       "        vertical-align: top;\n",
       "    }\n",
       "\n",
       "    .dataframe thead th {\n",
       "        text-align: right;\n",
       "    }\n",
       "</style>\n",
       "<table border=\"1\" class=\"dataframe\">\n",
       "  <thead>\n",
       "    <tr style=\"text-align: right;\">\n",
       "      <th></th>\n",
       "      <th>Id</th>\n",
       "      <th>ProductId</th>\n",
       "      <th>UserId</th>\n",
       "      <th>ProfileName</th>\n",
       "      <th>HelpfulnessNumerator</th>\n",
       "      <th>HelpfulnessDenominator</th>\n",
       "      <th>Score</th>\n",
       "      <th>Time</th>\n",
       "      <th>Summary</th>\n",
       "      <th>Text</th>\n",
       "      <th>CleanedText</th>\n",
       "      <th>CleanedSummary</th>\n",
       "    </tr>\n",
       "  </thead>\n",
       "  <tbody>\n",
       "    <tr>\n",
       "      <th>138706</th>\n",
       "      <td>150524</td>\n",
       "      <td>0006641040</td>\n",
       "      <td>ACITT7DI6IDDL</td>\n",
       "      <td>shari zychinski</td>\n",
       "      <td>0</td>\n",
       "      <td>0</td>\n",
       "      <td>positive</td>\n",
       "      <td>939340800</td>\n",
       "      <td>EVERY book is educational</td>\n",
       "      <td>this witty little book makes my son laugh at l...</td>\n",
       "      <td>witti littl book make son laugh loud recit car...</td>\n",
       "      <td>everi book educ</td>\n",
       "    </tr>\n",
       "    <tr>\n",
       "      <th>138683</th>\n",
       "      <td>150501</td>\n",
       "      <td>0006641040</td>\n",
       "      <td>AJ46FKXOVC7NR</td>\n",
       "      <td>Nicholas A Mesiano</td>\n",
       "      <td>2</td>\n",
       "      <td>2</td>\n",
       "      <td>positive</td>\n",
       "      <td>940809600</td>\n",
       "      <td>This whole series is great way to spend time w...</td>\n",
       "      <td>I can remember seeing the show when it aired o...</td>\n",
       "      <td>rememb see show air televis year ago child sis...</td>\n",
       "      <td>whole seri great way spend time child</td>\n",
       "    </tr>\n",
       "    <tr>\n",
       "      <th>417839</th>\n",
       "      <td>451856</td>\n",
       "      <td>B00004CXX9</td>\n",
       "      <td>AIUWLEQ1ADEG5</td>\n",
       "      <td>Elizabeth Medina</td>\n",
       "      <td>0</td>\n",
       "      <td>0</td>\n",
       "      <td>positive</td>\n",
       "      <td>944092800</td>\n",
       "      <td>Entertainingl Funny!</td>\n",
       "      <td>Beetlejuice is a well written movie ..... ever...</td>\n",
       "      <td>beetlejuic well written movi everyth excel act...</td>\n",
       "      <td>entertainingl funni</td>\n",
       "    </tr>\n",
       "    <tr>\n",
       "      <th>417859</th>\n",
       "      <td>451878</td>\n",
       "      <td>B00004CXX9</td>\n",
       "      <td>A344SMIA5JECGM</td>\n",
       "      <td>Vincent P. Ross</td>\n",
       "      <td>1</td>\n",
       "      <td>2</td>\n",
       "      <td>positive</td>\n",
       "      <td>944438400</td>\n",
       "      <td>A modern day fairy tale</td>\n",
       "      <td>A twist of rumplestiskin captured on film, sta...</td>\n",
       "      <td>twist rumplestiskin captur film star michael k...</td>\n",
       "      <td>modern day fairi tale</td>\n",
       "    </tr>\n",
       "    <tr>\n",
       "      <th>417838</th>\n",
       "      <td>451855</td>\n",
       "      <td>B00004CXX9</td>\n",
       "      <td>AJH6LUC1UT1ON</td>\n",
       "      <td>The Phantom of the Opera</td>\n",
       "      <td>0</td>\n",
       "      <td>0</td>\n",
       "      <td>positive</td>\n",
       "      <td>946857600</td>\n",
       "      <td>FANTASTIC!</td>\n",
       "      <td>Beetlejuice is an excellent and funny movie. K...</td>\n",
       "      <td>beetlejuic excel funni movi keaton hilari wack...</td>\n",
       "      <td>fantast</td>\n",
       "    </tr>\n",
       "  </tbody>\n",
       "</table>\n",
       "</div>"
      ],
      "text/plain": [
       "            Id   ProductId          UserId               ProfileName  \\\n",
       "138706  150524  0006641040   ACITT7DI6IDDL           shari zychinski   \n",
       "138683  150501  0006641040   AJ46FKXOVC7NR        Nicholas A Mesiano   \n",
       "417839  451856  B00004CXX9   AIUWLEQ1ADEG5          Elizabeth Medina   \n",
       "417859  451878  B00004CXX9  A344SMIA5JECGM           Vincent P. Ross   \n",
       "417838  451855  B00004CXX9   AJH6LUC1UT1ON  The Phantom of the Opera   \n",
       "\n",
       "        HelpfulnessNumerator  HelpfulnessDenominator     Score       Time  \\\n",
       "138706                     0                       0  positive  939340800   \n",
       "138683                     2                       2  positive  940809600   \n",
       "417839                     0                       0  positive  944092800   \n",
       "417859                     1                       2  positive  944438400   \n",
       "417838                     0                       0  positive  946857600   \n",
       "\n",
       "                                                  Summary  \\\n",
       "138706                          EVERY book is educational   \n",
       "138683  This whole series is great way to spend time w...   \n",
       "417839                               Entertainingl Funny!   \n",
       "417859                            A modern day fairy tale   \n",
       "417838                                         FANTASTIC!   \n",
       "\n",
       "                                                     Text  \\\n",
       "138706  this witty little book makes my son laugh at l...   \n",
       "138683  I can remember seeing the show when it aired o...   \n",
       "417839  Beetlejuice is a well written movie ..... ever...   \n",
       "417859  A twist of rumplestiskin captured on film, sta...   \n",
       "417838  Beetlejuice is an excellent and funny movie. K...   \n",
       "\n",
       "                                              CleanedText  \\\n",
       "138706  witti littl book make son laugh loud recit car...   \n",
       "138683  rememb see show air televis year ago child sis...   \n",
       "417839  beetlejuic well written movi everyth excel act...   \n",
       "417859  twist rumplestiskin captur film star michael k...   \n",
       "417838  beetlejuic excel funni movi keaton hilari wack...   \n",
       "\n",
       "                               CleanedSummary  \n",
       "138706                        everi book educ  \n",
       "138683  whole seri great way spend time child  \n",
       "417839                    entertainingl funni  \n",
       "417859                  modern day fairi tale  \n",
       "417838                                fantast  "
      ]
     },
     "execution_count": 19,
     "metadata": {},
     "output_type": "execute_result"
    }
   ],
   "source": [
    "final.head(3)\n",
    "conn = sqlite3.connect('final.sqlite')\n",
    "c=conn.cursor()\n",
    "conn.text_factory = str\n",
    "final.to_sql('Reviews', conn,  schema=None, if_exists='replace', index=True, index_label=None, chunksize=None, dtype=None)\n",
    "final.head()"
   ]
  },
  {
   "cell_type": "code",
   "execution_count": 20,
   "metadata": {},
   "outputs": [],
   "source": [
    "#Saving the cleaned data for future assignments\n",
    "clean_data = open(\"clean_data_1.pickle\", \"wb\")\n",
    "pickle.dump(final, clean_data)\n",
    "clean_data.close()"
   ]
  },
  {
   "cell_type": "code",
   "execution_count": 2,
   "metadata": {},
   "outputs": [],
   "source": [
    "pickle_in = open(\"clean_data_1.pickle\", \"rb\")\n",
    "final = pickle.load(pickle_in)"
   ]
  },
  {
   "cell_type": "code",
   "execution_count": 3,
   "metadata": {},
   "outputs": [
    {
     "data": {
      "text/html": [
       "<div>\n",
       "<style scoped>\n",
       "    .dataframe tbody tr th:only-of-type {\n",
       "        vertical-align: middle;\n",
       "    }\n",
       "\n",
       "    .dataframe tbody tr th {\n",
       "        vertical-align: top;\n",
       "    }\n",
       "\n",
       "    .dataframe thead th {\n",
       "        text-align: right;\n",
       "    }\n",
       "</style>\n",
       "<table border=\"1\" class=\"dataframe\">\n",
       "  <thead>\n",
       "    <tr style=\"text-align: right;\">\n",
       "      <th></th>\n",
       "      <th>Id</th>\n",
       "      <th>ProductId</th>\n",
       "      <th>UserId</th>\n",
       "      <th>ProfileName</th>\n",
       "      <th>HelpfulnessNumerator</th>\n",
       "      <th>HelpfulnessDenominator</th>\n",
       "      <th>Score</th>\n",
       "      <th>Time</th>\n",
       "      <th>Summary</th>\n",
       "      <th>Text</th>\n",
       "      <th>CleanedText</th>\n",
       "      <th>CleanedSummary</th>\n",
       "    </tr>\n",
       "  </thead>\n",
       "  <tbody>\n",
       "    <tr>\n",
       "      <th>138706</th>\n",
       "      <td>150524</td>\n",
       "      <td>0006641040</td>\n",
       "      <td>ACITT7DI6IDDL</td>\n",
       "      <td>shari zychinski</td>\n",
       "      <td>0</td>\n",
       "      <td>0</td>\n",
       "      <td>positive</td>\n",
       "      <td>939340800</td>\n",
       "      <td>EVERY book is educational</td>\n",
       "      <td>this witty little book makes my son laugh at l...</td>\n",
       "      <td>witti littl book make son laugh loud recit car...</td>\n",
       "      <td>everi book educ</td>\n",
       "    </tr>\n",
       "    <tr>\n",
       "      <th>138683</th>\n",
       "      <td>150501</td>\n",
       "      <td>0006641040</td>\n",
       "      <td>AJ46FKXOVC7NR</td>\n",
       "      <td>Nicholas A Mesiano</td>\n",
       "      <td>2</td>\n",
       "      <td>2</td>\n",
       "      <td>positive</td>\n",
       "      <td>940809600</td>\n",
       "      <td>This whole series is great way to spend time w...</td>\n",
       "      <td>I can remember seeing the show when it aired o...</td>\n",
       "      <td>rememb see show air televis year ago child sis...</td>\n",
       "      <td>whole seri great way spend time child</td>\n",
       "    </tr>\n",
       "    <tr>\n",
       "      <th>417839</th>\n",
       "      <td>451856</td>\n",
       "      <td>B00004CXX9</td>\n",
       "      <td>AIUWLEQ1ADEG5</td>\n",
       "      <td>Elizabeth Medina</td>\n",
       "      <td>0</td>\n",
       "      <td>0</td>\n",
       "      <td>positive</td>\n",
       "      <td>944092800</td>\n",
       "      <td>Entertainingl Funny!</td>\n",
       "      <td>Beetlejuice is a well written movie ..... ever...</td>\n",
       "      <td>beetlejuic well written movi everyth excel act...</td>\n",
       "      <td>entertainingl funni</td>\n",
       "    </tr>\n",
       "    <tr>\n",
       "      <th>417859</th>\n",
       "      <td>451878</td>\n",
       "      <td>B00004CXX9</td>\n",
       "      <td>A344SMIA5JECGM</td>\n",
       "      <td>Vincent P. Ross</td>\n",
       "      <td>1</td>\n",
       "      <td>2</td>\n",
       "      <td>positive</td>\n",
       "      <td>944438400</td>\n",
       "      <td>A modern day fairy tale</td>\n",
       "      <td>A twist of rumplestiskin captured on film, sta...</td>\n",
       "      <td>twist rumplestiskin captur film star michael k...</td>\n",
       "      <td>modern day fairi tale</td>\n",
       "    </tr>\n",
       "    <tr>\n",
       "      <th>417838</th>\n",
       "      <td>451855</td>\n",
       "      <td>B00004CXX9</td>\n",
       "      <td>AJH6LUC1UT1ON</td>\n",
       "      <td>The Phantom of the Opera</td>\n",
       "      <td>0</td>\n",
       "      <td>0</td>\n",
       "      <td>positive</td>\n",
       "      <td>946857600</td>\n",
       "      <td>FANTASTIC!</td>\n",
       "      <td>Beetlejuice is an excellent and funny movie. K...</td>\n",
       "      <td>beetlejuic excel funni movi keaton hilari wack...</td>\n",
       "      <td>fantast</td>\n",
       "    </tr>\n",
       "  </tbody>\n",
       "</table>\n",
       "</div>"
      ],
      "text/plain": [
       "            Id   ProductId          UserId               ProfileName  \\\n",
       "138706  150524  0006641040   ACITT7DI6IDDL           shari zychinski   \n",
       "138683  150501  0006641040   AJ46FKXOVC7NR        Nicholas A Mesiano   \n",
       "417839  451856  B00004CXX9   AIUWLEQ1ADEG5          Elizabeth Medina   \n",
       "417859  451878  B00004CXX9  A344SMIA5JECGM           Vincent P. Ross   \n",
       "417838  451855  B00004CXX9   AJH6LUC1UT1ON  The Phantom of the Opera   \n",
       "\n",
       "        HelpfulnessNumerator  HelpfulnessDenominator     Score       Time  \\\n",
       "138706                     0                       0  positive  939340800   \n",
       "138683                     2                       2  positive  940809600   \n",
       "417839                     0                       0  positive  944092800   \n",
       "417859                     1                       2  positive  944438400   \n",
       "417838                     0                       0  positive  946857600   \n",
       "\n",
       "                                                  Summary  \\\n",
       "138706                          EVERY book is educational   \n",
       "138683  This whole series is great way to spend time w...   \n",
       "417839                               Entertainingl Funny!   \n",
       "417859                            A modern day fairy tale   \n",
       "417838                                         FANTASTIC!   \n",
       "\n",
       "                                                     Text  \\\n",
       "138706  this witty little book makes my son laugh at l...   \n",
       "138683  I can remember seeing the show when it aired o...   \n",
       "417839  Beetlejuice is a well written movie ..... ever...   \n",
       "417859  A twist of rumplestiskin captured on film, sta...   \n",
       "417838  Beetlejuice is an excellent and funny movie. K...   \n",
       "\n",
       "                                              CleanedText  \\\n",
       "138706  witti littl book make son laugh loud recit car...   \n",
       "138683  rememb see show air televis year ago child sis...   \n",
       "417839  beetlejuic well written movi everyth excel act...   \n",
       "417859  twist rumplestiskin captur film star michael k...   \n",
       "417838  beetlejuic excel funni movi keaton hilari wack...   \n",
       "\n",
       "                               CleanedSummary  \n",
       "138706                        everi book educ  \n",
       "138683  whole seri great way spend time child  \n",
       "417839                    entertainingl funni  \n",
       "417859                  modern day fairi tale  \n",
       "417838                                fantast  "
      ]
     },
     "execution_count": 3,
     "metadata": {},
     "output_type": "execute_result"
    }
   ],
   "source": [
    "final.head()"
   ]
  },
  {
   "cell_type": "code",
   "execution_count": 4,
   "metadata": {},
   "outputs": [
    {
     "data": {
      "text/plain": [
       "(60000, 12)"
      ]
     },
     "execution_count": 4,
     "metadata": {},
     "output_type": "execute_result"
    }
   ],
   "source": [
    "final.shape"
   ]
  },
  {
   "cell_type": "code",
   "execution_count": 5,
   "metadata": {},
   "outputs": [
    {
     "data": {
      "text/plain": [
       "(60000,)"
      ]
     },
     "execution_count": 5,
     "metadata": {},
     "output_type": "execute_result"
    }
   ],
   "source": [
    "scores = final['Score'].get_values()\n",
    "li = lambda x: 1 if x=='positive'  else 0\n",
    "final_scores = []\n",
    "for i in range(0,60000):\n",
    "    final_scores.append(li(scores[i]))\n",
    "final_scores = np.asarray(final_scores)\n",
    "final_scores.shape"
   ]
  },
  {
   "cell_type": "code",
   "execution_count": 6,
   "metadata": {},
   "outputs": [
    {
     "name": "stdout",
     "output_type": "stream",
     "text": [
      "positive    53147\n",
      "negative     6853\n",
      "Name: Score, dtype: int64\n"
     ]
    }
   ],
   "source": [
    "print(final['Score'].value_counts())"
   ]
  },
  {
   "cell_type": "markdown",
   "metadata": {},
   "source": [
    "# Dividing the whole data into train, CV and test sets"
   ]
  },
  {
   "cell_type": "code",
   "execution_count": 7,
   "metadata": {},
   "outputs": [
    {
     "name": "stdout",
     "output_type": "stream",
     "text": [
      "(40000, 12)\n",
      "(40000,)\n"
     ]
    }
   ],
   "source": [
    "#train data\n",
    "X_train = final[0: 40000]\n",
    "Y_train = final_scores[0: 40000]\n",
    "print(X_train.shape)\n",
    "print(Y_train.shape)"
   ]
  },
  {
   "cell_type": "code",
   "execution_count": 8,
   "metadata": {},
   "outputs": [
    {
     "name": "stdout",
     "output_type": "stream",
     "text": [
      "(10000, 12)\n",
      "(10000,)\n"
     ]
    }
   ],
   "source": [
    "X_CV = final[40000: 50000]\n",
    "Y_CV = final_scores[40000: 50000]\n",
    "print(X_CV.shape)\n",
    "print(Y_CV.shape)"
   ]
  },
  {
   "cell_type": "code",
   "execution_count": 9,
   "metadata": {},
   "outputs": [
    {
     "name": "stdout",
     "output_type": "stream",
     "text": [
      "(10000, 12)\n",
      "(10000,)\n"
     ]
    }
   ],
   "source": [
    "#test data\n",
    "X_test = final[50000: ]\n",
    "Y_test = final_scores[50000: ]\n",
    "print(X_test.shape)\n",
    "print(Y_test.shape)"
   ]
  },
  {
   "cell_type": "markdown",
   "metadata": {},
   "source": [
    "# BOW"
   ]
  },
  {
   "cell_type": "code",
   "execution_count": 10,
   "metadata": {},
   "outputs": [
    {
     "data": {
      "text/plain": [
       "(40000, 2000)"
      ]
     },
     "execution_count": 10,
     "metadata": {},
     "output_type": "execute_result"
    }
   ],
   "source": [
    "count_vect = CountVectorizer(max_features=2000)\n",
    "X_train_bow = count_vect.fit_transform(X_train['CleanedText'].values)\n",
    "X_train_bow.shape"
   ]
  },
  {
   "cell_type": "code",
   "execution_count": 11,
   "metadata": {},
   "outputs": [],
   "source": [
    "train_bow = open(\"train_bow.pickle\", \"wb\")\n",
    "pickle.dump(X_train_bow, train_bow)\n",
    "train_bow.close()"
   ]
  },
  {
   "cell_type": "code",
   "execution_count": 12,
   "metadata": {},
   "outputs": [
    {
     "data": {
      "text/plain": [
       "(10000, 2000)"
      ]
     },
     "execution_count": 12,
     "metadata": {},
     "output_type": "execute_result"
    }
   ],
   "source": [
    "X_CV_bow = count_vect.transform(X_CV['CleanedText'].values)\n",
    "X_CV_bow.shape"
   ]
  },
  {
   "cell_type": "code",
   "execution_count": 13,
   "metadata": {},
   "outputs": [
    {
     "data": {
      "text/plain": [
       "(10000, 2000)"
      ]
     },
     "execution_count": 13,
     "metadata": {},
     "output_type": "execute_result"
    }
   ],
   "source": [
    "X_test_bow = count_vect.transform(X_test['CleanedText'].values)\n",
    "X_test_bow.shape"
   ]
  },
  {
   "cell_type": "code",
   "execution_count": 14,
   "metadata": {},
   "outputs": [],
   "source": [
    "test_bow = open(\"test_bow.pickle\", \"wb\")\n",
    "pickle.dump(X_test_bow, test_bow)\n",
    "test_bow.close()"
   ]
  },
  {
   "cell_type": "markdown",
   "metadata": {},
   "source": [
    "# Logistic Regression on BOW Vectorizer."
   ]
  },
  {
   "cell_type": "code",
   "execution_count": 15,
   "metadata": {},
   "outputs": [],
   "source": [
    "def scores(x, y):\n",
    "    C= [10**-6, 10**-5, 10**-4, 10**-3, 10**-2, 10**-1, 10**0, 10, 10**2, 10**4]\n",
    "    scores = []\n",
    "    for c in tqdm(C):\n",
    "        LR = LogisticRegression(penalty='l2', C=c, fit_intercept=False, class_weight={1: 1, 0: 5.3})\n",
    "        LR.fit(X_train_bow, Y_train)\n",
    "        pred = LR.predict(x)\n",
    "        auc = roc_auc_score(y, pred)\n",
    "        scores.append(auc)\n",
    "    return scores"
   ]
  },
  {
   "cell_type": "code",
   "execution_count": 16,
   "metadata": {},
   "outputs": [
    {
     "name": "stderr",
     "output_type": "stream",
     "text": [
      "100%|██████████| 10/10 [00:15<00:00,  1.55s/it]\n"
     ]
    }
   ],
   "source": [
    "cv_scores = scores(X_CV_bow, Y_CV)"
   ]
  },
  {
   "cell_type": "code",
   "execution_count": 17,
   "metadata": {},
   "outputs": [
    {
     "name": "stderr",
     "output_type": "stream",
     "text": [
      "100%|██████████| 10/10 [00:15<00:00,  1.51s/it]\n"
     ]
    }
   ],
   "source": [
    "train_scores = scores(X_train_bow, Y_train)"
   ]
  },
  {
   "cell_type": "code",
   "execution_count": 18,
   "metadata": {},
   "outputs": [
    {
     "data": {
      "image/png": "[encoded data removed]",
      "text/plain": [
       "<matplotlib.figure.Figure at 0x7f5f666a6438>"
      ]
     },
     "metadata": {},
     "output_type": "display_data"
    }
   ],
   "source": [
    "C= [10**-6, 10**-5, 10**-4, 10**-3, 10**-2, 10**-1, 10**0, 10, 10**2, 10**4]\n",
    "log_C = np.log(np.asarray(C))\n",
    "plt.plot(log_C, cv_scores, label='CV_score')\n",
    "plt.plot(log_C, train_scores, label='train_score')\n",
    "plt.title('train VS CV')\n",
    "plt.ylabel('auc score')\n",
    "plt.xlabel('log of hyperparameter')\n",
    "plt.legend()\n",
    "plt.show()"
   ]
  },
  {
   "cell_type": "code",
   "execution_count": 19,
   "metadata": {},
   "outputs": [
    {
     "data": {
      "image/png": "[encoded data removed]",
      "text/plain": [
       "<matplotlib.figure.Figure at 0x7f5f665d54e0>"
      ]
     },
     "metadata": {},
     "output_type": "display_data"
    },
    {
     "name": "stdout",
     "output_type": "stream",
     "text": [
      "The auc score for each hyperparameter value for cross validation is :  [0.515 0.556 0.721 0.804 0.83  0.827 0.818 0.817 0.816 0.816]\n"
     ]
    }
   ],
   "source": [
    "plt.plot(log_C, cv_scores )\n",
    "\n",
    "plt.title('plot for cv scores according to log of alphas')\n",
    "for xy in zip(np.round(log_C, 2), np.round(cv_scores,3)):\n",
    "    plt.annotate('(%s, %s)' % xy, xy=xy, textcoords='data')\n",
    "plt.xlabel('log of hyperparameters')\n",
    "plt.ylabel('auc scores for cross validation')\n",
    "plt.show()\n",
    "\n",
    "print(\"The auc score for each hyperparameter value for cross validation is : \", np.round(cv_scores,3))"
   ]
  },
  {
   "cell_type": "code",
   "execution_count": 20,
   "metadata": {},
   "outputs": [
    {
     "data": {
      "image/png": "[encoded data removed]",
      "text/plain": [
       "<matplotlib.figure.Figure at 0x7f5f664cc8d0>"
      ]
     },
     "metadata": {},
     "output_type": "display_data"
    },
    {
     "name": "stdout",
     "output_type": "stream",
     "text": [
      "The auc score for each hyperparameter value for train data is :  [0.522 0.569 0.744 0.825 0.871 0.891 0.9   0.901 0.902 0.902]\n"
     ]
    }
   ],
   "source": [
    "plt.plot(log_C, train_scores )\n",
    "\n",
    "plt.title('plot for train scores according to log of alphas')\n",
    "for xy in zip(np.round(log_C, 2), np.round(train_scores,3)):\n",
    "    plt.annotate('(%s, %s)' % xy, xy=xy, textcoords='data')\n",
    "plt.xlabel('log of hyperparameters')\n",
    "plt.ylabel('auc scores for train data')\n",
    "plt.show()\n",
    "\n",
    "print(\"The auc score for each hyperparameter value for train data is : \", np.round(train_scores,3))"
   ]
  },
  {
   "cell_type": "code",
   "execution_count": 21,
   "metadata": {},
   "outputs": [
    {
     "name": "stdout",
     "output_type": "stream",
     "text": [
      "\n",
      "The optimal value of hyperparameter for cv is 0.01 and it's value is 0.8299307652669926\n"
     ]
    }
   ],
   "source": [
    "C= [10**-6, 10**-5, 10**-4, 10**-3, 10**-2, 10**-1, 10**0, 10, 10**2, 10**4]\n",
    "optimal_hyperparameter_for_cv = C[cv_scores.index(max(cv_scores))]\n",
    "print('\\nThe optimal value of hyperparameter for cv is {} and it\\'s value is {}'.format(optimal_hyperparameter_for_cv, max(cv_scores)))"
   ]
  },
  {
   "cell_type": "code",
   "execution_count": 22,
   "metadata": {},
   "outputs": [
    {
     "name": "stdout",
     "output_type": "stream",
     "text": [
      "\n",
      "The optimal value of hyperparameter for train is 100 and it's value is 0.9021059261294924\n"
     ]
    }
   ],
   "source": [
    "C= [10**-6, 10**-5, 10**-4, 10**-3, 10**-2, 10**-1, 10**0, 10, 10**2, 10**4]\n",
    "optimal_hyperparameter_for_train = C[train_scores.index(max(train_scores))]\n",
    "print('\\nThe optimal value of hyperparameter for train is {} and it\\'s value is {}'.format(optimal_hyperparameter_for_train, max(train_scores)))"
   ]
  },
  {
   "cell_type": "code",
   "execution_count": 23,
   "metadata": {},
   "outputs": [
    {
     "name": "stdout",
     "output_type": "stream",
     "text": [
      "+------------------------+--------------------+---------------------------+--------------------+\n",
      "| hyperparameters for cv |      cv score      | hyperparameters for train |    train score     |\n",
      "+------------------------+--------------------+---------------------------+--------------------+\n",
      "|          0.01          | 0.8299307652669926 |            100            | 0.9021059261294924 |\n",
      "|          0.1           | 0.8272419650560828 |           10000           | 0.9020918784234829 |\n",
      "|           1            | 0.8181899206691593 |             10            | 0.9012685177341945 |\n",
      "|           10           | 0.816981832997795  |             1             | 0.8998303635105791 |\n",
      "|          100           | 0.8159317778736458 |            0.1            | 0.8909916310416907 |\n",
      "|         10000          | 0.8158748561978717 |            0.01           | 0.8711809803483144 |\n",
      "|         0.001          | 0.8038561439459304 |           0.001           | 0.8254504154515815 |\n",
      "|         0.0001         | 0.7209459783338126 |           0.0001          | 0.7442253552697362 |\n",
      "|         1e-05          | 0.5560865748729749 |           1e-05           |  0.56892794952307  |\n",
      "|         1e-06          | 0.5153216673856773 |           1e-06           | 0.5215846270116661 |\n",
      "+------------------------+--------------------+---------------------------+--------------------+\n"
     ]
    }
   ],
   "source": [
    "x = PrettyTable()\n",
    "x.field_names = ['hyperparameters for cv', 'cv score', 'hyperparameters for train', 'train score']\n",
    "for z, y in zip(sorted(cv_scores, reverse=True), sorted(train_scores, reverse=True)):\n",
    "    x.add_row([C[cv_scores.index(z)], z, C[train_scores.index(y)], y])\n",
    "print(x)"
   ]
  },
  {
   "cell_type": "markdown",
   "metadata": {},
   "source": [
    "## From the above the graphs and the table the optimal value of the hyperparameter 'C' is choosen to be 1"
   ]
  },
  {
   "cell_type": "code",
   "execution_count": 24,
   "metadata": {},
   "outputs": [],
   "source": [
    "LR_optimal = LogisticRegression(penalty='l2', C=1, fit_intercept=False, class_weight={1: 1, 0: 5.3})\n",
    "\n",
    "# fitting the model\n",
    "LR_optimal.fit(X_train_bow, Y_train)\n",
    "\n",
    "# predict the response\n",
    "pred = LR_optimal.predict(X_test_bow)\n",
    "\n",
    "# evaluate auc_score\n",
    "auc_score = roc_auc_score(Y_test, pred)"
   ]
  },
  {
   "cell_type": "code",
   "execution_count": 25,
   "metadata": {},
   "outputs": [
    {
     "name": "stdout",
     "output_type": "stream",
     "text": [
      "\n",
      "The auc score for test data for C = 1 is 0.814890\n"
     ]
    }
   ],
   "source": [
    "print('\\nThe auc score for test data for C = {} is {:2f}'.format(1, auc_score))"
   ]
  },
  {
   "cell_type": "markdown",
   "metadata": {},
   "source": [
    "## Pertubation Test"
   ]
  },
  {
   "cell_type": "code",
   "execution_count": 15,
   "metadata": {},
   "outputs": [
    {
     "data": {
      "text/plain": [
       "(40000, 2000)"
      ]
     },
     "execution_count": 15,
     "metadata": {},
     "output_type": "execute_result"
    }
   ],
   "source": [
    "X_train_bow.shape"
   ]
  },
  {
   "cell_type": "code",
   "execution_count": 23,
   "metadata": {},
   "outputs": [],
   "source": [
    "x_trainp=lil_matrix(X_train_bow).toarray()\n",
    "e=np.random.normal(0,0.01)\n",
    "x_trainp = np.add(x_trainp.data, e, casting='unsafe')"
   ]
  },
  {
   "cell_type": "code",
   "execution_count": 24,
   "metadata": {},
   "outputs": [
    {
     "data": {
      "text/plain": [
       "80000000"
      ]
     },
     "execution_count": 24,
     "metadata": {},
     "output_type": "execute_result"
    }
   ],
   "source": [
    "np.count_nonzero(x_trainp)"
   ]
  },
  {
   "cell_type": "code",
   "execution_count": 25,
   "metadata": {},
   "outputs": [
    {
     "data": {
      "text/plain": [
       "(40000, 2000)"
      ]
     },
     "execution_count": 25,
     "metadata": {},
     "output_type": "execute_result"
    }
   ],
   "source": [
    "x_trainp.shape"
   ]
  },
  {
   "cell_type": "code",
   "execution_count": 29,
   "metadata": {},
   "outputs": [
    {
     "data": {
      "text/plain": [
       "LogisticRegression(C=0.1, class_weight={1: 1, 0: 5.3}, dual=False,\n",
       "          fit_intercept=False, intercept_scaling=1, max_iter=100,\n",
       "          multi_class='ovr', n_jobs=1, penalty='l2', random_state=None,\n",
       "          solver='liblinear', tol=0.0001, verbose=0, warm_start=False)"
      ]
     },
     "execution_count": 29,
     "metadata": {},
     "output_type": "execute_result"
    }
   ],
   "source": [
    "LR_optimal_noise = LogisticRegression(penalty='l2', C=0.1, fit_intercept=False, class_weight={1: 1, 0: 5.3})\n",
    "\n",
    "# fitting the model\n",
    "LR_optimal_noise.fit(x_trainp, Y_train)\n"
   ]
  },
  {
   "cell_type": "code",
   "execution_count": 30,
   "metadata": {},
   "outputs": [],
   "source": [
    "w_without_noise = LR_optimal.coef_"
   ]
  },
  {
   "cell_type": "code",
   "execution_count": 31,
   "metadata": {},
   "outputs": [],
   "source": [
    "w_with_noise = LR_optimal_noise.coef_"
   ]
  },
  {
   "cell_type": "code",
   "execution_count": 32,
   "metadata": {},
   "outputs": [],
   "source": [
    "w_without_noise = np.add(w_without_noise, 10**-6)"
   ]
  },
  {
   "cell_type": "code",
   "execution_count": 33,
   "metadata": {},
   "outputs": [],
   "source": [
    "w_with_noise = np.add(w_with_noise, 10**-6)"
   ]
  },
  {
   "cell_type": "code",
   "execution_count": 34,
   "metadata": {},
   "outputs": [],
   "source": [
    "w = np.multiply(np.abs(np.divide\n",
    "                (np.subtract(w_without_noise, w_with_noise), w_without_noise)), 100)"
   ]
  },
  {
   "cell_type": "code",
   "execution_count": 35,
   "metadata": {},
   "outputs": [
    {
     "data": {
      "text/plain": [
       "array([[28.42076384, 26.13357752, 72.52723865, ..., 40.22431998,\n",
       "        31.44011572, 39.31735936]])"
      ]
     },
     "execution_count": 35,
     "metadata": {},
     "output_type": "execute_result"
    }
   ],
   "source": [
    "w"
   ]
  },
  {
   "cell_type": "code",
   "execution_count": 36,
   "metadata": {},
   "outputs": [
    {
     "data": {
      "image/png": "[encoded data removed]",
      "text/plain": [
       "<matplotlib.figure.Figure at 0x7f5f664cbcf8>"
      ]
     },
     "metadata": {},
     "output_type": "display_data"
    }
   ],
   "source": [
    "a = []\n",
    "w_sorted = np.sort(w)\n",
    "w_sorted = w_sorted.reshape(2000,)\n",
    "for i in range(2000):\n",
    "    a.append(i)\n",
    "plt.plot(a, w_sorted)\n",
    "plt.xlabel('index')\n",
    "plt.ylabel('value for w')\n",
    "plt.show()"
   ]
  },
  {
   "cell_type": "code",
   "execution_count": 37,
   "metadata": {},
   "outputs": [
    {
     "name": "stdout",
     "output_type": "stream",
     "text": [
      "+------------------+--------------------+\n",
      "| percentile value |      w value       |\n",
      "+------------------+--------------------+\n",
      "|       10.0       | 14.970671415107148 |\n",
      "|       20.0       | 23.967141554547595 |\n",
      "|       30.0       |  30.5648212033653  |\n",
      "|       40.0       | 37.17609534324542  |\n",
      "|       50.0       | 43.66686728676162  |\n",
      "|       60.0       | 50.02485204463025  |\n",
      "|       70.0       | 56.71356858609134  |\n",
      "|       80.0       | 64.33458722892375  |\n",
      "|       90.0       | 80.01838470910602  |\n",
      "|      100.0       | 10554.518462997388 |\n",
      "+------------------+--------------------+\n"
     ]
    }
   ],
   "source": [
    "n = np.linspace(10, 100, 10)\n",
    "x = PrettyTable()\n",
    "x.field_names = ['percentile value', 'w value']\n",
    "for i in n:\n",
    "    x.add_row([i, np.percentile(w, i)])\n",
    "print(x)"
   ]
  },
  {
   "cell_type": "markdown",
   "metadata": {},
   "source": [
    "### As from the above the above table it can be seen that there is sudden rise in the value of the w from 90th percentile from 100th percentile."
   ]
  },
  {
   "cell_type": "code",
   "execution_count": 38,
   "metadata": {},
   "outputs": [
    {
     "name": "stdout",
     "output_type": "stream",
     "text": [
      "+------------------+--------------------+\n",
      "| percentile value |      w value       |\n",
      "+------------------+--------------------+\n",
      "|        90        | 80.01838470910602  |\n",
      "|        91        | 84.96261508955898  |\n",
      "|        92        | 90.71171127296772  |\n",
      "|        93        | 99.75179915283805  |\n",
      "|        94        | 106.46681460683546 |\n",
      "|        95        | 118.28525318772601 |\n",
      "|        96        | 145.96930679962887 |\n",
      "|        97        | 190.14090149484372 |\n",
      "|        98        | 246.14746364068105 |\n",
      "|        99        | 497.7204755097119  |\n",
      "|       100        | 10554.518462997388 |\n",
      "+------------------+--------------------+\n"
     ]
    }
   ],
   "source": [
    "x = PrettyTable()\n",
    "x.field_names = ['percentile value', 'w value']\n",
    "for i in range(90, 101):\n",
    "    x.add_row([i, np.percentile(w, i)])\n",
    "print(x)"
   ]
  },
  {
   "cell_type": "markdown",
   "metadata": {},
   "source": [
    "### Again from the above the above table it can be seen that there is sudden rise in the value of the w from 99th percentile from 100th percentile."
   ]
  },
  {
   "cell_type": "code",
   "execution_count": 39,
   "metadata": {},
   "outputs": [
    {
     "name": "stdout",
     "output_type": "stream",
     "text": [
      "+------------------+--------------------+\n",
      "| percentile value |      w value       |\n",
      "+------------------+--------------------+\n",
      "|       99.0       | 497.7204755097119  |\n",
      "|       99.1       | 540.4448770893927  |\n",
      "|       99.2       | 589.0750239937881  |\n",
      "|       99.3       |  663.202008642188  |\n",
      "|       99.4       | 721.8458225169541  |\n",
      "|       99.5       | 882.7212485536896  |\n",
      "|       99.6       | 1307.1291112229842 |\n",
      "|       99.7       | 1427.4976185081575 |\n",
      "|       99.8       | 2127.0185189948825 |\n",
      "|       99.9       | 5777.3743115885845 |\n",
      "|      100.0       | 10554.518462997388 |\n",
      "+------------------+--------------------+\n"
     ]
    }
   ],
   "source": [
    "a = np.linspace(99, 100, 11)\n",
    "x = PrettyTable()\n",
    "x.field_names = ['percentile value', 'w value']\n",
    "for i in a:\n",
    "    x.add_row([i, np.percentile(w, i)])\n",
    "print(x)"
   ]
  },
  {
   "cell_type": "markdown",
   "metadata": {},
   "source": [
    "## According to the above table a major change occur after 99.1 percentile of w"
   ]
  },
  {
   "cell_type": "code",
   "execution_count": 40,
   "metadata": {},
   "outputs": [],
   "source": [
    "a = np.percentile(w, 99.1)"
   ]
  },
  {
   "cell_type": "code",
   "execution_count": 41,
   "metadata": {},
   "outputs": [],
   "source": [
    "b = w[w>a]"
   ]
  },
  {
   "cell_type": "code",
   "execution_count": 42,
   "metadata": {},
   "outputs": [
    {
     "data": {
      "text/plain": [
       "array([10554.518463  ,  2124.37542682,  6150.98158792,   721.47697502,\n",
       "         663.77987586,  5777.00033033,   564.79682148,  1383.75445976,\n",
       "        3445.92151548,   663.19793506,   882.03642915,  1427.09147421,\n",
       "         782.95155756,  1306.8213789 ,  1019.00031041,   590.72675492,\n",
       "         589.06170358,  1562.47290743])"
      ]
     },
     "execution_count": 42,
     "metadata": {},
     "output_type": "execute_result"
    }
   ],
   "source": [
    "b"
   ]
  },
  {
   "cell_type": "code",
   "execution_count": 43,
   "metadata": {},
   "outputs": [
    {
     "data": {
      "text/plain": [
       "(18,)"
      ]
     },
     "execution_count": 43,
     "metadata": {},
     "output_type": "execute_result"
    }
   ],
   "source": [
    "b.shape"
   ]
  },
  {
   "cell_type": "code",
   "execution_count": 44,
   "metadata": {},
   "outputs": [],
   "source": [
    "def show_features(vectorizer, array):\n",
    "    print('the below table shows the features which may be multicollinear')\n",
    "    print()\n",
    "    x = PrettyTable()\n",
    "    x.field_names = [\"value for features\",\n",
    "                     'features']\n",
    "    coefs_with_fns = sorted(zip(array, vectorizer.get_feature_names()))\n",
    "    for (coef_1, fn_1) in coefs_with_fns:\n",
    "        x.add_row([coef_1, fn_1])\n",
    "    print(x)"
   ]
  },
  {
   "cell_type": "code",
   "execution_count": 45,
   "metadata": {},
   "outputs": [
    {
     "name": "stdout",
     "output_type": "stream",
     "text": [
      "the below table shows the features which may be multicollinear\n",
      "\n",
      "+--------------------+----------+\n",
      "| value for features | features |\n",
      "+--------------------+----------+\n",
      "| 564.7968214802942  |  acquir  |\n",
      "| 589.0617035830571  |  adjust  |\n",
      "| 590.7267549244293  | address  |\n",
      "| 663.1979350565864  |  activ   |\n",
      "| 663.7798758568225  |  accord  |\n",
      "| 721.4769750217164  |  accept  |\n",
      "| 782.9515575581256  |   add    |\n",
      "| 882.0364291473895  |  actual  |\n",
      "| 1019.0003104106622 |  addit   |\n",
      "| 1306.821378899555  |  addict  |\n",
      "| 1383.7544597587298 |  across  |\n",
      "| 1427.0914742084929 |    ad    |\n",
      "| 1562.4729074333065 |  admit   |\n",
      "| 2124.3754268176212 | absolut  |\n",
      "| 3445.9215154793774 |   act    |\n",
      "| 5777.000330330924  |   acid   |\n",
      "|  6150.98158791575  |  absorb  |\n",
      "| 10554.518462997388 |   abl    |\n",
      "+--------------------+----------+\n"
     ]
    }
   ],
   "source": [
    "show_features(count_vect, b)"
   ]
  },
  {
   "cell_type": "markdown",
   "metadata": {},
   "source": [
    "## Top 20 features based on positive and negative reviews"
   ]
  },
  {
   "cell_type": "code",
   "execution_count": 46,
   "metadata": {},
   "outputs": [],
   "source": [
    "def getImpFeatures(vectorizer,w_vec,top_n_features):\n",
    "    feature_names = vectorizer.get_feature_names()\n",
    "    coefs_with_fns = sorted(zip(w_vec[0], feature_names))\n",
    "    print(\"These are the top 20 important Features Which are most widely used in Positive and Negative Reviews:\")\n",
    "    pos_features = coefs_with_fns[len(feature_names)-top_n_features:len(feature_names)];\n",
    "    neg_features = coefs_with_fns[0:top_n_features];\n",
    "    print(\"\\n\")\n",
    "    print(\"Positive: \\t\\t\\t\\t Negative:\")\n",
    "    print(\"\\n\")\n",
    "    for i in range(20):\n",
    "        print(pos_features[i],\"\\t\\t\",neg_features[i])"
   ]
  },
  {
   "cell_type": "code",
   "execution_count": 47,
   "metadata": {},
   "outputs": [
    {
     "name": "stdout",
     "output_type": "stream",
     "text": [
      "These are the top 20 important Features Which are most widely used in Positive and Negative Reviews:\n",
      "\n",
      "\n",
      "Positive: \t\t\t\t Negative:\n",
      "\n",
      "\n",
      "(1.9942039925478665, 'refresh') \t\t (-4.147038297859576, 'worst')\n",
      "(2.001228960234208, 'firm') \t\t (-2.731375711795108, 'unpleas')\n",
      "(2.0133949491649723, 'versatil') \t\t (-2.6574401781010906, 'horribl')\n",
      "(2.0577517966392764, 'eight') \t\t (-2.635695974720982, 'wors')\n",
      "(2.117248154106327, 'lemongrass') \t\t (-2.615329967318194, 'bland')\n",
      "(2.1309714804352127, 'addict') \t\t (-2.4475322854185455, 'terribl')\n",
      "(2.2729634266871077, 'winner') \t\t (-2.3091662950120884, 'aw')\n",
      "(2.287965745719044, 'relax') \t\t (-2.244199987464707, 'sorri')\n",
      "(2.3017453933355143, 'stress') \t\t (-2.239764163670711, 'tasteless')\n",
      "(2.3072821723165524, 'grandmoth') \t\t (-2.2153570152504924, 'threw')\n",
      "(2.3143381854221783, 'bonus') \t\t (-2.2014593899132047, 'fed')\n",
      "(2.3800206028881945, 'hearti') \t\t (-2.1229680049862236, 'disappoint')\n",
      "(2.3886949688596677, 'desert') \t\t (-2.07672481558565, 'unfortun')\n",
      "(2.391071095197794, 'car') \t\t (-1.9905528428077477, 'stuck')\n",
      "(2.439073533051699, 'smile') \t\t (-1.9513248766906877, 'quot')\n",
      "(2.480201481410778, 'hook') \t\t (-1.8738513954834557, 'gross')\n",
      "(2.539570109566143, 'compliment') \t\t (-1.816560978319294, 'disgust')\n",
      "(2.8734752063512143, 'downsid') \t\t (-1.7861072011287868, 'refund')\n",
      "(3.2854137090308972, 'leftov') \t\t (-1.733861128795529, 'elsewher')\n",
      "(3.3785201257306734, 'skeptic') \t\t (-1.7173789346991506, 'earth')\n"
     ]
    }
   ],
   "source": [
    "getImpFeatures(count_vect, w_without_noise, 20)"
   ]
  },
  {
   "cell_type": "markdown",
   "metadata": {},
   "source": [
    "## Confusion Matrix and result of the classifier"
   ]
  },
  {
   "cell_type": "code",
   "execution_count": 48,
   "metadata": {},
   "outputs": [
    {
     "data": {
      "text/plain": [
       "array([[ 893,  337],\n",
       "       [ 844, 7926]])"
      ]
     },
     "execution_count": 48,
     "metadata": {},
     "output_type": "execute_result"
    }
   ],
   "source": [
    "conf_matrix = confusion_matrix(Y_test, pred)\n",
    "conf_matrix"
   ]
  },
  {
   "cell_type": "code",
   "execution_count": 49,
   "metadata": {},
   "outputs": [
    {
     "data": {
      "image/png": "[encoded data removed]",
      "text/plain": [
       "<matplotlib.figure.Figure at 0x7f5f664aa0b8>"
      ]
     },
     "metadata": {},
     "output_type": "display_data"
    }
   ],
   "source": [
    "df_cm = pd.DataFrame(conf_matrix, range(2),\n",
    "                  range(2))\n",
    "#plt.figure(figsize = (10,7))\n",
    "sns.set(font_scale=1.4)#for label size\n",
    "sns.heatmap(df_cm, annot=True, fmt=\"d\",cmap=\"YlGnBu\")\n",
    "plt.xlabel('predicted lables')\n",
    "plt.ylabel('actual lables')\n",
    "plt.show()"
   ]
  },
  {
   "cell_type": "code",
   "execution_count": 50,
   "metadata": {},
   "outputs": [
    {
     "name": "stdout",
     "output_type": "stream",
     "text": [
      "             precision    recall  f1-score   support\n",
      "\n",
      "          0       0.51      0.73      0.60      1230\n",
      "          1       0.96      0.90      0.93      8770\n",
      "\n",
      "avg / total       0.90      0.88      0.89     10000\n",
      "\n"
     ]
    }
   ],
   "source": [
    "print(classification_report(Y_test, pred))"
   ]
  },
  {
   "cell_type": "markdown",
   "metadata": {},
   "source": [
    "# TF-IDF"
   ]
  },
  {
   "cell_type": "code",
   "execution_count": 27,
   "metadata": {},
   "outputs": [
    {
     "data": {
      "text/plain": [
       "(40000, 2000)"
      ]
     },
     "execution_count": 27,
     "metadata": {},
     "output_type": "execute_result"
    }
   ],
   "source": [
    "tf_idf_vect = TfidfVectorizer(max_features=2000)\n",
    "X_train_tfidf = tf_idf_vect.fit_transform(X_train['CleanedText'].values)\n",
    "X_train_tfidf.shape"
   ]
  },
  {
   "cell_type": "code",
   "execution_count": 28,
   "metadata": {},
   "outputs": [
    {
     "data": {
      "text/plain": [
       "(10000, 2000)"
      ]
     },
     "execution_count": 28,
     "metadata": {},
     "output_type": "execute_result"
    }
   ],
   "source": [
    "X_CV_tfidf = tf_idf_vect.transform(X_CV['CleanedText'].values)\n",
    "X_CV_tfidf.shape"
   ]
  },
  {
   "cell_type": "code",
   "execution_count": 29,
   "metadata": {},
   "outputs": [
    {
     "data": {
      "text/plain": [
       "(10000, 2000)"
      ]
     },
     "execution_count": 29,
     "metadata": {},
     "output_type": "execute_result"
    }
   ],
   "source": [
    "X_test_tfidf = tf_idf_vect.transform(X_test['CleanedText'].values)\n",
    "X_test_tfidf.shape"
   ]
  },
  {
   "cell_type": "markdown",
   "metadata": {},
   "source": [
    "# Logistic Regression on TF-IDF vectorizer."
   ]
  },
  {
   "cell_type": "code",
   "execution_count": 30,
   "metadata": {},
   "outputs": [],
   "source": [
    "def scores(x, y):\n",
    "    C= [10**-6, 10**-5, 10**-4, 10**-3, 10**-2, 10**-1, 10**0, 10, 10**2, 10**4]\n",
    "    scores = []\n",
    "    for c in tqdm(C):\n",
    "        LR = LogisticRegression(penalty='l2', C=c, fit_intercept=False, class_weight={1: 1, 0: 5.3})\n",
    "        LR.fit(X_train_tfidf, Y_train)\n",
    "        pred = LR.predict(x)\n",
    "        auc = roc_auc_score(y, pred)\n",
    "        scores.append(auc)\n",
    "    return scores"
   ]
  },
  {
   "cell_type": "code",
   "execution_count": 31,
   "metadata": {},
   "outputs": [
    {
     "name": "stderr",
     "output_type": "stream",
     "text": [
      "100%|██████████| 10/10 [00:05<00:00,  1.89it/s]\n"
     ]
    }
   ],
   "source": [
    "cv_scores = scores(X_CV_tfidf, Y_CV)"
   ]
  },
  {
   "cell_type": "code",
   "execution_count": 32,
   "metadata": {},
   "outputs": [
    {
     "name": "stderr",
     "output_type": "stream",
     "text": [
      "100%|██████████| 10/10 [00:05<00:00,  1.68it/s]\n"
     ]
    }
   ],
   "source": [
    "train_scores = scores(X_train_tfidf, Y_train)"
   ]
  },
  {
   "cell_type": "code",
   "execution_count": 33,
   "metadata": {},
   "outputs": [
    {
     "data": {
      "image/png": "[encoded data removed]",
      "text/plain": [
       "<matplotlib.figure.Figure at 0x7f95ef31b390>"
      ]
     },
     "metadata": {},
     "output_type": "display_data"
    }
   ],
   "source": [
    "C= [10**-6, 10**-5, 10**-4, 10**-3, 10**-2, 10**-1, 10**0, 10, 10**2, 10**4]\n",
    "log_C = np.log(np.asarray(C))\n",
    "plt.plot(log_C, cv_scores, label='CV_score')\n",
    "plt.plot(log_C, train_scores, label='train_score')\n",
    "plt.title('train VS CV')\n",
    "plt.ylabel('auc score')\n",
    "plt.xlabel('log of hyperparameter')\n",
    "plt.legend()\n",
    "plt.show()"
   ]
  },
  {
   "cell_type": "code",
   "execution_count": 34,
   "metadata": {},
   "outputs": [
    {
     "data": {
      "image/png": "[encoded data removed]",
      "text/plain": [
       "<matplotlib.figure.Figure at 0x7f95f0b91390>"
      ]
     },
     "metadata": {},
     "output_type": "display_data"
    },
    {
     "name": "stdout",
     "output_type": "stream",
     "text": [
      "The auc score for each hyperparameter value for cross validation is :  [0.522 0.522 0.526 0.566 0.739 0.825 0.833 0.829 0.823 0.823]\n"
     ]
    }
   ],
   "source": [
    "plt.plot(log_C, cv_scores )\n",
    "\n",
    "plt.title('plot for cv scores according to log of alphas')\n",
    "for xy in zip(np.round(log_C, 2), np.round(cv_scores,3)):\n",
    "    plt.annotate('(%s, %s)' % xy, xy=xy, textcoords='data')\n",
    "plt.xlabel('log of hyperparameters')\n",
    "plt.ylabel('auc scores for cross validation')\n",
    "plt.show()\n",
    "\n",
    "print(\"The auc score for each hyperparameter value for cross validation is : \", np.round(cv_scores,3))"
   ]
  },
  {
   "cell_type": "code",
   "execution_count": 35,
   "metadata": {},
   "outputs": [
    {
     "data": {
      "image/png": "[encoded data removed]",
      "text/plain": [
       "<matplotlib.figure.Figure at 0x7f95f1039cf8>"
      ]
     },
     "metadata": {},
     "output_type": "display_data"
    },
    {
     "name": "stdout",
     "output_type": "stream",
     "text": [
      "The auc score for each hyperparameter value for train data is :  [0.53  0.531 0.537 0.589 0.778 0.862 0.892 0.901 0.904 0.904]\n"
     ]
    }
   ],
   "source": [
    "plt.plot(log_C, train_scores )\n",
    "\n",
    "plt.title('plot for train scores according to log of alphas')\n",
    "for xy in zip(np.round(log_C, 2), np.round(train_scores,3)):\n",
    "    plt.annotate('(%s, %s)' % xy, xy=xy, textcoords='data')\n",
    "plt.xlabel('log of hyperparameters')\n",
    "plt.ylabel('auc scores for train data')\n",
    "plt.show()\n",
    "\n",
    "print(\"The auc score for each hyperparameter value for train data is : \", np.round(train_scores,3))"
   ]
  },
  {
   "cell_type": "code",
   "execution_count": 37,
   "metadata": {},
   "outputs": [
    {
     "name": "stdout",
     "output_type": "stream",
     "text": [
      "\n",
      "The optimal value of hyperparameter for cv is 1 and it's value is 0.8328023140159141\n"
     ]
    }
   ],
   "source": [
    "C= [10**-6, 10**-5, 10**-4, 10**-3, 10**-2, 10**-1, 10**0, 10, 10**2, 10**4]\n",
    "optimal_hyperparameter_for_cv = C[cv_scores.index(max(cv_scores))]\n",
    "print('\\nThe optimal value of hyperparameter for cv is {} and it\\'s value is {}'.format(optimal_hyperparameter_for_cv, max(cv_scores)))"
   ]
  },
  {
   "cell_type": "code",
   "execution_count": 38,
   "metadata": {},
   "outputs": [
    {
     "name": "stdout",
     "output_type": "stream",
     "text": [
      "\n",
      "The optimal value of hyperparameter for train is 10000 and it's value is 0.9043468651535168\n"
     ]
    }
   ],
   "source": [
    "C= [10**-6, 10**-5, 10**-4, 10**-3, 10**-2, 10**-1, 10**0, 10, 10**2, 10**4]\n",
    "optimal_hyperparameter_for_train = C[train_scores.index(max(train_scores))]\n",
    "print('\\nThe optimal value of hyperparameter for train is {} and it\\'s value is {}'.format(optimal_hyperparameter_for_train, max(train_scores)))"
   ]
  },
  {
   "cell_type": "code",
   "execution_count": 39,
   "metadata": {},
   "outputs": [
    {
     "name": "stdout",
     "output_type": "stream",
     "text": [
      "+------------------------+--------------------+---------------------------+--------------------+\n",
      "| hyperparameters for cv |      cv score      | hyperparameters for train |    train score     |\n",
      "+------------------------+--------------------+---------------------------+--------------------+\n",
      "|           1            | 0.8328023140159141 |           10000           | 0.9043468651535168 |\n",
      "|           10           | 0.8289758292589398 |            100            | 0.9043457909359254 |\n",
      "|          0.1           | 0.8250587192023775 |             10            | 0.9011885283685024 |\n",
      "|          100           | 0.8232829127121083 |             1             | 0.8920753699622914 |\n",
      "|         10000          | 0.8230552260090117 |            0.1            | 0.8615958196576987 |\n",
      "|          0.01          | 0.7385355251174384 |            0.01           | 0.7781926223360591 |\n",
      "|         0.001          | 0.5657392927331991 |           0.001           | 0.5888995702881002 |\n",
      "|         0.0001         | 0.526100835250695  |           0.0001          | 0.5365824513863466 |\n",
      "|         1e-06          | 0.5224001773559582 |           1e-05           | 0.531348359642006  |\n",
      "|         1e-06          | 0.5224001773559582 |           1e-06           | 0.5304547604226695 |\n",
      "+------------------------+--------------------+---------------------------+--------------------+\n"
     ]
    }
   ],
   "source": [
    "x = PrettyTable()\n",
    "x.field_names = ['hyperparameters for cv', 'cv score', 'hyperparameters for train', 'train score']\n",
    "for z, y in zip(sorted(cv_scores, reverse=True), sorted(train_scores, reverse=True)):\n",
    "    x.add_row([C[cv_scores.index(z)], z, C[train_scores.index(y)], y])\n",
    "print(x)"
   ]
  },
  {
   "cell_type": "markdown",
   "metadata": {},
   "source": [
    "## From the above the graphs and the table the optimal value of the hyperparameter 'C' is choosen to be 1"
   ]
  },
  {
   "cell_type": "code",
   "execution_count": 42,
   "metadata": {},
   "outputs": [],
   "source": [
    "LR_optimal = LogisticRegression(penalty='l2', C=1, fit_intercept=False, class_weight={1: 1, 0: 5.3})\n",
    "\n",
    "# fitting the model\n",
    "LR_optimal.fit(X_train_tfidf, Y_train)\n",
    "\n",
    "# predict the response\n",
    "pred = LR_optimal.predict(X_test_tfidf)\n",
    "\n",
    "# evaluate auc_score\n",
    "auc_score = roc_auc_score(Y_test, pred)"
   ]
  },
  {
   "cell_type": "code",
   "execution_count": 43,
   "metadata": {},
   "outputs": [
    {
     "name": "stdout",
     "output_type": "stream",
     "text": [
      "\n",
      "The auc score for test data for C = 1 is 0.828879\n"
     ]
    }
   ],
   "source": [
    "print('\\nThe auc score for test data for C = {} is {:2f}'.format(1, auc_score))"
   ]
  },
  {
   "cell_type": "markdown",
   "metadata": {},
   "source": [
    "## Confusion Matrix and result of the classifier"
   ]
  },
  {
   "cell_type": "code",
   "execution_count": 44,
   "metadata": {},
   "outputs": [
    {
     "data": {
      "text/plain": [
       "array([[ 919,  311],\n",
       "       [ 784, 7986]])"
      ]
     },
     "execution_count": 44,
     "metadata": {},
     "output_type": "execute_result"
    }
   ],
   "source": [
    "conf_matrix = confusion_matrix(Y_test, pred)\n",
    "conf_matrix"
   ]
  },
  {
   "cell_type": "code",
   "execution_count": 45,
   "metadata": {},
   "outputs": [
    {
     "data": {
      "image/png": "[encoded data removed]",
      "text/plain": [
       "<matplotlib.figure.Figure at 0x7f95ee1f8978>"
      ]
     },
     "metadata": {},
     "output_type": "display_data"
    }
   ],
   "source": [
    "df_cm = pd.DataFrame(conf_matrix, range(2),\n",
    "                  range(2))\n",
    "#plt.figure(figsize = (10,7))\n",
    "sns.set(font_scale=1.4)#for label size\n",
    "sns.heatmap(df_cm, annot=True, fmt=\"d\",cmap=\"YlGnBu\")\n",
    "plt.xlabel('predicted lables')\n",
    "plt.ylabel('actual lables')\n",
    "plt.show()"
   ]
  },
  {
   "cell_type": "code",
   "execution_count": 46,
   "metadata": {},
   "outputs": [
    {
     "name": "stdout",
     "output_type": "stream",
     "text": [
      "             precision    recall  f1-score   support\n",
      "\n",
      "          0       0.54      0.75      0.63      1230\n",
      "          1       0.96      0.91      0.94      8770\n",
      "\n",
      "avg / total       0.91      0.89      0.90     10000\n",
      "\n"
     ]
    }
   ],
   "source": [
    "print(classification_report(Y_test, pred))"
   ]
  },
  {
   "cell_type": "markdown",
   "metadata": {},
   "source": [
    "## Top 20 features based on positive and negative reviews"
   ]
  },
  {
   "cell_type": "code",
   "execution_count": 47,
   "metadata": {},
   "outputs": [],
   "source": [
    "def getImpFeatures(vectorizer,w_vec,top_n_features):\n",
    "    feature_names = vectorizer.get_feature_names()\n",
    "    coefs_with_fns = sorted(zip(w_vec[0], feature_names))\n",
    "    print(\"These are the top 20 important Features Which are most widely used in Positive and Negative Reviews:\")\n",
    "    pos_features = coefs_with_fns[len(feature_names)-top_n_features:len(feature_names)];\n",
    "    neg_features = coefs_with_fns[0:top_n_features];\n",
    "    print(\"\\n\")\n",
    "    print(\"Positive: \\t\\t\\t\\t Negative:\")\n",
    "    print(\"\\n\")\n",
    "    for i in range(20):\n",
    "        print(pos_features[i],\"\\t\\t\",neg_features[i])"
   ]
  },
  {
   "cell_type": "code",
   "execution_count": 48,
   "metadata": {},
   "outputs": [
    {
     "name": "stdout",
     "output_type": "stream",
     "text": [
      "These are the top 20 important Features Which are most widely used in Positive and Negative Reviews:\n",
      "\n",
      "\n",
      "Positive: \t\t\t\t Negative:\n",
      "\n",
      "\n",
      "(3.826039972000464, 'uniqu') \t\t (-8.349179570378729, 'worst')\n",
      "(3.8728081888965336, 'beat') \t\t (-7.867975191035626, 'disappoint')\n",
      "(3.9448873931501325, 'tasti') \t\t (-6.63715994669848, 'bland')\n",
      "(4.029877375720433, 'hook') \t\t (-6.392540392879503, 'horribl')\n",
      "(4.110655935669937, 'keep') \t\t (-6.216217418315475, 'terribl')\n",
      "(4.190476967659066, 'fast') \t\t (-5.619284370806179, 'aw')\n",
      "(4.307373338376369, 'good') \t\t (-5.58736688293995, 'unfortun')\n",
      "(4.476740856218895, 'awesom') \t\t (-5.4955336364190845, 'wors')\n",
      "(4.941514908076657, 'yummi') \t\t (-4.988092277284411, 'return')\n",
      "(5.051165664833014, 'favorit') \t\t (-4.7886113894230595, 'sorri')\n",
      "(5.46558690163992, 'nice') \t\t (-4.631614611891668, 'threw')\n",
      "(5.46562631280613, 'amaz') \t\t (-4.605262599854487, 'gross')\n",
      "(5.5979362022510974, 'wonder') \t\t (-4.427093378117601, 'weak')\n",
      "(5.8017262770459554, 'addict') \t\t (-4.303681534867766, 'refund')\n",
      "(7.3377752145687865, 'perfect') \t\t (-4.2798097148375, 'disgust')\n",
      "(7.341519467262419, 'excel') \t\t (-4.274374426227599, 'tasteless')\n",
      "(7.764215057018568, 'delici') \t\t (-4.270811323715119, 'wast')\n",
      "(7.799685396795232, 'love') \t\t (-4.184009773110527, 'unpleas')\n",
      "(9.577011371846178, 'best') \t\t (-4.155340253739289, 'lack')\n",
      "(9.993877254638216, 'great') \t\t (-4.1453530088005115, 'stale')\n"
     ]
    }
   ],
   "source": [
    "getImpFeatures(tf_idf_vect, LR_optimal.coef_, 20)"
   ]
  },
  {
   "cell_type": "markdown",
   "metadata": {},
   "source": [
    "## Checking Performance with different lambdas/C with L1"
   ]
  },
  {
   "cell_type": "code",
   "execution_count": 51,
   "metadata": {},
   "outputs": [
    {
     "name": "stdout",
     "output_type": "stream",
     "text": [
      "C =  1e-06 , No.of non zero vals:  0\n",
      "Score:  12.3\n",
      "Error:  87.7\n",
      "C =  1e-05 , No.of non zero vals:  0\n",
      "Score:  12.3\n",
      "Error:  87.7\n",
      "C =  0.0001 , No.of non zero vals:  0\n",
      "Score:  87.7\n",
      "Error:  12.3\n",
      "C =  0.001 , No.of non zero vals:  0\n",
      "Score:  87.7\n",
      "Error:  12.3\n",
      "C =  0.01 , No.of non zero vals:  1\n",
      "Score:  87.7\n",
      "Error:  12.3\n",
      "C =  0.1 , No.of non zero vals:  109\n",
      "Score:  89.32\n",
      "Error:  10.68\n",
      "C =  1 , No.of non zero vals:  847\n",
      "Score:  91.85\n",
      "Error:  8.150000000000002\n",
      "C =  10 , No.of non zero vals:  1830\n",
      "Score:  91.75\n",
      "Error:  8.250000000000002\n",
      "C =  100 , No.of non zero vals:  1979\n",
      "Score:  91.47999999999999\n",
      "Error:  8.520000000000005\n",
      "C =  10000 , No.of non zero vals:  2000\n",
      "Score:  91.47\n",
      "Error:  8.530000000000005\n"
     ]
    },
    {
     "data": {
      "image/png": "[encoded data removed]",
      "text/plain": [
       "<matplotlib.figure.Figure at 0x7f95ef29a748>"
      ]
     },
     "metadata": {},
     "output_type": "display_data"
    }
   ],
   "source": [
    "C= [10**-6, 10**-5, 10**-4, 10**-3, 10**-2, 10**-1, 10**0, 10, 10**2, 10**4]\n",
    "li_of_errors=[]\n",
    "for i in C:\n",
    "    model = LogisticRegression(C=i, penalty='l1')\n",
    "    model.fit(X_train_tfidf,Y_train)\n",
    "    w = model.coef_\n",
    "    err_val = 1-model.score(X_test_tfidf,Y_test);\n",
    "    print(\"C = \",i,\", No.of non zero vals: \",np.count_nonzero(w))\n",
    "    print(\"Score: \",(1-err_val)*100)\n",
    "    print(\"Error: \",(err_val)*100)\n",
    "    li_of_errors.append(err_val)\n",
    "\n",
    "plt.plot(C,li_of_errors)\n",
    "plt.xlabel('C or 1/(lambda) value')\n",
    "plt.ylabel('Error Percentage')\n",
    "plt.show()"
   ]
  },
  {
   "cell_type": "markdown",
   "metadata": {},
   "source": [
    "## Observation:- As the value of C increases the number of non-zero value also increases"
   ]
  },
  {
   "cell_type": "markdown",
   "metadata": {},
   "source": [
    "# W2V"
   ]
  },
  {
   "cell_type": "code",
   "execution_count": 54,
   "metadata": {},
   "outputs": [],
   "source": [
    "i=0\n",
    "list_of_sent =[]\n",
    "for sent in X_train['Text'].values:\n",
    "    filtered_sentence =[]\n",
    "    sent = clean_html(sent)\n",
    "    for w in sent.split():\n",
    "        for cleaned_words in clean_punctuation(w).split():\n",
    "            if(cleaned_words.isalpha()):\n",
    "                filtered_sentence.append(cleaned_words.lower())\n",
    "            else:\n",
    "                continue\n",
    "    list_of_sent.append(filtered_sentence)"
   ]
  },
  {
   "cell_type": "code",
   "execution_count": 55,
   "metadata": {},
   "outputs": [],
   "source": [
    "w2v_model=Word2Vec(list_of_sent, min_count=5 ,size=50)"
   ]
  },
  {
   "cell_type": "code",
   "execution_count": 56,
   "metadata": {},
   "outputs": [],
   "source": [
    "w2v_words = list(w2v_model.wv.vocab)"
   ]
  },
  {
   "cell_type": "markdown",
   "metadata": {},
   "source": [
    "# Average W2V"
   ]
  },
  {
   "cell_type": "code",
   "execution_count": 57,
   "metadata": {},
   "outputs": [
    {
     "name": "stderr",
     "output_type": "stream",
     "text": [
      "100%|██████████| 40000/40000 [01:59<00:00, 335.78it/s]"
     ]
    },
    {
     "name": "stdout",
     "output_type": "stream",
     "text": [
      "40000\n",
      "50\n"
     ]
    },
    {
     "name": "stderr",
     "output_type": "stream",
     "text": [
      "\n"
     ]
    }
   ],
   "source": [
    "X_train_avgw2v = []; # the avg-w2v for each sentence/review is stored in this list\n",
    "for sent in tqdm(list_of_sent): # for each review/sentence\n",
    "    sent_vec = np.zeros(50) # as word vectors are of zero length\n",
    "    cnt_words =0; # num of words with a valid vector in the sentence/review\n",
    "    for word in sent: # for each word in a review/sentence\n",
    "        if word in w2v_words:\n",
    "            vec = w2v_model.wv[word]\n",
    "            sent_vec += vec\n",
    "            cnt_words += 1\n",
    "    if cnt_words != 0:\n",
    "        sent_vec /= cnt_words\n",
    "    X_train_avgw2v.append(sent_vec)\n",
    "print(len(X_train_avgw2v))\n",
    "print(len(X_train_avgw2v[0]))"
   ]
  },
  {
   "cell_type": "code",
   "execution_count": 58,
   "metadata": {},
   "outputs": [],
   "source": [
    "X_train_avgw2v = np.asarray(X_train_avgw2v)"
   ]
  },
  {
   "cell_type": "code",
   "execution_count": 59,
   "metadata": {},
   "outputs": [],
   "source": [
    "X_train_avgw2v = StandardScaler().fit_transform(X_train_avgw2v)"
   ]
  },
  {
   "cell_type": "code",
   "execution_count": 60,
   "metadata": {},
   "outputs": [],
   "source": [
    "train_w2v = open(\"train_w2v.pickle\", \"wb\")\n",
    "pickle.dump(X_train_avgw2v, train_w2v)\n",
    "train_w2v.close()"
   ]
  },
  {
   "cell_type": "code",
   "execution_count": 61,
   "metadata": {},
   "outputs": [],
   "source": [
    "i=0\n",
    "list_of_sentence =[]\n",
    "for sent in X_CV['Text'].values:\n",
    "    filtered_sentence =[]\n",
    "    sent = clean_html(sent)\n",
    "    for w in sent.split():\n",
    "        for cleaned_words in clean_punctuation(w).split():\n",
    "            if(cleaned_words.isalpha()):\n",
    "                filtered_sentence.append(cleaned_words.lower())\n",
    "            else:\n",
    "                continue\n",
    "    list_of_sentence.append(filtered_sentence)"
   ]
  },
  {
   "cell_type": "code",
   "execution_count": 62,
   "metadata": {},
   "outputs": [
    {
     "name": "stderr",
     "output_type": "stream",
     "text": [
      "100%|██████████| 10000/10000 [00:27<00:00, 367.38it/s]"
     ]
    },
    {
     "name": "stdout",
     "output_type": "stream",
     "text": [
      "10000\n",
      "50\n"
     ]
    },
    {
     "name": "stderr",
     "output_type": "stream",
     "text": [
      "\n"
     ]
    }
   ],
   "source": [
    "X_CV_avgw2v = []; # the avg-w2v for each sentence/review is stored in this list\n",
    "for sent in tqdm(list_of_sentence): # for each review/sentence\n",
    "    sent_vec = np.zeros(50) # as word vectors are of zero length\n",
    "    cnt_words =0; # num of words with a valid vector in the sentence/review\n",
    "    for word in sent: # for each word in a review/sentence\n",
    "        if word in w2v_words:\n",
    "            vec = w2v_model.wv[word]\n",
    "            sent_vec += vec\n",
    "            cnt_words += 1\n",
    "    if cnt_words != 0:\n",
    "        sent_vec /= cnt_words\n",
    "    X_CV_avgw2v.append(sent_vec)\n",
    "print(len(X_CV_avgw2v))\n",
    "print(len(X_CV_avgw2v[0]))"
   ]
  },
  {
   "cell_type": "code",
   "execution_count": 63,
   "metadata": {},
   "outputs": [
    {
     "data": {
      "text/plain": [
       "(10000, 50)"
      ]
     },
     "execution_count": 63,
     "metadata": {},
     "output_type": "execute_result"
    }
   ],
   "source": [
    "X_CV_avgw2v = np.asarray(X_CV_avgw2v)\n",
    "X_CV_avgw2v = StandardScaler().fit_transform(X_CV_avgw2v)\n",
    "X_CV_avgw2v.shape"
   ]
  },
  {
   "cell_type": "code",
   "execution_count": 64,
   "metadata": {},
   "outputs": [],
   "source": [
    "CV_w2v = open(\"CV_w2v.pickle\", \"wb\")\n",
    "pickle.dump(X_CV_avgw2v, CV_w2v)\n",
    "CV_w2v.close()"
   ]
  },
  {
   "cell_type": "code",
   "execution_count": 65,
   "metadata": {},
   "outputs": [],
   "source": [
    "i=0\n",
    "list_of_sen =[]\n",
    "for sent in X_test['Text'].values:\n",
    "    filtered_sentence =[]\n",
    "    sent = clean_html(sent)\n",
    "    for w in sent.split():\n",
    "        for cleaned_words in clean_punctuation(w).split():\n",
    "            if(cleaned_words.isalpha()):\n",
    "                filtered_sentence.append(cleaned_words.lower())\n",
    "            else:\n",
    "                continue\n",
    "    list_of_sen.append(filtered_sentence)"
   ]
  },
  {
   "cell_type": "code",
   "execution_count": 66,
   "metadata": {},
   "outputs": [
    {
     "name": "stderr",
     "output_type": "stream",
     "text": [
      "100%|██████████| 10000/10000 [00:24<00:00, 407.25it/s]"
     ]
    },
    {
     "name": "stdout",
     "output_type": "stream",
     "text": [
      "10000\n",
      "50\n"
     ]
    },
    {
     "name": "stderr",
     "output_type": "stream",
     "text": [
      "\n"
     ]
    }
   ],
   "source": [
    "X_test_avgw2v = []; # the avg-w2v for each sentence/review is stored in this list\n",
    "for sent in tqdm(list_of_sen): # for each review/sentence\n",
    "    sent_vec = np.zeros(50) # as word vectors are of zero length\n",
    "    cnt_words =0; # num of words with a valid vector in the sentence/review\n",
    "    for word in sent: # for each word in a review/sentence\n",
    "        if word in w2v_words:\n",
    "            vec = w2v_model.wv[word]\n",
    "            sent_vec += vec\n",
    "            cnt_words += 1\n",
    "    if cnt_words != 0:\n",
    "        sent_vec /= cnt_words\n",
    "    X_test_avgw2v.append(sent_vec)\n",
    "print(len(X_test_avgw2v))\n",
    "print(len(X_test_avgw2v[0]))"
   ]
  },
  {
   "cell_type": "code",
   "execution_count": 67,
   "metadata": {},
   "outputs": [
    {
     "data": {
      "text/plain": [
       "(10000, 50)"
      ]
     },
     "execution_count": 67,
     "metadata": {},
     "output_type": "execute_result"
    }
   ],
   "source": [
    "X_test_avgw2v = np.asarray(X_test_avgw2v)\n",
    "X_test_avgw2v = StandardScaler().fit_transform(X_test_avgw2v)\n",
    "X_test_avgw2v.shape"
   ]
  },
  {
   "cell_type": "code",
   "execution_count": 68,
   "metadata": {},
   "outputs": [],
   "source": [
    "test_w2v = open(\"test_w2v.pickle\", \"wb\")\n",
    "pickle.dump(X_test_avgw2v, test_w2v)\n",
    "test_w2v.close()"
   ]
  },
  {
   "cell_type": "markdown",
   "metadata": {},
   "source": [
    "# Logistic Regression on Average W2V"
   ]
  },
  {
   "cell_type": "code",
   "execution_count": 69,
   "metadata": {},
   "outputs": [],
   "source": [
    "def scores(x, y):\n",
    "    C= [10**-6, 10**-5, 10**-4, 10**-3, 10**-2, 10**-1, 10**0, 10, 10**2, 10**4]\n",
    "    scores = []\n",
    "    for c in tqdm(C):\n",
    "        LR = LogisticRegression(penalty='l2', C=c, fit_intercept=False, class_weight={1: 1, 0: 5.3})\n",
    "        LR.fit(X_train_avgw2v, Y_train)\n",
    "        pred = LR.predict(x)\n",
    "        auc = roc_auc_score(y, pred)\n",
    "        scores.append(auc)\n",
    "    return scores"
   ]
  },
  {
   "cell_type": "code",
   "execution_count": 76,
   "metadata": {},
   "outputs": [
    {
     "name": "stderr",
     "output_type": "stream",
     "text": [
      "100%|██████████| 10/10 [00:04<00:00,  2.46it/s]\n"
     ]
    }
   ],
   "source": [
    "cv_scores = scores(X_CV_avgw2v, Y_CV)"
   ]
  },
  {
   "cell_type": "code",
   "execution_count": 77,
   "metadata": {},
   "outputs": [
    {
     "name": "stderr",
     "output_type": "stream",
     "text": [
      "100%|██████████| 10/10 [00:04<00:00,  2.41it/s]\n"
     ]
    }
   ],
   "source": [
    "train_scores = scores(X_train_avgw2v, Y_train)"
   ]
  },
  {
   "cell_type": "code",
   "execution_count": 78,
   "metadata": {},
   "outputs": [
    {
     "data": {
      "image/png": "[encoded data removed]",
      "text/plain": [
       "<matplotlib.figure.Figure at 0x7f95a47efa20>"
      ]
     },
     "metadata": {},
     "output_type": "display_data"
    }
   ],
   "source": [
    "C= [10**-6, 10**-5, 10**-4, 10**-3, 10**-2, 10**-1, 10**0, 10, 10**2, 10**4]\n",
    "log_C = np.log(np.asarray(C))\n",
    "plt.plot(log_C, cv_scores, label='CV_score')\n",
    "plt.plot(log_C, train_scores, label='train_score')\n",
    "plt.title('train VS CV')\n",
    "plt.ylabel('auc score')\n",
    "plt.xlabel('log of hyperparameter')\n",
    "plt.legend()\n",
    "plt.show()"
   ]
  },
  {
   "cell_type": "code",
   "execution_count": 79,
   "metadata": {},
   "outputs": [
    {
     "data": {
      "image/png": "[encoded data removed]",
      "text/plain": [
       "<matplotlib.figure.Figure at 0x7f95a4827208>"
      ]
     },
     "metadata": {},
     "output_type": "display_data"
    },
    {
     "name": "stdout",
     "output_type": "stream",
     "text": [
      "The auc score for each hyperparameter value for cross validation is :  [0.718 0.726 0.738 0.743 0.743 0.744 0.744 0.744 0.744 0.744]\n"
     ]
    }
   ],
   "source": [
    "plt.plot(log_C, cv_scores )\n",
    "\n",
    "plt.title('plot for cv scores according to log of alphas')\n",
    "for xy in zip(np.round(log_C, 2), np.round(cv_scores,3)):\n",
    "    plt.annotate('(%s, %s)' % xy, xy=xy, textcoords='data')\n",
    "plt.xlabel('log of hyperparameters')\n",
    "plt.ylabel('auc scores for cross validation')\n",
    "plt.show()\n",
    "\n",
    "print(\"The auc score for each hyperparameter value for cross validation is : \", np.round(cv_scores,3))"
   ]
  },
  {
   "cell_type": "code",
   "execution_count": 80,
   "metadata": {},
   "outputs": [
    {
     "data": {
      "image/png": "[encoded data removed]",
      "text/plain": [
       "<matplotlib.figure.Figure at 0x7f95a480bd30>"
      ]
     },
     "metadata": {},
     "output_type": "display_data"
    },
    {
     "name": "stdout",
     "output_type": "stream",
     "text": [
      "The auc score for each hyperparameter value for train data is :  [0.721 0.728 0.737 0.743 0.746 0.746 0.746 0.746 0.746 0.746]\n"
     ]
    }
   ],
   "source": [
    "plt.plot(log_C, train_scores )\n",
    "\n",
    "plt.title('plot for train scores according to log of alphas')\n",
    "for xy in zip(np.round(log_C, 2), np.round(train_scores,3)):\n",
    "    plt.annotate('(%s, %s)' % xy, xy=xy, textcoords='data')\n",
    "plt.xlabel('log of hyperparameters')\n",
    "plt.ylabel('auc scores for train data')\n",
    "plt.show()\n",
    "\n",
    "print(\"The auc score for each hyperparameter value for train data is : \", np.round(train_scores,3))"
   ]
  },
  {
   "cell_type": "code",
   "execution_count": 81,
   "metadata": {},
   "outputs": [
    {
     "name": "stdout",
     "output_type": "stream",
     "text": [
      "\n",
      "The optimal value of hyperparameter for cv is 10 and it's value is 0.7444988196241972\n"
     ]
    }
   ],
   "source": [
    "C= [10**-6, 10**-5, 10**-4, 10**-3, 10**-2, 10**-1, 10**0, 10, 10**2, 10**4]\n",
    "optimal_hyperparameter_for_cv = C[cv_scores.index(max(cv_scores))]\n",
    "print('\\nThe optimal value of hyperparameter for cv is {} and it\\'s value is {}'.format(optimal_hyperparameter_for_cv, max(cv_scores)))"
   ]
  },
  {
   "cell_type": "code",
   "execution_count": 82,
   "metadata": {},
   "outputs": [
    {
     "name": "stdout",
     "output_type": "stream",
     "text": [
      "\n",
      "The optimal value of hyperparameter for train is 0.1 and it's value is 0.7462143950499646\n"
     ]
    }
   ],
   "source": [
    "C= [10**-6, 10**-5, 10**-4, 10**-3, 10**-2, 10**-1, 10**0, 10, 10**2, 10**4]\n",
    "optimal_hyperparameter_for_train = C[train_scores.index(max(train_scores))]\n",
    "print('\\nThe optimal value of hyperparameter for train is {} and it\\'s value is {}'.format(optimal_hyperparameter_for_train, max(train_scores)))"
   ]
  },
  {
   "cell_type": "code",
   "execution_count": 83,
   "metadata": {},
   "outputs": [
    {
     "name": "stdout",
     "output_type": "stream",
     "text": [
      "+------------------------+--------------------+---------------------------+--------------------+\n",
      "| hyperparameters for cv |      cv score      | hyperparameters for train |    train score     |\n",
      "+------------------------+--------------------+---------------------------+--------------------+\n",
      "|           10           | 0.7444988196241972 |            0.1            | 0.7462143950499646 |\n",
      "|           10           | 0.7444988196241972 |             1             | 0.7461009391842964 |\n",
      "|           10           | 0.7444988196241972 |             10            | 0.7460447483602578 |\n",
      "|           1            | 0.7443849762726489 |             10            | 0.7460447483602578 |\n",
      "|          0.1           | 0.7437588378391334 |           10000           | 0.7460307006542483 |\n",
      "|         0.001          | 0.7433985835490365 |            0.01           | 0.7456633118628156 |\n",
      "|          0.01          | 0.7432592752372736 |           0.001           | 0.7433530427716915 |\n",
      "|         0.0001         | 0.7375349019748825 |           0.0001          | 0.7365195781001166 |\n",
      "|         1e-05          | 0.7261363364011121 |           1e-05           | 0.7279174253208871 |\n",
      "|         1e-06          | 0.7182729064806825 |           1e-06           | 0.7211350290173585 |\n",
      "+------------------------+--------------------+---------------------------+--------------------+\n"
     ]
    }
   ],
   "source": [
    "x = PrettyTable()\n",
    "x.field_names = ['hyperparameters for cv', 'cv score', 'hyperparameters for train', 'train score']\n",
    "for z, y in zip(sorted(cv_scores, reverse=True), sorted(train_scores, reverse=True)):\n",
    "    x.add_row([C[cv_scores.index(z)], z, C[train_scores.index(y)], y])\n",
    "print(x)"
   ]
  },
  {
   "cell_type": "markdown",
   "metadata": {},
   "source": [
    "## From the above the graphs and the table the optimal value of the hyperparameter 'C' is choosen to be 10"
   ]
  },
  {
   "cell_type": "code",
   "execution_count": 84,
   "metadata": {},
   "outputs": [],
   "source": [
    "LR_optimal = LogisticRegression(penalty='l2', C=10, fit_intercept=False, class_weight={1: 1, 0: 5.3})\n",
    "\n",
    "# fitting the model\n",
    "LR_optimal.fit(X_train_avgw2v, Y_train)\n",
    "\n",
    "# predict the response\n",
    "pred = LR_optimal.predict(X_test_avgw2v)\n",
    "\n",
    "# evaluate auc_score\n",
    "auc_score = roc_auc_score(Y_test, pred)"
   ]
  },
  {
   "cell_type": "code",
   "execution_count": 86,
   "metadata": {},
   "outputs": [
    {
     "name": "stdout",
     "output_type": "stream",
     "text": [
      "\n",
      "The auc score for test data for C = 10 is 0.741806\n"
     ]
    }
   ],
   "source": [
    "print('\\nThe auc score for test data for C = {} is {:2f}'.format(10, auc_score))"
   ]
  },
  {
   "cell_type": "markdown",
   "metadata": {},
   "source": [
    "## Confusion Matrix and the result of the clasifier"
   ]
  },
  {
   "cell_type": "code",
   "execution_count": 87,
   "metadata": {},
   "outputs": [
    {
     "data": {
      "text/plain": [
       "array([[1163,   67],\n",
       "       [4051, 4719]])"
      ]
     },
     "execution_count": 87,
     "metadata": {},
     "output_type": "execute_result"
    }
   ],
   "source": [
    "conf_matrix = confusion_matrix(Y_test, pred)\n",
    "conf_matrix"
   ]
  },
  {
   "cell_type": "code",
   "execution_count": 88,
   "metadata": {},
   "outputs": [
    {
     "data": {
      "image/png": "[encoded data removed]",
      "text/plain": [
       "<matplotlib.figure.Figure at 0x7f95a47cef98>"
      ]
     },
     "metadata": {},
     "output_type": "display_data"
    }
   ],
   "source": [
    "df_cm = pd.DataFrame(conf_matrix, range(2),\n",
    "                  range(2))\n",
    "#plt.figure(figsize = (10,7))\n",
    "sns.set(font_scale=1.4)#for label size\n",
    "sns.heatmap(df_cm, annot=True, fmt=\"d\",cmap=\"YlGnBu\")\n",
    "plt.xlabel('predicted lables')\n",
    "plt.ylabel('actual lables')\n",
    "plt.show()"
   ]
  },
  {
   "cell_type": "code",
   "execution_count": 89,
   "metadata": {},
   "outputs": [
    {
     "name": "stdout",
     "output_type": "stream",
     "text": [
      "             precision    recall  f1-score   support\n",
      "\n",
      "          0       0.22      0.95      0.36      1230\n",
      "          1       0.99      0.54      0.70      8770\n",
      "\n",
      "avg / total       0.89      0.59      0.65     10000\n",
      "\n"
     ]
    }
   ],
   "source": [
    "print(classification_report(Y_test, pred))"
   ]
  },
  {
   "cell_type": "markdown",
   "metadata": {},
   "source": [
    "# TF-IDF W2V"
   ]
  },
  {
   "cell_type": "code",
   "execution_count": 12,
   "metadata": {},
   "outputs": [],
   "source": [
    "i=0\n",
    "list_of_sent =[]\n",
    "for sent in X_train['CleanedText'].values:\n",
    "    filtered_sentence =[]\n",
    "    sent = clean_html(sent)\n",
    "    for w in sent.split():\n",
    "        for cleaned_words in clean_punctuation(w).split():\n",
    "            if(cleaned_words.isalpha()):\n",
    "                filtered_sentence.append(cleaned_words.lower())\n",
    "            else:\n",
    "                continue\n",
    "    list_of_sent.append(filtered_sentence)\n"
   ]
  },
  {
   "cell_type": "code",
   "execution_count": 13,
   "metadata": {},
   "outputs": [],
   "source": [
    "w2v_model=Word2Vec(list_of_sent, min_count=5 ,size=50)"
   ]
  },
  {
   "cell_type": "code",
   "execution_count": 14,
   "metadata": {},
   "outputs": [],
   "source": [
    "w2v_words = list(w2v_model.wv.vocab)"
   ]
  },
  {
   "cell_type": "code",
   "execution_count": 15,
   "metadata": {},
   "outputs": [],
   "source": [
    "model = TfidfVectorizer()\n",
    "tf_idf_matrix = model.fit_transform(X_train['CleanedText'].values)\n",
    "dictionary = dict(zip(model.get_feature_names(), list(model.idf_)))"
   ]
  },
  {
   "cell_type": "code",
   "execution_count": 16,
   "metadata": {},
   "outputs": [
    {
     "name": "stderr",
     "output_type": "stream",
     "text": [
      "100%|██████████| 40000/40000 [00:55<00:00, 714.37it/s]\n"
     ]
    }
   ],
   "source": [
    "tfidf_feat = model.get_feature_names()\n",
    "\n",
    "X_train_tf = []\n",
    "row=0;\n",
    "for sent in tqdm(list_of_sent):  \n",
    "    sent_vec = np.zeros(50) \n",
    "    weight_sum =0; \n",
    "    for word in sent: \n",
    "        if word in w2v_words:\n",
    "            vec = w2v_model.wv[word]\n",
    "            tf_idf = dictionary[word]*(sent.count(word)/len(sent))\n",
    "            sent_vec += (vec * tf_idf)\n",
    "            weight_sum += tf_idf\n",
    "    if weight_sum != 0:\n",
    "        sent_vec /= weight_sum\n",
    "    X_train_tf.append(sent_vec)\n",
    "    row += 1"
   ]
  },
  {
   "cell_type": "code",
   "execution_count": 17,
   "metadata": {},
   "outputs": [
    {
     "data": {
      "text/plain": [
       "(40000, 50)"
      ]
     },
     "execution_count": 17,
     "metadata": {},
     "output_type": "execute_result"
    }
   ],
   "source": [
    "X_train_tfidfw2v = np.asarray(X_train_tf)\n",
    "X_train_tfidfw2v = StandardScaler().fit_transform(X_train_tfidfw2v)\n",
    "X_train_tfidfw2v.shape"
   ]
  },
  {
   "cell_type": "code",
   "execution_count": 18,
   "metadata": {},
   "outputs": [],
   "source": [
    "train_tfidfw2v = open(\"train_tfidfw2v.pickle\", \"wb\")\n",
    "pickle.dump(X_train_tfidfw2v, train_tfidfw2v)\n",
    "train_tfidfw2v.close()"
   ]
  },
  {
   "cell_type": "code",
   "execution_count": 19,
   "metadata": {},
   "outputs": [],
   "source": [
    "i=0\n",
    "list_of_sentence =[]\n",
    "for sent in X_CV['CleanedText'].values:\n",
    "    filtered_sentence =[]\n",
    "    sent = clean_html(sent)\n",
    "    for w in sent.split():\n",
    "        for cleaned_words in clean_punctuation(w).split():\n",
    "            if(cleaned_words.isalpha()):\n",
    "                filtered_sentence.append(cleaned_words.lower())\n",
    "            else:\n",
    "                continue\n",
    "    list_of_sentence.append(filtered_sentence)"
   ]
  },
  {
   "cell_type": "code",
   "execution_count": 20,
   "metadata": {},
   "outputs": [],
   "source": [
    "X_CV_tfidf = model.transform(X_CV['CleanedText'].values)"
   ]
  },
  {
   "cell_type": "code",
   "execution_count": 21,
   "metadata": {},
   "outputs": [
    {
     "name": "stderr",
     "output_type": "stream",
     "text": [
      "100%|██████████| 10000/10000 [00:18<00:00, 542.50it/s]\n"
     ]
    }
   ],
   "source": [
    "tfidf_feat = model.get_feature_names()\n",
    "\n",
    "X_CV_tf = []\n",
    "row=0;\n",
    "for sent in tqdm(list_of_sentence):  \n",
    "    sent_vec = np.zeros(50) \n",
    "    weight_sum =0; \n",
    "    for word in sent: \n",
    "        if word in w2v_words:\n",
    "            vec = w2v_model.wv[word]\n",
    "            tf_idf = dictionary[word]*(sent.count(word)/len(sent))\n",
    "            sent_vec += (vec * tf_idf)\n",
    "            weight_sum += tf_idf\n",
    "    if weight_sum != 0:\n",
    "        sent_vec /= weight_sum\n",
    "    X_CV_tf.append(sent_vec)\n",
    "    row += 1"
   ]
  },
  {
   "cell_type": "code",
   "execution_count": 22,
   "metadata": {},
   "outputs": [
    {
     "data": {
      "text/plain": [
       "(10000, 50)"
      ]
     },
     "execution_count": 22,
     "metadata": {},
     "output_type": "execute_result"
    }
   ],
   "source": [
    "X_CV_tfidfw2v = np.asarray(X_CV_tf)\n",
    "X_CV_tfidfw2v = StandardScaler().fit_transform(X_CV_tfidfw2v)\n",
    "X_CV_tfidfw2v.shape"
   ]
  },
  {
   "cell_type": "code",
   "execution_count": 23,
   "metadata": {},
   "outputs": [],
   "source": [
    "CV_tfidfw2v = open(\"CV_tfidfw2v.pickle\", \"wb\")\n",
    "pickle.dump(X_CV_tfidfw2v, CV_tfidfw2v)\n",
    "CV_tfidfw2v.close()"
   ]
  },
  {
   "cell_type": "code",
   "execution_count": 24,
   "metadata": {},
   "outputs": [],
   "source": [
    "i=0\n",
    "list_of_sen =[]\n",
    "for sent in X_test['CleanedText'].values:\n",
    "    filtered_sentence =[]\n",
    "    sent = clean_html(sent)\n",
    "    for w in sent.split():\n",
    "        for cleaned_words in clean_punctuation(w).split():\n",
    "            if(cleaned_words.isalpha()):\n",
    "                filtered_sentence.append(cleaned_words.lower())\n",
    "            else:\n",
    "                continue\n",
    "    list_of_sen.append(filtered_sentence)\n"
   ]
  },
  {
   "cell_type": "code",
   "execution_count": 25,
   "metadata": {},
   "outputs": [],
   "source": [
    "X_test_tfidf = model.transform(X_test['CleanedText'].values)\n"
   ]
  },
  {
   "cell_type": "code",
   "execution_count": 26,
   "metadata": {},
   "outputs": [
    {
     "name": "stderr",
     "output_type": "stream",
     "text": [
      "100%|██████████| 10000/10000 [00:17<00:00, 587.36it/s]\n"
     ]
    }
   ],
   "source": [
    "tfidf_feat = model.get_feature_names()\n",
    "\n",
    "X_test_tf = []\n",
    "row=0;\n",
    "for sent in tqdm(list_of_sen):  \n",
    "    sent_vec = np.zeros(50) \n",
    "    weight_sum =0; \n",
    "    for word in sent: \n",
    "        if word in w2v_words:\n",
    "            vec = w2v_model.wv[word]\n",
    "            tf_idf = dictionary[word]*(sent.count(word)/len(sent))\n",
    "            sent_vec += (vec * tf_idf)\n",
    "            weight_sum += tf_idf\n",
    "    if weight_sum != 0:\n",
    "        sent_vec /= weight_sum\n",
    "    X_test_tf.append(sent_vec)\n",
    "    row += 1"
   ]
  },
  {
   "cell_type": "code",
   "execution_count": 27,
   "metadata": {},
   "outputs": [
    {
     "data": {
      "text/plain": [
       "(10000, 50)"
      ]
     },
     "execution_count": 27,
     "metadata": {},
     "output_type": "execute_result"
    }
   ],
   "source": [
    "X_test_tfidfw2v = np.asarray(X_test_tf)\n",
    "X_test_tfidfw2v = StandardScaler().fit_transform(X_test_tfidfw2v)\n",
    "X_test_tfidfw2v.shape"
   ]
  },
  {
   "cell_type": "code",
   "execution_count": 28,
   "metadata": {},
   "outputs": [],
   "source": [
    "test_tfidfw2v = open(\"test_tfidfw2v.pickle\", \"wb\")\n",
    "pickle.dump(X_test_tfidfw2v, test_tfidfw2v)\n",
    "test_tfidfw2v.close()"
   ]
  },
  {
   "cell_type": "markdown",
   "metadata": {},
   "source": [
    "## Logistic Regression on TF-IDF weighted W2V"
   ]
  },
  {
   "cell_type": "code",
   "execution_count": 29,
   "metadata": {},
   "outputs": [],
   "source": [
    "def scores(x, y):\n",
    "    C= [10**-6, 10**-5, 10**-4, 10**-3, 10**-2, 10**-1, 10**0, 10, 10**2, 10**4]\n",
    "    scores = []\n",
    "    for c in tqdm(C):\n",
    "        LR = LogisticRegression(penalty='l2', C=c, fit_intercept=False, class_weight={1: 1, 0: 5.3})\n",
    "        LR.fit(X_train_tfidfw2v, Y_train)\n",
    "        pred = LR.predict(x)\n",
    "        auc = roc_auc_score(y, pred)\n",
    "        scores.append(auc)\n",
    "    return scores"
   ]
  },
  {
   "cell_type": "code",
   "execution_count": 30,
   "metadata": {},
   "outputs": [
    {
     "name": "stderr",
     "output_type": "stream",
     "text": [
      "100%|██████████| 10/10 [00:04<00:00,  2.31it/s]\n"
     ]
    }
   ],
   "source": [
    "cv_scores = scores(X_CV_tfidfw2v, Y_CV)"
   ]
  },
  {
   "cell_type": "code",
   "execution_count": 31,
   "metadata": {},
   "outputs": [
    {
     "name": "stderr",
     "output_type": "stream",
     "text": [
      "100%|██████████| 10/10 [00:04<00:00,  2.05it/s]\n"
     ]
    }
   ],
   "source": [
    "train_scores = scores(X_train_tfidfw2v, Y_train)"
   ]
  },
  {
   "cell_type": "code",
   "execution_count": 32,
   "metadata": {},
   "outputs": [
    {
     "data": {
      "image/png": "[encoded data removed]",
      "text/plain": [
       "<matplotlib.figure.Figure at 0x7f598d5bb2b0>"
      ]
     },
     "metadata": {},
     "output_type": "display_data"
    }
   ],
   "source": [
    "C= [10**-6, 10**-5, 10**-4, 10**-3, 10**-2, 10**-1, 10**0, 10, 10**2, 10**4]\n",
    "log_C = np.log(np.asarray(C))\n",
    "plt.plot(log_C, cv_scores, label='CV_score')\n",
    "plt.plot(log_C, train_scores, label='train_score')\n",
    "plt.title('train VS CV')\n",
    "plt.ylabel('auc score')\n",
    "plt.xlabel('log of hyperparameter')\n",
    "plt.legend()\n",
    "plt.show()"
   ]
  },
  {
   "cell_type": "code",
   "execution_count": 33,
   "metadata": {},
   "outputs": [
    {
     "data": {
      "image/png": "[encoded data removed]",
      "text/plain": [
       "<matplotlib.figure.Figure at 0x7f598d383978>"
      ]
     },
     "metadata": {},
     "output_type": "display_data"
    },
    {
     "name": "stdout",
     "output_type": "stream",
     "text": [
      "The auc score for each hyperparameter value for cross validation is :  [0.666 0.698 0.726 0.729 0.73  0.729 0.73  0.73  0.73  0.73 ]\n"
     ]
    }
   ],
   "source": [
    "plt.plot(log_C, cv_scores )\n",
    "\n",
    "plt.title('plot for cv scores according to log of alphas')\n",
    "for xy in zip(np.round(log_C, 2), np.round(cv_scores,3)):\n",
    "    plt.annotate('(%s, %s)' % xy, xy=xy, textcoords='data')\n",
    "plt.xlabel('log of hyperparameters')\n",
    "plt.ylabel('auc scores for cross validation')\n",
    "plt.show()\n",
    "\n",
    "print(\"The auc score for each hyperparameter value for cross validation is : \", np.round(cv_scores,3))"
   ]
  },
  {
   "cell_type": "code",
   "execution_count": 34,
   "metadata": {},
   "outputs": [
    {
     "data": {
      "image/png": "[encoded data removed]",
      "text/plain": [
       "<matplotlib.figure.Figure at 0x7f598da27a90>"
      ]
     },
     "metadata": {},
     "output_type": "display_data"
    },
    {
     "name": "stdout",
     "output_type": "stream",
     "text": [
      "The auc score for each hyperparameter value for train data is :  [0.694 0.71  0.731 0.739 0.74  0.74  0.74  0.74  0.74  0.74 ]\n"
     ]
    }
   ],
   "source": [
    "plt.plot(log_C, train_scores )\n",
    "\n",
    "plt.title('plot for train scores according to log of alphas')\n",
    "for xy in zip(np.round(log_C, 2), np.round(train_scores,3)):\n",
    "    plt.annotate('(%s, %s)' % xy, xy=xy, textcoords='data')\n",
    "plt.xlabel('log of hyperparameters')\n",
    "plt.ylabel('auc scores for train data')\n",
    "plt.show()\n",
    "\n",
    "print(\"The auc score for each hyperparameter value for train data is : \", np.round(train_scores,3))"
   ]
  },
  {
   "cell_type": "code",
   "execution_count": 35,
   "metadata": {},
   "outputs": [
    {
     "name": "stdout",
     "output_type": "stream",
     "text": [
      "\n",
      "The optimal value of hyperparameter for cv is 0.01 and it's value is 0.7303095939986579\n"
     ]
    }
   ],
   "source": [
    "C= [10**-6, 10**-5, 10**-4, 10**-3, 10**-2, 10**-1, 10**0, 10, 10**2, 10**4]\n",
    "optimal_hyperparameter_for_cv = C[cv_scores.index(max(cv_scores))]\n",
    "print('\\nThe optimal value of hyperparameter for cv is {} and it\\'s value is {}'.format(optimal_hyperparameter_for_cv, max(cv_scores)))"
   ]
  },
  {
   "cell_type": "code",
   "execution_count": 36,
   "metadata": {},
   "outputs": [
    {
     "name": "stdout",
     "output_type": "stream",
     "text": [
      "\n",
      "The optimal value of hyperparameter for train is 10 and it's value is 0.7400738963525124\n"
     ]
    }
   ],
   "source": [
    "C= [10**-6, 10**-5, 10**-4, 10**-3, 10**-2, 10**-1, 10**0, 10, 10**2, 10**4]\n",
    "optimal_hyperparameter_for_train = C[train_scores.index(max(train_scores))]\n",
    "print('\\nThe optimal value of hyperparameter for train is {} and it\\'s value is {}'.format(optimal_hyperparameter_for_train, max(train_scores)))"
   ]
  },
  {
   "cell_type": "code",
   "execution_count": 37,
   "metadata": {},
   "outputs": [
    {
     "name": "stdout",
     "output_type": "stream",
     "text": [
      "+------------------------+--------------------+---------------------------+--------------------+\n",
      "| hyperparameters for cv |      cv score      | hyperparameters for train |    train score     |\n",
      "+------------------------+--------------------+---------------------------+--------------------+\n",
      "|          0.01          | 0.7303095939986579 |             10            | 0.7400738963525124 |\n",
      "|           1            | 0.7298796855526795 |             10            | 0.7400738963525124 |\n",
      "|           1            | 0.7298796855526795 |             10            | 0.7400738963525124 |\n",
      "|           1            | 0.7298796855526795 |             1             | 0.7400458009404931 |\n",
      "|           1            | 0.7298796855526795 |            0.1            | 0.7400166313108826 |\n",
      "|          0.1           | 0.7289434737800786 |            0.01           | 0.7397756718735363 |\n",
      "|         0.001          | 0.7287659680279935 |           0.001           | 0.7389339666078729 |\n",
      "|         0.0001         | 0.7260899002971911 |           0.0001          | 0.7310795648999268 |\n",
      "|         1e-05          | 0.6979204115137569 |           1e-05           | 0.7097433339714249 |\n",
      "|         1e-06          | 0.666354346419327  |           1e-06           | 0.6935169967456816 |\n",
      "+------------------------+--------------------+---------------------------+--------------------+\n"
     ]
    }
   ],
   "source": [
    "x = PrettyTable()\n",
    "x.field_names = ['hyperparameters for cv', 'cv score', 'hyperparameters for train', 'train score']\n",
    "for z, y in zip(sorted(cv_scores, reverse=True), sorted(train_scores, reverse=True)):\n",
    "    x.add_row([C[cv_scores.index(z)], z, C[train_scores.index(y)], y])\n",
    "print(x)"
   ]
  },
  {
   "cell_type": "markdown",
   "metadata": {},
   "source": [
    "## From the above the graphs and the table the optimal value of the hyperparameter 'C' is choosen to be 1"
   ]
  },
  {
   "cell_type": "code",
   "execution_count": 38,
   "metadata": {},
   "outputs": [],
   "source": [
    "LR_optimal = LogisticRegression(penalty='l2', C=1, fit_intercept=False, class_weight={1: 1, 0: 5.3})\n",
    "\n",
    "# fitting the model\n",
    "LR_optimal.fit(X_train_tfidfw2v, Y_train)\n",
    "\n",
    "# predict the response\n",
    "pred = LR_optimal.predict(X_test_tfidfw2v)\n",
    "\n",
    "# evaluate auc_score\n",
    "auc_score = roc_auc_score(Y_test, pred)"
   ]
  },
  {
   "cell_type": "code",
   "execution_count": 39,
   "metadata": {},
   "outputs": [
    {
     "name": "stdout",
     "output_type": "stream",
     "text": [
      "\n",
      "The auc score for test data for C = 1 is 0.733704\n"
     ]
    }
   ],
   "source": [
    "print('\\nThe auc score for test data for C = {} is {:2f}'.format(1, auc_score))"
   ]
  },
  {
   "cell_type": "markdown",
   "metadata": {},
   "source": [
    "## Confusion Matrix and the result of the clasifier"
   ]
  },
  {
   "cell_type": "code",
   "execution_count": 40,
   "metadata": {},
   "outputs": [
    {
     "data": {
      "text/plain": [
       "array([[1139,   91],\n",
       "       [4022, 4748]])"
      ]
     },
     "execution_count": 40,
     "metadata": {},
     "output_type": "execute_result"
    }
   ],
   "source": [
    "conf_matrix = confusion_matrix(Y_test, pred)\n",
    "conf_matrix"
   ]
  },
  {
   "cell_type": "code",
   "execution_count": 41,
   "metadata": {},
   "outputs": [
    {
     "data": {
      "image/png": "[encoded data removed]",
      "text/plain": [
       "<matplotlib.figure.Figure at 0x7f598c57bd68>"
      ]
     },
     "metadata": {},
     "output_type": "display_data"
    }
   ],
   "source": [
    "df_cm = pd.DataFrame(conf_matrix, range(2),\n",
    "                  range(2))\n",
    "#plt.figure(figsize = (10,7))\n",
    "sns.set(font_scale=1.4)#for label size\n",
    "sns.heatmap(df_cm, annot=True, fmt=\"d\",cmap=\"YlGnBu\")\n",
    "plt.xlabel('predicted lables')\n",
    "plt.ylabel('actual lables')\n",
    "plt.show()"
   ]
  },
  {
   "cell_type": "code",
   "execution_count": 42,
   "metadata": {},
   "outputs": [
    {
     "name": "stdout",
     "output_type": "stream",
     "text": [
      "             precision    recall  f1-score   support\n",
      "\n",
      "          0       0.22      0.93      0.36      1230\n",
      "          1       0.98      0.54      0.70      8770\n",
      "\n",
      "avg / total       0.89      0.59      0.66     10000\n",
      "\n"
     ]
    }
   ],
   "source": [
    "print(classification_report(Y_test, pred))"
   ]
  },
  {
   "cell_type": "code",
   "execution_count": 44,
   "metadata": {},
   "outputs": [
    {
     "name": "stdout",
     "output_type": "stream",
     "text": [
      "+---------------------+---------------------+----------------+---------------------------+\n",
      "|      Vectorizer     |        Model        | Hyperparameter | f1-Score on the test data |\n",
      "+---------------------+---------------------+----------------+---------------------------+\n",
      "|         BOW         | Logistic Regression |       1        |           0.8148          |\n",
      "|        TF-IDF       | Logistic Regression |       1        |           0.8288          |\n",
      "|     Average W2V     | Logistic Regression |       10       |           0.7418          |\n",
      "| TF-IDF Weighted W2V | Logistic Regression |       1        |           0.7337          |\n",
      "+---------------------+---------------------+----------------+---------------------------+\n"
     ]
    }
   ],
   "source": [
    "x = PrettyTable()\n",
    "x.field_names = [\"Vectorizer\", \"Model\", \"Hyperparameter\", \"f1-Score on the test data\"]\n",
    "x.add_row(['BOW', 'Logistic Regression', 1, '0.8148'])\n",
    "x.add_row(['TF-IDF', 'Logistic Regression', 1, '0.8288'])\n",
    "x.add_row(['Average W2V', 'Logistic Regression',10, '0.7418'])\n",
    "x.add_row(['TF-IDF Weighted W2V', 'Logistic Regression', 1, '0.7337'])\n",
    "print(x)"
   ]
  },
  {
   "cell_type": "markdown",
   "metadata": {},
   "source": [
    "### Observation :- Amongst all the models the model with TF-IDF vectorizer performed best with slight improvment as compared to the model with BOW vectorizer."
   ]
  }
 ],
 "metadata": {
  "kernelspec": {
   "display_name": "Python 3",
   "language": "python",
   "name": "python3"
  },
  "language_info": {
   "codemirror_mode": {
    "name": "ipython",
    "version": 3
   },
   "file_extension": ".py",
   "mimetype": "text/x-python",
   "name": "python",
   "nbconvert_exporter": "python",
   "pygments_lexer": "ipython3",
   "version": "3.6.4"
  }
 },
 "nbformat": 4,
 "nbformat_minor": 2
}
