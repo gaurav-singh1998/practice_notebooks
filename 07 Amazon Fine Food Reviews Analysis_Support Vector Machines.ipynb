{
 "cells": [
  {
   "cell_type": "markdown",
   "metadata": {},
   "source": [
    "# Amazon Fine Food Reviews Analysis\n",
    "\n",
    "\n",
    "Data Source: https://www.kaggle.com/snap/amazon-fine-food-reviews <br>\n",
    "\n",
    "EDA: https://nycdatascience.com/blog/student-works/amazon-fine-foods-visualization/\n",
    "\n",
    "\n",
    "The Amazon Fine Food Reviews dataset consists of reviews of fine foods from Amazon.<br>\n",
    "\n",
    "Number of reviews: 568,454<br>\n",
    "Number of users: 256,059<br>\n",
    "Number of products: 74,258<br>\n",
    "Timespan: Oct 1999 - Oct 2012<br>\n",
    "Number of Attributes/Columns in data: 10 \n",
    "\n",
    "Attribute Information:\n",
    "\n",
    "1. Id\n",
    "2. ProductId - unique identifier for the product\n",
    "3. UserId - unqiue identifier for the user\n",
    "4. ProfileName\n",
    "5. HelpfulnessNumerator - number of users who found the review helpful\n",
    "6. HelpfulnessDenominator - number of users who indicated whether they found the review helpful or not\n",
    "7. Score - rating between 1 and 5\n",
    "8. Time - timestamp for the review\n",
    "9. Summary - brief summary of the review\n",
    "10. Text - text of the review\n",
    "\n",
    "\n",
    "#### Objective:\n",
    "Given a review, determine whether the review is positive (rating of 4 or 5) or negative (rating of 1 or 2).\n",
    "\n",
    "<br>\n",
    "[Q] How to determine if a review is positive or negative?<br>\n",
    "<br> \n",
    "[Ans] We could use Score/Rating. A rating of 4 or 5 can be cosnidered as a positive review. A rating of 1 or 2 can be considered as negative one. A review of rating 3 is considered nuetral and such reviews are ignored from our analysis. This is an approximate and proxy way of determining the polarity (positivity/negativity) of a review."
   ]
  },
  {
   "cell_type": "markdown",
   "metadata": {},
   "source": [
    "# [1]. Reading Data"
   ]
  },
  {
   "cell_type": "markdown",
   "metadata": {},
   "source": [
    "## [1.1] Loading the data\n",
    "\n",
    "The dataset is available in two forms\n",
    "1. .csv file\n",
    "2. SQLite Database\n",
    "\n",
    "In order to load the data, We have used the SQLITE dataset as it is easier to query the data and visualise the data efficiently.\n",
    "<br> \n",
    "\n",
    "Here as we only want to get the global sentiment of the recommendations (positive or negative), we will purposefully ignore all Scores equal to 3. If the score is above 3, then the recommendation wil be set to \"positive\". Otherwise, it will be set to \"negative\"."
   ]
  },
  {
   "cell_type": "code",
   "execution_count": 2,
   "metadata": {},
   "outputs": [
    {
     "name": "stderr",
     "output_type": "stream",
     "text": [
      "/home/blurryface/anaconda3/lib/python3.6/site-packages/sklearn/cross_validation.py:41: DeprecationWarning: This module was deprecated in version 0.18 in favor of the model_selection module into which all the refactored classes and functions are moved. Also note that the interface of the new CV iterators are different from that of this module. This module will be removed in 0.20.\n",
      "  \"This module will be removed in 0.20.\", DeprecationWarning)\n",
      "/home/blurryface/anaconda3/lib/python3.6/site-packages/sklearn/grid_search.py:42: DeprecationWarning: This module was deprecated in version 0.18 in favor of the model_selection module into which all the refactored classes and functions are moved. This module will be removed in 0.20.\n",
      "  DeprecationWarning)\n"
     ]
    }
   ],
   "source": [
    "#importing the required libraries\n",
    "%matplotlib inline\n",
    "import warnings\n",
    "warnings.filterwarnings('ignore')\n",
    "import numpy as np\n",
    "import matplotlib.pyplot as plt\n",
    "import seaborn as sns\n",
    "import pandas as pd\n",
    "import sqlite3\n",
    "from sklearn.feature_extraction.text import TfidfTransformer\n",
    "from sklearn.feature_extraction.text import TfidfVectorizer\n",
    "import nltk\n",
    "from sklearn.feature_extraction.text import CountVectorizer\n",
    "from sklearn.preprocessing import StandardScaler\n",
    "from scipy.linalg import eigh\n",
    "import re\n",
    "from gensim.models import word2vec\n",
    "import pickle\n",
    "from gensim.models import KeyedVectors\n",
    "import string\n",
    "from nltk.corpus import stopwords\n",
    "from nltk.stem.wordnet import WordNetLemmatizer\n",
    "from gensim.models import Word2Vec\n",
    "from sklearn import decomposition\n",
    "pca = decomposition.PCA()\n",
    "from sklearn.manifold import TSNE\n",
    "from scipy.sparse import csc_matrix\n",
    "from scipy.sparse import csr_matrix\n",
    "from tqdm import tqdm\n",
    "import string\n",
    "from sklearn.cross_validation import train_test_split\n",
    "from sklearn import linear_model \n",
    "from sklearn.metrics import accuracy_score\n",
    "from sklearn.cross_validation import cross_val_score\n",
    "from collections import Counter\n",
    "from sklearn.metrics import accuracy_score\n",
    "from sklearn import cross_validation\n",
    "from sklearn.model_selection import TimeSeriesSplit\n",
    "from prettytable import PrettyTable\n",
    "from sklearn.metrics import confusion_matrix\n",
    "from sklearn.metrics import classification_report\n",
    "from sklearn.metrics import f1_score\n",
    "from sklearn.metrics import roc_curve, auc\n",
    "from sklearn.decomposition import TruncatedSVD\n",
    "from sklearn.grid_search import GridSearchCV\n",
    "from sklearn.metrics import roc_auc_score\n",
    "from sklearn.calibration import CalibratedClassifierCV\n",
    "from sklearn.svm import SVC"
   ]
  },
  {
   "cell_type": "code",
   "execution_count": 3,
   "metadata": {},
   "outputs": [],
   "source": [
    "#loading the data through sqlite and preprocesing it a little bit.\n",
    "temp = sqlite3.connect('database.sqlite')\n",
    "temp = pd.read_sql_query(\"\"\"SELECT * FROM Reviews WHERE SCORE != 3\"\"\", temp)\n",
    "def partiton(x):\n",
    "    if x > 3:\n",
    "        return 'positive'\n",
    "    else:\n",
    "        return 'negative'\n",
    "score = temp['Score']\n",
    "positive_negative = score.map(partiton)\n",
    "temp['Score'] = positive_negative"
   ]
  },
  {
   "cell_type": "code",
   "execution_count": 4,
   "metadata": {},
   "outputs": [
    {
     "data": {
      "text/html": [
       "<div>\n",
       "<style scoped>\n",
       "    .dataframe tbody tr th:only-of-type {\n",
       "        vertical-align: middle;\n",
       "    }\n",
       "\n",
       "    .dataframe tbody tr th {\n",
       "        vertical-align: top;\n",
       "    }\n",
       "\n",
       "    .dataframe thead th {\n",
       "        text-align: right;\n",
       "    }\n",
       "</style>\n",
       "<table border=\"1\" class=\"dataframe\">\n",
       "  <thead>\n",
       "    <tr style=\"text-align: right;\">\n",
       "      <th></th>\n",
       "      <th>Id</th>\n",
       "      <th>ProductId</th>\n",
       "      <th>UserId</th>\n",
       "      <th>ProfileName</th>\n",
       "      <th>HelpfulnessNumerator</th>\n",
       "      <th>HelpfulnessDenominator</th>\n",
       "      <th>Score</th>\n",
       "      <th>Time</th>\n",
       "      <th>Summary</th>\n",
       "      <th>Text</th>\n",
       "    </tr>\n",
       "  </thead>\n",
       "  <tbody>\n",
       "    <tr>\n",
       "      <th>138706</th>\n",
       "      <td>150524</td>\n",
       "      <td>0006641040</td>\n",
       "      <td>ACITT7DI6IDDL</td>\n",
       "      <td>shari zychinski</td>\n",
       "      <td>0</td>\n",
       "      <td>0</td>\n",
       "      <td>positive</td>\n",
       "      <td>939340800</td>\n",
       "      <td>EVERY book is educational</td>\n",
       "      <td>this witty little book makes my son laugh at l...</td>\n",
       "    </tr>\n",
       "    <tr>\n",
       "      <th>138683</th>\n",
       "      <td>150501</td>\n",
       "      <td>0006641040</td>\n",
       "      <td>AJ46FKXOVC7NR</td>\n",
       "      <td>Nicholas A Mesiano</td>\n",
       "      <td>2</td>\n",
       "      <td>2</td>\n",
       "      <td>positive</td>\n",
       "      <td>940809600</td>\n",
       "      <td>This whole series is great way to spend time w...</td>\n",
       "      <td>I can remember seeing the show when it aired o...</td>\n",
       "    </tr>\n",
       "    <tr>\n",
       "      <th>417839</th>\n",
       "      <td>451856</td>\n",
       "      <td>B00004CXX9</td>\n",
       "      <td>AIUWLEQ1ADEG5</td>\n",
       "      <td>Elizabeth Medina</td>\n",
       "      <td>0</td>\n",
       "      <td>0</td>\n",
       "      <td>positive</td>\n",
       "      <td>944092800</td>\n",
       "      <td>Entertainingl Funny!</td>\n",
       "      <td>Beetlejuice is a well written movie ..... ever...</td>\n",
       "    </tr>\n",
       "    <tr>\n",
       "      <th>417859</th>\n",
       "      <td>451878</td>\n",
       "      <td>B00004CXX9</td>\n",
       "      <td>A344SMIA5JECGM</td>\n",
       "      <td>Vincent P. Ross</td>\n",
       "      <td>1</td>\n",
       "      <td>2</td>\n",
       "      <td>positive</td>\n",
       "      <td>944438400</td>\n",
       "      <td>A modern day fairy tale</td>\n",
       "      <td>A twist of rumplestiskin captured on film, sta...</td>\n",
       "    </tr>\n",
       "    <tr>\n",
       "      <th>212472</th>\n",
       "      <td>230285</td>\n",
       "      <td>B00004RYGX</td>\n",
       "      <td>A344SMIA5JECGM</td>\n",
       "      <td>Vincent P. Ross</td>\n",
       "      <td>1</td>\n",
       "      <td>2</td>\n",
       "      <td>positive</td>\n",
       "      <td>944438400</td>\n",
       "      <td>A modern day fairy tale</td>\n",
       "      <td>A twist of rumplestiskin captured on film, sta...</td>\n",
       "    </tr>\n",
       "  </tbody>\n",
       "</table>\n",
       "</div>"
      ],
      "text/plain": [
       "            Id   ProductId          UserId         ProfileName  \\\n",
       "138706  150524  0006641040   ACITT7DI6IDDL     shari zychinski   \n",
       "138683  150501  0006641040   AJ46FKXOVC7NR  Nicholas A Mesiano   \n",
       "417839  451856  B00004CXX9   AIUWLEQ1ADEG5    Elizabeth Medina   \n",
       "417859  451878  B00004CXX9  A344SMIA5JECGM     Vincent P. Ross   \n",
       "212472  230285  B00004RYGX  A344SMIA5JECGM     Vincent P. Ross   \n",
       "\n",
       "        HelpfulnessNumerator  HelpfulnessDenominator     Score       Time  \\\n",
       "138706                     0                       0  positive  939340800   \n",
       "138683                     2                       2  positive  940809600   \n",
       "417839                     0                       0  positive  944092800   \n",
       "417859                     1                       2  positive  944438400   \n",
       "212472                     1                       2  positive  944438400   \n",
       "\n",
       "                                                  Summary  \\\n",
       "138706                          EVERY book is educational   \n",
       "138683  This whole series is great way to spend time w...   \n",
       "417839                               Entertainingl Funny!   \n",
       "417859                            A modern day fairy tale   \n",
       "212472                            A modern day fairy tale   \n",
       "\n",
       "                                                     Text  \n",
       "138706  this witty little book makes my son laugh at l...  \n",
       "138683  I can remember seeing the show when it aired o...  \n",
       "417839  Beetlejuice is a well written movie ..... ever...  \n",
       "417859  A twist of rumplestiskin captured on film, sta...  \n",
       "212472  A twist of rumplestiskin captured on film, sta...  "
      ]
     },
     "execution_count": 4,
     "metadata": {},
     "output_type": "execute_result"
    }
   ],
   "source": [
    "#sorting the data in ascending order according to the time stamp\n",
    "temp.sort_values('Time', inplace=True)\n",
    "temp.head()"
   ]
  },
  {
   "cell_type": "markdown",
   "metadata": {},
   "source": [
    "#  [2] Exploratory Data Analysis"
   ]
  },
  {
   "cell_type": "markdown",
   "metadata": {},
   "source": [
    "## [2.1] Data Cleaning: Deduplication\n",
    "\n",
    "It is observed (as shown in the table below) that the reviews data had many duplicate entries. Hence it was necessary to remove duplicates in order to get unbiased results for the analysis of the data.  Following is an example:"
   ]
  },
  {
   "cell_type": "code",
   "execution_count": 4,
   "metadata": {},
   "outputs": [
    {
     "data": {
      "text/html": [
       "<div>\n",
       "<style scoped>\n",
       "    .dataframe tbody tr th:only-of-type {\n",
       "        vertical-align: middle;\n",
       "    }\n",
       "\n",
       "    .dataframe tbody tr th {\n",
       "        vertical-align: top;\n",
       "    }\n",
       "\n",
       "    .dataframe thead th {\n",
       "        text-align: right;\n",
       "    }\n",
       "</style>\n",
       "<table border=\"1\" class=\"dataframe\">\n",
       "  <thead>\n",
       "    <tr style=\"text-align: right;\">\n",
       "      <th></th>\n",
       "      <th>Id</th>\n",
       "      <th>ProductId</th>\n",
       "      <th>UserId</th>\n",
       "      <th>ProfileName</th>\n",
       "      <th>HelpfulnessNumerator</th>\n",
       "      <th>HelpfulnessDenominator</th>\n",
       "      <th>Score</th>\n",
       "      <th>Time</th>\n",
       "      <th>Summary</th>\n",
       "      <th>Text</th>\n",
       "    </tr>\n",
       "  </thead>\n",
       "  <tbody>\n",
       "    <tr>\n",
       "      <th>0</th>\n",
       "      <td>78445</td>\n",
       "      <td>B000HDL1RQ</td>\n",
       "      <td>AR5J8UI46CURR</td>\n",
       "      <td>Geetha Krishnan</td>\n",
       "      <td>2</td>\n",
       "      <td>2</td>\n",
       "      <td>5</td>\n",
       "      <td>1199577600</td>\n",
       "      <td>LOACKER QUADRATINI VANILLA WAFERS</td>\n",
       "      <td>DELICIOUS WAFERS. I FIND THAT EUROPEAN WAFERS ...</td>\n",
       "    </tr>\n",
       "    <tr>\n",
       "      <th>1</th>\n",
       "      <td>138317</td>\n",
       "      <td>B000HDOPYC</td>\n",
       "      <td>AR5J8UI46CURR</td>\n",
       "      <td>Geetha Krishnan</td>\n",
       "      <td>2</td>\n",
       "      <td>2</td>\n",
       "      <td>5</td>\n",
       "      <td>1199577600</td>\n",
       "      <td>LOACKER QUADRATINI VANILLA WAFERS</td>\n",
       "      <td>DELICIOUS WAFERS. I FIND THAT EUROPEAN WAFERS ...</td>\n",
       "    </tr>\n",
       "    <tr>\n",
       "      <th>2</th>\n",
       "      <td>138277</td>\n",
       "      <td>B000HDOPYM</td>\n",
       "      <td>AR5J8UI46CURR</td>\n",
       "      <td>Geetha Krishnan</td>\n",
       "      <td>2</td>\n",
       "      <td>2</td>\n",
       "      <td>5</td>\n",
       "      <td>1199577600</td>\n",
       "      <td>LOACKER QUADRATINI VANILLA WAFERS</td>\n",
       "      <td>DELICIOUS WAFERS. I FIND THAT EUROPEAN WAFERS ...</td>\n",
       "    </tr>\n",
       "    <tr>\n",
       "      <th>3</th>\n",
       "      <td>73791</td>\n",
       "      <td>B000HDOPZG</td>\n",
       "      <td>AR5J8UI46CURR</td>\n",
       "      <td>Geetha Krishnan</td>\n",
       "      <td>2</td>\n",
       "      <td>2</td>\n",
       "      <td>5</td>\n",
       "      <td>1199577600</td>\n",
       "      <td>LOACKER QUADRATINI VANILLA WAFERS</td>\n",
       "      <td>DELICIOUS WAFERS. I FIND THAT EUROPEAN WAFERS ...</td>\n",
       "    </tr>\n",
       "    <tr>\n",
       "      <th>4</th>\n",
       "      <td>155049</td>\n",
       "      <td>B000PAQ75C</td>\n",
       "      <td>AR5J8UI46CURR</td>\n",
       "      <td>Geetha Krishnan</td>\n",
       "      <td>2</td>\n",
       "      <td>2</td>\n",
       "      <td>5</td>\n",
       "      <td>1199577600</td>\n",
       "      <td>LOACKER QUADRATINI VANILLA WAFERS</td>\n",
       "      <td>DELICIOUS WAFERS. I FIND THAT EUROPEAN WAFERS ...</td>\n",
       "    </tr>\n",
       "  </tbody>\n",
       "</table>\n",
       "</div>"
      ],
      "text/plain": [
       "       Id   ProductId         UserId      ProfileName  HelpfulnessNumerator  \\\n",
       "0   78445  B000HDL1RQ  AR5J8UI46CURR  Geetha Krishnan                     2   \n",
       "1  138317  B000HDOPYC  AR5J8UI46CURR  Geetha Krishnan                     2   \n",
       "2  138277  B000HDOPYM  AR5J8UI46CURR  Geetha Krishnan                     2   \n",
       "3   73791  B000HDOPZG  AR5J8UI46CURR  Geetha Krishnan                     2   \n",
       "4  155049  B000PAQ75C  AR5J8UI46CURR  Geetha Krishnan                     2   \n",
       "\n",
       "   HelpfulnessDenominator  Score        Time  \\\n",
       "0                       2      5  1199577600   \n",
       "1                       2      5  1199577600   \n",
       "2                       2      5  1199577600   \n",
       "3                       2      5  1199577600   \n",
       "4                       2      5  1199577600   \n",
       "\n",
       "                             Summary  \\\n",
       "0  LOACKER QUADRATINI VANILLA WAFERS   \n",
       "1  LOACKER QUADRATINI VANILLA WAFERS   \n",
       "2  LOACKER QUADRATINI VANILLA WAFERS   \n",
       "3  LOACKER QUADRATINI VANILLA WAFERS   \n",
       "4  LOACKER QUADRATINI VANILLA WAFERS   \n",
       "\n",
       "                                                Text  \n",
       "0  DELICIOUS WAFERS. I FIND THAT EUROPEAN WAFERS ...  \n",
       "1  DELICIOUS WAFERS. I FIND THAT EUROPEAN WAFERS ...  \n",
       "2  DELICIOUS WAFERS. I FIND THAT EUROPEAN WAFERS ...  \n",
       "3  DELICIOUS WAFERS. I FIND THAT EUROPEAN WAFERS ...  \n",
       "4  DELICIOUS WAFERS. I FIND THAT EUROPEAN WAFERS ...  "
      ]
     },
     "execution_count": 4,
     "metadata": {},
     "output_type": "execute_result"
    }
   ],
   "source": [
    "display= pd.read_sql_query(\"\"\"\n",
    "SELECT *\n",
    "FROM Reviews\n",
    "WHERE Score != 3 AND UserId=\"AR5J8UI46CURR\"\n",
    "ORDER BY ProductID\n",
    "\"\"\", sqlite3.connect('database.sqlite'))\n",
    "display.head()"
   ]
  },
  {
   "cell_type": "markdown",
   "metadata": {},
   "source": [
    "As it can be seen above that same user has multiple reviews with same values for HelpfulnessNumerator, HelpfulnessDenominator, Score, Time, Summary and Text and on doing analysis it was found that <br>\n",
    "<br> \n",
    "ProductId=B000HDOPZG was Loacker Quadratini Vanilla Wafer Cookies, 8.82-Ounce Packages (Pack of 8)<br>\n",
    "<br> \n",
    "ProductId=B000HDL1RQ was Loacker Quadratini Lemon Wafer Cookies, 8.82-Ounce Packages (Pack of 8) and so on<br>\n",
    "\n",
    "It was inferred after analysis that reviews with same parameters other than ProductId belonged to the same product just having different flavour or quantity. Hence in order to reduce redundancy it was decided to eliminate the rows having same parameters.<br>\n",
    "\n",
    "The method used for the same was that we first sort the data according to ProductId and then just keep the first similar product review and delelte the others. for eg. in the above just the review for ProductId=B000HDL1RQ remains. This method ensures that there is only one representative for each product and deduplication without sorting would lead to possibility of different representatives still existing for the same product."
   ]
  },
  {
   "cell_type": "code",
   "execution_count": 5,
   "metadata": {},
   "outputs": [
    {
     "data": {
      "text/plain": [
       "(364173, 10)"
      ]
     },
     "execution_count": 5,
     "metadata": {},
     "output_type": "execute_result"
    }
   ],
   "source": [
    "#getting rid of the duplicates\n",
    "final = temp.drop_duplicates(subset={\"UserId\",\"ProfileName\",\"Time\",\"Text\"}, keep='first', inplace=False)\n",
    "final.shape"
   ]
  },
  {
   "cell_type": "code",
   "execution_count": 6,
   "metadata": {},
   "outputs": [
    {
     "data": {
      "text/html": [
       "<div>\n",
       "<style scoped>\n",
       "    .dataframe tbody tr th:only-of-type {\n",
       "        vertical-align: middle;\n",
       "    }\n",
       "\n",
       "    .dataframe tbody tr th {\n",
       "        vertical-align: top;\n",
       "    }\n",
       "\n",
       "    .dataframe thead th {\n",
       "        text-align: right;\n",
       "    }\n",
       "</style>\n",
       "<table border=\"1\" class=\"dataframe\">\n",
       "  <thead>\n",
       "    <tr style=\"text-align: right;\">\n",
       "      <th></th>\n",
       "      <th>Id</th>\n",
       "      <th>ProductId</th>\n",
       "      <th>UserId</th>\n",
       "      <th>ProfileName</th>\n",
       "      <th>HelpfulnessNumerator</th>\n",
       "      <th>HelpfulnessDenominator</th>\n",
       "      <th>Score</th>\n",
       "      <th>Time</th>\n",
       "      <th>Summary</th>\n",
       "      <th>Text</th>\n",
       "    </tr>\n",
       "  </thead>\n",
       "  <tbody>\n",
       "    <tr>\n",
       "      <th>138706</th>\n",
       "      <td>150524</td>\n",
       "      <td>0006641040</td>\n",
       "      <td>ACITT7DI6IDDL</td>\n",
       "      <td>shari zychinski</td>\n",
       "      <td>0</td>\n",
       "      <td>0</td>\n",
       "      <td>positive</td>\n",
       "      <td>939340800</td>\n",
       "      <td>EVERY book is educational</td>\n",
       "      <td>this witty little book makes my son laugh at l...</td>\n",
       "    </tr>\n",
       "    <tr>\n",
       "      <th>138683</th>\n",
       "      <td>150501</td>\n",
       "      <td>0006641040</td>\n",
       "      <td>AJ46FKXOVC7NR</td>\n",
       "      <td>Nicholas A Mesiano</td>\n",
       "      <td>2</td>\n",
       "      <td>2</td>\n",
       "      <td>positive</td>\n",
       "      <td>940809600</td>\n",
       "      <td>This whole series is great way to spend time w...</td>\n",
       "      <td>I can remember seeing the show when it aired o...</td>\n",
       "    </tr>\n",
       "    <tr>\n",
       "      <th>417839</th>\n",
       "      <td>451856</td>\n",
       "      <td>B00004CXX9</td>\n",
       "      <td>AIUWLEQ1ADEG5</td>\n",
       "      <td>Elizabeth Medina</td>\n",
       "      <td>0</td>\n",
       "      <td>0</td>\n",
       "      <td>positive</td>\n",
       "      <td>944092800</td>\n",
       "      <td>Entertainingl Funny!</td>\n",
       "      <td>Beetlejuice is a well written movie ..... ever...</td>\n",
       "    </tr>\n",
       "    <tr>\n",
       "      <th>417859</th>\n",
       "      <td>451878</td>\n",
       "      <td>B00004CXX9</td>\n",
       "      <td>A344SMIA5JECGM</td>\n",
       "      <td>Vincent P. Ross</td>\n",
       "      <td>1</td>\n",
       "      <td>2</td>\n",
       "      <td>positive</td>\n",
       "      <td>944438400</td>\n",
       "      <td>A modern day fairy tale</td>\n",
       "      <td>A twist of rumplestiskin captured on film, sta...</td>\n",
       "    </tr>\n",
       "    <tr>\n",
       "      <th>417838</th>\n",
       "      <td>451855</td>\n",
       "      <td>B00004CXX9</td>\n",
       "      <td>AJH6LUC1UT1ON</td>\n",
       "      <td>The Phantom of the Opera</td>\n",
       "      <td>0</td>\n",
       "      <td>0</td>\n",
       "      <td>positive</td>\n",
       "      <td>946857600</td>\n",
       "      <td>FANTASTIC!</td>\n",
       "      <td>Beetlejuice is an excellent and funny movie. K...</td>\n",
       "    </tr>\n",
       "  </tbody>\n",
       "</table>\n",
       "</div>"
      ],
      "text/plain": [
       "            Id   ProductId          UserId               ProfileName  \\\n",
       "138706  150524  0006641040   ACITT7DI6IDDL           shari zychinski   \n",
       "138683  150501  0006641040   AJ46FKXOVC7NR        Nicholas A Mesiano   \n",
       "417839  451856  B00004CXX9   AIUWLEQ1ADEG5          Elizabeth Medina   \n",
       "417859  451878  B00004CXX9  A344SMIA5JECGM           Vincent P. Ross   \n",
       "417838  451855  B00004CXX9   AJH6LUC1UT1ON  The Phantom of the Opera   \n",
       "\n",
       "        HelpfulnessNumerator  HelpfulnessDenominator     Score       Time  \\\n",
       "138706                     0                       0  positive  939340800   \n",
       "138683                     2                       2  positive  940809600   \n",
       "417839                     0                       0  positive  944092800   \n",
       "417859                     1                       2  positive  944438400   \n",
       "417838                     0                       0  positive  946857600   \n",
       "\n",
       "                                                  Summary  \\\n",
       "138706                          EVERY book is educational   \n",
       "138683  This whole series is great way to spend time w...   \n",
       "417839                               Entertainingl Funny!   \n",
       "417859                            A modern day fairy tale   \n",
       "417838                                         FANTASTIC!   \n",
       "\n",
       "                                                     Text  \n",
       "138706  this witty little book makes my son laugh at l...  \n",
       "138683  I can remember seeing the show when it aired o...  \n",
       "417839  Beetlejuice is a well written movie ..... ever...  \n",
       "417859  A twist of rumplestiskin captured on film, sta...  \n",
       "417838  Beetlejuice is an excellent and funny movie. K...  "
      ]
     },
     "execution_count": 6,
     "metadata": {},
     "output_type": "execute_result"
    }
   ],
   "source": [
    "#Removing all the points where Denominator < Numerator\n",
    "final = final[final.HelpfulnessNumerator <= final.HelpfulnessDenominator]\n",
    "final.head()"
   ]
  },
  {
   "cell_type": "code",
   "execution_count": 7,
   "metadata": {},
   "outputs": [
    {
     "data": {
      "text/plain": [
       "(364171, 10)"
      ]
     },
     "execution_count": 7,
     "metadata": {},
     "output_type": "execute_result"
    }
   ],
   "source": [
    "final.shape"
   ]
  },
  {
   "cell_type": "code",
   "execution_count": 8,
   "metadata": {},
   "outputs": [],
   "source": [
    "#Taking top 60k values for the assignment\n",
    "final = final.iloc[0: 60000,:]"
   ]
  },
  {
   "cell_type": "code",
   "execution_count": 9,
   "metadata": {},
   "outputs": [
    {
     "data": {
      "text/plain": [
       "(60000, 10)"
      ]
     },
     "execution_count": 9,
     "metadata": {},
     "output_type": "execute_result"
    }
   ],
   "source": [
    "final.shape"
   ]
  },
  {
   "cell_type": "markdown",
   "metadata": {},
   "source": [
    "# Text Preprocessing: Stemming, stop-word removal and Lemmatization."
   ]
  },
  {
   "cell_type": "code",
   "execution_count": 2,
   "metadata": {},
   "outputs": [],
   "source": [
    "stop = set(stopwords.words('english'))\n",
    "sno = nltk.stem.SnowballStemmer('english')\n",
    "def clean_html(sentence):\n",
    "    clean = re.compile('<.*?>')\n",
    "    cleantext = re.sub(clean, ' ', sentence)\n",
    "    return cleantext\n",
    "def clean_punctuation(sentence):\n",
    "    cleaned = re.sub(r'[?|!|\\'|\"|#]',r'',sentence)\n",
    "    cleaned = re.sub(r'[.|,|)|(|\\|/]',r' ',cleaned)\n",
    "    return cleaned"
   ]
  },
  {
   "cell_type": "code",
   "execution_count": null,
   "metadata": {},
   "outputs": [],
   "source": [
    "i=0\n",
    "strl = ' '\n",
    "final_string = []\n",
    "all_positive_words = []\n",
    "all_negative_words = []\n",
    "s = ''\n",
    "for sent in final['Text'].values:\n",
    "    sent = clean_html(sent)\n",
    "    filtered_sentence = []\n",
    "    for w in sent.split():\n",
    "        for cleaned_words in clean_punctuation(w).split():\n",
    "            if ((cleaned_words.isalpha()) & (len(cleaned_words) > 2)):\n",
    "                if (cleaned_words.lower() not in stop):\n",
    "                    s=(sno.stem(cleaned_words.lower())).encode('utf8')\n",
    "                    filtered_sentence.append(s)\n",
    "                    if (final['Score'].values)[i] == 'positive': \n",
    "                        all_positive_words.append(s) \n",
    "                    if(final['Score'].values)[i] == 'negative':\n",
    "                        all_negative_words.append(s) \n",
    "                else:\n",
    "                    continue\n",
    "            else:\n",
    "                continue \n",
    "    str1 = b\" \".join(filtered_sentence) \n",
    "    \n",
    "    final_string.append(str1)\n",
    "    i+=1"
   ]
  },
  {
   "cell_type": "code",
   "execution_count": null,
   "metadata": {},
   "outputs": [],
   "source": [
    "final['CleanedText']=final_string \n",
    "final['CleanedText']=final['CleanedText'].str.decode(\"utf-8\")"
   ]
  },
  {
   "cell_type": "code",
   "execution_count": null,
   "metadata": {},
   "outputs": [],
   "source": [
    "final.head(3)\n",
    "conn = sqlite3.connect('final.sqlite')\n",
    "c=conn.cursor()\n",
    "conn.text_factory = str\n",
    "final.to_sql('Reviews', conn,  schema=None, if_exists='replace', index=True, index_label=None, chunksize=None, dtype=None)\n",
    "final.head()"
   ]
  },
  {
   "cell_type": "code",
   "execution_count": null,
   "metadata": {},
   "outputs": [],
   "source": [
    "#Saving the cleaned data for future assignments\n",
    "clean_data = open(\"clean_data_1.pickle\", \"wb\")\n",
    "pickle.dump(final, clean_data)\n",
    "clean_data.close()"
   ]
  },
  {
   "cell_type": "code",
   "execution_count": 3,
   "metadata": {},
   "outputs": [],
   "source": [
    "pickle_in = open(\"clean_data_1.pickle\", \"rb\")\n",
    "final = pickle.load(pickle_in)"
   ]
  },
  {
   "cell_type": "code",
   "execution_count": 3,
   "metadata": {},
   "outputs": [
    {
     "data": {
      "text/plain": [
       "(60000, 12)"
      ]
     },
     "execution_count": 3,
     "metadata": {},
     "output_type": "execute_result"
    }
   ],
   "source": [
    "final.shape"
   ]
  },
  {
   "cell_type": "code",
   "execution_count": 4,
   "metadata": {},
   "outputs": [
    {
     "data": {
      "text/html": [
       "<div>\n",
       "<style scoped>\n",
       "    .dataframe tbody tr th:only-of-type {\n",
       "        vertical-align: middle;\n",
       "    }\n",
       "\n",
       "    .dataframe tbody tr th {\n",
       "        vertical-align: top;\n",
       "    }\n",
       "\n",
       "    .dataframe thead th {\n",
       "        text-align: right;\n",
       "    }\n",
       "</style>\n",
       "<table border=\"1\" class=\"dataframe\">\n",
       "  <thead>\n",
       "    <tr style=\"text-align: right;\">\n",
       "      <th></th>\n",
       "      <th>Id</th>\n",
       "      <th>ProductId</th>\n",
       "      <th>UserId</th>\n",
       "      <th>ProfileName</th>\n",
       "      <th>HelpfulnessNumerator</th>\n",
       "      <th>HelpfulnessDenominator</th>\n",
       "      <th>Score</th>\n",
       "      <th>Time</th>\n",
       "      <th>Summary</th>\n",
       "      <th>Text</th>\n",
       "      <th>CleanedText</th>\n",
       "      <th>CleanedSummary</th>\n",
       "    </tr>\n",
       "  </thead>\n",
       "  <tbody>\n",
       "    <tr>\n",
       "      <th>138706</th>\n",
       "      <td>150524</td>\n",
       "      <td>0006641040</td>\n",
       "      <td>ACITT7DI6IDDL</td>\n",
       "      <td>shari zychinski</td>\n",
       "      <td>0</td>\n",
       "      <td>0</td>\n",
       "      <td>positive</td>\n",
       "      <td>939340800</td>\n",
       "      <td>EVERY book is educational</td>\n",
       "      <td>this witty little book makes my son laugh at l...</td>\n",
       "      <td>witti littl book make son laugh loud recit car...</td>\n",
       "      <td>everi book educ</td>\n",
       "    </tr>\n",
       "    <tr>\n",
       "      <th>138683</th>\n",
       "      <td>150501</td>\n",
       "      <td>0006641040</td>\n",
       "      <td>AJ46FKXOVC7NR</td>\n",
       "      <td>Nicholas A Mesiano</td>\n",
       "      <td>2</td>\n",
       "      <td>2</td>\n",
       "      <td>positive</td>\n",
       "      <td>940809600</td>\n",
       "      <td>This whole series is great way to spend time w...</td>\n",
       "      <td>I can remember seeing the show when it aired o...</td>\n",
       "      <td>rememb see show air televis year ago child sis...</td>\n",
       "      <td>whole seri great way spend time child</td>\n",
       "    </tr>\n",
       "    <tr>\n",
       "      <th>417839</th>\n",
       "      <td>451856</td>\n",
       "      <td>B00004CXX9</td>\n",
       "      <td>AIUWLEQ1ADEG5</td>\n",
       "      <td>Elizabeth Medina</td>\n",
       "      <td>0</td>\n",
       "      <td>0</td>\n",
       "      <td>positive</td>\n",
       "      <td>944092800</td>\n",
       "      <td>Entertainingl Funny!</td>\n",
       "      <td>Beetlejuice is a well written movie ..... ever...</td>\n",
       "      <td>beetlejuic well written movi everyth excel act...</td>\n",
       "      <td>entertainingl funni</td>\n",
       "    </tr>\n",
       "    <tr>\n",
       "      <th>417859</th>\n",
       "      <td>451878</td>\n",
       "      <td>B00004CXX9</td>\n",
       "      <td>A344SMIA5JECGM</td>\n",
       "      <td>Vincent P. Ross</td>\n",
       "      <td>1</td>\n",
       "      <td>2</td>\n",
       "      <td>positive</td>\n",
       "      <td>944438400</td>\n",
       "      <td>A modern day fairy tale</td>\n",
       "      <td>A twist of rumplestiskin captured on film, sta...</td>\n",
       "      <td>twist rumplestiskin captur film star michael k...</td>\n",
       "      <td>modern day fairi tale</td>\n",
       "    </tr>\n",
       "    <tr>\n",
       "      <th>417838</th>\n",
       "      <td>451855</td>\n",
       "      <td>B00004CXX9</td>\n",
       "      <td>AJH6LUC1UT1ON</td>\n",
       "      <td>The Phantom of the Opera</td>\n",
       "      <td>0</td>\n",
       "      <td>0</td>\n",
       "      <td>positive</td>\n",
       "      <td>946857600</td>\n",
       "      <td>FANTASTIC!</td>\n",
       "      <td>Beetlejuice is an excellent and funny movie. K...</td>\n",
       "      <td>beetlejuic excel funni movi keaton hilari wack...</td>\n",
       "      <td>fantast</td>\n",
       "    </tr>\n",
       "  </tbody>\n",
       "</table>\n",
       "</div>"
      ],
      "text/plain": [
       "            Id   ProductId          UserId               ProfileName  \\\n",
       "138706  150524  0006641040   ACITT7DI6IDDL           shari zychinski   \n",
       "138683  150501  0006641040   AJ46FKXOVC7NR        Nicholas A Mesiano   \n",
       "417839  451856  B00004CXX9   AIUWLEQ1ADEG5          Elizabeth Medina   \n",
       "417859  451878  B00004CXX9  A344SMIA5JECGM           Vincent P. Ross   \n",
       "417838  451855  B00004CXX9   AJH6LUC1UT1ON  The Phantom of the Opera   \n",
       "\n",
       "        HelpfulnessNumerator  HelpfulnessDenominator     Score       Time  \\\n",
       "138706                     0                       0  positive  939340800   \n",
       "138683                     2                       2  positive  940809600   \n",
       "417839                     0                       0  positive  944092800   \n",
       "417859                     1                       2  positive  944438400   \n",
       "417838                     0                       0  positive  946857600   \n",
       "\n",
       "                                                  Summary  \\\n",
       "138706                          EVERY book is educational   \n",
       "138683  This whole series is great way to spend time w...   \n",
       "417839                               Entertainingl Funny!   \n",
       "417859                            A modern day fairy tale   \n",
       "417838                                         FANTASTIC!   \n",
       "\n",
       "                                                     Text  \\\n",
       "138706  this witty little book makes my son laugh at l...   \n",
       "138683  I can remember seeing the show when it aired o...   \n",
       "417839  Beetlejuice is a well written movie ..... ever...   \n",
       "417859  A twist of rumplestiskin captured on film, sta...   \n",
       "417838  Beetlejuice is an excellent and funny movie. K...   \n",
       "\n",
       "                                              CleanedText  \\\n",
       "138706  witti littl book make son laugh loud recit car...   \n",
       "138683  rememb see show air televis year ago child sis...   \n",
       "417839  beetlejuic well written movi everyth excel act...   \n",
       "417859  twist rumplestiskin captur film star michael k...   \n",
       "417838  beetlejuic excel funni movi keaton hilari wack...   \n",
       "\n",
       "                               CleanedSummary  \n",
       "138706                        everi book educ  \n",
       "138683  whole seri great way spend time child  \n",
       "417839                    entertainingl funni  \n",
       "417859                  modern day fairi tale  \n",
       "417838                                fantast  "
      ]
     },
     "execution_count": 4,
     "metadata": {},
     "output_type": "execute_result"
    }
   ],
   "source": [
    "final.head()"
   ]
  },
  {
   "cell_type": "code",
   "execution_count": 5,
   "metadata": {},
   "outputs": [
    {
     "data": {
      "text/plain": [
       "(60000,)"
      ]
     },
     "execution_count": 5,
     "metadata": {},
     "output_type": "execute_result"
    }
   ],
   "source": [
    "#Saving the score values in a diffrent list and processing it for train, cv and test data\n",
    "scores = final['Score'].get_values()\n",
    "li = lambda x: 1 if x=='positive'  else 0\n",
    "final_scores = []\n",
    "for i in range(0,60000):\n",
    "    final_scores.append(li(scores[i]))\n",
    "final_scores = np.asarray(final_scores)\n",
    "final_scores.shape"
   ]
  },
  {
   "cell_type": "markdown",
   "metadata": {},
   "source": [
    "# Dividing the whole data into train, cross-validation and test sets"
   ]
  },
  {
   "cell_type": "code",
   "execution_count": 6,
   "metadata": {},
   "outputs": [
    {
     "name": "stdout",
     "output_type": "stream",
     "text": [
      "(40000, 12)\n",
      "(40000,)\n"
     ]
    }
   ],
   "source": [
    "#train data\n",
    "X_train = final[0: 40000]\n",
    "Y_train = final_scores[0: 40000]\n",
    "print(X_train.shape)\n",
    "print(Y_train.shape)"
   ]
  },
  {
   "cell_type": "code",
   "execution_count": 7,
   "metadata": {},
   "outputs": [
    {
     "name": "stdout",
     "output_type": "stream",
     "text": [
      "(10000, 12)\n",
      "(10000,)\n"
     ]
    }
   ],
   "source": [
    "#CV data\n",
    "X_CV = final[40000: 50000]\n",
    "Y_CV = final_scores[40000: 50000]\n",
    "print(X_CV.shape)\n",
    "print(Y_CV.shape)"
   ]
  },
  {
   "cell_type": "code",
   "execution_count": 8,
   "metadata": {},
   "outputs": [
    {
     "name": "stdout",
     "output_type": "stream",
     "text": [
      "(10000, 12)\n",
      "(10000,)\n"
     ]
    }
   ],
   "source": [
    "#test data\n",
    "X_test = final[50000: ]\n",
    "Y_test = final_scores[50000: ]\n",
    "print(X_test.shape)\n",
    "print(Y_test.shape)"
   ]
  },
  {
   "cell_type": "markdown",
   "metadata": {},
   "source": [
    "# [5] Assignment 7: SVM"
   ]
  },
  {
   "cell_type": "markdown",
   "metadata": {},
   "source": [
    "<ol>\n",
    "    <li><strong>Apply SVM on these feature sets</strong>\n",
    "        <ul>\n",
    "            <li><font color='red'>SET 1:</font>Review text, preprocessed one converted into vectors using (BOW)</li>\n",
    "            <li><font color='red'>SET 2:</font>Review text, preprocessed one converted into vectors using (TFIDF)</li>\n",
    "            <li><font color='red'>SET 3:</font>Review text, preprocessed one converted into vectors using (AVG W2v)</li>\n",
    "            <li><font color='red'>SET 4:</font>Review text, preprocessed one converted into vectors using (TFIDF W2v)</li>\n",
    "        </ul>\n",
    "    </li>\n",
    "    <br>\n",
    "    <li><strong>Procedure</strong>\n",
    "        <ul>\n",
    "    <li>You need to work with 2 versions of SVM\n",
    "        <ul><li>Linear kernel</li>\n",
    "            <li>RBF kernel</li></ul>\n",
    "    <li>When you are working with linear kernel, use SGDClassifier’ with hinge loss because it is computationally less expensive.</li>\n",
    "    <li>When you are working with ‘SGDClassifier’ with hinge loss and trying to find the AUC\n",
    "        score, you would have to use <a href='https://scikit-learn.org/stable/modules/generated/sklearn.calibration.CalibratedClassifierCV.html'>CalibratedClassifierCV</a></li>\n",
    "    <li>Similarly, like kdtree of knn, when you are working with RBF kernel it's better to reduce\n",
    "the number of dimensions. You can put min_df = 10, max_features = 500 and consider a sample size of 40k points.</li>                \n",
    "        </ul>\n",
    "    </li>\n",
    "    <br>\n",
    "    <li><strong>Hyper paramter tuning (find best alpha in range [10^-4 to 10^4], and the best penalty among 'l1', 'l2')</strong>\n",
    "        <ul>\n",
    "    <li>Find the best hyper parameter which will give the maximum <a href='https://www.appliedaicourse.com/course/applied-ai-course-online/lessons/receiver-operating-characteristic-curve-roc-curve-and-auc-1/'>AUC</a> value</li>\n",
    "    <li>Find the best hyper paramter using k-fold cross validation or simple cross validation data</li>\n",
    "    <li>Use gridsearch cv or randomsearch cv or you can also write your own for loops to do this task of hyperparameter tuning</li>          \n",
    "        </ul>\n",
    "    </li>\n",
    "    <br>\n",
    "    <li><strong>Feature importance</strong>\n",
    "        <ul>\n",
    "    <li>When you are working on the linear kernel with BOW or TFIDF please print the top 10 best\n",
    "features for each of the positive and negative classes.</li>\n",
    "        </ul>\n",
    "    </li>\n",
    "    <br>\n",
    "    <li><strong>Feature engineering</strong>\n",
    "        <ul>\n",
    "    <li>To increase the performance of your model, you can also experiment with with feature engineering like :</li>\n",
    "            <ul>\n",
    "            <li>Taking length of reviews as another feature.</li>\n",
    "            <li>Considering some features from review summary as well.</li>\n",
    "        </ul>\n",
    "        </ul>\n",
    "    </li>\n",
    "    <br>\n",
    "    <li><strong>Representation of results</strong>\n",
    "        <ul>\n",
    "    <li>You need to plot the performance of model both on train data and cross validation data for each hyper parameter, like shown in the figure.\n",
    "    <img src='train_cv_auc.JPG' width=300px></li>\n",
    "    <li>Once after you found the best hyper parameter, you need to train your model with it, and find the AUC on test data and plot the ROC curve on both train and test.\n",
    "    <img src='train_test_auc.JPG' width=300px></li>\n",
    "    <li>Along with plotting ROC curve, you need to print the <a href='https://www.appliedaicourse.com/course/applied-ai-course-online/lessons/confusion-matrix-tpr-fpr-fnr-tnr-1/'>confusion matrix</a> with predicted and original labels of test data points. Please visualize your confusion matrices using <a href='https://seaborn.pydata.org/generated/seaborn.heatmap.html'>seaborn heatmaps.\n",
    "    <img src='confusion_matrix.png' width=300px></li>\n",
    "        </ul>\n",
    "    </li>\n",
    "    <br>\n",
    "    <li><strong>Conclusion</strong>\n",
    "        <ul>\n",
    "    <li>You need to summarize the results at the end of the notebook, summarize it in the table format. To print out a table please refer to this prettytable library<a href='http://zetcode.com/python/prettytable/'>  link</a> \n",
    "        <img src='summary.JPG' width=400px>\n",
    "    </li>\n",
    "        </ul>\n",
    "</ol>"
   ]
  },
  {
   "cell_type": "markdown",
   "metadata": {},
   "source": [
    "<h4><font color='red'>Note: Data Leakage</font></h4>\n",
    "\n",
    "1. There will be an issue of data-leakage if you vectorize the entire data and then split it into train/cv/test.\n",
    "2. To avoid the issue of data-leakag, make sure to split your data first and then vectorize it. \n",
    "3. While vectorizing your data, apply the method fit_transform() on you train data, and apply the method transform() on cv/test data.\n",
    "4. For more details please go through this <a href='https://soundcloud.com/applied-ai-course/leakage-bow-and-tfidf'>link.</a>"
   ]
  },
  {
   "cell_type": "markdown",
   "metadata": {},
   "source": [
    "# 1:- Linear SVM"
   ]
  },
  {
   "cell_type": "markdown",
   "metadata": {},
   "source": [
    "# BOW"
   ]
  },
  {
   "cell_type": "code",
   "execution_count": 9,
   "metadata": {},
   "outputs": [
    {
     "data": {
      "text/plain": [
       "(40000, 2000)"
      ]
     },
     "execution_count": 9,
     "metadata": {},
     "output_type": "execute_result"
    }
   ],
   "source": [
    "count_vect = CountVectorizer(max_features=2000, min_df=10)\n",
    "X_train_bow = count_vect.fit_transform(X_train['CleanedText'].values)\n",
    "X_train_bow.shape"
   ]
  },
  {
   "cell_type": "code",
   "execution_count": 10,
   "metadata": {},
   "outputs": [],
   "source": [
    "train_bow = open(\"train_bow.pickle\", \"wb\")\n",
    "pickle.dump(X_train_bow, train_bow)\n",
    "train_bow.close()"
   ]
  },
  {
   "cell_type": "code",
   "execution_count": 11,
   "metadata": {},
   "outputs": [
    {
     "data": {
      "text/plain": [
       "(10000, 2000)"
      ]
     },
     "execution_count": 11,
     "metadata": {},
     "output_type": "execute_result"
    }
   ],
   "source": [
    "X_CV_bow = count_vect.transform(X_CV['CleanedText'].values)\n",
    "X_CV_bow.shape"
   ]
  },
  {
   "cell_type": "code",
   "execution_count": 12,
   "metadata": {},
   "outputs": [],
   "source": [
    "CV_bow = open(\"CV_bow.pickle\", \"wb\")\n",
    "pickle.dump(X_CV_bow, CV_bow)\n",
    "CV_bow.close()"
   ]
  },
  {
   "cell_type": "code",
   "execution_count": 13,
   "metadata": {},
   "outputs": [
    {
     "data": {
      "text/plain": [
       "(10000, 2000)"
      ]
     },
     "execution_count": 13,
     "metadata": {},
     "output_type": "execute_result"
    }
   ],
   "source": [
    "X_test_bow = count_vect.transform(X_test['CleanedText'].values)\n",
    "X_test_bow.shape"
   ]
  },
  {
   "cell_type": "code",
   "execution_count": 14,
   "metadata": {},
   "outputs": [],
   "source": [
    "test_bow = open(\"test_bow.pickle\", \"wb\")\n",
    "pickle.dump(X_test_bow, test_bow)\n",
    "test_bow.close()"
   ]
  },
  {
   "cell_type": "markdown",
   "metadata": {},
   "source": [
    "# Linear SVM on BOW"
   ]
  },
  {
   "cell_type": "code",
   "execution_count": 17,
   "metadata": {},
   "outputs": [
    {
     "data": {
      "text/plain": [
       "GridSearchCV(cv=None, error_score='raise',\n",
       "       estimator=SGDClassifier(alpha=0.0001, average=False, class_weight={1: 1, 0: 5.3},\n",
       "       epsilon=0.1, eta0=0.0, fit_intercept=False, l1_ratio=0.15,\n",
       "       learning_rate='optimal', loss='hinge', max_iter=1000, n_iter=None,\n",
       "       n_jobs=1, penalty='l2', power_t=0.5, random_state=None,\n",
       "       shuffle=True, tol=0.001, verbose=0, warm_start=False),\n",
       "       fit_params={}, iid=True, n_jobs=1,\n",
       "       param_grid=[{'alpha': [0.0001, 0.001, 0.01, 0.1, 10, 100, 1000, 10000], 'penalty': ['l1', 'l2']}],\n",
       "       pre_dispatch='2*n_jobs', refit=True, scoring='roc_auc', verbose=0)"
      ]
     },
     "execution_count": 17,
     "metadata": {},
     "output_type": "execute_result"
    }
   ],
   "source": [
    "tuned_parameters = [{'alpha' : [10**-4, 10**-3, 10**-2, 10**-1, 10, 10**2, 10**3, 10**4], 'penalty' : ['l1', 'l2']}]\n",
    "model = GridSearchCV(linear_model.SGDClassifier(loss='hinge', fit_intercept=False, max_iter=1000, tol=1e-3, class_weight={1: 1, 0: 5.3}), tuned_parameters, scoring = 'roc_auc')\n",
    "model.fit(X_train_bow, Y_train)"
   ]
  },
  {
   "cell_type": "markdown",
   "metadata": {},
   "source": [
    "### From above it can be seen that best penalty would be l2, thus using l2 penalty now we will get the train and CV scores"
   ]
  },
  {
   "cell_type": "code",
   "execution_count": 18,
   "metadata": {},
   "outputs": [],
   "source": [
    "def scores(X, Y):\n",
    "    alphas = [10**-4, 10**-3, 10**-2, 10**-1, 10, 10**2, 10**3, 10**4]\n",
    "    scores = []\n",
    "    for alpha in alphas:\n",
    "            clf = linear_model.SGDClassifier(loss='hinge', penalty='l2', alpha=alpha, fit_intercept=False, max_iter=1000, tol=1e-3, class_weight={1: 1, 0: 5.3})\n",
    "            clf_sigmoid = CalibratedClassifierCV(clf, cv=2, method='sigmoid')\n",
    "            clf_sigmoid.fit(X_train_bow, Y_train)\n",
    "            pred = clf_sigmoid.predict(X)\n",
    "            auc = roc_auc_score(Y, pred)\n",
    "            scores.append(auc)\n",
    "    return scores"
   ]
  },
  {
   "cell_type": "code",
   "execution_count": 19,
   "metadata": {},
   "outputs": [],
   "source": [
    "train_scores = scores(X_train_bow, Y_train)"
   ]
  },
  {
   "cell_type": "code",
   "execution_count": 20,
   "metadata": {},
   "outputs": [],
   "source": [
    "cv_scores = scores(X_CV_bow, Y_CV)"
   ]
  },
  {
   "cell_type": "code",
   "execution_count": 21,
   "metadata": {},
   "outputs": [
    {
     "data": {
      "image/png": "[encoded data removed]",
      "text/plain": [
       "<matplotlib.figure.Figure at 0x7f538b819240>"
      ]
     },
     "metadata": {},
     "output_type": "display_data"
    }
   ],
   "source": [
    "alphas = [10**-4, 10**-3, 10**-2, 10**-1, 10, 10**2, 10**3, 10**4]\n",
    "log_alphas = np.log(np.asarray(alphas))\n",
    "plt.plot(log_alphas, cv_scores, label='CV_score')\n",
    "plt.plot(log_alphas, train_scores, label='train_score')\n",
    "plt.title('train VS CV')\n",
    "plt.ylabel('auc score')\n",
    "plt.xlabel('log of alphas')\n",
    "plt.legend()\n",
    "plt.show()"
   ]
  },
  {
   "cell_type": "code",
   "execution_count": 22,
   "metadata": {},
   "outputs": [
    {
     "data": {
      "image/png": "[encoded data removed]",
      "text/plain": [
       "<matplotlib.figure.Figure at 0x7f538b80efd0>"
      ]
     },
     "metadata": {},
     "output_type": "display_data"
    },
    {
     "name": "stdout",
     "output_type": "stream",
     "text": [
      "The auc score for each alpha value for cross validation is :  [0.645 0.671 0.685 0.649 0.5   0.5   0.5   0.5  ]\n"
     ]
    }
   ],
   "source": [
    "plt.plot(log_alphas, cv_scores )\n",
    "\n",
    "plt.title('plot for cv scores according to log of alphas')\n",
    "for xy in zip(np.round(log_alphas, 2), np.round(cv_scores,3)):\n",
    "    plt.annotate('(%s, %s)' % xy, xy=xy, textcoords='data')\n",
    "plt.xlabel('log of alphas')\n",
    "plt.ylabel('auc scores for cross validation')\n",
    "plt.show()\n",
    "\n",
    "print(\"The auc score for each alpha value for cross validation is : \", np.round(cv_scores,3))"
   ]
  },
  {
   "cell_type": "code",
   "execution_count": 23,
   "metadata": {},
   "outputs": [
    {
     "data": {
      "image/png": "[encoded data removed]",
      "text/plain": [
       "<matplotlib.figure.Figure at 0x7f538b80e668>"
      ]
     },
     "metadata": {},
     "output_type": "display_data"
    },
    {
     "name": "stdout",
     "output_type": "stream",
     "text": [
      "The auc score for each alpha value for train data is :  [0.651 0.697 0.712 0.664 0.5   0.5   0.5   0.5  ]\n"
     ]
    }
   ],
   "source": [
    "plt.plot(log_alphas, train_scores )\n",
    "\n",
    "plt.title('plot for cv scores according to log of alphas')\n",
    "for xy in zip(np.round(log_alphas, 2), np.round(cv_scores,3)):\n",
    "    plt.annotate('(%s, %s)' % xy, xy=xy, textcoords='data')\n",
    "plt.xlabel('log of alphas')\n",
    "plt.ylabel('auc scores for train data')\n",
    "plt.show()\n",
    "\n",
    "print(\"The auc score for each alpha value for train data is : \", np.round(train_scores,3))"
   ]
  },
  {
   "cell_type": "code",
   "execution_count": 24,
   "metadata": {},
   "outputs": [
    {
     "name": "stdout",
     "output_type": "stream",
     "text": [
      "\n",
      "The optimal value of alpha for cv is 0.01 and it's value is 0.6854837743265267\n"
     ]
    }
   ],
   "source": [
    "optimal_alpha_for_cv = alphas[cv_scores.index(max(cv_scores))]\n",
    "print('\\nThe optimal value of alpha for cv is {} and it\\'s value is {}'.format(optimal_alpha_for_cv, max(cv_scores)))"
   ]
  },
  {
   "cell_type": "code",
   "execution_count": 25,
   "metadata": {},
   "outputs": [
    {
     "name": "stdout",
     "output_type": "stream",
     "text": [
      "\n",
      "The optimal value of alpha for training is 0.01 and it's value is 0.7119276231585527\n"
     ]
    }
   ],
   "source": [
    "optimal_alpha_for_train = alphas[train_scores.index(max(train_scores))]\n",
    "print('\\nThe optimal value of alpha for training is {} and it\\'s value is {}'.format(optimal_alpha_for_train, max(train_scores)))"
   ]
  },
  {
   "cell_type": "code",
   "execution_count": 26,
   "metadata": {},
   "outputs": [
    {
     "name": "stdout",
     "output_type": "stream",
     "text": [
      "+---------------+--------------------+------------------+--------------------+\n",
      "| alphas for cv |      cv score      | alphas for train |    train score     |\n",
      "+---------------+--------------------+------------------+--------------------+\n",
      "|      0.01     | 0.6854837743265267 |       0.01       | 0.7119276231585527 |\n",
      "|     0.001     | 0.6710728537532356 |      0.001       | 0.6971255582050585 |\n",
      "|      0.1      | 0.6494703288275334 |       0.1        | 0.6636472354602274 |\n",
      "|     0.0001    | 0.645161507765315  |      0.0001      | 0.6507113669708283 |\n",
      "|       10      |        0.5         |        10        |        0.5         |\n",
      "|       10      |        0.5         |        10        |        0.5         |\n",
      "|       10      |        0.5         |        10        |        0.5         |\n",
      "|       10      |        0.5         |        10        |        0.5         |\n",
      "+---------------+--------------------+------------------+--------------------+\n"
     ]
    }
   ],
   "source": [
    "x = PrettyTable()\n",
    "x.field_names = ['alphas for cv', 'cv score', 'alphas for train', 'train score']\n",
    "for z, y in zip(sorted(cv_scores, reverse=True), sorted(train_scores, reverse=True)):\n",
    "    x.add_row([alphas[cv_scores.index(z)], z, alphas[train_scores.index(y)], y])\n",
    "print(x)"
   ]
  },
  {
   "cell_type": "markdown",
   "metadata": {},
   "source": [
    "### Based on the above graphs and the table we can choose the optimal value of alpha to be equal to 0.01"
   ]
  },
  {
   "cell_type": "code",
   "execution_count": 34,
   "metadata": {},
   "outputs": [],
   "source": [
    "SVM_optimal = linear_model.SGDClassifier(loss='hinge', penalty='l2', alpha=0.01, fit_intercept=False, max_iter=1000, tol=1e-3, class_weight={1: 1, 0: 5.3})\n",
    "\n",
    "# fitting the model\n",
    "SVM_optimal.fit(X_train_bow, Y_train)\n",
    "\n",
    "# predict the response\n",
    "pred = SVM_optimal.predict(X_test_bow)\n",
    "\n",
    "# evaluate auc_score\n",
    "auc_score = roc_auc_score(Y_test, pred)"
   ]
  },
  {
   "cell_type": "code",
   "execution_count": 35,
   "metadata": {},
   "outputs": [
    {
     "name": "stdout",
     "output_type": "stream",
     "text": [
      "\n",
      "The auc score for test data for alpha = 0.01 is 0.820727\n"
     ]
    }
   ],
   "source": [
    "print('\\nThe auc score for test data for alpha = {} is {:2f}'.format(0.01, auc_score))"
   ]
  },
  {
   "cell_type": "code",
   "execution_count": 36,
   "metadata": {},
   "outputs": [
    {
     "data": {
      "text/plain": [
       "array([[ 896,  334],\n",
       "       [ 763, 8007]])"
      ]
     },
     "execution_count": 36,
     "metadata": {},
     "output_type": "execute_result"
    }
   ],
   "source": [
    "conf_matrix = confusion_matrix(Y_test, pred)\n",
    "conf_matrix"
   ]
  },
  {
   "cell_type": "code",
   "execution_count": 37,
   "metadata": {},
   "outputs": [
    {
     "data": {
      "image/png": "[encoded data removed]",
      "text/plain": [
       "<matplotlib.figure.Figure at 0x7f538a4de470>"
      ]
     },
     "metadata": {},
     "output_type": "display_data"
    }
   ],
   "source": [
    "df_cm = pd.DataFrame(conf_matrix, range(2),\n",
    "                  range(2))\n",
    "#plt.figure(figsize = (10,7))\n",
    "sns.set(font_scale=1.4)#for label size\n",
    "sns.heatmap(df_cm, annot=True, fmt=\"d\",cmap=\"YlGnBu\")\n",
    "plt.xlabel('predicted lables')\n",
    "plt.ylabel('actual lables')\n",
    "plt.show()"
   ]
  },
  {
   "cell_type": "code",
   "execution_count": 38,
   "metadata": {},
   "outputs": [
    {
     "name": "stdout",
     "output_type": "stream",
     "text": [
      "             precision    recall  f1-score   support\n",
      "\n",
      "          0       0.54      0.73      0.62      1230\n",
      "          1       0.96      0.91      0.94      8770\n",
      "\n",
      "avg / total       0.91      0.89      0.90     10000\n",
      "\n"
     ]
    }
   ],
   "source": [
    "print(classification_report(Y_test, pred))"
   ]
  },
  {
   "cell_type": "markdown",
   "metadata": {},
   "source": [
    "## Top 20 features for positive class and top 20 features for negative class"
   ]
  },
  {
   "cell_type": "code",
   "execution_count": 1,
   "metadata": {},
   "outputs": [],
   "source": [
    "def show_most_informative_features(vectorizer, clf, n=10):\n",
    "    feature_names = vectorizer.get_feature_names()\n",
    "    coefs_with_fns = sorted(zip(clf.feature_importances_, feature_names))\n",
    "    top = coefs_with_fns[:-(n + 1):-1]\n",
    "    print(\"Top 10 Features:\")\n",
    "    for (coef_1, fn_1) in top:\n",
    "        print(\"\")\n",
    "        print(\"%-15s\" % (fn_1))"
   ]
  },
  {
   "cell_type": "code",
   "execution_count": 40,
   "metadata": {},
   "outputs": [
    {
     "name": "stdout",
     "output_type": "stream",
     "text": [
      "These are the top 20 important Features Which are most widely used in Positive and Negative Reviews:\n",
      "\n",
      "\n",
      "Positive: \t\t\t\t Negative:\n",
      "\n",
      "\n",
      "(0.30028376399179835, 'satisfi') \t\t (-0.7858310489729974, 'disappoint')\n",
      "(0.3071581061435359, 'rich') \t\t (-0.6094729257710957, 'worst')\n",
      "(0.3079080343782713, 'glad') \t\t (-0.5197315136811453, 'bland')\n",
      "(0.30834549251519006, 'alway') \t\t (-0.48842200988095485, 'horribl')\n",
      "(0.32762489754984503, 'yummi') \t\t (-0.474517090528584, 'unfortun')\n",
      "(0.32918724803886823, 'easi') \t\t (-0.4717673536678811, 'terribl')\n",
      "(0.3368427654351219, 'thank') \t\t (-0.43117748796284827, 'aw')\n",
      "(0.347466748760526, 'keep') \t\t (-0.40433630656131986, 'bad')\n",
      "(0.37380797800560733, 'addict') \t\t (-0.3948997096075566, 'money')\n",
      "(0.3751203524163903, 'amaz') \t\t (-0.3936810762261, 'weak')\n",
      "(0.38727543922103747, 'tasti') \t\t (-0.3900876701013279, 'return')\n",
      "(0.43508336418538573, 'favorit') \t\t (-0.3808698022160427, 'sorri')\n",
      "(0.4513943032908679, 'wonder') \t\t (-0.37671394991522833, 'mayb')\n",
      "(0.5060765704069585, 'nice') \t\t (-0.37540157550444847, 'away')\n",
      "(0.5087013192284044, 'love') \t\t (-0.3564658875773907, 'thought')\n",
      "(0.5155131673607192, 'perfect') \t\t (-0.3504664616994939, 'wast')\n",
      "(0.5865688676018468, 'excel') \t\t (-0.3385925979828669, 'hope')\n",
      "(0.6390950910430739, 'delici') \t\t (-0.33731147058185573, 'guess')\n",
      "(0.686715533948593, 'great') \t\t (-0.3302808933812078, 'threw')\n",
      "(0.6956834257557166, 'best') \t\t (-0.3290622599997656, 'poor')\n"
     ]
    }
   ],
   "source": [
    "show_(count_vect, SVM_optimal.coef_, 20)"
   ]
  },
  {
   "cell_type": "markdown",
   "metadata": {},
   "source": [
    "# TF-IDF"
   ]
  },
  {
   "cell_type": "code",
   "execution_count": 9,
   "metadata": {},
   "outputs": [
    {
     "data": {
      "text/plain": [
       "(40000, 2000)"
      ]
     },
     "execution_count": 9,
     "metadata": {},
     "output_type": "execute_result"
    }
   ],
   "source": [
    "tf_idf_vect = TfidfVectorizer(max_features=2000)\n",
    "X_train_tfidf = tf_idf_vect.fit_transform(X_train['CleanedText'].values)\n",
    "X_train_tfidf.shape"
   ]
  },
  {
   "cell_type": "code",
   "execution_count": 10,
   "metadata": {},
   "outputs": [
    {
     "data": {
      "text/plain": [
       "(10000, 2000)"
      ]
     },
     "execution_count": 10,
     "metadata": {},
     "output_type": "execute_result"
    }
   ],
   "source": [
    "X_CV_tfidf = tf_idf_vect.transform(X_CV['CleanedText'].values)\n",
    "X_CV_tfidf.shape"
   ]
  },
  {
   "cell_type": "code",
   "execution_count": 11,
   "metadata": {},
   "outputs": [
    {
     "data": {
      "text/plain": [
       "(10000, 2000)"
      ]
     },
     "execution_count": 11,
     "metadata": {},
     "output_type": "execute_result"
    }
   ],
   "source": [
    "X_test_tfidf = tf_idf_vect.transform(X_test['CleanedText'].values)\n",
    "X_test_tfidf.shape"
   ]
  },
  {
   "cell_type": "markdown",
   "metadata": {},
   "source": [
    "## Linear SVM on TF-IDF"
   ]
  },
  {
   "cell_type": "code",
   "execution_count": 12,
   "metadata": {},
   "outputs": [
    {
     "data": {
      "text/plain": [
       "GridSearchCV(cv=None, error_score='raise',\n",
       "       estimator=SGDClassifier(alpha=0.0001, average=False, class_weight={1: 1, 0: 5.3},\n",
       "       epsilon=0.1, eta0=0.0, fit_intercept=False, l1_ratio=0.15,\n",
       "       learning_rate='optimal', loss='hinge', max_iter=1000, n_iter=None,\n",
       "       n_jobs=1, penalty='l2', power_t=0.5, random_state=None,\n",
       "       shuffle=True, tol=0.001, verbose=0, warm_start=False),\n",
       "       fit_params={}, iid=True, n_jobs=1,\n",
       "       param_grid=[{'alpha': [0.0001, 0.001, 0.01, 0.1, 10, 100, 1000, 10000], 'penalty': ['l1', 'l2']}],\n",
       "       pre_dispatch='2*n_jobs', refit=True, scoring='roc_auc', verbose=0)"
      ]
     },
     "execution_count": 12,
     "metadata": {},
     "output_type": "execute_result"
    }
   ],
   "source": [
    "tuned_parameters = [{'alpha' : [10**-4, 10**-3, 10**-2, 10**-1, 10, 10**2, 10**3, 10**4], 'penalty' : ['l1', 'l2']}]\n",
    "model = GridSearchCV(linear_model.SGDClassifier(loss='hinge', fit_intercept=False, max_iter=1000, tol=1e-3, class_weight={1: 1, 0: 5.3}), tuned_parameters, scoring = 'roc_auc')\n",
    "model.fit(X_train_tfidf, Y_train)"
   ]
  },
  {
   "cell_type": "markdown",
   "metadata": {},
   "source": [
    "### From above it can be seen that best penalty would be l2, thus using l2 penalty now we will get the train and CV scores"
   ]
  },
  {
   "cell_type": "code",
   "execution_count": 15,
   "metadata": {},
   "outputs": [],
   "source": [
    "def scores(X, Y):\n",
    "    alphas = [10**-4, 10**-3, 10**-2, 10**-1, 10, 10**2, 10**3, 10**4]\n",
    "    scores = []\n",
    "    for alpha in alphas:\n",
    "            clf = linear_model.SGDClassifier(loss='hinge', penalty='l2', alpha=alpha, fit_intercept=False, max_iter=1000, tol=1e-3, class_weight={1: 1, 0: 5.3})\n",
    "            clf_sigmoid = CalibratedClassifierCV(clf, cv=2, method='sigmoid')\n",
    "            clf_sigmoid.fit(X_train_tfidf, Y_train)\n",
    "            pred = clf_sigmoid.predict(X)\n",
    "            auc = roc_auc_score(Y, pred)\n",
    "            scores.append(auc)\n",
    "    return scores"
   ]
  },
  {
   "cell_type": "code",
   "execution_count": 16,
   "metadata": {},
   "outputs": [],
   "source": [
    "train_scores = scores(X_train_tfidf, Y_train)"
   ]
  },
  {
   "cell_type": "code",
   "execution_count": 17,
   "metadata": {},
   "outputs": [],
   "source": [
    "cv_scores = scores(X_CV_tfidf, Y_CV)"
   ]
  },
  {
   "cell_type": "code",
   "execution_count": 18,
   "metadata": {},
   "outputs": [
    {
     "data": {
      "image/png": "[encoded data removed]",
      "text/plain": [
       "<matplotlib.figure.Figure at 0x7f67a31acf98>"
      ]
     },
     "metadata": {},
     "output_type": "display_data"
    }
   ],
   "source": [
    "alphas = [10**-4, 10**-3, 10**-2, 10**-1, 10, 10**2, 10**3, 10**4]\n",
    "log_alphas = np.log(np.asarray(alphas))\n",
    "plt.plot(log_alphas, cv_scores, label='CV_score')\n",
    "plt.plot(log_alphas, train_scores, label='train_score')\n",
    "plt.title('train VS CV')\n",
    "plt.ylabel('auc score')\n",
    "plt.xlabel('log of alphas')\n",
    "plt.legend()\n",
    "plt.show()"
   ]
  },
  {
   "cell_type": "code",
   "execution_count": 19,
   "metadata": {},
   "outputs": [
    {
     "data": {
      "image/png": "[encoded data removed]",
      "text/plain": [
       "<matplotlib.figure.Figure at 0x7f67a31acda0>"
      ]
     },
     "metadata": {},
     "output_type": "display_data"
    },
    {
     "name": "stdout",
     "output_type": "stream",
     "text": [
      "The auc score for each alpha value for cross validation is :  [0.713 0.714 0.638 0.583 0.583 0.583 0.583 0.583]\n"
     ]
    }
   ],
   "source": [
    "plt.plot(log_alphas, cv_scores )\n",
    "\n",
    "plt.title('plot for cv scores according to log of alphas')\n",
    "for xy in zip(np.round(log_alphas, 2), np.round(cv_scores,3)):\n",
    "    plt.annotate('(%s, %s)' % xy, xy=xy, textcoords='data')\n",
    "plt.xlabel('log of alphas')\n",
    "plt.ylabel('auc scores for cross validation')\n",
    "plt.show()\n",
    "\n",
    "print(\"The auc score for each alpha value for cross validation is : \", np.round(cv_scores,3))"
   ]
  },
  {
   "cell_type": "code",
   "execution_count": 20,
   "metadata": {},
   "outputs": [
    {
     "data": {
      "image/png": "[encoded data removed]",
      "text/plain": [
       "<matplotlib.figure.Figure at 0x7f67a2d7aeb8>"
      ]
     },
     "metadata": {},
     "output_type": "display_data"
    },
    {
     "name": "stdout",
     "output_type": "stream",
     "text": [
      "The auc score for each alpha value for train data is :  [0.751 0.753 0.67  0.606 0.606 0.606 0.606 0.606]\n"
     ]
    }
   ],
   "source": [
    "plt.plot(log_alphas, train_scores )\n",
    "\n",
    "plt.title('plot for cv scores according to log of alphas')\n",
    "for xy in zip(np.round(log_alphas, 2), np.round(cv_scores,3)):\n",
    "    plt.annotate('(%s, %s)' % xy, xy=xy, textcoords='data')\n",
    "plt.xlabel('log of alphas')\n",
    "plt.ylabel('auc scores for train data')\n",
    "plt.show()\n",
    "\n",
    "print(\"The auc score for each alpha value for train data is : \", np.round(train_scores,3))"
   ]
  },
  {
   "cell_type": "code",
   "execution_count": 21,
   "metadata": {},
   "outputs": [
    {
     "name": "stdout",
     "output_type": "stream",
     "text": [
      "\n",
      "The optimal value of alpha for cv is 0.001 and it's value is 0.7143745206595724\n"
     ]
    }
   ],
   "source": [
    "optimal_alpha_for_cv = alphas[cv_scores.index(max(cv_scores))]\n",
    "print('\\nThe optimal value of alpha for cv is {} and it\\'s value is {}'.format(optimal_alpha_for_cv, max(cv_scores)))"
   ]
  },
  {
   "cell_type": "code",
   "execution_count": 22,
   "metadata": {},
   "outputs": [
    {
     "name": "stdout",
     "output_type": "stream",
     "text": [
      "\n",
      "The optimal value of alpha for training is 0.001 and it's value is 0.7530773959239185\n"
     ]
    }
   ],
   "source": [
    "optimal_alpha_for_train = alphas[train_scores.index(max(train_scores))]\n",
    "print('\\nThe optimal value of alpha for training is {} and it\\'s value is {}'.format(optimal_alpha_for_train, max(train_scores)))"
   ]
  },
  {
   "cell_type": "code",
   "execution_count": 23,
   "metadata": {},
   "outputs": [
    {
     "name": "stdout",
     "output_type": "stream",
     "text": [
      "+---------------+--------------------+------------------+--------------------+\n",
      "| alphas for cv |      cv score      | alphas for train |    train score     |\n",
      "+---------------+--------------------+------------------+--------------------+\n",
      "|     0.001     | 0.7143745206595724 |      0.001       | 0.7530773959239185 |\n",
      "|     0.0001    | 0.7131596922634456 |      0.0001      | 0.7514113386286969 |\n",
      "|      0.01     | 0.6381975901160004 |       0.01       | 0.6698807798891115 |\n",
      "|      0.1      | 0.5831678110919375 |       0.1        | 0.6059329063072963 |\n",
      "|      0.1      | 0.5831678110919375 |       0.1        | 0.6059329063072963 |\n",
      "|      0.1      | 0.5831678110919375 |       0.1        | 0.6059329063072963 |\n",
      "|      0.1      | 0.5831678110919375 |       0.1        | 0.6059329063072963 |\n",
      "|      0.1      | 0.5831678110919375 |       0.1        | 0.6059329063072963 |\n",
      "+---------------+--------------------+------------------+--------------------+\n"
     ]
    }
   ],
   "source": [
    "x = PrettyTable()\n",
    "x.field_names = ['alphas for cv', 'cv score', 'alphas for train', 'train score']\n",
    "for z, y in zip(sorted(cv_scores, reverse=True), sorted(train_scores, reverse=True)):\n",
    "    x.add_row([alphas[cv_scores.index(z)], z, alphas[train_scores.index(y)], y])\n",
    "print(x)"
   ]
  },
  {
   "cell_type": "markdown",
   "metadata": {},
   "source": [
    "### Based on the above graphs and the table we can choose the optimal value of alpha to be equal to 0.001"
   ]
  },
  {
   "cell_type": "code",
   "execution_count": 24,
   "metadata": {},
   "outputs": [],
   "source": [
    "SVM_optimal = linear_model.SGDClassifier(loss='hinge', penalty='l2', alpha=0.001, fit_intercept=False, max_iter=1000, tol=1e-3, class_weight={1: 1, 0: 5.3})\n",
    "\n",
    "# fitting the model\n",
    "SVM_optimal.fit(X_train_tfidf, Y_train)\n",
    "\n",
    "# predict the response\n",
    "pred = SVM_optimal.predict(X_test_tfidf)\n",
    "\n",
    "# evaluate auc_score\n",
    "auc_score = roc_auc_score(Y_test, pred)"
   ]
  },
  {
   "cell_type": "code",
   "execution_count": 25,
   "metadata": {},
   "outputs": [
    {
     "name": "stdout",
     "output_type": "stream",
     "text": [
      "\n",
      "The auc score for test data for alpha = 0.001 is 0.801473\n"
     ]
    }
   ],
   "source": [
    "print('\\nThe auc score for test data for alpha = {} is {:2f}'.format(0.001, auc_score))"
   ]
  },
  {
   "cell_type": "code",
   "execution_count": 26,
   "metadata": {},
   "outputs": [
    {
     "data": {
      "text/plain": [
       "array([[ 829,  401],\n",
       "       [ 623, 8147]])"
      ]
     },
     "execution_count": 26,
     "metadata": {},
     "output_type": "execute_result"
    }
   ],
   "source": [
    "conf_matrix = confusion_matrix(Y_test, pred)\n",
    "conf_matrix"
   ]
  },
  {
   "cell_type": "code",
   "execution_count": 27,
   "metadata": {},
   "outputs": [
    {
     "data": {
      "image/png": "[encoded data removed]",
      "text/plain": [
       "<matplotlib.figure.Figure at 0x7f67a2c175f8>"
      ]
     },
     "metadata": {},
     "output_type": "display_data"
    }
   ],
   "source": [
    "df_cm = pd.DataFrame(conf_matrix, range(2),\n",
    "                  range(2))\n",
    "#plt.figure(figsize = (10,7))\n",
    "sns.set(font_scale=1.4)#for label size\n",
    "sns.heatmap(df_cm, annot=True, fmt=\"d\",cmap=\"YlGnBu\")\n",
    "plt.xlabel('predicted lables')\n",
    "plt.ylabel('actual lables')\n",
    "plt.show()"
   ]
  },
  {
   "cell_type": "code",
   "execution_count": 28,
   "metadata": {},
   "outputs": [
    {
     "name": "stdout",
     "output_type": "stream",
     "text": [
      "             precision    recall  f1-score   support\n",
      "\n",
      "          0       0.57      0.67      0.62      1230\n",
      "          1       0.95      0.93      0.94      8770\n",
      "\n",
      "avg / total       0.91      0.90      0.90     10000\n",
      "\n"
     ]
    }
   ],
   "source": [
    "print(classification_report(Y_test, pred))"
   ]
  },
  {
   "cell_type": "markdown",
   "metadata": {},
   "source": [
    "## Top 20 features for positive class and top 20 features for negative class"
   ]
  },
  {
   "cell_type": "code",
   "execution_count": 29,
   "metadata": {},
   "outputs": [],
   "source": [
    "def getImpFeatures(vectorizer,w_vec,top_n_features):\n",
    "    feature_names = vectorizer.get_feature_names()\n",
    "    coefs_with_fns = sorted(zip(w_vec[0], feature_names))\n",
    "    print(\"These are the top 20 important Features Which are most widely used in Positive and Negative Reviews:\")\n",
    "    pos_features = coefs_with_fns[len(feature_names)-top_n_features:len(feature_names)];\n",
    "    neg_features = coefs_with_fns[0:top_n_features];\n",
    "    print(\"\\n\")\n",
    "    print(\"Positive: \\t\\t\\t\\t Negative:\")\n",
    "    print(\"\\n\")\n",
    "    for i in range(20):\n",
    "        print(pos_features[i],\"\\t\\t\",neg_features[i])"
   ]
  },
  {
   "cell_type": "code",
   "execution_count": 30,
   "metadata": {},
   "outputs": [
    {
     "name": "stdout",
     "output_type": "stream",
     "text": [
      "These are the top 20 important Features Which are most widely used in Positive and Negative Reviews:\n",
      "\n",
      "\n",
      "Positive: \t\t\t\t Negative:\n",
      "\n",
      "\n",
      "(1.1630264412207343, 'thank') \t\t (-2.9693043061436244, 'disappoint')\n",
      "(1.1880139869497226, 'alway') \t\t (-2.021437789483411, 'worst')\n",
      "(1.2013655718168816, 'easi') \t\t (-1.799721213498545, 'horribl')\n",
      "(1.2108827971997729, 'quick') \t\t (-1.7732058214465767, 'terribl')\n",
      "(1.2120152640251873, 'enjoy') \t\t (-1.7576678941718462, 'bad')\n",
      "(1.2328598555436683, 'amaz') \t\t (-1.6745337077611144, 'bland')\n",
      "(1.3519784444831622, 'tasti') \t\t (-1.6536900885395212, 'mayb')\n",
      "(1.44276270667265, 'find') \t\t (-1.579473197854206, 'unfortun')\n",
      "(1.4476104758296184, 'keep') \t\t (-1.553825232975931, 'aw')\n",
      "(1.4655017904047225, 'use') \t\t (-1.5089208263851064, 'didnt')\n",
      "(1.6393060837459614, 'wonder') \t\t (-1.49793840180492, 'thought')\n",
      "(1.6531089949547857, 'favorit') \t\t (-1.4864166728860044, 'money')\n",
      "(1.7848077650789096, 'nice') \t\t (-1.437034591672996, 'return')\n",
      "(1.870345192992376, 'perfect') \t\t (-1.4187005037244653, 'away')\n",
      "(1.9778552861043872, 'good') \t\t (-1.3960262580482414, 'would')\n",
      "(1.9924210471113393, 'excel') \t\t (-1.3640905810694424, 'wast')\n",
      "(2.258504194419915, 'delici') \t\t (-1.3581448432896384, 'weak')\n",
      "(3.0218638069062616, 'love') \t\t (-1.2473107202572211, 'tast')\n",
      "(3.0785069018336815, 'best') \t\t (-1.2099563145283248, 'threw')\n",
      "(3.683935729094159, 'great') \t\t (-1.179628730143691, 'stale')\n"
     ]
    }
   ],
   "source": [
    "getImpFeatures(tf_idf_vect, SVM_optimal.coef_, 20)"
   ]
  },
  {
   "cell_type": "markdown",
   "metadata": {},
   "source": [
    "# W2V"
   ]
  },
  {
   "cell_type": "code",
   "execution_count": 10,
   "metadata": {},
   "outputs": [],
   "source": [
    "i=0\n",
    "list_of_sent =[]\n",
    "for sent in X_train['Text'].values:\n",
    "    filtered_sentence =[]\n",
    "    sent = clean_html(sent)\n",
    "    for w in sent.split():\n",
    "        for cleaned_words in clean_punctuation(w).split():\n",
    "            if(cleaned_words.isalpha()):\n",
    "                filtered_sentence.append(cleaned_words.lower())\n",
    "            else:\n",
    "                continue\n",
    "    list_of_sent.append(filtered_sentence)"
   ]
  },
  {
   "cell_type": "code",
   "execution_count": 11,
   "metadata": {},
   "outputs": [],
   "source": [
    "w2v_model=Word2Vec(list_of_sent, min_count=5 ,size=50)"
   ]
  },
  {
   "cell_type": "code",
   "execution_count": 12,
   "metadata": {},
   "outputs": [],
   "source": [
    "w2v_words = list(w2v_model.wv.vocab)"
   ]
  },
  {
   "cell_type": "markdown",
   "metadata": {},
   "source": [
    "# Average W2V"
   ]
  },
  {
   "cell_type": "code",
   "execution_count": 13,
   "metadata": {},
   "outputs": [
    {
     "name": "stderr",
     "output_type": "stream",
     "text": [
      "100%|██████████| 40000/40000 [01:33<00:00, 427.98it/s]"
     ]
    },
    {
     "name": "stdout",
     "output_type": "stream",
     "text": [
      "40000\n",
      "50\n"
     ]
    },
    {
     "name": "stderr",
     "output_type": "stream",
     "text": [
      "\n"
     ]
    }
   ],
   "source": [
    "X_train_avgw2v = []; # the avg-w2v for each sentence/review is stored in this list\n",
    "for sent in tqdm(list_of_sent): # for each review/sentence\n",
    "    sent_vec = np.zeros(50) # as word vectors are of zero length\n",
    "    cnt_words =0; # num of words with a valid vector in the sentence/review\n",
    "    for word in sent: # for each word in a review/sentence\n",
    "        if word in w2v_words:\n",
    "            vec = w2v_model.wv[word]\n",
    "            sent_vec += vec\n",
    "            cnt_words += 1\n",
    "    if cnt_words != 0:\n",
    "        sent_vec /= cnt_words\n",
    "    X_train_avgw2v.append(sent_vec)\n",
    "print(len(X_train_avgw2v))\n",
    "print(len(X_train_avgw2v[0]))"
   ]
  },
  {
   "cell_type": "code",
   "execution_count": 14,
   "metadata": {},
   "outputs": [],
   "source": [
    "X_train_avgw2v = np.asarray(X_train_avgw2v)"
   ]
  },
  {
   "cell_type": "code",
   "execution_count": 15,
   "metadata": {},
   "outputs": [],
   "source": [
    "X_train_avgw2v = StandardScaler().fit_transform(X_train_avgw2v)"
   ]
  },
  {
   "cell_type": "code",
   "execution_count": 16,
   "metadata": {},
   "outputs": [],
   "source": [
    "train_w2v = open(\"train_w2v.pickle\", \"wb\")\n",
    "pickle.dump(X_train_avgw2v, train_w2v)\n",
    "train_w2v.close()"
   ]
  },
  {
   "cell_type": "code",
   "execution_count": 17,
   "metadata": {},
   "outputs": [],
   "source": [
    "i=0\n",
    "list_of_sentence =[]\n",
    "for sent in X_CV['Text'].values:\n",
    "    filtered_sentence =[]\n",
    "    sent = clean_html(sent)\n",
    "    for w in sent.split():\n",
    "        for cleaned_words in clean_punctuation(w).split():\n",
    "            if(cleaned_words.isalpha()):\n",
    "                filtered_sentence.append(cleaned_words.lower())\n",
    "            else:\n",
    "                continue\n",
    "    list_of_sentence.append(filtered_sentence)"
   ]
  },
  {
   "cell_type": "code",
   "execution_count": 18,
   "metadata": {},
   "outputs": [
    {
     "name": "stderr",
     "output_type": "stream",
     "text": [
      "100%|██████████| 10000/10000 [00:25<00:00, 385.73it/s]"
     ]
    },
    {
     "name": "stdout",
     "output_type": "stream",
     "text": [
      "10000\n",
      "50\n"
     ]
    },
    {
     "name": "stderr",
     "output_type": "stream",
     "text": [
      "\n"
     ]
    }
   ],
   "source": [
    "X_CV_avgw2v = []; # the avg-w2v for each sentence/review is stored in this list\n",
    "for sent in tqdm(list_of_sentence): # for each review/sentence\n",
    "    sent_vec = np.zeros(50) # as word vectors are of zero length\n",
    "    cnt_words =0; # num of words with a valid vector in the sentence/review\n",
    "    for word in sent: # for each word in a review/sentence\n",
    "        if word in w2v_words:\n",
    "            vec = w2v_model.wv[word]\n",
    "            sent_vec += vec\n",
    "            cnt_words += 1\n",
    "    if cnt_words != 0:\n",
    "        sent_vec /= cnt_words\n",
    "    X_CV_avgw2v.append(sent_vec)\n",
    "print(len(X_CV_avgw2v))\n",
    "print(len(X_CV_avgw2v[0]))"
   ]
  },
  {
   "cell_type": "code",
   "execution_count": 19,
   "metadata": {},
   "outputs": [
    {
     "data": {
      "text/plain": [
       "(10000, 50)"
      ]
     },
     "execution_count": 19,
     "metadata": {},
     "output_type": "execute_result"
    }
   ],
   "source": [
    "X_CV_avgw2v = np.asarray(X_CV_avgw2v)\n",
    "X_CV_avgw2v = StandardScaler().fit_transform(X_CV_avgw2v)\n",
    "X_CV_avgw2v.shape"
   ]
  },
  {
   "cell_type": "code",
   "execution_count": 20,
   "metadata": {},
   "outputs": [],
   "source": [
    "CV_w2v = open(\"CV_w2v.pickle\", \"wb\")\n",
    "pickle.dump(X_CV_avgw2v, CV_w2v)\n",
    "CV_w2v.close()"
   ]
  },
  {
   "cell_type": "code",
   "execution_count": 21,
   "metadata": {},
   "outputs": [],
   "source": [
    "i=0\n",
    "list_of_sen =[]\n",
    "for sent in X_test['Text'].values:\n",
    "    filtered_sentence =[]\n",
    "    sent = clean_html(sent)\n",
    "    for w in sent.split():\n",
    "        for cleaned_words in clean_punctuation(w).split():\n",
    "            if(cleaned_words.isalpha()):\n",
    "                filtered_sentence.append(cleaned_words.lower())\n",
    "            else:\n",
    "                continue\n",
    "    list_of_sen.append(filtered_sentence)"
   ]
  },
  {
   "cell_type": "code",
   "execution_count": 22,
   "metadata": {},
   "outputs": [
    {
     "name": "stderr",
     "output_type": "stream",
     "text": [
      "100%|██████████| 10000/10000 [00:23<00:00, 427.01it/s]"
     ]
    },
    {
     "name": "stdout",
     "output_type": "stream",
     "text": [
      "10000\n",
      "50\n"
     ]
    },
    {
     "name": "stderr",
     "output_type": "stream",
     "text": [
      "\n"
     ]
    }
   ],
   "source": [
    "X_test_avgw2v = []; # the avg-w2v for each sentence/review is stored in this list\n",
    "for sent in tqdm(list_of_sen): # for each review/sentence\n",
    "    sent_vec = np.zeros(50) # as word vectors are of zero length\n",
    "    cnt_words =0; # num of words with a valid vector in the sentence/review\n",
    "    for word in sent: # for each word in a review/sentence\n",
    "        if word in w2v_words:\n",
    "            vec = w2v_model.wv[word]\n",
    "            sent_vec += vec\n",
    "            cnt_words += 1\n",
    "    if cnt_words != 0:\n",
    "        sent_vec /= cnt_words\n",
    "    X_test_avgw2v.append(sent_vec)\n",
    "print(len(X_test_avgw2v))\n",
    "print(len(X_test_avgw2v[0]))"
   ]
  },
  {
   "cell_type": "code",
   "execution_count": 23,
   "metadata": {},
   "outputs": [
    {
     "data": {
      "text/plain": [
       "(10000, 50)"
      ]
     },
     "execution_count": 23,
     "metadata": {},
     "output_type": "execute_result"
    }
   ],
   "source": [
    "X_test_avgw2v = np.asarray(X_test_avgw2v)\n",
    "X_test_avgw2v = StandardScaler().fit_transform(X_test_avgw2v)\n",
    "X_test_avgw2v.shape"
   ]
  },
  {
   "cell_type": "code",
   "execution_count": 24,
   "metadata": {},
   "outputs": [],
   "source": [
    "test_w2v = open(\"test_w2v.pickle\", \"wb\")\n",
    "pickle.dump(X_test_avgw2v, test_w2v)\n",
    "test_w2v.close()"
   ]
  },
  {
   "cell_type": "markdown",
   "metadata": {},
   "source": [
    "# Linear SVM on Average W2V"
   ]
  },
  {
   "cell_type": "code",
   "execution_count": 25,
   "metadata": {},
   "outputs": [
    {
     "data": {
      "text/plain": [
       "GridSearchCV(cv=None, error_score='raise',\n",
       "       estimator=SGDClassifier(alpha=0.0001, average=False, class_weight={1: 1, 0: 5.3},\n",
       "       epsilon=0.1, eta0=0.0, fit_intercept=False, l1_ratio=0.15,\n",
       "       learning_rate='optimal', loss='hinge', max_iter=1000, n_iter=None,\n",
       "       n_jobs=1, penalty='l2', power_t=0.5, random_state=None,\n",
       "       shuffle=True, tol=0.001, verbose=0, warm_start=False),\n",
       "       fit_params={}, iid=True, n_jobs=1,\n",
       "       param_grid=[{'alpha': [0.0001, 0.001, 0.01, 0.1, 10, 100, 1000, 10000], 'penalty': ['l1', 'l2']}],\n",
       "       pre_dispatch='2*n_jobs', refit=True, scoring='roc_auc', verbose=0)"
      ]
     },
     "execution_count": 25,
     "metadata": {},
     "output_type": "execute_result"
    }
   ],
   "source": [
    "tuned_parameters = [{'alpha' : [10**-4, 10**-3, 10**-2, 10**-1, 10, 10**2, 10**3, 10**4], 'penalty' : ['l1', 'l2']}]\n",
    "model = GridSearchCV(linear_model.SGDClassifier(loss='hinge', fit_intercept=False, max_iter=1000, tol=1e-3, class_weight={1: 1, 0: 5.3}), tuned_parameters, scoring = 'roc_auc')\n",
    "model.fit(X_train_avgw2v, Y_train)"
   ]
  },
  {
   "cell_type": "markdown",
   "metadata": {},
   "source": [
    "### From above it can be seen that best penalty would be l2, thus using l2 penalty now we will get the train and CV scores"
   ]
  },
  {
   "cell_type": "code",
   "execution_count": 28,
   "metadata": {},
   "outputs": [],
   "source": [
    "def scores(X, Y):\n",
    "    alphas = [10**-4, 10**-3, 10**-2, 10**-1, 10, 10**2, 10**3, 10**4]\n",
    "    scores = []\n",
    "    for alpha in alphas:\n",
    "            clf = linear_model.SGDClassifier(loss='hinge', penalty='l2', alpha=alpha, fit_intercept=False, max_iter=1000, tol=1e-3, class_weight={1: 1, 0: 5.3})\n",
    "            clf_sigmoid = CalibratedClassifierCV(clf, cv=2, method='sigmoid')\n",
    "            clf_sigmoid.fit(X_train_bow, Y_train)\n",
    "            pred = clf_sigmoid.predict(X)\n",
    "            auc = roc_auc_score(Y, pred)\n",
    "            scores.append(auc)\n",
    "    return scores"
   ]
  },
  {
   "cell_type": "code",
   "execution_count": 29,
   "metadata": {},
   "outputs": [],
   "source": [
    "cv_scores = scores(X_CV_avgw2v, Y_CV)"
   ]
  },
  {
   "cell_type": "code",
   "execution_count": 31,
   "metadata": {},
   "outputs": [],
   "source": [
    "train_scores = scores(X_train_avgw2v, Y_train)"
   ]
  },
  {
   "cell_type": "code",
   "execution_count": 32,
   "metadata": {},
   "outputs": [
    {
     "data": {
      "image/png": "[encoded data removed]",
      "text/plain": [
       "<matplotlib.figure.Figure at 0x7f76446d0080>"
      ]
     },
     "metadata": {},
     "output_type": "display_data"
    }
   ],
   "source": [
    "alphas = [10**-4, 10**-3, 10**-2, 10**-1, 10, 10**2, 10**3, 10**4]\n",
    "log_alphas = np.log(np.asarray(alphas))\n",
    "plt.plot(log_alphas, cv_scores, label='CV_score')\n",
    "plt.plot(log_alphas, train_scores, label='train_score')\n",
    "plt.title('train VS CV')\n",
    "plt.ylabel('auc score')\n",
    "plt.xlabel('log of alphas')\n",
    "plt.legend()\n",
    "plt.show()"
   ]
  },
  {
   "cell_type": "code",
   "execution_count": 33,
   "metadata": {},
   "outputs": [
    {
     "data": {
      "image/png": "[encoded data removed]",
      "text/plain": [
       "<matplotlib.figure.Figure at 0x7f7643a3c780>"
      ]
     },
     "metadata": {},
     "output_type": "display_data"
    },
    {
     "name": "stdout",
     "output_type": "stream",
     "text": [
      "The auc score for each alpha value for cross validation is :  [0.714 0.736 0.742 0.741 0.706 0.706 0.706 0.706]\n"
     ]
    }
   ],
   "source": [
    "plt.plot(log_alphas, cv_scores )\n",
    "\n",
    "plt.title('plot for cv scores according to log of alphas')\n",
    "for xy in zip(np.round(log_alphas, 2), np.round(cv_scores,3)):\n",
    "    plt.annotate('(%s, %s)' % xy, xy=xy, textcoords='data')\n",
    "plt.xlabel('log of alphas')\n",
    "plt.ylabel('auc scores for cross validation')\n",
    "plt.show()\n",
    "\n",
    "print(\"The auc score for each alpha value for cross validation is : \", np.round(cv_scores,3))"
   ]
  },
  {
   "cell_type": "code",
   "execution_count": 34,
   "metadata": {},
   "outputs": [
    {
     "data": {
      "image/png": "[encoded data removed]",
      "text/plain": [
       "<matplotlib.figure.Figure at 0x7f76442031d0>"
      ]
     },
     "metadata": {},
     "output_type": "display_data"
    },
    {
     "name": "stdout",
     "output_type": "stream",
     "text": [
      "The auc score for each alpha value for train data is :  [0.723 0.741 0.745 0.744 0.714 0.714 0.714 0.714]\n"
     ]
    }
   ],
   "source": [
    "plt.plot(log_alphas, train_scores )\n",
    "\n",
    "plt.title('plot for cv scores according to log of alphas')\n",
    "for xy in zip(np.round(log_alphas, 2), np.round(cv_scores,3)):\n",
    "    plt.annotate('(%s, %s)' % xy, xy=xy, textcoords='data')\n",
    "plt.xlabel('log of alphas')\n",
    "plt.ylabel('auc scores for train data')\n",
    "plt.show()\n",
    "\n",
    "print(\"The auc score for each alpha value for train data is : \", np.round(train_scores,3))"
   ]
  },
  {
   "cell_type": "code",
   "execution_count": 35,
   "metadata": {},
   "outputs": [
    {
     "name": "stdout",
     "output_type": "stream",
     "text": [
      "\n",
      "The optimal value of alpha for cv is 0.01 and it's value is 0.7423792361710286\n"
     ]
    }
   ],
   "source": [
    "optimal_alpha_for_cv = alphas[cv_scores.index(max(cv_scores))]\n",
    "print('\\nThe optimal value of alpha for cv is {} and it\\'s value is {}'.format(optimal_alpha_for_cv, max(cv_scores)))"
   ]
  },
  {
   "cell_type": "code",
   "execution_count": 36,
   "metadata": {},
   "outputs": [
    {
     "name": "stdout",
     "output_type": "stream",
     "text": [
      "\n",
      "The optimal value of alpha for training is 0.01 and it's value is 0.7450291824118438\n"
     ]
    }
   ],
   "source": [
    "optimal_alpha_for_train = alphas[train_scores.index(max(train_scores))]\n",
    "print('\\nThe optimal value of alpha for training is {} and it\\'s value is {}'.format(optimal_alpha_for_train, max(train_scores)))"
   ]
  },
  {
   "cell_type": "code",
   "execution_count": 37,
   "metadata": {},
   "outputs": [
    {
     "name": "stdout",
     "output_type": "stream",
     "text": [
      "+---------------+--------------------+------------------+--------------------+\n",
      "| alphas for cv |      cv score      | alphas for train |    train score     |\n",
      "+---------------+--------------------+------------------+--------------------+\n",
      "|      0.01     | 0.7423792361710286 |       0.01       | 0.7450291824118438 |\n",
      "|      0.1      | 0.7408176349343305 |       0.1        | 0.7437356363640467 |\n",
      "|     0.001     | 0.7360414569552295 |      0.001       | 0.7405571380767607 |\n",
      "|     0.0001    | 0.7136113208225482 |      0.0001      | 0.7234927294371467 |\n",
      "|      100      | 0.7063545561307641 |       1000       | 0.7138760849270945 |\n",
      "|      100      | 0.7063545561307641 |       100        | 0.713862037221085  |\n",
      "|      100      | 0.7063545561307641 |       100        | 0.713862037221085  |\n",
      "|       10      | 0.7062976344549899 |        10        | 0.713819894103056  |\n",
      "+---------------+--------------------+------------------+--------------------+\n"
     ]
    }
   ],
   "source": [
    "x = PrettyTable()\n",
    "x.field_names = ['alphas for cv', 'cv score', 'alphas for train', 'train score']\n",
    "for z, y in zip(sorted(cv_scores, reverse=True), sorted(train_scores, reverse=True)):\n",
    "    x.add_row([alphas[cv_scores.index(z)], z, alphas[train_scores.index(y)], y])\n",
    "print(x)"
   ]
  },
  {
   "cell_type": "markdown",
   "metadata": {},
   "source": [
    "### Based on the above graphs and the table we can choose the optimal value of alpha to be equal to 0.01"
   ]
  },
  {
   "cell_type": "code",
   "execution_count": 39,
   "metadata": {},
   "outputs": [],
   "source": [
    "SVM_optimal = linear_model.SGDClassifier(loss='hinge', penalty='l2', alpha=0.01, fit_intercept=False, max_iter=1000, tol=1e-3, class_weight={1: 1, 0: 5.3})\n",
    "\n",
    "# fitting the model\n",
    "SVM_optimal.fit(X_train_avgw2v, Y_train)\n",
    "\n",
    "# predict the response\n",
    "pred = SVM_optimal.predict(X_test_avgw2v)\n",
    "\n",
    "# evaluate auc_score\n",
    "auc_score = roc_auc_score(Y_test, pred)"
   ]
  },
  {
   "cell_type": "code",
   "execution_count": 41,
   "metadata": {},
   "outputs": [
    {
     "name": "stdout",
     "output_type": "stream",
     "text": [
      "\n",
      "The auc score for test data for alpha = 0.01 is 0.740302\n"
     ]
    }
   ],
   "source": [
    "print('\\nThe auc score for test data for alpha = {} is {:2f}'.format(0.01, auc_score))"
   ]
  },
  {
   "cell_type": "code",
   "execution_count": 42,
   "metadata": {},
   "outputs": [
    {
     "data": {
      "text/plain": [
       "array([[1160,   70],\n",
       "       [4056, 4714]])"
      ]
     },
     "execution_count": 42,
     "metadata": {},
     "output_type": "execute_result"
    }
   ],
   "source": [
    "conf_matrix = confusion_matrix(Y_test, pred)\n",
    "conf_matrix"
   ]
  },
  {
   "cell_type": "code",
   "execution_count": 43,
   "metadata": {},
   "outputs": [
    {
     "data": {
      "image/png": "[encoded data removed]",
      "text/plain": [
       "<matplotlib.figure.Figure at 0x7f76439c0dd8>"
      ]
     },
     "metadata": {},
     "output_type": "display_data"
    }
   ],
   "source": [
    "df_cm = pd.DataFrame(conf_matrix, range(2),\n",
    "                  range(2))\n",
    "#plt.figure(figsize = (10,7))\n",
    "sns.set(font_scale=1.4)#for label size\n",
    "sns.heatmap(df_cm, annot=True, fmt=\"d\",cmap=\"YlGnBu\")\n",
    "plt.xlabel('predicted lables')\n",
    "plt.ylabel('actual lables')\n",
    "plt.show()"
   ]
  },
  {
   "cell_type": "code",
   "execution_count": 44,
   "metadata": {},
   "outputs": [
    {
     "name": "stdout",
     "output_type": "stream",
     "text": [
      "             precision    recall  f1-score   support\n",
      "\n",
      "          0       0.22      0.94      0.36      1230\n",
      "          1       0.99      0.54      0.70      8770\n",
      "\n",
      "avg / total       0.89      0.59      0.65     10000\n",
      "\n"
     ]
    }
   ],
   "source": [
    "print(classification_report(Y_test, pred))"
   ]
  },
  {
   "cell_type": "markdown",
   "metadata": {},
   "source": [
    "# TF-IDF W2V"
   ]
  },
  {
   "cell_type": "code",
   "execution_count": 10,
   "metadata": {},
   "outputs": [],
   "source": [
    "i=0\n",
    "list_of_sent =[]\n",
    "for sent in X_train['CleanedText'].values:\n",
    "    filtered_sentence =[]\n",
    "    sent = clean_html(sent)\n",
    "    for w in sent.split():\n",
    "        for cleaned_words in clean_punctuation(w).split():\n",
    "            if(cleaned_words.isalpha()):\n",
    "                filtered_sentence.append(cleaned_words.lower())\n",
    "            else:\n",
    "                continue\n",
    "    list_of_sent.append(filtered_sentence)\n"
   ]
  },
  {
   "cell_type": "code",
   "execution_count": 11,
   "metadata": {},
   "outputs": [],
   "source": [
    "w2v_model=Word2Vec(list_of_sent, min_count=5 ,size=50)"
   ]
  },
  {
   "cell_type": "code",
   "execution_count": 12,
   "metadata": {},
   "outputs": [],
   "source": [
    "w2v_words = list(w2v_model.wv.vocab)"
   ]
  },
  {
   "cell_type": "code",
   "execution_count": 13,
   "metadata": {},
   "outputs": [],
   "source": [
    "model = TfidfVectorizer()\n",
    "tf_idf_matrix = model.fit_transform(X_train['CleanedText'].values)\n",
    "dictionary = dict(zip(model.get_feature_names(), list(model.idf_)))"
   ]
  },
  {
   "cell_type": "code",
   "execution_count": 14,
   "metadata": {},
   "outputs": [
    {
     "name": "stderr",
     "output_type": "stream",
     "text": [
      "100%|██████████| 40000/40000 [00:56<00:00, 708.52it/s]\n"
     ]
    }
   ],
   "source": [
    "tfidf_feat = model.get_feature_names()\n",
    "\n",
    "X_train_tf = []\n",
    "row=0;\n",
    "for sent in tqdm(list_of_sent):  \n",
    "    sent_vec = np.zeros(50) \n",
    "    weight_sum =0; \n",
    "    for word in sent: \n",
    "        if word in w2v_words:\n",
    "            vec = w2v_model.wv[word]\n",
    "            tf_idf = dictionary[word]*(sent.count(word)/len(sent))\n",
    "            sent_vec += (vec * tf_idf)\n",
    "            weight_sum += tf_idf\n",
    "    if weight_sum != 0:\n",
    "        sent_vec /= weight_sum\n",
    "    X_train_tf.append(sent_vec)\n",
    "    row += 1"
   ]
  },
  {
   "cell_type": "code",
   "execution_count": 15,
   "metadata": {},
   "outputs": [
    {
     "data": {
      "text/plain": [
       "(40000, 50)"
      ]
     },
     "execution_count": 15,
     "metadata": {},
     "output_type": "execute_result"
    }
   ],
   "source": [
    "X_train_tfidfw2v = np.asarray(X_train_tf)\n",
    "X_train_tfidfw2v = StandardScaler().fit_transform(X_train_tfidfw2v)\n",
    "X_train_tfidfw2v.shape"
   ]
  },
  {
   "cell_type": "code",
   "execution_count": 16,
   "metadata": {},
   "outputs": [],
   "source": [
    "train_tfidfw2v = open(\"train_tfidfw2v.pickle\", \"wb\")\n",
    "pickle.dump(X_train_tfidfw2v, train_tfidfw2v)\n",
    "train_tfidfw2v.close()"
   ]
  },
  {
   "cell_type": "code",
   "execution_count": 17,
   "metadata": {},
   "outputs": [],
   "source": [
    "i=0\n",
    "list_of_sentence =[]\n",
    "for sent in X_CV['CleanedText'].values:\n",
    "    filtered_sentence =[]\n",
    "    sent = clean_html(sent)\n",
    "    for w in sent.split():\n",
    "        for cleaned_words in clean_punctuation(w).split():\n",
    "            if(cleaned_words.isalpha()):\n",
    "                filtered_sentence.append(cleaned_words.lower())\n",
    "            else:\n",
    "                continue\n",
    "    list_of_sentence.append(filtered_sentence)"
   ]
  },
  {
   "cell_type": "code",
   "execution_count": 18,
   "metadata": {},
   "outputs": [],
   "source": [
    "X_CV_tfidf = model.transform(X_CV['CleanedText'].values)"
   ]
  },
  {
   "cell_type": "code",
   "execution_count": 19,
   "metadata": {},
   "outputs": [
    {
     "name": "stderr",
     "output_type": "stream",
     "text": [
      "100%|██████████| 10000/10000 [00:14<00:00, 686.33it/s]\n"
     ]
    }
   ],
   "source": [
    "tfidf_feat = model.get_feature_names()\n",
    "\n",
    "X_CV_tf = []\n",
    "row=0;\n",
    "for sent in tqdm(list_of_sentence):  \n",
    "    sent_vec = np.zeros(50) \n",
    "    weight_sum =0; \n",
    "    for word in sent: \n",
    "        if word in w2v_words:\n",
    "            vec = w2v_model.wv[word]\n",
    "            tf_idf = dictionary[word]*(sent.count(word)/len(sent))\n",
    "            sent_vec += (vec * tf_idf)\n",
    "            weight_sum += tf_idf\n",
    "    if weight_sum != 0:\n",
    "        sent_vec /= weight_sum\n",
    "    X_CV_tf.append(sent_vec)\n",
    "    row += 1"
   ]
  },
  {
   "cell_type": "code",
   "execution_count": 20,
   "metadata": {},
   "outputs": [
    {
     "data": {
      "text/plain": [
       "(10000, 50)"
      ]
     },
     "execution_count": 20,
     "metadata": {},
     "output_type": "execute_result"
    }
   ],
   "source": [
    "X_CV_tfidfw2v = np.asarray(X_CV_tf)\n",
    "X_CV_tfidfw2v = StandardScaler().fit_transform(X_CV_tfidfw2v)\n",
    "X_CV_tfidfw2v.shape"
   ]
  },
  {
   "cell_type": "code",
   "execution_count": 21,
   "metadata": {},
   "outputs": [],
   "source": [
    "CV_tfidfw2v = open(\"CV_tfidfw2v.pickle\", \"wb\")\n",
    "pickle.dump(X_CV_tfidfw2v, CV_tfidfw2v)\n",
    "CV_tfidfw2v.close()"
   ]
  },
  {
   "cell_type": "code",
   "execution_count": 22,
   "metadata": {},
   "outputs": [],
   "source": [
    "i=0\n",
    "list_of_sen =[]\n",
    "for sent in X_test['CleanedText'].values:\n",
    "    filtered_sentence =[]\n",
    "    sent = clean_html(sent)\n",
    "    for w in sent.split():\n",
    "        for cleaned_words in clean_punctuation(w).split():\n",
    "            if(cleaned_words.isalpha()):\n",
    "                filtered_sentence.append(cleaned_words.lower())\n",
    "            else:\n",
    "                continue\n",
    "    list_of_sen.append(filtered_sentence)"
   ]
  },
  {
   "cell_type": "code",
   "execution_count": 23,
   "metadata": {},
   "outputs": [],
   "source": [
    "X_test_tfidf = model.transform(X_test['CleanedText'].values)\n"
   ]
  },
  {
   "cell_type": "code",
   "execution_count": 24,
   "metadata": {},
   "outputs": [
    {
     "name": "stderr",
     "output_type": "stream",
     "text": [
      "100%|██████████| 10000/10000 [00:13<00:00, 746.79it/s]\n"
     ]
    }
   ],
   "source": [
    "tfidf_feat = model.get_feature_names()\n",
    "\n",
    "X_test_tf = []\n",
    "row=0;\n",
    "for sent in tqdm(list_of_sen):  \n",
    "    sent_vec = np.zeros(50) \n",
    "    weight_sum =0; \n",
    "    for word in sent: \n",
    "        if word in w2v_words:\n",
    "            vec = w2v_model.wv[word]\n",
    "            tf_idf = dictionary[word]*(sent.count(word)/len(sent))\n",
    "            sent_vec += (vec * tf_idf)\n",
    "            weight_sum += tf_idf\n",
    "    if weight_sum != 0:\n",
    "        sent_vec /= weight_sum\n",
    "    X_test_tf.append(sent_vec)\n",
    "    row += 1"
   ]
  },
  {
   "cell_type": "code",
   "execution_count": 25,
   "metadata": {},
   "outputs": [
    {
     "data": {
      "text/plain": [
       "(10000, 50)"
      ]
     },
     "execution_count": 25,
     "metadata": {},
     "output_type": "execute_result"
    }
   ],
   "source": [
    "X_test_tfidfw2v = np.asarray(X_test_tf)\n",
    "X_test_tfidfw2v = StandardScaler().fit_transform(X_test_tfidfw2v)\n",
    "X_test_tfidfw2v.shape"
   ]
  },
  {
   "cell_type": "code",
   "execution_count": 26,
   "metadata": {},
   "outputs": [],
   "source": [
    "test_tfidfw2v = open(\"test_tfidfw2v.pickle\", \"wb\")\n",
    "pickle.dump(X_test_tfidfw2v, test_tfidfw2v)\n",
    "test_tfidfw2v.close()"
   ]
  },
  {
   "cell_type": "markdown",
   "metadata": {},
   "source": [
    "## Linear SVM on TF-IDF W2V"
   ]
  },
  {
   "cell_type": "code",
   "execution_count": 27,
   "metadata": {},
   "outputs": [
    {
     "data": {
      "text/plain": [
       "GridSearchCV(cv=None, error_score='raise',\n",
       "       estimator=SGDClassifier(alpha=0.0001, average=False, class_weight={1: 1, 0: 5.3},\n",
       "       epsilon=0.1, eta0=0.0, fit_intercept=False, l1_ratio=0.15,\n",
       "       learning_rate='optimal', loss='hinge', max_iter=1000, n_iter=None,\n",
       "       n_jobs=1, penalty='l2', power_t=0.5, random_state=None,\n",
       "       shuffle=True, tol=0.001, verbose=0, warm_start=False),\n",
       "       fit_params={}, iid=True, n_jobs=1,\n",
       "       param_grid=[{'alpha': [0.0001, 0.001, 0.01, 0.1, 10, 100, 1000, 10000], 'penalty': ['l1', 'l2']}],\n",
       "       pre_dispatch='2*n_jobs', refit=True, scoring='roc_auc', verbose=0)"
      ]
     },
     "execution_count": 27,
     "metadata": {},
     "output_type": "execute_result"
    }
   ],
   "source": [
    "tuned_parameters = [{'alpha' : [10**-4, 10**-3, 10**-2, 10**-1, 10, 10**2, 10**3, 10**4], 'penalty' : ['l1', 'l2']}]\n",
    "model = GridSearchCV(linear_model.SGDClassifier(loss='hinge', fit_intercept=False, max_iter=1000, tol=1e-3, class_weight={1: 1, 0: 5.3}), tuned_parameters, scoring = 'roc_auc')\n",
    "model.fit(X_train_tfidfw2v, Y_train)"
   ]
  },
  {
   "cell_type": "markdown",
   "metadata": {},
   "source": [
    "### From above it can be seen that best penalty would be l2, thus using l2 penalty now we will get the train and CV scores"
   ]
  },
  {
   "cell_type": "code",
   "execution_count": 28,
   "metadata": {},
   "outputs": [],
   "source": [
    "def scores(X, Y):\n",
    "    alphas = [10**-4, 10**-3, 10**-2, 10**-1, 10, 10**2, 10**3, 10**4]\n",
    "    scores = []\n",
    "    for alpha in alphas:\n",
    "            clf = linear_model.SGDClassifier(loss='hinge', penalty='l2', alpha=alpha, fit_intercept=False, max_iter=1000, tol=1e-3, class_weight={1: 1, 0: 5.3})\n",
    "            clf_sigmoid = CalibratedClassifierCV(clf, cv=2, method='sigmoid')\n",
    "            clf_sigmoid.fit(X_train_bow, Y_train)\n",
    "            pred = clf_sigmoid.predict(X)\n",
    "            auc = roc_auc_score(Y, pred)\n",
    "            scores.append(auc)\n",
    "    return scores"
   ]
  },
  {
   "cell_type": "code",
   "execution_count": 29,
   "metadata": {},
   "outputs": [],
   "source": [
    "cv_scores = scores(X_CV_tfidfw2v, Y_CV)"
   ]
  },
  {
   "cell_type": "code",
   "execution_count": 30,
   "metadata": {},
   "outputs": [],
   "source": [
    "train_scores = scores(X_train_tfidfw2v, Y_train)"
   ]
  },
  {
   "cell_type": "code",
   "execution_count": 31,
   "metadata": {},
   "outputs": [
    {
     "data": {
      "image/png": "[encoded data removed]",
      "text/plain": [
       "<matplotlib.figure.Figure at 0x7ffa73ba85f8>"
      ]
     },
     "metadata": {},
     "output_type": "display_data"
    }
   ],
   "source": [
    "alphas = [10**-4, 10**-3, 10**-2, 10**-1, 10, 10**2, 10**3, 10**4]\n",
    "log_alphas = np.log(np.asarray(alphas))\n",
    "plt.plot(log_alphas, cv_scores, label='CV_score')\n",
    "plt.plot(log_alphas, train_scores, label='train_score')\n",
    "plt.title('train VS CV')\n",
    "plt.ylabel('auc score')\n",
    "plt.xlabel('log of alphas')\n",
    "plt.legend()\n",
    "plt.show()"
   ]
  },
  {
   "cell_type": "code",
   "execution_count": 32,
   "metadata": {},
   "outputs": [
    {
     "data": {
      "image/png": "[encoded data removed]",
      "text/plain": [
       "<matplotlib.figure.Figure at 0x7ffa73ba8748>"
      ]
     },
     "metadata": {},
     "output_type": "display_data"
    },
    {
     "name": "stdout",
     "output_type": "stream",
     "text": [
      "The auc score for each alpha value for cross validation is :  [0.675 0.723 0.724 0.725 0.675 0.675 0.675 0.675]\n"
     ]
    }
   ],
   "source": [
    "plt.plot(log_alphas, cv_scores )\n",
    "\n",
    "plt.title('plot for cv scores according to log of alphas')\n",
    "for xy in zip(np.round(log_alphas, 2), np.round(cv_scores,3)):\n",
    "    plt.annotate('(%s, %s)' % xy, xy=xy, textcoords='data')\n",
    "plt.xlabel('log of alphas')\n",
    "plt.ylabel('auc scores for cross validation')\n",
    "plt.show()\n",
    "\n",
    "print(\"The auc score for each alpha value for cross validation is : \", np.round(cv_scores,3))"
   ]
  },
  {
   "cell_type": "code",
   "execution_count": 33,
   "metadata": {},
   "outputs": [
    {
     "data": {
      "image/png": "[encoded data removed]",
      "text/plain": [
       "<matplotlib.figure.Figure at 0x7ffa719d8b00>"
      ]
     },
     "metadata": {},
     "output_type": "display_data"
    },
    {
     "name": "stdout",
     "output_type": "stream",
     "text": [
      "The auc score for each alpha value for train data is :  [0.703 0.731 0.737 0.734 0.693 0.693 0.693 0.693]\n"
     ]
    }
   ],
   "source": [
    "plt.plot(log_alphas, train_scores )\n",
    "\n",
    "plt.title('plot for cv scores according to log of alphas')\n",
    "for xy in zip(np.round(log_alphas, 2), np.round(cv_scores,3)):\n",
    "    plt.annotate('(%s, %s)' % xy, xy=xy, textcoords='data')\n",
    "plt.xlabel('log of alphas')\n",
    "plt.ylabel('auc scores for train data')\n",
    "plt.show()\n",
    "\n",
    "print(\"The auc score for each alpha value for train data is : \", np.round(train_scores,3))"
   ]
  },
  {
   "cell_type": "code",
   "execution_count": 34,
   "metadata": {},
   "outputs": [
    {
     "name": "stdout",
     "output_type": "stream",
     "text": [
      "\n",
      "The optimal value of alpha for cv is 0.1 and it's value is 0.7249709399865785\n"
     ]
    }
   ],
   "source": [
    "optimal_alpha_for_cv = alphas[cv_scores.index(max(cv_scores))]\n",
    "print('\\nThe optimal value of alpha for cv is {} and it\\'s value is {}'.format(optimal_alpha_for_cv, max(cv_scores)))"
   ]
  },
  {
   "cell_type": "code",
   "execution_count": 35,
   "metadata": {},
   "outputs": [
    {
     "name": "stdout",
     "output_type": "stream",
     "text": [
      "\n",
      "The optimal value of alpha for training is 0.01 and it's value is 0.7369315899540472\n"
     ]
    }
   ],
   "source": [
    "optimal_alpha_for_train = alphas[train_scores.index(max(train_scores))]\n",
    "print('\\nThe optimal value of alpha for training is {} and it\\'s value is {}'.format(optimal_alpha_for_train, max(train_scores)))"
   ]
  },
  {
   "cell_type": "code",
   "execution_count": 36,
   "metadata": {},
   "outputs": [
    {
     "name": "stdout",
     "output_type": "stream",
     "text": [
      "+---------------+--------------------+------------------+--------------------+\n",
      "| alphas for cv |      cv score      | alphas for train |    train score     |\n",
      "+---------------+--------------------+------------------+--------------------+\n",
      "|      0.1      | 0.7249709399865785 |       0.01       | 0.7369315899540472 |\n",
      "|      0.01     | 0.7240661849295369 |       0.1        | 0.7342561633839948 |\n",
      "|     0.001     | 0.7232243433036142 |      0.001       | 0.7312578053303646 |\n",
      "|       10      | 0.6748506554980347 |      0.0001      | 0.7033335317926427 |\n",
      "|       10      | 0.6748506554980347 |        10        | 0.6929592196210197 |\n",
      "|       10      | 0.6748506554980347 |        10        | 0.6929592196210197 |\n",
      "|      100      | 0.6747937338222605 |        10        | 0.6929592196210197 |\n",
      "|     0.0001    | 0.6746177260090117 |        10        | 0.6929592196210197 |\n",
      "+---------------+--------------------+------------------+--------------------+\n"
     ]
    }
   ],
   "source": [
    "x = PrettyTable()\n",
    "x.field_names = ['alphas for cv', 'cv score', 'alphas for train', 'train score']\n",
    "for z, y in zip(sorted(cv_scores, reverse=True), sorted(train_scores, reverse=True)):\n",
    "    x.add_row([alphas[cv_scores.index(z)], z, alphas[train_scores.index(y)], y])\n",
    "print(x)"
   ]
  },
  {
   "cell_type": "markdown",
   "metadata": {},
   "source": [
    "### Based on the above graphs and the table we can choose the optimal value of alpha to be equal to 0.01"
   ]
  },
  {
   "cell_type": "code",
   "execution_count": 37,
   "metadata": {},
   "outputs": [],
   "source": [
    "SVM_optimal = linear_model.SGDClassifier(loss='hinge', penalty='l2', alpha=0.01, fit_intercept=False, max_iter=1000, tol=1e-3, class_weight={1: 1, 0: 5.3})\n",
    "\n",
    "# fitting the model\n",
    "SVM_optimal.fit(X_train_tfidfw2v, Y_train)\n",
    "\n",
    "# predict the response\n",
    "pred = SVM_optimal.predict(X_test_tfidfw2v)\n",
    "\n",
    "# evaluate auc_score\n",
    "auc_score = roc_auc_score(Y_test, pred)"
   ]
  },
  {
   "cell_type": "code",
   "execution_count": 39,
   "metadata": {},
   "outputs": [
    {
     "name": "stdout",
     "output_type": "stream",
     "text": [
      "\n",
      "The auc score for test data for alpha = 0.01 is 0.726691\n"
     ]
    }
   ],
   "source": [
    "print('\\nThe auc score for test data for alpha = {} is {:2f}'.format(0.01, auc_score))"
   ]
  },
  {
   "cell_type": "code",
   "execution_count": 40,
   "metadata": {},
   "outputs": [
    {
     "data": {
      "text/plain": [
       "array([[1139,   91],\n",
       "       [4145, 4625]])"
      ]
     },
     "execution_count": 40,
     "metadata": {},
     "output_type": "execute_result"
    }
   ],
   "source": [
    "conf_matrix = confusion_matrix(Y_test, pred)\n",
    "conf_matrix"
   ]
  },
  {
   "cell_type": "code",
   "execution_count": 41,
   "metadata": {},
   "outputs": [
    {
     "data": {
      "image/png": "[encoded data removed]",
      "text/plain": [
       "<matplotlib.figure.Figure at 0x7ffa715ce9b0>"
      ]
     },
     "metadata": {},
     "output_type": "display_data"
    }
   ],
   "source": [
    "df_cm = pd.DataFrame(conf_matrix, range(2),\n",
    "                  range(2))\n",
    "#plt.figure(figsize = (10,7))\n",
    "sns.set(font_scale=1.4)#for label size\n",
    "sns.heatmap(df_cm, annot=True, fmt=\"d\",cmap=\"YlGnBu\")\n",
    "plt.xlabel('predicted lables')\n",
    "plt.ylabel('actual lables')\n",
    "plt.show()"
   ]
  },
  {
   "cell_type": "code",
   "execution_count": 42,
   "metadata": {},
   "outputs": [
    {
     "name": "stdout",
     "output_type": "stream",
     "text": [
      "             precision    recall  f1-score   support\n",
      "\n",
      "          0       0.22      0.93      0.35      1230\n",
      "          1       0.98      0.53      0.69      8770\n",
      "\n",
      "avg / total       0.89      0.58      0.64     10000\n",
      "\n"
     ]
    }
   ],
   "source": [
    "print(classification_report(Y_test, pred))"
   ]
  },
  {
   "cell_type": "markdown",
   "metadata": {},
   "source": [
    "# Comparison of all the models."
   ]
  },
  {
   "cell_type": "code",
   "execution_count": 3,
   "metadata": {},
   "outputs": [
    {
     "name": "stdout",
     "output_type": "stream",
     "text": [
      "+---------------------+------------+----------------+----------------------------+\n",
      "|      Vectorizer     |   Model    | Hyperparameter | AUC-Score on the test data |\n",
      "+---------------------+------------+----------------+----------------------------+\n",
      "|         BOW         | Linear SVM |      0.01      |           0.8207           |\n",
      "|        TF-IDF       | Linear SVM |     0.001      |           0.8014           |\n",
      "|     Average W2V     | Linear SVM |      0.01      |           0.7403           |\n",
      "| TF-IDF Weighted W2V | Linear SVM |      0.01      |           0.7266           |\n",
      "+---------------------+------------+----------------+----------------------------+\n"
     ]
    }
   ],
   "source": [
    "x = PrettyTable()\n",
    "x.field_names = [\"Vectorizer\", \"Model\", \"Hyperparameter\", \"AUC-Score on the test data\"]\n",
    "x.add_row(['BOW', 'Linear SVM', 0.01, '0.8207'])\n",
    "x.add_row(['TF-IDF', 'Linear SVM', 0.001, '0.8014'])\n",
    "x.add_row(['Average W2V', 'Linear SVM',0.01, '0.7403'])\n",
    "x.add_row(['TF-IDF Weighted W2V', 'Linear SVM', 0.01, '0.7266'])\n",
    "print(x)"
   ]
  },
  {
   "cell_type": "markdown",
   "metadata": {},
   "source": [
    "## Thus, from the above table we can see that the model with BOW vectorizer performed better."
   ]
  },
  {
   "cell_type": "markdown",
   "metadata": {},
   "source": [
    "# 2:-RBF Kernel SVM"
   ]
  },
  {
   "cell_type": "code",
   "execution_count": 4,
   "metadata": {},
   "outputs": [],
   "source": [
    "#Taking top 30k values for the RBF kernel implementation\n",
    "final = final.iloc[0: 30000,:]"
   ]
  },
  {
   "cell_type": "code",
   "execution_count": 5,
   "metadata": {},
   "outputs": [
    {
     "data": {
      "text/plain": [
       "(30000,)"
      ]
     },
     "execution_count": 5,
     "metadata": {},
     "output_type": "execute_result"
    }
   ],
   "source": [
    "#Saving the score values in a diffrent list and processing it for train, cv and test data\n",
    "scores = final['Score'].get_values()\n",
    "li = lambda x: 1 if x=='positive'  else 0\n",
    "final_scores = []\n",
    "for i in range(0,30000):\n",
    "    final_scores.append(li(scores[i]))\n",
    "final_scores = np.asarray(final_scores)\n",
    "final_scores.shape"
   ]
  },
  {
   "cell_type": "markdown",
   "metadata": {},
   "source": [
    "# Dividing the whole data into train, cross-validation and test sets"
   ]
  },
  {
   "cell_type": "code",
   "execution_count": 6,
   "metadata": {},
   "outputs": [
    {
     "name": "stdout",
     "output_type": "stream",
     "text": [
      "(20000, 12)\n",
      "(20000,)\n"
     ]
    }
   ],
   "source": [
    "#train data\n",
    "X_train = final[0: 20000]\n",
    "Y_train = final_scores[0: 20000]\n",
    "print(X_train.shape)\n",
    "print(Y_train.shape)"
   ]
  },
  {
   "cell_type": "code",
   "execution_count": 7,
   "metadata": {},
   "outputs": [
    {
     "name": "stdout",
     "output_type": "stream",
     "text": [
      "(5000, 12)\n",
      "(5000,)\n"
     ]
    }
   ],
   "source": [
    "#CV data\n",
    "X_CV = final[20000: 25000]\n",
    "Y_CV = final_scores[20000: 25000]\n",
    "print(X_CV.shape)\n",
    "print(Y_CV.shape)"
   ]
  },
  {
   "cell_type": "code",
   "execution_count": 8,
   "metadata": {},
   "outputs": [
    {
     "name": "stdout",
     "output_type": "stream",
     "text": [
      "(5000, 12)\n",
      "(5000,)\n"
     ]
    }
   ],
   "source": [
    "#test data\n",
    "X_test = final[25000: ]\n",
    "Y_test = final_scores[25000: ]\n",
    "print(X_test.shape)\n",
    "print(Y_test.shape)"
   ]
  },
  {
   "cell_type": "markdown",
   "metadata": {},
   "source": [
    "# BOW"
   ]
  },
  {
   "cell_type": "code",
   "execution_count": 8,
   "metadata": {},
   "outputs": [
    {
     "data": {
      "text/plain": [
       "(20000, 500)"
      ]
     },
     "execution_count": 8,
     "metadata": {},
     "output_type": "execute_result"
    }
   ],
   "source": [
    "count_vect = CountVectorizer(max_features=500, min_df=10)\n",
    "X_train_bow = count_vect.fit_transform(X_train['CleanedText'].values)\n",
    "X_train_bow.shape"
   ]
  },
  {
   "cell_type": "code",
   "execution_count": 9,
   "metadata": {},
   "outputs": [],
   "source": [
    "train_bow = open(\"train_bow.pickle\", \"wb\")\n",
    "pickle.dump(X_train_bow, train_bow)\n",
    "train_bow.close()"
   ]
  },
  {
   "cell_type": "code",
   "execution_count": 10,
   "metadata": {},
   "outputs": [
    {
     "data": {
      "text/plain": [
       "(5000, 500)"
      ]
     },
     "execution_count": 10,
     "metadata": {},
     "output_type": "execute_result"
    }
   ],
   "source": [
    "X_CV_bow = count_vect.transform(X_CV['CleanedText'].values)\n",
    "X_CV_bow.shape"
   ]
  },
  {
   "cell_type": "code",
   "execution_count": 11,
   "metadata": {},
   "outputs": [],
   "source": [
    "CV_bow = open(\"CV_bow.pickle\", \"wb\")\n",
    "pickle.dump(X_CV_bow, CV_bow)\n",
    "CV_bow.close()"
   ]
  },
  {
   "cell_type": "code",
   "execution_count": 12,
   "metadata": {},
   "outputs": [
    {
     "data": {
      "text/plain": [
       "(5000, 500)"
      ]
     },
     "execution_count": 12,
     "metadata": {},
     "output_type": "execute_result"
    }
   ],
   "source": [
    "X_test_bow = count_vect.transform(X_test['CleanedText'].values)\n",
    "X_test_bow.shape"
   ]
  },
  {
   "cell_type": "code",
   "execution_count": 13,
   "metadata": {},
   "outputs": [],
   "source": [
    "test_bow = open(\"test_bow.pickle\", \"wb\")\n",
    "pickle.dump(X_test_bow, test_bow)\n",
    "test_bow.close()"
   ]
  },
  {
   "cell_type": "markdown",
   "metadata": {},
   "source": [
    "## RBF kernel SVM on BOW"
   ]
  },
  {
   "cell_type": "code",
   "execution_count": 19,
   "metadata": {},
   "outputs": [],
   "source": [
    "def scores(X, Y):\n",
    "    C = [10**-4, 10**-3, 10**-2, 10**-1, 10, 10**2]\n",
    "    scores = []\n",
    "    for c in tqdm(C):\n",
    "            clf = SVC(C=c, kernel='rbf')\n",
    "            clf.fit(X_train_bow, Y_train)\n",
    "            pred = clf.predict(X)\n",
    "            auc = roc_auc_score(Y, pred)\n",
    "            scores.append(auc)\n",
    "    return scores"
   ]
  },
  {
   "cell_type": "code",
   "execution_count": 20,
   "metadata": {},
   "outputs": [
    {
     "name": "stderr",
     "output_type": "stream",
     "text": [
      "\n",
      "  0%|          | 0/6 [00:00<?, ?it/s]\u001b[A\n",
      " 17%|█▋        | 1/6 [00:20<01:44, 20.92s/it]\u001b[A\n",
      " 33%|███▎      | 2/6 [00:44<01:28, 22.07s/it]\u001b[A\n",
      " 50%|█████     | 3/6 [01:13<01:13, 24.57s/it]\u001b[A\n",
      " 67%|██████▋   | 4/6 [01:43<00:51, 25.86s/it]\u001b[A\n",
      " 83%|████████▎ | 5/6 [02:09<00:25, 25.89s/it]\u001b[A\n",
      "100%|██████████| 6/6 [02:51<00:00, 28.53s/it]\u001b[A\n",
      "\u001b[A"
     ]
    }
   ],
   "source": [
    "cv_scores = scores(X_CV_bow, Y_CV)"
   ]
  },
  {
   "cell_type": "code",
   "execution_count": 21,
   "metadata": {},
   "outputs": [
    {
     "name": "stderr",
     "output_type": "stream",
     "text": [
      "\n",
      "  0%|          | 0/6 [00:00<?, ?it/s]\u001b[A\n",
      " 17%|█▋        | 1/6 [00:29<02:26, 29.39s/it]\u001b[A\n",
      " 33%|███▎      | 2/6 [01:02<02:05, 31.28s/it]\u001b[A\n",
      " 50%|█████     | 3/6 [01:43<01:43, 34.43s/it]\u001b[A\n",
      " 67%|██████▋   | 4/6 [02:24<01:12, 36.22s/it]\u001b[A\n",
      " 83%|████████▎ | 5/6 [03:02<00:36, 36.51s/it]\u001b[A\n",
      "100%|██████████| 6/6 [03:55<00:00, 39.28s/it]\u001b[A\n",
      "\u001b[A"
     ]
    }
   ],
   "source": [
    "train_scores = scores(X_train_bow, Y_train)"
   ]
  },
  {
   "cell_type": "code",
   "execution_count": 22,
   "metadata": {},
   "outputs": [
    {
     "data": {
      "image/png": "[encoded data removed]",
      "text/plain": [
       "<matplotlib.figure.Figure at 0x7fdc37a15ac8>"
      ]
     },
     "metadata": {},
     "output_type": "display_data"
    }
   ],
   "source": [
    "C = [10**-4, 10**-3, 10**-2, 10**-1, 10, 10**2]\n",
    "log_alphas = np.log(np.asarray(C))\n",
    "plt.plot(log_alphas, cv_scores, label='CV_score')\n",
    "plt.plot(log_alphas, train_scores, label='train_score')\n",
    "plt.title('train VS CV')\n",
    "plt.ylabel('auc score')\n",
    "plt.xlabel('log of alphas')\n",
    "plt.legend()\n",
    "plt.show()"
   ]
  },
  {
   "cell_type": "code",
   "execution_count": 23,
   "metadata": {},
   "outputs": [
    {
     "data": {
      "image/png": "[encoded data removed]",
      "text/plain": [
       "<matplotlib.figure.Figure at 0x7fdc3765a438>"
      ]
     },
     "metadata": {},
     "output_type": "display_data"
    },
    {
     "name": "stdout",
     "output_type": "stream",
     "text": [
      "The auc score for each alpha value for cross validation is :  [0.5   0.5   0.5   0.5   0.595 0.653]\n"
     ]
    }
   ],
   "source": [
    "plt.plot(log_alphas, cv_scores )\n",
    "\n",
    "plt.title('plot for cv scores according to log of alphas')\n",
    "for xy in zip(np.round(log_alphas, 2), np.round(cv_scores,3)):\n",
    "    plt.annotate('(%s, %s)' % xy, xy=xy, textcoords='data')\n",
    "plt.xlabel('log of alphas')\n",
    "plt.ylabel('auc scores for cross validation')\n",
    "plt.show()\n",
    "\n",
    "print(\"The auc score for each alpha value for cross validation is : \", np.round(cv_scores,3))"
   ]
  },
  {
   "cell_type": "code",
   "execution_count": 24,
   "metadata": {},
   "outputs": [
    {
     "data": {
      "image/png": "[encoded data removed]",
      "text/plain": [
       "<matplotlib.figure.Figure at 0x7fdc377c4080>"
      ]
     },
     "metadata": {},
     "output_type": "display_data"
    },
    {
     "name": "stdout",
     "output_type": "stream",
     "text": [
      "The auc score for each alpha value for train data is :  [0.5   0.5   0.5   0.5   0.636 0.775]\n"
     ]
    }
   ],
   "source": [
    "plt.plot(log_alphas, train_scores )\n",
    "\n",
    "plt.title('plot for cv scores according to log of alphas')\n",
    "for xy in zip(np.round(log_alphas, 2), np.round(cv_scores,3)):\n",
    "    plt.annotate('(%s, %s)' % xy, xy=xy, textcoords='data')\n",
    "plt.xlabel('log of alphas')\n",
    "plt.ylabel('auc scores for train data')\n",
    "plt.show()\n",
    "\n",
    "print(\"The auc score for each alpha value for train data is : \", np.round(train_scores,3))"
   ]
  },
  {
   "cell_type": "code",
   "execution_count": 26,
   "metadata": {},
   "outputs": [
    {
     "name": "stdout",
     "output_type": "stream",
     "text": [
      "\n",
      "The optimal value of C for cv is 100 and it's value is 0.6526935985626143\n"
     ]
    }
   ],
   "source": [
    "optimal_C_for_cv = C[cv_scores.index(max(cv_scores))]\n",
    "print('\\nThe optimal value of C for cv is {} and it\\'s value is {}'.format(optimal_C_for_cv, max(cv_scores)))"
   ]
  },
  {
   "cell_type": "code",
   "execution_count": 28,
   "metadata": {},
   "outputs": [
    {
     "name": "stdout",
     "output_type": "stream",
     "text": [
      "\n",
      "The optimal value of C for training is 100 and it's value is 0.7752820864389703\n"
     ]
    }
   ],
   "source": [
    "optimal_C_for_train = C[train_scores.index(max(train_scores))]\n",
    "print('\\nThe optimal value of C for training is {} and it\\'s value is {}'.format(optimal_C_for_train, max(train_scores)))"
   ]
  },
  {
   "cell_type": "code",
   "execution_count": 29,
   "metadata": {},
   "outputs": [
    {
     "name": "stdout",
     "output_type": "stream",
     "text": [
      "+----------+--------------------+-------------+--------------------+\n",
      "| C for cv |      cv score      | C for train |    train score     |\n",
      "+----------+--------------------+-------------+--------------------+\n",
      "|   100    | 0.6526935985626143 |     100     | 0.7752820864389703 |\n",
      "|    10    | 0.5949385749768543 |      10     | 0.636165701133651  |\n",
      "|  0.0001  |        0.5         |    0.0001   |        0.5         |\n",
      "|  0.0001  |        0.5         |    0.0001   |        0.5         |\n",
      "|  0.0001  |        0.5         |    0.0001   |        0.5         |\n",
      "|  0.0001  |        0.5         |    0.0001   |        0.5         |\n",
      "+----------+--------------------+-------------+--------------------+\n"
     ]
    }
   ],
   "source": [
    "x = PrettyTable()\n",
    "x.field_names = ['C for cv', 'cv score', 'C for train', 'train score']\n",
    "for z, y in zip(sorted(cv_scores, reverse=True), sorted(train_scores, reverse=True)):\n",
    "    x.add_row([C[cv_scores.index(z)], z, C[train_scores.index(y)], y])\n",
    "print(x)"
   ]
  },
  {
   "cell_type": "markdown",
   "metadata": {},
   "source": [
    "### Based on the above graphs and the table we can choose the optimal value of C to be equal to 100"
   ]
  },
  {
   "cell_type": "code",
   "execution_count": 30,
   "metadata": {},
   "outputs": [],
   "source": [
    "SVM_optimal = SVC(C=100, kernel='rbf')\n",
    "\n",
    "# fitting the model\n",
    "SVM_optimal.fit(X_train_bow, Y_train)\n",
    "\n",
    "# predict the response\n",
    "pred = SVM_optimal.predict(X_test_bow)\n",
    "\n",
    "# evaluate auc_score\n",
    "auc_score = roc_auc_score(Y_test, pred)"
   ]
  },
  {
   "cell_type": "code",
   "execution_count": 31,
   "metadata": {},
   "outputs": [
    {
     "name": "stdout",
     "output_type": "stream",
     "text": [
      "\n",
      "The auc score for test data for C = 100 is 0.665803\n"
     ]
    }
   ],
   "source": [
    "print('\\nThe auc score for test data for C = {} is {:2f}'.format(100, auc_score))"
   ]
  },
  {
   "cell_type": "code",
   "execution_count": 32,
   "metadata": {},
   "outputs": [
    {
     "data": {
      "text/plain": [
       "array([[ 171,  313],\n",
       "       [  98, 4418]])"
      ]
     },
     "execution_count": 32,
     "metadata": {},
     "output_type": "execute_result"
    }
   ],
   "source": [
    "conf_matrix = confusion_matrix(Y_test, pred)\n",
    "conf_matrix"
   ]
  },
  {
   "cell_type": "code",
   "execution_count": 33,
   "metadata": {},
   "outputs": [
    {
     "data": {
      "image/png": "[encoded data removed]",
      "text/plain": [
       "<matplotlib.figure.Figure at 0x7fdc37430358>"
      ]
     },
     "metadata": {},
     "output_type": "display_data"
    }
   ],
   "source": [
    "df_cm = pd.DataFrame(conf_matrix, range(2),\n",
    "                  range(2))\n",
    "#plt.figure(figsize = (10,7))\n",
    "sns.set(font_scale=1.4)#for label size\n",
    "sns.heatmap(df_cm, annot=True, fmt=\"d\",cmap=\"YlGnBu\")\n",
    "plt.xlabel('predicted lables')\n",
    "plt.ylabel('actual lables')\n",
    "plt.show()"
   ]
  },
  {
   "cell_type": "code",
   "execution_count": 34,
   "metadata": {},
   "outputs": [
    {
     "name": "stdout",
     "output_type": "stream",
     "text": [
      "             precision    recall  f1-score   support\n",
      "\n",
      "          0       0.64      0.35      0.45       484\n",
      "          1       0.93      0.98      0.96      4516\n",
      "\n",
      "avg / total       0.90      0.92      0.91      5000\n",
      "\n"
     ]
    }
   ],
   "source": [
    "print(classification_report(Y_test, pred))"
   ]
  },
  {
   "cell_type": "markdown",
   "metadata": {},
   "source": [
    "# TF-IDF"
   ]
  },
  {
   "cell_type": "code",
   "execution_count": 9,
   "metadata": {},
   "outputs": [
    {
     "data": {
      "text/plain": [
       "(20000, 500)"
      ]
     },
     "execution_count": 9,
     "metadata": {},
     "output_type": "execute_result"
    }
   ],
   "source": [
    "tf_idf_vect = TfidfVectorizer(max_features=500, min_df=10)\n",
    "X_train_tfidf = tf_idf_vect.fit_transform(X_train['CleanedText'].values)\n",
    "X_train_tfidf.shape"
   ]
  },
  {
   "cell_type": "code",
   "execution_count": 10,
   "metadata": {},
   "outputs": [
    {
     "data": {
      "text/plain": [
       "(5000, 500)"
      ]
     },
     "execution_count": 10,
     "metadata": {},
     "output_type": "execute_result"
    }
   ],
   "source": [
    "X_CV_tfidf = tf_idf_vect.transform(X_CV['CleanedText'].values)\n",
    "X_CV_tfidf.shape"
   ]
  },
  {
   "cell_type": "code",
   "execution_count": 11,
   "metadata": {},
   "outputs": [
    {
     "data": {
      "text/plain": [
       "(5000, 500)"
      ]
     },
     "execution_count": 11,
     "metadata": {},
     "output_type": "execute_result"
    }
   ],
   "source": [
    "X_test_tfidf = tf_idf_vect.transform(X_test['CleanedText'].values)\n",
    "X_test_tfidf.shape"
   ]
  },
  {
   "cell_type": "markdown",
   "metadata": {},
   "source": [
    "## RBF kernel SVM on TF-IDF"
   ]
  },
  {
   "cell_type": "code",
   "execution_count": 12,
   "metadata": {},
   "outputs": [],
   "source": [
    "def scores(X, Y):\n",
    "    C = [10**-4, 10**-3, 10**-2, 10**-1, 10, 10**2]\n",
    "    scores = []\n",
    "    for c in tqdm(C):\n",
    "            clf = SVC(C=c, kernel='rbf')\n",
    "            clf.fit(X_train_tfidf, Y_train)\n",
    "            pred = clf.predict(X)\n",
    "            auc = roc_auc_score(Y, pred)\n",
    "            scores.append(auc)\n",
    "    return scores"
   ]
  },
  {
   "cell_type": "code",
   "execution_count": 13,
   "metadata": {},
   "outputs": [
    {
     "name": "stderr",
     "output_type": "stream",
     "text": [
      "100%|██████████| 6/6 [02:38<00:00, 26.35s/it]\n"
     ]
    }
   ],
   "source": [
    "cv_scores = scores(X_CV_tfidf, Y_CV)"
   ]
  },
  {
   "cell_type": "code",
   "execution_count": 14,
   "metadata": {},
   "outputs": [
    {
     "name": "stderr",
     "output_type": "stream",
     "text": [
      "100%|██████████| 6/6 [03:57<00:00, 39.61s/it]\n"
     ]
    }
   ],
   "source": [
    "train_scores = scores(X_train_tfidf, Y_train)"
   ]
  },
  {
   "cell_type": "code",
   "execution_count": 15,
   "metadata": {},
   "outputs": [
    {
     "data": {
      "image/png": "[encoded data removed]",
      "text/plain": [
       "<matplotlib.figure.Figure at 0x7f6726985e80>"
      ]
     },
     "metadata": {},
     "output_type": "display_data"
    }
   ],
   "source": [
    "C = [10**-4, 10**-3, 10**-2, 10**-1, 10, 10**2]\n",
    "log_alphas = np.log(np.asarray(C))\n",
    "plt.plot(log_alphas, cv_scores, label='CV_score')\n",
    "plt.plot(log_alphas, train_scores, label='train_score')\n",
    "plt.title('train VS CV')\n",
    "plt.ylabel('auc score')\n",
    "plt.xlabel('log of alphas')\n",
    "plt.legend()\n",
    "plt.show()"
   ]
  },
  {
   "cell_type": "code",
   "execution_count": 16,
   "metadata": {},
   "outputs": [
    {
     "data": {
      "image/png": "[encoded data removed]",
      "text/plain": [
       "<matplotlib.figure.Figure at 0x7f6726ffdf28>"
      ]
     },
     "metadata": {},
     "output_type": "display_data"
    },
    {
     "name": "stdout",
     "output_type": "stream",
     "text": [
      "The auc score for each alpha value for cross validation is :  [0.5   0.5   0.5   0.5   0.5   0.574]\n"
     ]
    }
   ],
   "source": [
    "plt.plot(log_alphas, cv_scores )\n",
    "\n",
    "plt.title('plot for cv scores according to log of alphas')\n",
    "for xy in zip(np.round(log_alphas, 2), np.round(cv_scores,3)):\n",
    "    plt.annotate('(%s, %s)' % xy, xy=xy, textcoords='data')\n",
    "plt.xlabel('log of alphas')\n",
    "plt.ylabel('auc scores for cross validation')\n",
    "plt.show()\n",
    "\n",
    "print(\"The auc score for each alpha value for cross validation is : \", np.round(cv_scores,3))"
   ]
  },
  {
   "cell_type": "code",
   "execution_count": 17,
   "metadata": {},
   "outputs": [
    {
     "data": {
      "image/png": "[encoded data removed]",
      "text/plain": [
       "<matplotlib.figure.Figure at 0x7f6726861550>"
      ]
     },
     "metadata": {},
     "output_type": "display_data"
    },
    {
     "name": "stdout",
     "output_type": "stream",
     "text": [
      "The auc score for each alpha value for train data is :  [0.5   0.5   0.5   0.5   0.5   0.579]\n"
     ]
    }
   ],
   "source": [
    "plt.plot(log_alphas, train_scores )\n",
    "\n",
    "plt.title('plot for cv scores according to log of alphas')\n",
    "for xy in zip(np.round(log_alphas, 2), np.round(cv_scores,3)):\n",
    "    plt.annotate('(%s, %s)' % xy, xy=xy, textcoords='data')\n",
    "plt.xlabel('log of alphas')\n",
    "plt.ylabel('auc scores for train data')\n",
    "plt.show()\n",
    "\n",
    "print(\"The auc score for each alpha value for train data is : \", np.round(train_scores,3))"
   ]
  },
  {
   "cell_type": "code",
   "execution_count": 18,
   "metadata": {},
   "outputs": [
    {
     "name": "stdout",
     "output_type": "stream",
     "text": [
      "\n",
      "The optimal value of C for cv is 100 and it's value is 0.5744868719373664\n"
     ]
    }
   ],
   "source": [
    "optimal_C_for_cv = C[cv_scores.index(max(cv_scores))]\n",
    "print('\\nThe optimal value of C for cv is {} and it\\'s value is {}'.format(optimal_C_for_cv, max(cv_scores)))"
   ]
  },
  {
   "cell_type": "code",
   "execution_count": 19,
   "metadata": {},
   "outputs": [
    {
     "name": "stdout",
     "output_type": "stream",
     "text": [
      "\n",
      "The optimal value of C for training is 100 and it's value is 0.5792345788497641\n"
     ]
    }
   ],
   "source": [
    "optimal_C_for_train = C[train_scores.index(max(train_scores))]\n",
    "print('\\nThe optimal value of C for training is {} and it\\'s value is {}'.format(optimal_C_for_train, max(train_scores)))"
   ]
  },
  {
   "cell_type": "code",
   "execution_count": 20,
   "metadata": {},
   "outputs": [
    {
     "name": "stdout",
     "output_type": "stream",
     "text": [
      "+----------+--------------------+-------------+--------------------+\n",
      "| C for cv |      cv score      | C for train |    train score     |\n",
      "+----------+--------------------+-------------+--------------------+\n",
      "|   100    | 0.5744868719373664 |     100     | 0.5792345788497641 |\n",
      "|  0.0001  |        0.5         |    0.0001   |        0.5         |\n",
      "|  0.0001  |        0.5         |    0.0001   |        0.5         |\n",
      "|  0.0001  |        0.5         |    0.0001   |        0.5         |\n",
      "|  0.0001  |        0.5         |    0.0001   |        0.5         |\n",
      "|  0.0001  |        0.5         |    0.0001   |        0.5         |\n",
      "+----------+--------------------+-------------+--------------------+\n"
     ]
    }
   ],
   "source": [
    "x = PrettyTable()\n",
    "x.field_names = ['C for cv', 'cv score', 'C for train', 'train score']\n",
    "for z, y in zip(sorted(cv_scores, reverse=True), sorted(train_scores, reverse=True)):\n",
    "    x.add_row([C[cv_scores.index(z)], z, C[train_scores.index(y)], y])\n",
    "print(x)"
   ]
  },
  {
   "cell_type": "markdown",
   "metadata": {},
   "source": [
    "### Based on the above graphs and the table we can choose the optimal value of C to be equal to 100"
   ]
  },
  {
   "cell_type": "code",
   "execution_count": 22,
   "metadata": {},
   "outputs": [],
   "source": [
    "SVM_optimal = SVC(C=100, kernel='rbf')\n",
    "\n",
    "# fitting the model\n",
    "SVM_optimal.fit(X_train_tfidf, Y_train)\n",
    "\n",
    "# predict the response\n",
    "pred = SVM_optimal.predict(X_test_tfidf)\n",
    "\n",
    "# evaluate auc_score\n",
    "auc_score = roc_auc_score(Y_test, pred)"
   ]
  },
  {
   "cell_type": "code",
   "execution_count": 23,
   "metadata": {},
   "outputs": [
    {
     "name": "stdout",
     "output_type": "stream",
     "text": [
      "\n",
      "The auc score for test data for C = 100 is 0.571318\n"
     ]
    }
   ],
   "source": [
    "print('\\nThe auc score for test data for C = {} is {:2f}'.format(100, auc_score))"
   ]
  },
  {
   "cell_type": "code",
   "execution_count": 24,
   "metadata": {},
   "outputs": [
    {
     "data": {
      "text/plain": [
       "array([[  70,  414],\n",
       "       [   9, 4507]])"
      ]
     },
     "execution_count": 24,
     "metadata": {},
     "output_type": "execute_result"
    }
   ],
   "source": [
    "conf_matrix = confusion_matrix(Y_test, pred)\n",
    "conf_matrix"
   ]
  },
  {
   "cell_type": "code",
   "execution_count": 25,
   "metadata": {},
   "outputs": [
    {
     "data": {
      "image/png": "[encoded data removed]",
      "text/plain": [
       "<matplotlib.figure.Figure at 0x7f6726318f60>"
      ]
     },
     "metadata": {},
     "output_type": "display_data"
    }
   ],
   "source": [
    "df_cm = pd.DataFrame(conf_matrix, range(2),\n",
    "                  range(2))\n",
    "#plt.figure(figsize = (10,7))\n",
    "sns.set(font_scale=1.4)#for label size\n",
    "sns.heatmap(df_cm, annot=True, fmt=\"d\",cmap=\"YlGnBu\")\n",
    "plt.xlabel('predicted lables')\n",
    "plt.ylabel('actual lables')\n",
    "plt.show()"
   ]
  },
  {
   "cell_type": "code",
   "execution_count": 26,
   "metadata": {},
   "outputs": [
    {
     "name": "stdout",
     "output_type": "stream",
     "text": [
      "             precision    recall  f1-score   support\n",
      "\n",
      "          0       0.89      0.14      0.25       484\n",
      "          1       0.92      1.00      0.96      4516\n",
      "\n",
      "avg / total       0.91      0.92      0.89      5000\n",
      "\n"
     ]
    }
   ],
   "source": [
    "print(classification_report(Y_test, pred))"
   ]
  },
  {
   "cell_type": "markdown",
   "metadata": {},
   "source": [
    "# W2V"
   ]
  },
  {
   "cell_type": "code",
   "execution_count": 9,
   "metadata": {},
   "outputs": [],
   "source": [
    "i=0\n",
    "list_of_sent =[]\n",
    "for sent in X_train['Text'].values:\n",
    "    filtered_sentence =[]\n",
    "    sent = clean_html(sent)\n",
    "    for w in sent.split():\n",
    "        for cleaned_words in clean_punctuation(w).split():\n",
    "            if(cleaned_words.isalpha()):\n",
    "                filtered_sentence.append(cleaned_words.lower())\n",
    "            else:\n",
    "                continue\n",
    "    list_of_sent.append(filtered_sentence)"
   ]
  },
  {
   "cell_type": "code",
   "execution_count": 10,
   "metadata": {},
   "outputs": [],
   "source": [
    "w2v_model=Word2Vec(list_of_sent, min_count=5 ,size=50)"
   ]
  },
  {
   "cell_type": "code",
   "execution_count": 11,
   "metadata": {},
   "outputs": [],
   "source": [
    "w2v_words = list(w2v_model.wv.vocab)"
   ]
  },
  {
   "cell_type": "markdown",
   "metadata": {},
   "source": [
    "# Average W2V"
   ]
  },
  {
   "cell_type": "code",
   "execution_count": 12,
   "metadata": {},
   "outputs": [
    {
     "name": "stderr",
     "output_type": "stream",
     "text": [
      "100%|██████████| 20000/20000 [00:39<00:00, 507.37it/s]"
     ]
    },
    {
     "name": "stdout",
     "output_type": "stream",
     "text": [
      "20000\n",
      "50\n"
     ]
    },
    {
     "name": "stderr",
     "output_type": "stream",
     "text": [
      "\n"
     ]
    }
   ],
   "source": [
    "X_train_avgw2v = []; # the avg-w2v for each sentence/review is stored in this list\n",
    "for sent in tqdm(list_of_sent): # for each review/sentence\n",
    "    sent_vec = np.zeros(50) # as word vectors are of zero length\n",
    "    cnt_words =0; # num of words with a valid vector in the sentence/review\n",
    "    for word in sent: # for each word in a review/sentence\n",
    "        if word in w2v_words:\n",
    "            vec = w2v_model.wv[word]\n",
    "            sent_vec += vec\n",
    "            cnt_words += 1\n",
    "    if cnt_words != 0:\n",
    "        sent_vec /= cnt_words\n",
    "    X_train_avgw2v.append(sent_vec)\n",
    "print(len(X_train_avgw2v))\n",
    "print(len(X_train_avgw2v[0]))"
   ]
  },
  {
   "cell_type": "code",
   "execution_count": 13,
   "metadata": {},
   "outputs": [],
   "source": [
    "X_train_avgw2v = np.asarray(X_train_avgw2v)"
   ]
  },
  {
   "cell_type": "code",
   "execution_count": 14,
   "metadata": {},
   "outputs": [],
   "source": [
    "X_train_avgw2v = StandardScaler().fit_transform(X_train_avgw2v)"
   ]
  },
  {
   "cell_type": "code",
   "execution_count": 15,
   "metadata": {},
   "outputs": [],
   "source": [
    "train_w2v = open(\"train_w2v.pickle\", \"wb\")\n",
    "pickle.dump(X_train_avgw2v, train_w2v)\n",
    "train_w2v.close()"
   ]
  },
  {
   "cell_type": "code",
   "execution_count": 16,
   "metadata": {},
   "outputs": [],
   "source": [
    "i=0\n",
    "list_of_sentence =[]\n",
    "for sent in X_CV['Text'].values:\n",
    "    filtered_sentence =[]\n",
    "    sent = clean_html(sent)\n",
    "    for w in sent.split():\n",
    "        for cleaned_words in clean_punctuation(w).split():\n",
    "            if(cleaned_words.isalpha()):\n",
    "                filtered_sentence.append(cleaned_words.lower())\n",
    "            else:\n",
    "                continue\n",
    "    list_of_sentence.append(filtered_sentence)"
   ]
  },
  {
   "cell_type": "code",
   "execution_count": 17,
   "metadata": {},
   "outputs": [
    {
     "name": "stderr",
     "output_type": "stream",
     "text": [
      "100%|██████████| 5000/5000 [00:09<00:00, 533.06it/s]"
     ]
    },
    {
     "name": "stdout",
     "output_type": "stream",
     "text": [
      "5000\n",
      "50\n"
     ]
    },
    {
     "name": "stderr",
     "output_type": "stream",
     "text": [
      "\n"
     ]
    }
   ],
   "source": [
    "X_CV_avgw2v = []; # the avg-w2v for each sentence/review is stored in this list\n",
    "for sent in tqdm(list_of_sentence): # for each review/sentence\n",
    "    sent_vec = np.zeros(50) # as word vectors are of zero length\n",
    "    cnt_words =0; # num of words with a valid vector in the sentence/review\n",
    "    for word in sent: # for each word in a review/sentence\n",
    "        if word in w2v_words:\n",
    "            vec = w2v_model.wv[word]\n",
    "            sent_vec += vec\n",
    "            cnt_words += 1\n",
    "    if cnt_words != 0:\n",
    "        sent_vec /= cnt_words\n",
    "    X_CV_avgw2v.append(sent_vec)\n",
    "print(len(X_CV_avgw2v))\n",
    "print(len(X_CV_avgw2v[0]))"
   ]
  },
  {
   "cell_type": "code",
   "execution_count": 18,
   "metadata": {},
   "outputs": [
    {
     "data": {
      "text/plain": [
       "(5000, 50)"
      ]
     },
     "execution_count": 18,
     "metadata": {},
     "output_type": "execute_result"
    }
   ],
   "source": [
    "X_CV_avgw2v = np.asarray(X_CV_avgw2v)\n",
    "X_CV_avgw2v = StandardScaler().fit_transform(X_CV_avgw2v)\n",
    "X_CV_avgw2v.shape"
   ]
  },
  {
   "cell_type": "code",
   "execution_count": 19,
   "metadata": {},
   "outputs": [],
   "source": [
    "CV_w2v = open(\"CV_w2v.pickle\", \"wb\")\n",
    "pickle.dump(X_CV_avgw2v, CV_w2v)\n",
    "CV_w2v.close()"
   ]
  },
  {
   "cell_type": "code",
   "execution_count": 20,
   "metadata": {},
   "outputs": [],
   "source": [
    "i=0\n",
    "list_of_sen =[]\n",
    "for sent in X_test['Text'].values:\n",
    "    filtered_sentence =[]\n",
    "    sent = clean_html(sent)\n",
    "    for w in sent.split():\n",
    "        for cleaned_words in clean_punctuation(w).split():\n",
    "            if(cleaned_words.isalpha()):\n",
    "                filtered_sentence.append(cleaned_words.lower())\n",
    "            else:\n",
    "                continue\n",
    "    list_of_sen.append(filtered_sentence)"
   ]
  },
  {
   "cell_type": "code",
   "execution_count": 21,
   "metadata": {},
   "outputs": [
    {
     "name": "stderr",
     "output_type": "stream",
     "text": [
      "100%|██████████| 5000/5000 [00:11<00:00, 452.98it/s]"
     ]
    },
    {
     "name": "stdout",
     "output_type": "stream",
     "text": [
      "5000\n",
      "50\n"
     ]
    },
    {
     "name": "stderr",
     "output_type": "stream",
     "text": [
      "\n"
     ]
    }
   ],
   "source": [
    "X_test_avgw2v = []; # the avg-w2v for each sentence/review is stored in this list\n",
    "for sent in tqdm(list_of_sen): # for each review/sentence\n",
    "    sent_vec = np.zeros(50) # as word vectors are of zero length\n",
    "    cnt_words =0; # num of words with a valid vector in the sentence/review\n",
    "    for word in sent: # for each word in a review/sentence\n",
    "        if word in w2v_words:\n",
    "            vec = w2v_model.wv[word]\n",
    "            sent_vec += vec\n",
    "            cnt_words += 1\n",
    "    if cnt_words != 0:\n",
    "        sent_vec /= cnt_words\n",
    "    X_test_avgw2v.append(sent_vec)\n",
    "print(len(X_test_avgw2v))\n",
    "print(len(X_test_avgw2v[0]))"
   ]
  },
  {
   "cell_type": "code",
   "execution_count": 22,
   "metadata": {},
   "outputs": [
    {
     "data": {
      "text/plain": [
       "(5000, 50)"
      ]
     },
     "execution_count": 22,
     "metadata": {},
     "output_type": "execute_result"
    }
   ],
   "source": [
    "X_test_avgw2v = np.asarray(X_test_avgw2v)\n",
    "X_test_avgw2v = StandardScaler().fit_transform(X_test_avgw2v)\n",
    "X_test_avgw2v.shape"
   ]
  },
  {
   "cell_type": "code",
   "execution_count": 23,
   "metadata": {},
   "outputs": [],
   "source": [
    "test_w2v = open(\"test_w2v.pickle\", \"wb\")\n",
    "pickle.dump(X_test_avgw2v, test_w2v)\n",
    "test_w2v.close()"
   ]
  },
  {
   "cell_type": "markdown",
   "metadata": {},
   "source": [
    "## RBF kernel SVM on Average W2V"
   ]
  },
  {
   "cell_type": "code",
   "execution_count": 24,
   "metadata": {},
   "outputs": [],
   "source": [
    "def scores(X, Y):\n",
    "    C = [10**-4, 10**-3, 10**-2, 10**-1, 10, 10**2]\n",
    "    scores = []\n",
    "    for c in tqdm(C):\n",
    "            clf = SVC(C=c, kernel='rbf')\n",
    "            clf.fit(X_train_avgw2v, Y_train)\n",
    "            pred = clf.predict(X)\n",
    "            auc = roc_auc_score(Y, pred)\n",
    "            scores.append(auc)\n",
    "    return scores"
   ]
  },
  {
   "cell_type": "code",
   "execution_count": 25,
   "metadata": {},
   "outputs": [
    {
     "name": "stderr",
     "output_type": "stream",
     "text": [
      "100%|██████████| 6/6 [03:00<00:00, 30.04s/it]\n"
     ]
    }
   ],
   "source": [
    "cv_scores = scores(X_CV_avgw2v, Y_CV)"
   ]
  },
  {
   "cell_type": "code",
   "execution_count": 26,
   "metadata": {},
   "outputs": [
    {
     "name": "stderr",
     "output_type": "stream",
     "text": [
      "100%|██████████| 6/6 [03:37<00:00, 36.17s/it]\n"
     ]
    }
   ],
   "source": [
    "train_scores = scores(X_train_avgw2v, Y_train)"
   ]
  },
  {
   "cell_type": "code",
   "execution_count": 27,
   "metadata": {},
   "outputs": [
    {
     "data": {
      "image/png": "[encoded data removed]",
      "text/plain": [
       "<matplotlib.figure.Figure at 0x7faf3b546e48>"
      ]
     },
     "metadata": {},
     "output_type": "display_data"
    }
   ],
   "source": [
    "C = [10**-4, 10**-3, 10**-2, 10**-1, 10, 10**2]\n",
    "log_alphas = np.log(np.asarray(C))\n",
    "plt.plot(log_alphas, cv_scores, label='CV_score')\n",
    "plt.plot(log_alphas, train_scores, label='train_score')\n",
    "plt.title('train VS CV')\n",
    "plt.ylabel('auc score')\n",
    "plt.xlabel('log of alphas')\n",
    "plt.legend()\n",
    "plt.show()"
   ]
  },
  {
   "cell_type": "code",
   "execution_count": 28,
   "metadata": {},
   "outputs": [
    {
     "data": {
      "image/png": "[encoded data removed]",
      "text/plain": [
       "<matplotlib.figure.Figure at 0x7faf3a7fbd30>"
      ]
     },
     "metadata": {},
     "output_type": "display_data"
    },
    {
     "name": "stdout",
     "output_type": "stream",
     "text": [
      "The auc score for each alpha value for cross validation is :  [0.5   0.5   0.5   0.5   0.635 0.651]\n"
     ]
    }
   ],
   "source": [
    "plt.plot(log_alphas, cv_scores )\n",
    "\n",
    "plt.title('plot for cv scores according to log of alphas')\n",
    "for xy in zip(np.round(log_alphas, 2), np.round(cv_scores,3)):\n",
    "    plt.annotate('(%s, %s)' % xy, xy=xy, textcoords='data')\n",
    "plt.xlabel('log of alphas')\n",
    "plt.ylabel('auc scores for cross validation')\n",
    "plt.show()\n",
    "\n",
    "print(\"The auc score for each alpha value for cross validation is : \", np.round(cv_scores,3))"
   ]
  },
  {
   "cell_type": "code",
   "execution_count": 29,
   "metadata": {},
   "outputs": [
    {
     "data": {
      "image/png": "[encoded data removed]",
      "text/plain": [
       "<matplotlib.figure.Figure at 0x7faf3a101be0>"
      ]
     },
     "metadata": {},
     "output_type": "display_data"
    },
    {
     "name": "stdout",
     "output_type": "stream",
     "text": [
      "The auc score for each alpha value for train data is :  [0.5   0.5   0.5   0.5   0.864 0.987]\n"
     ]
    }
   ],
   "source": [
    "plt.plot(log_alphas, train_scores )\n",
    "\n",
    "plt.title('plot for cv scores according to log of alphas')\n",
    "for xy in zip(np.round(log_alphas, 2), np.round(cv_scores,3)):\n",
    "    plt.annotate('(%s, %s)' % xy, xy=xy, textcoords='data')\n",
    "plt.xlabel('log of alphas')\n",
    "plt.ylabel('auc scores for train data')\n",
    "plt.show()\n",
    "\n",
    "print(\"The auc score for each alpha value for train data is : \", np.round(train_scores,3))"
   ]
  },
  {
   "cell_type": "code",
   "execution_count": 30,
   "metadata": {},
   "outputs": [
    {
     "name": "stdout",
     "output_type": "stream",
     "text": [
      "\n",
      "The optimal value of C for cv is 100 and it's value is 0.6511946340302535\n"
     ]
    }
   ],
   "source": [
    "optimal_C_for_cv = C[cv_scores.index(max(cv_scores))]\n",
    "print('\\nThe optimal value of C for cv is {} and it\\'s value is {}'.format(optimal_C_for_cv, max(cv_scores)))"
   ]
  },
  {
   "cell_type": "code",
   "execution_count": 31,
   "metadata": {},
   "outputs": [
    {
     "name": "stdout",
     "output_type": "stream",
     "text": [
      "\n",
      "The optimal value of C for training is 100 and it's value is 0.9872944081451372\n"
     ]
    }
   ],
   "source": [
    "optimal_C_for_train = C[train_scores.index(max(train_scores))]\n",
    "print('\\nThe optimal value of C for training is {} and it\\'s value is {}'.format(optimal_C_for_train, max(train_scores)))"
   ]
  },
  {
   "cell_type": "code",
   "execution_count": 32,
   "metadata": {},
   "outputs": [
    {
     "name": "stdout",
     "output_type": "stream",
     "text": [
      "+----------+--------------------+-------------+--------------------+\n",
      "| C for cv |      cv score      | C for train |    train score     |\n",
      "+----------+--------------------+-------------+--------------------+\n",
      "|   100    | 0.6511946340302535 |     100     | 0.9872944081451372 |\n",
      "|    10    | 0.6345800231281055 |      10     | 0.8643951223887543 |\n",
      "|  0.0001  |        0.5         |    0.0001   |        0.5         |\n",
      "|  0.0001  |        0.5         |    0.0001   |        0.5         |\n",
      "|  0.0001  |        0.5         |    0.0001   |        0.5         |\n",
      "|  0.0001  |        0.5         |    0.0001   |        0.5         |\n",
      "+----------+--------------------+-------------+--------------------+\n"
     ]
    }
   ],
   "source": [
    "x = PrettyTable()\n",
    "x.field_names = ['C for cv', 'cv score', 'C for train', 'train score']\n",
    "for z, y in zip(sorted(cv_scores, reverse=True), sorted(train_scores, reverse=True)):\n",
    "    x.add_row([C[cv_scores.index(z)], z, C[train_scores.index(y)], y])\n",
    "print(x)"
   ]
  },
  {
   "cell_type": "markdown",
   "metadata": {},
   "source": [
    "### Based on the above graphs and the table we can choose the optimal value of C to be equal to 100"
   ]
  },
  {
   "cell_type": "code",
   "execution_count": 34,
   "metadata": {},
   "outputs": [],
   "source": [
    "SVM_optimal = SVC(C=100, kernel='rbf')\n",
    "\n",
    "# fitting the model\n",
    "SVM_optimal.fit(X_train_avgw2v, Y_train)\n",
    "\n",
    "# predict the response\n",
    "pred = SVM_optimal.predict(X_test_avgw2v)\n",
    "\n",
    "# evaluate auc_score\n",
    "auc_score = roc_auc_score(Y_test, pred)"
   ]
  },
  {
   "cell_type": "code",
   "execution_count": 35,
   "metadata": {},
   "outputs": [
    {
     "name": "stdout",
     "output_type": "stream",
     "text": [
      "\n",
      "The auc score for test data for C = 100 is 0.662623\n"
     ]
    }
   ],
   "source": [
    "print('\\nThe auc score for test data for C = {} is {:2f}'.format(100, auc_score))"
   ]
  },
  {
   "cell_type": "code",
   "execution_count": 36,
   "metadata": {},
   "outputs": [
    {
     "data": {
      "text/plain": [
       "array([[ 190,  294],\n",
       "       [ 304, 4212]])"
      ]
     },
     "execution_count": 36,
     "metadata": {},
     "output_type": "execute_result"
    }
   ],
   "source": [
    "conf_matrix = confusion_matrix(Y_test, pred)\n",
    "conf_matrix"
   ]
  },
  {
   "cell_type": "code",
   "execution_count": 37,
   "metadata": {},
   "outputs": [
    {
     "data": {
      "image/png": "[encoded data removed]",
      "text/plain": [
       "<matplotlib.figure.Figure at 0x7faf39f3b208>"
      ]
     },
     "metadata": {},
     "output_type": "display_data"
    }
   ],
   "source": [
    "df_cm = pd.DataFrame(conf_matrix, range(2),\n",
    "                  range(2))\n",
    "#plt.figure(figsize = (10,7))\n",
    "sns.set(font_scale=1.4)#for label size\n",
    "sns.heatmap(df_cm, annot=True, fmt=\"d\",cmap=\"YlGnBu\")\n",
    "plt.xlabel('predicted lables')\n",
    "plt.ylabel('actual lables')\n",
    "plt.show()"
   ]
  },
  {
   "cell_type": "code",
   "execution_count": 38,
   "metadata": {},
   "outputs": [
    {
     "name": "stdout",
     "output_type": "stream",
     "text": [
      "             precision    recall  f1-score   support\n",
      "\n",
      "          0       0.38      0.39      0.39       484\n",
      "          1       0.93      0.93      0.93      4516\n",
      "\n",
      "avg / total       0.88      0.88      0.88      5000\n",
      "\n"
     ]
    }
   ],
   "source": [
    "print(classification_report(Y_test, pred))"
   ]
  },
  {
   "cell_type": "markdown",
   "metadata": {},
   "source": [
    "## TF-IDF W2V"
   ]
  },
  {
   "cell_type": "code",
   "execution_count": 9,
   "metadata": {},
   "outputs": [],
   "source": [
    "i=0\n",
    "list_of_sent =[]\n",
    "for sent in X_train['CleanedText'].values:\n",
    "    filtered_sentence =[]\n",
    "    sent = clean_html(sent)\n",
    "    for w in sent.split():\n",
    "        for cleaned_words in clean_punctuation(w).split():\n",
    "            if(cleaned_words.isalpha()):\n",
    "                filtered_sentence.append(cleaned_words.lower())\n",
    "            else:\n",
    "                continue\n",
    "    list_of_sent.append(filtered_sentence)\n"
   ]
  },
  {
   "cell_type": "code",
   "execution_count": 10,
   "metadata": {},
   "outputs": [],
   "source": [
    "w2v_model=Word2Vec(list_of_sent, min_count=5 ,size=50)"
   ]
  },
  {
   "cell_type": "code",
   "execution_count": 11,
   "metadata": {},
   "outputs": [],
   "source": [
    "w2v_words = list(w2v_model.wv.vocab)"
   ]
  },
  {
   "cell_type": "code",
   "execution_count": 15,
   "metadata": {},
   "outputs": [],
   "source": [
    "model = TfidfVectorizer()\n",
    "tf_idf_matrix = model.fit_transform(X_train['CleanedText'].values)\n",
    "dictionary = dict(zip(model.get_feature_names(), list(model.idf_)))"
   ]
  },
  {
   "cell_type": "code",
   "execution_count": 16,
   "metadata": {},
   "outputs": [
    {
     "name": "stderr",
     "output_type": "stream",
     "text": [
      "100%|██████████| 20000/20000 [00:24<00:00, 831.56it/s]\n"
     ]
    }
   ],
   "source": [
    "tfidf_feat = model.get_feature_names()\n",
    "\n",
    "X_train_tf = []\n",
    "row=0;\n",
    "for sent in tqdm(list_of_sent):  \n",
    "    sent_vec = np.zeros(50) \n",
    "    weight_sum =0; \n",
    "    for word in sent: \n",
    "        if word in w2v_words:\n",
    "            vec = w2v_model.wv[word]\n",
    "            tf_idf = dictionary[word]*(sent.count(word)/len(sent))\n",
    "            sent_vec += (vec * tf_idf)\n",
    "            weight_sum += tf_idf\n",
    "    if weight_sum != 0:\n",
    "        sent_vec /= weight_sum\n",
    "    X_train_tf.append(sent_vec)\n",
    "    row += 1"
   ]
  },
  {
   "cell_type": "code",
   "execution_count": 17,
   "metadata": {},
   "outputs": [
    {
     "data": {
      "text/plain": [
       "(20000, 50)"
      ]
     },
     "execution_count": 17,
     "metadata": {},
     "output_type": "execute_result"
    }
   ],
   "source": [
    "X_train_tfidfw2v = np.asarray(X_train_tf)\n",
    "X_train_tfidfw2v = StandardScaler().fit_transform(X_train_tfidfw2v)\n",
    "X_train_tfidfw2v.shape"
   ]
  },
  {
   "cell_type": "code",
   "execution_count": 18,
   "metadata": {},
   "outputs": [],
   "source": [
    "train_tfidfw2v = open(\"train_tfidfw2v.pickle\", \"wb\")\n",
    "pickle.dump(X_train_tfidfw2v, train_tfidfw2v)\n",
    "train_tfidfw2v.close()"
   ]
  },
  {
   "cell_type": "code",
   "execution_count": 19,
   "metadata": {},
   "outputs": [],
   "source": [
    "i=0\n",
    "list_of_sentence =[]\n",
    "for sent in X_CV['CleanedText'].values:\n",
    "    filtered_sentence =[]\n",
    "    sent = clean_html(sent)\n",
    "    for w in sent.split():\n",
    "        for cleaned_words in clean_punctuation(w).split():\n",
    "            if(cleaned_words.isalpha()):\n",
    "                filtered_sentence.append(cleaned_words.lower())\n",
    "            else:\n",
    "                continue\n",
    "    list_of_sentence.append(filtered_sentence)"
   ]
  },
  {
   "cell_type": "code",
   "execution_count": 21,
   "metadata": {},
   "outputs": [],
   "source": [
    "X_CV_tfidf = model.transform(X_CV['CleanedText'].values)"
   ]
  },
  {
   "cell_type": "code",
   "execution_count": 22,
   "metadata": {},
   "outputs": [
    {
     "name": "stderr",
     "output_type": "stream",
     "text": [
      "100%|██████████| 5000/5000 [00:06<00:00, 810.40it/s]\n"
     ]
    }
   ],
   "source": [
    "tfidf_feat = model.get_feature_names()\n",
    "\n",
    "X_CV_tf = []\n",
    "row=0;\n",
    "for sent in tqdm(list_of_sentence):  \n",
    "    sent_vec = np.zeros(50) \n",
    "    weight_sum =0; \n",
    "    for word in sent: \n",
    "        if word in w2v_words:\n",
    "            vec = w2v_model.wv[word]\n",
    "            tf_idf = dictionary[word]*(sent.count(word)/len(sent))\n",
    "            sent_vec += (vec * tf_idf)\n",
    "            weight_sum += tf_idf\n",
    "    if weight_sum != 0:\n",
    "        sent_vec /= weight_sum\n",
    "    X_CV_tf.append(sent_vec)\n",
    "    row += 1"
   ]
  },
  {
   "cell_type": "code",
   "execution_count": 23,
   "metadata": {},
   "outputs": [
    {
     "data": {
      "text/plain": [
       "(5000, 50)"
      ]
     },
     "execution_count": 23,
     "metadata": {},
     "output_type": "execute_result"
    }
   ],
   "source": [
    "X_CV_tfidfw2v = np.asarray(X_CV_tf)\n",
    "X_CV_tfidfw2v = StandardScaler().fit_transform(X_CV_tfidfw2v)\n",
    "X_CV_tfidfw2v.shape"
   ]
  },
  {
   "cell_type": "code",
   "execution_count": 24,
   "metadata": {},
   "outputs": [],
   "source": [
    "CV_tfidfw2v = open(\"CV_tfidfw2v.pickle\", \"wb\")\n",
    "pickle.dump(X_CV_tfidfw2v, CV_tfidfw2v)\n",
    "CV_tfidfw2v.close()"
   ]
  },
  {
   "cell_type": "code",
   "execution_count": 25,
   "metadata": {},
   "outputs": [],
   "source": [
    "i=0\n",
    "list_of_sen =[]\n",
    "for sent in X_test['CleanedText'].values:\n",
    "    filtered_sentence =[]\n",
    "    sent = clean_html(sent)\n",
    "    for w in sent.split():\n",
    "        for cleaned_words in clean_punctuation(w).split():\n",
    "            if(cleaned_words.isalpha()):\n",
    "                filtered_sentence.append(cleaned_words.lower())\n",
    "            else:\n",
    "                continue\n",
    "    list_of_sen.append(filtered_sentence)"
   ]
  },
  {
   "cell_type": "code",
   "execution_count": 26,
   "metadata": {},
   "outputs": [],
   "source": [
    "X_test_tfidf = model.transform(X_test['CleanedText'].values)"
   ]
  },
  {
   "cell_type": "code",
   "execution_count": 27,
   "metadata": {},
   "outputs": [
    {
     "name": "stderr",
     "output_type": "stream",
     "text": [
      "100%|██████████| 5000/5000 [00:06<00:00, 730.04it/s]\n"
     ]
    }
   ],
   "source": [
    "tfidf_feat = model.get_feature_names()\n",
    "\n",
    "X_test_tf = []\n",
    "row=0;\n",
    "for sent in tqdm(list_of_sen):  \n",
    "    sent_vec = np.zeros(50) \n",
    "    weight_sum =0; \n",
    "    for word in sent: \n",
    "        if word in w2v_words:\n",
    "            vec = w2v_model.wv[word]\n",
    "            tf_idf = dictionary[word]*(sent.count(word)/len(sent))\n",
    "            sent_vec += (vec * tf_idf)\n",
    "            weight_sum += tf_idf\n",
    "    if weight_sum != 0:\n",
    "        sent_vec /= weight_sum\n",
    "    X_test_tf.append(sent_vec)\n",
    "    row += 1"
   ]
  },
  {
   "cell_type": "code",
   "execution_count": 28,
   "metadata": {},
   "outputs": [
    {
     "data": {
      "text/plain": [
       "(5000, 50)"
      ]
     },
     "execution_count": 28,
     "metadata": {},
     "output_type": "execute_result"
    }
   ],
   "source": [
    "X_test_tfidfw2v = np.asarray(X_test_tf)\n",
    "X_test_tfidfw2v = StandardScaler().fit_transform(X_test_tfidfw2v)\n",
    "X_test_tfidfw2v.shape"
   ]
  },
  {
   "cell_type": "code",
   "execution_count": 29,
   "metadata": {},
   "outputs": [],
   "source": [
    "test_tfidfw2v = open(\"test_tfidfw2v.pickle\", \"wb\")\n",
    "pickle.dump(X_test_tfidfw2v, test_tfidfw2v)\n",
    "test_tfidfw2v.close()"
   ]
  },
  {
   "cell_type": "markdown",
   "metadata": {},
   "source": [
    "## RBF Kernel SVM on TF-IDF W2V"
   ]
  },
  {
   "cell_type": "code",
   "execution_count": 30,
   "metadata": {},
   "outputs": [],
   "source": [
    "def scores(X, Y):\n",
    "    C = [10**-4, 10**-3, 10**-2, 10**-1, 10, 10**2]\n",
    "    scores = []\n",
    "    for c in tqdm(C):\n",
    "            clf = SVC(C=c, kernel='rbf')\n",
    "            clf.fit(X_train_tfidfw2v, Y_train)\n",
    "            pred = clf.predict(X)\n",
    "            auc = roc_auc_score(Y, pred)\n",
    "            scores.append(auc)\n",
    "    return scores"
   ]
  },
  {
   "cell_type": "code",
   "execution_count": 31,
   "metadata": {},
   "outputs": [
    {
     "name": "stderr",
     "output_type": "stream",
     "text": [
      "100%|██████████| 6/6 [02:35<00:00, 25.99s/it]\n"
     ]
    }
   ],
   "source": [
    "cv_scores = scores(X_CV_tfidfw2v, Y_CV)"
   ]
  },
  {
   "cell_type": "code",
   "execution_count": 32,
   "metadata": {},
   "outputs": [
    {
     "name": "stderr",
     "output_type": "stream",
     "text": [
      "100%|██████████| 6/6 [03:13<00:00, 32.20s/it]\n"
     ]
    }
   ],
   "source": [
    "train_scores = scores(X_train_tfidfw2v, Y_train)"
   ]
  },
  {
   "cell_type": "code",
   "execution_count": 33,
   "metadata": {},
   "outputs": [
    {
     "data": {
      "image/png": "[encoded data removed]",
      "text/plain": [
       "<matplotlib.figure.Figure at 0x7f7140f8ef98>"
      ]
     },
     "metadata": {},
     "output_type": "display_data"
    }
   ],
   "source": [
    "C = [10**-4, 10**-3, 10**-2, 10**-1, 10, 10**2]\n",
    "log_alphas = np.log(np.asarray(C))\n",
    "plt.plot(log_alphas, cv_scores, label='CV_score')\n",
    "plt.plot(log_alphas, train_scores, label='train_score')\n",
    "plt.title('train VS CV')\n",
    "plt.ylabel('auc score')\n",
    "plt.xlabel('log of alphas')\n",
    "plt.legend()\n",
    "plt.show()"
   ]
  },
  {
   "cell_type": "code",
   "execution_count": 34,
   "metadata": {},
   "outputs": [
    {
     "data": {
      "image/png": "[encoded data removed]",
      "text/plain": [
       "<matplotlib.figure.Figure at 0x7f71410d9ba8>"
      ]
     },
     "metadata": {},
     "output_type": "display_data"
    },
    {
     "name": "stdout",
     "output_type": "stream",
     "text": [
      "The auc score for each alpha value for cross validation is :  [0.5   0.5   0.5   0.5   0.607 0.635]\n"
     ]
    }
   ],
   "source": [
    "plt.plot(log_alphas, cv_scores )\n",
    "\n",
    "plt.title('plot for cv scores according to log of alphas')\n",
    "for xy in zip(np.round(log_alphas, 2), np.round(cv_scores,3)):\n",
    "    plt.annotate('(%s, %s)' % xy, xy=xy, textcoords='data')\n",
    "plt.xlabel('log of alphas')\n",
    "plt.ylabel('auc scores for cross validation')\n",
    "plt.show()\n",
    "\n",
    "print(\"The auc score for each alpha value for cross validation is : \", np.round(cv_scores,3))"
   ]
  },
  {
   "cell_type": "code",
   "execution_count": 35,
   "metadata": {},
   "outputs": [
    {
     "data": {
      "image/png": "[encoded data removed]",
      "text/plain": [
       "<matplotlib.figure.Figure at 0x7f7140f6c6a0>"
      ]
     },
     "metadata": {},
     "output_type": "display_data"
    },
    {
     "name": "stdout",
     "output_type": "stream",
     "text": [
      "The auc score for each alpha value for train data is :  [0.5   0.5   0.5   0.5   0.72  0.906]\n"
     ]
    }
   ],
   "source": [
    "plt.plot(log_alphas, train_scores )\n",
    "\n",
    "plt.title('plot for cv scores according to log of alphas')\n",
    "for xy in zip(np.round(log_alphas, 2), np.round(cv_scores,3)):\n",
    "    plt.annotate('(%s, %s)' % xy, xy=xy, textcoords='data')\n",
    "plt.xlabel('log of alphas')\n",
    "plt.ylabel('auc scores for train data')\n",
    "plt.show()\n",
    "\n",
    "print(\"The auc score for each alpha value for train data is : \", np.round(train_scores,3))"
   ]
  },
  {
   "cell_type": "code",
   "execution_count": 36,
   "metadata": {},
   "outputs": [
    {
     "name": "stdout",
     "output_type": "stream",
     "text": [
      "\n",
      "The optimal value of C for cv is 100 and it's value is 0.6352688418303221\n"
     ]
    }
   ],
   "source": [
    "optimal_C_for_cv = C[cv_scores.index(max(cv_scores))]\n",
    "print('\\nThe optimal value of C for cv is {} and it\\'s value is {}'.format(optimal_C_for_cv, max(cv_scores)))"
   ]
  },
  {
   "cell_type": "code",
   "execution_count": 37,
   "metadata": {},
   "outputs": [
    {
     "name": "stdout",
     "output_type": "stream",
     "text": [
      "\n",
      "The optimal value of C for training is 100 and it's value is 0.9059617599588622\n"
     ]
    }
   ],
   "source": [
    "optimal_C_for_train = C[train_scores.index(max(train_scores))]\n",
    "print('\\nThe optimal value of C for training is {} and it\\'s value is {}'.format(optimal_C_for_train, max(train_scores)))"
   ]
  },
  {
   "cell_type": "code",
   "execution_count": 38,
   "metadata": {},
   "outputs": [
    {
     "name": "stdout",
     "output_type": "stream",
     "text": [
      "+----------+--------------------+-------------+--------------------+\n",
      "| C for cv |      cv score      | C for train |    train score     |\n",
      "+----------+--------------------+-------------+--------------------+\n",
      "|   100    | 0.6352688418303221 |     100     | 0.9059617599588622 |\n",
      "|    10    | 0.6066299919881251 |      10     | 0.720190838950084  |\n",
      "|  0.0001  |        0.5         |    0.0001   |        0.5         |\n",
      "|  0.0001  |        0.5         |    0.0001   |        0.5         |\n",
      "|  0.0001  |        0.5         |    0.0001   |        0.5         |\n",
      "|  0.0001  |        0.5         |    0.0001   |        0.5         |\n",
      "+----------+--------------------+-------------+--------------------+\n"
     ]
    }
   ],
   "source": [
    "x = PrettyTable()\n",
    "x.field_names = ['C for cv', 'cv score', 'C for train', 'train score']\n",
    "for z, y in zip(sorted(cv_scores, reverse=True), sorted(train_scores, reverse=True)):\n",
    "    x.add_row([C[cv_scores.index(z)], z, C[train_scores.index(y)], y])\n",
    "print(x)"
   ]
  },
  {
   "cell_type": "markdown",
   "metadata": {},
   "source": [
    "### Based on the above graphs and the table we can choose the optimal value of C to be equal to 100"
   ]
  },
  {
   "cell_type": "code",
   "execution_count": 39,
   "metadata": {},
   "outputs": [],
   "source": [
    "SVM_optimal = SVC(C=100, kernel='rbf')\n",
    "\n",
    "# fitting the model\n",
    "SVM_optimal.fit(X_train_tfidfw2v, Y_train)\n",
    "\n",
    "# predict the response\n",
    "pred = SVM_optimal.predict(X_test_tfidfw2v)\n",
    "\n",
    "# evaluate auc_score\n",
    "auc_score = roc_auc_score(Y_test, pred)"
   ]
  },
  {
   "cell_type": "code",
   "execution_count": 40,
   "metadata": {},
   "outputs": [
    {
     "name": "stdout",
     "output_type": "stream",
     "text": [
      "\n",
      "The auc score for test data for C = 100 is 0.667864\n"
     ]
    }
   ],
   "source": [
    "print('\\nThe auc score for test data for C = {} is {:2f}'.format(100, auc_score))"
   ]
  },
  {
   "cell_type": "code",
   "execution_count": 41,
   "metadata": {},
   "outputs": [
    {
     "data": {
      "text/plain": [
       "array([[ 188,  296],\n",
       "       [ 238, 4278]])"
      ]
     },
     "execution_count": 41,
     "metadata": {},
     "output_type": "execute_result"
    }
   ],
   "source": [
    "conf_matrix = confusion_matrix(Y_test, pred)\n",
    "conf_matrix"
   ]
  },
  {
   "cell_type": "code",
   "execution_count": 42,
   "metadata": {},
   "outputs": [
    {
     "data": {
      "image/png": "[encoded data removed]",
      "text/plain": [
       "<matplotlib.figure.Figure at 0x7f7140f29048>"
      ]
     },
     "metadata": {},
     "output_type": "display_data"
    }
   ],
   "source": [
    "df_cm = pd.DataFrame(conf_matrix, range(2),\n",
    "                  range(2))\n",
    "#plt.figure(figsize = (10,7))\n",
    "sns.set(font_scale=1.4)#for label size\n",
    "sns.heatmap(df_cm, annot=True, fmt=\"d\",cmap=\"YlGnBu\")\n",
    "plt.xlabel('predicted lables')\n",
    "plt.ylabel('actual lables')\n",
    "plt.show()"
   ]
  },
  {
   "cell_type": "code",
   "execution_count": 43,
   "metadata": {},
   "outputs": [
    {
     "name": "stdout",
     "output_type": "stream",
     "text": [
      "             precision    recall  f1-score   support\n",
      "\n",
      "          0       0.44      0.39      0.41       484\n",
      "          1       0.94      0.95      0.94      4516\n",
      "\n",
      "avg / total       0.89      0.89      0.89      5000\n",
      "\n"
     ]
    }
   ],
   "source": [
    "print(classification_report(Y_test, pred))"
   ]
  },
  {
   "cell_type": "markdown",
   "metadata": {},
   "source": [
    "# Comparison of all the models."
   ]
  },
  {
   "cell_type": "code",
   "execution_count": 44,
   "metadata": {},
   "outputs": [
    {
     "name": "stdout",
     "output_type": "stream",
     "text": [
      "+---------------------+---------+----------------+----------------------------+\n",
      "|      Vectorizer     |  Model  | Hyperparameter | AUC-Score on the test data |\n",
      "+---------------------+---------+----------------+----------------------------+\n",
      "|         BOW         | RBF SVM |      100       |           0.6658           |\n",
      "|        TF-IDF       | RBF SVM |      100       |           0.5713           |\n",
      "|     Average W2V     | RBF SVM |      100       |           0.6626           |\n",
      "| TF-IDF Weighted W2V | RBF SVM |      100       |           0.6678           |\n",
      "+---------------------+---------+----------------+----------------------------+\n"
     ]
    }
   ],
   "source": [
    "x = PrettyTable()\n",
    "x.field_names = [\"Vectorizer\", \"Model\", \"Hyperparameter\", \"AUC-Score on the test data\"]\n",
    "x.add_row(['BOW', 'RBF SVM', 100, '0.6658'])\n",
    "x.add_row(['TF-IDF', 'RBF SVM', 100, '0.5713'])\n",
    "x.add_row(['Average W2V', 'RBF SVM',100, '0.6626'])\n",
    "x.add_row(['TF-IDF Weighted W2V', 'RBF SVM', 100, '0.6678'])\n",
    "print(x)"
   ]
  },
  {
   "cell_type": "markdown",
   "metadata": {},
   "source": [
    "## Thus, from the above table we can see that the model with TF-IDF weighted W2V vectorizer performed better."
   ]
  }
 ],
 "metadata": {
  "kernelspec": {
   "display_name": "Python 3",
   "language": "python",
   "name": "python3"
  },
  "language_info": {
   "codemirror_mode": {
    "name": "ipython",
    "version": 3
   },
   "file_extension": ".py",
   "mimetype": "text/x-python",
   "name": "python",
   "nbconvert_exporter": "python",
   "pygments_lexer": "ipython3",
   "version": "3.6.4"
  }
 },
 "nbformat": 4,
 "nbformat_minor": 2
}
