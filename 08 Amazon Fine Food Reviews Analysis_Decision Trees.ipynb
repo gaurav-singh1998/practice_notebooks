{
 "cells": [
  {
   "cell_type": "markdown",
   "metadata": {},
   "source": [
    "# Amazon Fine Food Reviews Analysis\n",
    "\n",
    "\n",
    "Data Source: https://www.kaggle.com/snap/amazon-fine-food-reviews <br>\n",
    "\n",
    "EDA: https://nycdatascience.com/blog/student-works/amazon-fine-foods-visualization/\n",
    "\n",
    "\n",
    "The Amazon Fine Food Reviews dataset consists of reviews of fine foods from Amazon.<br>\n",
    "\n",
    "Number of reviews: 568,454<br>\n",
    "Number of users: 256,059<br>\n",
    "Number of products: 74,258<br>\n",
    "Timespan: Oct 1999 - Oct 2012<br>\n",
    "Number of Attributes/Columns in data: 10 \n",
    "\n",
    "Attribute Information:\n",
    "\n",
    "1. Id\n",
    "2. ProductId - unique identifier for the product\n",
    "3. UserId - unqiue identifier for the user\n",
    "4. ProfileName\n",
    "5. HelpfulnessNumerator - number of users who found the review helpful\n",
    "6. HelpfulnessDenominator - number of users who indicated whether they found the review helpful or not\n",
    "7. Score - rating between 1 and 5\n",
    "8. Time - timestamp for the review\n",
    "9. Summary - brief summary of the review\n",
    "10. Text - text of the review\n",
    "\n",
    "\n",
    "#### Objective:\n",
    "Given a review, determine whether the review is positive (rating of 4 or 5) or negative (rating of 1 or 2).\n",
    "\n",
    "<br>\n",
    "[Q] How to determine if a review is positive or negative?<br>\n",
    "<br> \n",
    "[Ans] We could use Score/Rating. A rating of 4 or 5 can be cosnidered as a positive review. A rating of 1 or 2 can be considered as negative one. A review of rating 3 is considered nuetral and such reviews are ignored from our analysis. This is an approximate and proxy way of determining the polarity (positivity/negativity) of a review."
   ]
  },
  {
   "cell_type": "markdown",
   "metadata": {},
   "source": [
    "# [1]. Reading Data"
   ]
  },
  {
   "cell_type": "markdown",
   "metadata": {},
   "source": [
    "## [1.1] Loading the data\n",
    "\n",
    "The dataset is available in two forms\n",
    "1. .csv file\n",
    "2. SQLite Database\n",
    "\n",
    "In order to load the data, We have used the SQLITE dataset as it is easier to query the data and visualise the data efficiently.\n",
    "<br> \n",
    "\n",
    "Here as we only want to get the global sentiment of the recommendations (positive or negative), we will purposefully ignore all Scores equal to 3. If the score is above 3, then the recommendation wil be set to \"positive\". Otherwise, it will be set to \"negative\"."
   ]
  },
  {
   "cell_type": "code",
   "execution_count": 1,
   "metadata": {},
   "outputs": [
    {
     "name": "stderr",
     "output_type": "stream",
     "text": [
      "/home/blurryface/anaconda3/lib/python3.6/site-packages/sklearn/cross_validation.py:41: DeprecationWarning: This module was deprecated in version 0.18 in favor of the model_selection module into which all the refactored classes and functions are moved. Also note that the interface of the new CV iterators are different from that of this module. This module will be removed in 0.20.\n",
      "  \"This module will be removed in 0.20.\", DeprecationWarning)\n"
     ]
    }
   ],
   "source": [
    "#importing the required libraries\n",
    "%matplotlib inline\n",
    "import warnings\n",
    "warnings.filterwarnings('ignore')\n",
    "import numpy as np\n",
    "import matplotlib.pyplot as plt\n",
    "from matplotlib.ticker import FuncFormatter\n",
    "import seaborn as sns\n",
    "import pandas as pd\n",
    "import sqlite3\n",
    "from sklearn.feature_extraction.text import TfidfTransformer\n",
    "from sklearn.feature_extraction.text import TfidfVectorizer\n",
    "import nltk\n",
    "from sklearn.feature_extraction.text import CountVectorizer\n",
    "from sklearn.preprocessing import StandardScaler\n",
    "from sklearn.metrics import roc_auc_score\n",
    "from scipy.linalg import eigh\n",
    "import pydotplus\n",
    "import re\n",
    "from gensim.models import word2vec\n",
    "import pickle\n",
    "from gensim.models import KeyedVectors\n",
    "import string\n",
    "from nltk.corpus import stopwords\n",
    "from nltk.stem.wordnet import WordNetLemmatizer\n",
    "from gensim.models import Word2Vec\n",
    "from sklearn import decomposition\n",
    "pca = decomposition.PCA()\n",
    "from sklearn.manifold import TSNE\n",
    "from scipy.sparse import csc_matrix\n",
    "from scipy.sparse import csr_matrix\n",
    "from tqdm import tqdm\n",
    "import string\n",
    "from sklearn.tree import DecisionTreeClassifier\n",
    "import graphviz\n",
    "from sklearn.cross_validation import cross_val_score\n",
    "from collections import Counter\n",
    "from sklearn.metrics import accuracy_score\n",
    "from sklearn import cross_validation\n",
    "from sklearn.model_selection import TimeSeriesSplit\n",
    "from sklearn.preprocessing import label_binarize\n",
    "from prettytable import PrettyTable\n",
    "from sklearn.metrics import confusion_matrix\n",
    "from sklearn.metrics import classification_report\n",
    "from sklearn.metrics import f1_score\n",
    "from sklearn.metrics import roc_curve, auc\n",
    "from sklearn.decomposition import TruncatedSVD\n",
    "from sklearn.utils import resample\n",
    "from sklearn.model_selection import ParameterGrid\n",
    "from sklearn.model_selection import RandomizedSearchCV\n",
    "from sklearn.model_selection import GridSearchCV\n",
    "from sklearn import tree\n",
    "import collections\n",
    "from io import StringIO"
   ]
  },
  {
   "cell_type": "code",
   "execution_count": 2,
   "metadata": {},
   "outputs": [],
   "source": [
    "#loading the data through sqlite and preprocesing it a little bit.\n",
    "temp = sqlite3.connect('database.sqlite')\n",
    "temp = pd.read_sql_query(\"\"\"SELECT * FROM Reviews WHERE SCORE != 3\"\"\", temp)\n",
    "def partiton(x):\n",
    "    if x > 3:\n",
    "        return 'positive'\n",
    "    else:\n",
    "        return 'negative'\n",
    "score = temp['Score']\n",
    "positive_negative = score.map(partiton)\n",
    "temp['Score'] = positive_negative"
   ]
  },
  {
   "cell_type": "code",
   "execution_count": 3,
   "metadata": {},
   "outputs": [
    {
     "data": {
      "text/html": [
       "<div>\n",
       "<style scoped>\n",
       "    .dataframe tbody tr th:only-of-type {\n",
       "        vertical-align: middle;\n",
       "    }\n",
       "\n",
       "    .dataframe tbody tr th {\n",
       "        vertical-align: top;\n",
       "    }\n",
       "\n",
       "    .dataframe thead th {\n",
       "        text-align: right;\n",
       "    }\n",
       "</style>\n",
       "<table border=\"1\" class=\"dataframe\">\n",
       "  <thead>\n",
       "    <tr style=\"text-align: right;\">\n",
       "      <th></th>\n",
       "      <th>Id</th>\n",
       "      <th>ProductId</th>\n",
       "      <th>UserId</th>\n",
       "      <th>ProfileName</th>\n",
       "      <th>HelpfulnessNumerator</th>\n",
       "      <th>HelpfulnessDenominator</th>\n",
       "      <th>Score</th>\n",
       "      <th>Time</th>\n",
       "      <th>Summary</th>\n",
       "      <th>Text</th>\n",
       "    </tr>\n",
       "  </thead>\n",
       "  <tbody>\n",
       "    <tr>\n",
       "      <th>138706</th>\n",
       "      <td>150524</td>\n",
       "      <td>0006641040</td>\n",
       "      <td>ACITT7DI6IDDL</td>\n",
       "      <td>shari zychinski</td>\n",
       "      <td>0</td>\n",
       "      <td>0</td>\n",
       "      <td>positive</td>\n",
       "      <td>939340800</td>\n",
       "      <td>EVERY book is educational</td>\n",
       "      <td>this witty little book makes my son laugh at l...</td>\n",
       "    </tr>\n",
       "    <tr>\n",
       "      <th>138683</th>\n",
       "      <td>150501</td>\n",
       "      <td>0006641040</td>\n",
       "      <td>AJ46FKXOVC7NR</td>\n",
       "      <td>Nicholas A Mesiano</td>\n",
       "      <td>2</td>\n",
       "      <td>2</td>\n",
       "      <td>positive</td>\n",
       "      <td>940809600</td>\n",
       "      <td>This whole series is great way to spend time w...</td>\n",
       "      <td>I can remember seeing the show when it aired o...</td>\n",
       "    </tr>\n",
       "    <tr>\n",
       "      <th>417839</th>\n",
       "      <td>451856</td>\n",
       "      <td>B00004CXX9</td>\n",
       "      <td>AIUWLEQ1ADEG5</td>\n",
       "      <td>Elizabeth Medina</td>\n",
       "      <td>0</td>\n",
       "      <td>0</td>\n",
       "      <td>positive</td>\n",
       "      <td>944092800</td>\n",
       "      <td>Entertainingl Funny!</td>\n",
       "      <td>Beetlejuice is a well written movie ..... ever...</td>\n",
       "    </tr>\n",
       "    <tr>\n",
       "      <th>417859</th>\n",
       "      <td>451878</td>\n",
       "      <td>B00004CXX9</td>\n",
       "      <td>A344SMIA5JECGM</td>\n",
       "      <td>Vincent P. Ross</td>\n",
       "      <td>1</td>\n",
       "      <td>2</td>\n",
       "      <td>positive</td>\n",
       "      <td>944438400</td>\n",
       "      <td>A modern day fairy tale</td>\n",
       "      <td>A twist of rumplestiskin captured on film, sta...</td>\n",
       "    </tr>\n",
       "    <tr>\n",
       "      <th>212472</th>\n",
       "      <td>230285</td>\n",
       "      <td>B00004RYGX</td>\n",
       "      <td>A344SMIA5JECGM</td>\n",
       "      <td>Vincent P. Ross</td>\n",
       "      <td>1</td>\n",
       "      <td>2</td>\n",
       "      <td>positive</td>\n",
       "      <td>944438400</td>\n",
       "      <td>A modern day fairy tale</td>\n",
       "      <td>A twist of rumplestiskin captured on film, sta...</td>\n",
       "    </tr>\n",
       "  </tbody>\n",
       "</table>\n",
       "</div>"
      ],
      "text/plain": [
       "            Id   ProductId          UserId         ProfileName  \\\n",
       "138706  150524  0006641040   ACITT7DI6IDDL     shari zychinski   \n",
       "138683  150501  0006641040   AJ46FKXOVC7NR  Nicholas A Mesiano   \n",
       "417839  451856  B00004CXX9   AIUWLEQ1ADEG5    Elizabeth Medina   \n",
       "417859  451878  B00004CXX9  A344SMIA5JECGM     Vincent P. Ross   \n",
       "212472  230285  B00004RYGX  A344SMIA5JECGM     Vincent P. Ross   \n",
       "\n",
       "        HelpfulnessNumerator  HelpfulnessDenominator     Score       Time  \\\n",
       "138706                     0                       0  positive  939340800   \n",
       "138683                     2                       2  positive  940809600   \n",
       "417839                     0                       0  positive  944092800   \n",
       "417859                     1                       2  positive  944438400   \n",
       "212472                     1                       2  positive  944438400   \n",
       "\n",
       "                                                  Summary  \\\n",
       "138706                          EVERY book is educational   \n",
       "138683  This whole series is great way to spend time w...   \n",
       "417839                               Entertainingl Funny!   \n",
       "417859                            A modern day fairy tale   \n",
       "212472                            A modern day fairy tale   \n",
       "\n",
       "                                                     Text  \n",
       "138706  this witty little book makes my son laugh at l...  \n",
       "138683  I can remember seeing the show when it aired o...  \n",
       "417839  Beetlejuice is a well written movie ..... ever...  \n",
       "417859  A twist of rumplestiskin captured on film, sta...  \n",
       "212472  A twist of rumplestiskin captured on film, sta...  "
      ]
     },
     "execution_count": 3,
     "metadata": {},
     "output_type": "execute_result"
    }
   ],
   "source": [
    "#sorting the data in ascending order according to the time stamp\n",
    "temp.sort_values('Time', inplace=True)\n",
    "temp.head()"
   ]
  },
  {
   "cell_type": "markdown",
   "metadata": {},
   "source": [
    "#  [2] Exploratory Data Analysis"
   ]
  },
  {
   "cell_type": "markdown",
   "metadata": {},
   "source": [
    "## [2.1] Data Cleaning: Deduplication\n",
    "\n",
    "It is observed (as shown in the table below) that the reviews data had many duplicate entries. Hence it was necessary to remove duplicates in order to get unbiased results for the analysis of the data.  Following is an example:"
   ]
  },
  {
   "cell_type": "code",
   "execution_count": 11,
   "metadata": {},
   "outputs": [
    {
     "data": {
      "text/html": [
       "<div>\n",
       "<style scoped>\n",
       "    .dataframe tbody tr th:only-of-type {\n",
       "        vertical-align: middle;\n",
       "    }\n",
       "\n",
       "    .dataframe tbody tr th {\n",
       "        vertical-align: top;\n",
       "    }\n",
       "\n",
       "    .dataframe thead th {\n",
       "        text-align: right;\n",
       "    }\n",
       "</style>\n",
       "<table border=\"1\" class=\"dataframe\">\n",
       "  <thead>\n",
       "    <tr style=\"text-align: right;\">\n",
       "      <th></th>\n",
       "      <th>Id</th>\n",
       "      <th>ProductId</th>\n",
       "      <th>UserId</th>\n",
       "      <th>ProfileName</th>\n",
       "      <th>HelpfulnessNumerator</th>\n",
       "      <th>HelpfulnessDenominator</th>\n",
       "      <th>Score</th>\n",
       "      <th>Time</th>\n",
       "      <th>Summary</th>\n",
       "      <th>Text</th>\n",
       "    </tr>\n",
       "  </thead>\n",
       "  <tbody>\n",
       "    <tr>\n",
       "      <th>0</th>\n",
       "      <td>78445</td>\n",
       "      <td>B000HDL1RQ</td>\n",
       "      <td>AR5J8UI46CURR</td>\n",
       "      <td>Geetha Krishnan</td>\n",
       "      <td>2</td>\n",
       "      <td>2</td>\n",
       "      <td>5</td>\n",
       "      <td>1199577600</td>\n",
       "      <td>LOACKER QUADRATINI VANILLA WAFERS</td>\n",
       "      <td>DELICIOUS WAFERS. I FIND THAT EUROPEAN WAFERS ...</td>\n",
       "    </tr>\n",
       "    <tr>\n",
       "      <th>1</th>\n",
       "      <td>138317</td>\n",
       "      <td>B000HDOPYC</td>\n",
       "      <td>AR5J8UI46CURR</td>\n",
       "      <td>Geetha Krishnan</td>\n",
       "      <td>2</td>\n",
       "      <td>2</td>\n",
       "      <td>5</td>\n",
       "      <td>1199577600</td>\n",
       "      <td>LOACKER QUADRATINI VANILLA WAFERS</td>\n",
       "      <td>DELICIOUS WAFERS. I FIND THAT EUROPEAN WAFERS ...</td>\n",
       "    </tr>\n",
       "    <tr>\n",
       "      <th>2</th>\n",
       "      <td>138277</td>\n",
       "      <td>B000HDOPYM</td>\n",
       "      <td>AR5J8UI46CURR</td>\n",
       "      <td>Geetha Krishnan</td>\n",
       "      <td>2</td>\n",
       "      <td>2</td>\n",
       "      <td>5</td>\n",
       "      <td>1199577600</td>\n",
       "      <td>LOACKER QUADRATINI VANILLA WAFERS</td>\n",
       "      <td>DELICIOUS WAFERS. I FIND THAT EUROPEAN WAFERS ...</td>\n",
       "    </tr>\n",
       "    <tr>\n",
       "      <th>3</th>\n",
       "      <td>73791</td>\n",
       "      <td>B000HDOPZG</td>\n",
       "      <td>AR5J8UI46CURR</td>\n",
       "      <td>Geetha Krishnan</td>\n",
       "      <td>2</td>\n",
       "      <td>2</td>\n",
       "      <td>5</td>\n",
       "      <td>1199577600</td>\n",
       "      <td>LOACKER QUADRATINI VANILLA WAFERS</td>\n",
       "      <td>DELICIOUS WAFERS. I FIND THAT EUROPEAN WAFERS ...</td>\n",
       "    </tr>\n",
       "    <tr>\n",
       "      <th>4</th>\n",
       "      <td>155049</td>\n",
       "      <td>B000PAQ75C</td>\n",
       "      <td>AR5J8UI46CURR</td>\n",
       "      <td>Geetha Krishnan</td>\n",
       "      <td>2</td>\n",
       "      <td>2</td>\n",
       "      <td>5</td>\n",
       "      <td>1199577600</td>\n",
       "      <td>LOACKER QUADRATINI VANILLA WAFERS</td>\n",
       "      <td>DELICIOUS WAFERS. I FIND THAT EUROPEAN WAFERS ...</td>\n",
       "    </tr>\n",
       "  </tbody>\n",
       "</table>\n",
       "</div>"
      ],
      "text/plain": [
       "       Id   ProductId         UserId      ProfileName  HelpfulnessNumerator  \\\n",
       "0   78445  B000HDL1RQ  AR5J8UI46CURR  Geetha Krishnan                     2   \n",
       "1  138317  B000HDOPYC  AR5J8UI46CURR  Geetha Krishnan                     2   \n",
       "2  138277  B000HDOPYM  AR5J8UI46CURR  Geetha Krishnan                     2   \n",
       "3   73791  B000HDOPZG  AR5J8UI46CURR  Geetha Krishnan                     2   \n",
       "4  155049  B000PAQ75C  AR5J8UI46CURR  Geetha Krishnan                     2   \n",
       "\n",
       "   HelpfulnessDenominator  Score        Time  \\\n",
       "0                       2      5  1199577600   \n",
       "1                       2      5  1199577600   \n",
       "2                       2      5  1199577600   \n",
       "3                       2      5  1199577600   \n",
       "4                       2      5  1199577600   \n",
       "\n",
       "                             Summary  \\\n",
       "0  LOACKER QUADRATINI VANILLA WAFERS   \n",
       "1  LOACKER QUADRATINI VANILLA WAFERS   \n",
       "2  LOACKER QUADRATINI VANILLA WAFERS   \n",
       "3  LOACKER QUADRATINI VANILLA WAFERS   \n",
       "4  LOACKER QUADRATINI VANILLA WAFERS   \n",
       "\n",
       "                                                Text  \n",
       "0  DELICIOUS WAFERS. I FIND THAT EUROPEAN WAFERS ...  \n",
       "1  DELICIOUS WAFERS. I FIND THAT EUROPEAN WAFERS ...  \n",
       "2  DELICIOUS WAFERS. I FIND THAT EUROPEAN WAFERS ...  \n",
       "3  DELICIOUS WAFERS. I FIND THAT EUROPEAN WAFERS ...  \n",
       "4  DELICIOUS WAFERS. I FIND THAT EUROPEAN WAFERS ...  "
      ]
     },
     "execution_count": 11,
     "metadata": {},
     "output_type": "execute_result"
    }
   ],
   "source": [
    "display= pd.read_sql_query(\"\"\"\n",
    "SELECT *\n",
    "FROM Reviews\n",
    "WHERE Score != 3 AND UserId=\"AR5J8UI46CURR\"\n",
    "ORDER BY ProductID\n",
    "\"\"\", sqlite3.connect('database.sqlite'))\n",
    "display.head()"
   ]
  },
  {
   "cell_type": "markdown",
   "metadata": {},
   "source": [
    "As it can be seen above that same user has multiple reviews with same values for HelpfulnessNumerator, HelpfulnessDenominator, Score, Time, Summary and Text and on doing analysis it was found that <br>\n",
    "<br> \n",
    "ProductId=B000HDOPZG was Loacker Quadratini Vanilla Wafer Cookies, 8.82-Ounce Packages (Pack of 8)<br>\n",
    "<br> \n",
    "ProductId=B000HDL1RQ was Loacker Quadratini Lemon Wafer Cookies, 8.82-Ounce Packages (Pack of 8) and so on<br>\n",
    "\n",
    "It was inferred after analysis that reviews with same parameters other than ProductId belonged to the same product just having different flavour or quantity. Hence in order to reduce redundancy it was decided to eliminate the rows having same parameters.<br>\n",
    "\n",
    "The method used for the same was that we first sort the data according to ProductId and then just keep the first similar product review and delelte the others. for eg. in the above just the review for ProductId=B000HDL1RQ remains. This method ensures that there is only one representative for each product and deduplication without sorting would lead to possibility of different representatives still existing for the same product."
   ]
  },
  {
   "cell_type": "code",
   "execution_count": 12,
   "metadata": {},
   "outputs": [
    {
     "data": {
      "text/plain": [
       "(364173, 10)"
      ]
     },
     "execution_count": 12,
     "metadata": {},
     "output_type": "execute_result"
    }
   ],
   "source": [
    "#getting rid of the duplicates\n",
    "final = temp.drop_duplicates(subset={\"UserId\",\"ProfileName\",\"Time\",\"Text\"}, keep='first', inplace=False)\n",
    "final.shape"
   ]
  },
  {
   "cell_type": "code",
   "execution_count": 13,
   "metadata": {},
   "outputs": [
    {
     "data": {
      "text/html": [
       "<div>\n",
       "<style scoped>\n",
       "    .dataframe tbody tr th:only-of-type {\n",
       "        vertical-align: middle;\n",
       "    }\n",
       "\n",
       "    .dataframe tbody tr th {\n",
       "        vertical-align: top;\n",
       "    }\n",
       "\n",
       "    .dataframe thead th {\n",
       "        text-align: right;\n",
       "    }\n",
       "</style>\n",
       "<table border=\"1\" class=\"dataframe\">\n",
       "  <thead>\n",
       "    <tr style=\"text-align: right;\">\n",
       "      <th></th>\n",
       "      <th>Id</th>\n",
       "      <th>ProductId</th>\n",
       "      <th>UserId</th>\n",
       "      <th>ProfileName</th>\n",
       "      <th>HelpfulnessNumerator</th>\n",
       "      <th>HelpfulnessDenominator</th>\n",
       "      <th>Score</th>\n",
       "      <th>Time</th>\n",
       "      <th>Summary</th>\n",
       "      <th>Text</th>\n",
       "    </tr>\n",
       "  </thead>\n",
       "  <tbody>\n",
       "    <tr>\n",
       "      <th>138706</th>\n",
       "      <td>150524</td>\n",
       "      <td>0006641040</td>\n",
       "      <td>ACITT7DI6IDDL</td>\n",
       "      <td>shari zychinski</td>\n",
       "      <td>0</td>\n",
       "      <td>0</td>\n",
       "      <td>positive</td>\n",
       "      <td>939340800</td>\n",
       "      <td>EVERY book is educational</td>\n",
       "      <td>this witty little book makes my son laugh at l...</td>\n",
       "    </tr>\n",
       "    <tr>\n",
       "      <th>138683</th>\n",
       "      <td>150501</td>\n",
       "      <td>0006641040</td>\n",
       "      <td>AJ46FKXOVC7NR</td>\n",
       "      <td>Nicholas A Mesiano</td>\n",
       "      <td>2</td>\n",
       "      <td>2</td>\n",
       "      <td>positive</td>\n",
       "      <td>940809600</td>\n",
       "      <td>This whole series is great way to spend time w...</td>\n",
       "      <td>I can remember seeing the show when it aired o...</td>\n",
       "    </tr>\n",
       "    <tr>\n",
       "      <th>417839</th>\n",
       "      <td>451856</td>\n",
       "      <td>B00004CXX9</td>\n",
       "      <td>AIUWLEQ1ADEG5</td>\n",
       "      <td>Elizabeth Medina</td>\n",
       "      <td>0</td>\n",
       "      <td>0</td>\n",
       "      <td>positive</td>\n",
       "      <td>944092800</td>\n",
       "      <td>Entertainingl Funny!</td>\n",
       "      <td>Beetlejuice is a well written movie ..... ever...</td>\n",
       "    </tr>\n",
       "    <tr>\n",
       "      <th>417859</th>\n",
       "      <td>451878</td>\n",
       "      <td>B00004CXX9</td>\n",
       "      <td>A344SMIA5JECGM</td>\n",
       "      <td>Vincent P. Ross</td>\n",
       "      <td>1</td>\n",
       "      <td>2</td>\n",
       "      <td>positive</td>\n",
       "      <td>944438400</td>\n",
       "      <td>A modern day fairy tale</td>\n",
       "      <td>A twist of rumplestiskin captured on film, sta...</td>\n",
       "    </tr>\n",
       "    <tr>\n",
       "      <th>417838</th>\n",
       "      <td>451855</td>\n",
       "      <td>B00004CXX9</td>\n",
       "      <td>AJH6LUC1UT1ON</td>\n",
       "      <td>The Phantom of the Opera</td>\n",
       "      <td>0</td>\n",
       "      <td>0</td>\n",
       "      <td>positive</td>\n",
       "      <td>946857600</td>\n",
       "      <td>FANTASTIC!</td>\n",
       "      <td>Beetlejuice is an excellent and funny movie. K...</td>\n",
       "    </tr>\n",
       "  </tbody>\n",
       "</table>\n",
       "</div>"
      ],
      "text/plain": [
       "            Id   ProductId          UserId               ProfileName  \\\n",
       "138706  150524  0006641040   ACITT7DI6IDDL           shari zychinski   \n",
       "138683  150501  0006641040   AJ46FKXOVC7NR        Nicholas A Mesiano   \n",
       "417839  451856  B00004CXX9   AIUWLEQ1ADEG5          Elizabeth Medina   \n",
       "417859  451878  B00004CXX9  A344SMIA5JECGM           Vincent P. Ross   \n",
       "417838  451855  B00004CXX9   AJH6LUC1UT1ON  The Phantom of the Opera   \n",
       "\n",
       "        HelpfulnessNumerator  HelpfulnessDenominator     Score       Time  \\\n",
       "138706                     0                       0  positive  939340800   \n",
       "138683                     2                       2  positive  940809600   \n",
       "417839                     0                       0  positive  944092800   \n",
       "417859                     1                       2  positive  944438400   \n",
       "417838                     0                       0  positive  946857600   \n",
       "\n",
       "                                                  Summary  \\\n",
       "138706                          EVERY book is educational   \n",
       "138683  This whole series is great way to spend time w...   \n",
       "417839                               Entertainingl Funny!   \n",
       "417859                            A modern day fairy tale   \n",
       "417838                                         FANTASTIC!   \n",
       "\n",
       "                                                     Text  \n",
       "138706  this witty little book makes my son laugh at l...  \n",
       "138683  I can remember seeing the show when it aired o...  \n",
       "417839  Beetlejuice is a well written movie ..... ever...  \n",
       "417859  A twist of rumplestiskin captured on film, sta...  \n",
       "417838  Beetlejuice is an excellent and funny movie. K...  "
      ]
     },
     "execution_count": 13,
     "metadata": {},
     "output_type": "execute_result"
    }
   ],
   "source": [
    "#Removing all the points where Denominator < Numerator\n",
    "final = final[final.HelpfulnessNumerator <= final.HelpfulnessDenominator]\n",
    "final.head()"
   ]
  },
  {
   "cell_type": "code",
   "execution_count": 14,
   "metadata": {},
   "outputs": [
    {
     "data": {
      "text/plain": [
       "(364171, 10)"
      ]
     },
     "execution_count": 14,
     "metadata": {},
     "output_type": "execute_result"
    }
   ],
   "source": [
    "final.shape"
   ]
  },
  {
   "cell_type": "code",
   "execution_count": 15,
   "metadata": {},
   "outputs": [],
   "source": [
    "#Taking top 100k values for the assignment\n",
    "final = final.iloc[0: 100000,:]"
   ]
  },
  {
   "cell_type": "markdown",
   "metadata": {},
   "source": [
    "# Text Preprocessing: Stemming, stop-word removal and Lemmatization."
   ]
  },
  {
   "cell_type": "markdown",
   "metadata": {},
   "source": [
    "#### Doing the text processing for text as well as summary of the review"
   ]
  },
  {
   "cell_type": "code",
   "execution_count": 3,
   "metadata": {},
   "outputs": [],
   "source": [
    "stop = set(stopwords.words('english'))\n",
    "sno = nltk.stem.SnowballStemmer('english')\n",
    "def clean_html(sentence):\n",
    "    clean = re.compile('<.*?>')\n",
    "    cleantext = re.sub(clean, ' ', sentence)\n",
    "    return cleantext\n",
    "def clean_punctuation(sentence):\n",
    "    cleaned = re.sub(r'[?|!|\\'|\"|#]',r'',sentence)\n",
    "    cleaned = re.sub(r'[.|,|)|(|\\|/]',r' ',cleaned)\n",
    "    return cleaned"
   ]
  },
  {
   "cell_type": "code",
   "execution_count": 17,
   "metadata": {},
   "outputs": [
    {
     "name": "stderr",
     "output_type": "stream",
     "text": [
      "100%|██████████| 100000/100000 [01:38<00:00, 1015.11it/s]\n"
     ]
    }
   ],
   "source": [
    "i=0\n",
    "strl = ' '\n",
    "final_string = []\n",
    "all_positive_words = []\n",
    "all_negative_words = []\n",
    "s = ''\n",
    "for sent in tqdm(final['Text'].values):\n",
    "    sent = clean_html(sent)\n",
    "    filtered_sentence = []\n",
    "    for w in sent.split():\n",
    "        for cleaned_words in clean_punctuation(w).split():\n",
    "            if ((cleaned_words.isalpha()) & (len(cleaned_words) > 2)):\n",
    "                if (cleaned_words.lower() not in stop):\n",
    "                    s=(sno.stem(cleaned_words.lower())).encode('utf8')\n",
    "                    filtered_sentence.append(s)\n",
    "                    if (final['Score'].values)[i] == 'positive': \n",
    "                        all_positive_words.append(s) \n",
    "                    if(final['Score'].values)[i] == 'negative':\n",
    "                        all_negative_words.append(s) \n",
    "                else:\n",
    "                    continue\n",
    "            else:\n",
    "                continue \n",
    "    str1 = b\" \".join(filtered_sentence) \n",
    "    \n",
    "    final_string.append(str1)\n",
    "    i+=1"
   ]
  },
  {
   "cell_type": "code",
   "execution_count": 18,
   "metadata": {},
   "outputs": [],
   "source": [
    "final['CleanedText']=final_string \n",
    "final['CleanedText']=final['CleanedText'].str.decode(\"utf-8\")"
   ]
  },
  {
   "cell_type": "code",
   "execution_count": 19,
   "metadata": {},
   "outputs": [
    {
     "data": {
      "text/html": [
       "<div>\n",
       "<style scoped>\n",
       "    .dataframe tbody tr th:only-of-type {\n",
       "        vertical-align: middle;\n",
       "    }\n",
       "\n",
       "    .dataframe tbody tr th {\n",
       "        vertical-align: top;\n",
       "    }\n",
       "\n",
       "    .dataframe thead th {\n",
       "        text-align: right;\n",
       "    }\n",
       "</style>\n",
       "<table border=\"1\" class=\"dataframe\">\n",
       "  <thead>\n",
       "    <tr style=\"text-align: right;\">\n",
       "      <th></th>\n",
       "      <th>Id</th>\n",
       "      <th>ProductId</th>\n",
       "      <th>UserId</th>\n",
       "      <th>ProfileName</th>\n",
       "      <th>HelpfulnessNumerator</th>\n",
       "      <th>HelpfulnessDenominator</th>\n",
       "      <th>Score</th>\n",
       "      <th>Time</th>\n",
       "      <th>Summary</th>\n",
       "      <th>Text</th>\n",
       "      <th>CleanedText</th>\n",
       "    </tr>\n",
       "  </thead>\n",
       "  <tbody>\n",
       "    <tr>\n",
       "      <th>138706</th>\n",
       "      <td>150524</td>\n",
       "      <td>0006641040</td>\n",
       "      <td>ACITT7DI6IDDL</td>\n",
       "      <td>shari zychinski</td>\n",
       "      <td>0</td>\n",
       "      <td>0</td>\n",
       "      <td>positive</td>\n",
       "      <td>939340800</td>\n",
       "      <td>EVERY book is educational</td>\n",
       "      <td>this witty little book makes my son laugh at l...</td>\n",
       "      <td>witti littl book make son laugh loud recit car...</td>\n",
       "    </tr>\n",
       "    <tr>\n",
       "      <th>138683</th>\n",
       "      <td>150501</td>\n",
       "      <td>0006641040</td>\n",
       "      <td>AJ46FKXOVC7NR</td>\n",
       "      <td>Nicholas A Mesiano</td>\n",
       "      <td>2</td>\n",
       "      <td>2</td>\n",
       "      <td>positive</td>\n",
       "      <td>940809600</td>\n",
       "      <td>This whole series is great way to spend time w...</td>\n",
       "      <td>I can remember seeing the show when it aired o...</td>\n",
       "      <td>rememb see show air televis year ago child sis...</td>\n",
       "    </tr>\n",
       "    <tr>\n",
       "      <th>417839</th>\n",
       "      <td>451856</td>\n",
       "      <td>B00004CXX9</td>\n",
       "      <td>AIUWLEQ1ADEG5</td>\n",
       "      <td>Elizabeth Medina</td>\n",
       "      <td>0</td>\n",
       "      <td>0</td>\n",
       "      <td>positive</td>\n",
       "      <td>944092800</td>\n",
       "      <td>Entertainingl Funny!</td>\n",
       "      <td>Beetlejuice is a well written movie ..... ever...</td>\n",
       "      <td>beetlejuic well written movi everyth excel act...</td>\n",
       "    </tr>\n",
       "    <tr>\n",
       "      <th>417859</th>\n",
       "      <td>451878</td>\n",
       "      <td>B00004CXX9</td>\n",
       "      <td>A344SMIA5JECGM</td>\n",
       "      <td>Vincent P. Ross</td>\n",
       "      <td>1</td>\n",
       "      <td>2</td>\n",
       "      <td>positive</td>\n",
       "      <td>944438400</td>\n",
       "      <td>A modern day fairy tale</td>\n",
       "      <td>A twist of rumplestiskin captured on film, sta...</td>\n",
       "      <td>twist rumplestiskin captur film star michael k...</td>\n",
       "    </tr>\n",
       "    <tr>\n",
       "      <th>417838</th>\n",
       "      <td>451855</td>\n",
       "      <td>B00004CXX9</td>\n",
       "      <td>AJH6LUC1UT1ON</td>\n",
       "      <td>The Phantom of the Opera</td>\n",
       "      <td>0</td>\n",
       "      <td>0</td>\n",
       "      <td>positive</td>\n",
       "      <td>946857600</td>\n",
       "      <td>FANTASTIC!</td>\n",
       "      <td>Beetlejuice is an excellent and funny movie. K...</td>\n",
       "      <td>beetlejuic excel funni movi keaton hilari wack...</td>\n",
       "    </tr>\n",
       "  </tbody>\n",
       "</table>\n",
       "</div>"
      ],
      "text/plain": [
       "            Id   ProductId          UserId               ProfileName  \\\n",
       "138706  150524  0006641040   ACITT7DI6IDDL           shari zychinski   \n",
       "138683  150501  0006641040   AJ46FKXOVC7NR        Nicholas A Mesiano   \n",
       "417839  451856  B00004CXX9   AIUWLEQ1ADEG5          Elizabeth Medina   \n",
       "417859  451878  B00004CXX9  A344SMIA5JECGM           Vincent P. Ross   \n",
       "417838  451855  B00004CXX9   AJH6LUC1UT1ON  The Phantom of the Opera   \n",
       "\n",
       "        HelpfulnessNumerator  HelpfulnessDenominator     Score       Time  \\\n",
       "138706                     0                       0  positive  939340800   \n",
       "138683                     2                       2  positive  940809600   \n",
       "417839                     0                       0  positive  944092800   \n",
       "417859                     1                       2  positive  944438400   \n",
       "417838                     0                       0  positive  946857600   \n",
       "\n",
       "                                                  Summary  \\\n",
       "138706                          EVERY book is educational   \n",
       "138683  This whole series is great way to spend time w...   \n",
       "417839                               Entertainingl Funny!   \n",
       "417859                            A modern day fairy tale   \n",
       "417838                                         FANTASTIC!   \n",
       "\n",
       "                                                     Text  \\\n",
       "138706  this witty little book makes my son laugh at l...   \n",
       "138683  I can remember seeing the show when it aired o...   \n",
       "417839  Beetlejuice is a well written movie ..... ever...   \n",
       "417859  A twist of rumplestiskin captured on film, sta...   \n",
       "417838  Beetlejuice is an excellent and funny movie. K...   \n",
       "\n",
       "                                              CleanedText  \n",
       "138706  witti littl book make son laugh loud recit car...  \n",
       "138683  rememb see show air televis year ago child sis...  \n",
       "417839  beetlejuic well written movi everyth excel act...  \n",
       "417859  twist rumplestiskin captur film star michael k...  \n",
       "417838  beetlejuic excel funni movi keaton hilari wack...  "
      ]
     },
     "execution_count": 19,
     "metadata": {},
     "output_type": "execute_result"
    }
   ],
   "source": [
    "final.head(3)\n",
    "conn = sqlite3.connect('final.sqlite')\n",
    "c=conn.cursor()\n",
    "conn.text_factory = str\n",
    "final.to_sql('Reviews', conn,  schema=None, if_exists='replace', index=True, index_label=None, chunksize=None, dtype=None)\n",
    "final.head()"
   ]
  },
  {
   "cell_type": "code",
   "execution_count": 20,
   "metadata": {},
   "outputs": [
    {
     "name": "stderr",
     "output_type": "stream",
     "text": [
      "100%|██████████| 100000/100000 [00:07<00:00, 13670.22it/s]\n"
     ]
    }
   ],
   "source": [
    "i=0\n",
    "strl = ' '\n",
    "final_string = []\n",
    "all_positive_words = []\n",
    "all_negative_words = []\n",
    "s = ''\n",
    "for sent in tqdm(final['Summary'].values):\n",
    "    sent = clean_html(sent)\n",
    "    filtered_sentence = []\n",
    "    for w in sent.split():\n",
    "        for cleaned_words in clean_punctuation(w).split():\n",
    "            if ((cleaned_words.isalpha()) & (len(cleaned_words) > 2)):\n",
    "                if (cleaned_words.lower() not in stop):\n",
    "                    s=(sno.stem(cleaned_words.lower())).encode('utf8')\n",
    "                    filtered_sentence.append(s)\n",
    "                    if (final['Score'].values)[i] == 'positive': \n",
    "                        all_positive_words.append(s) \n",
    "                    if(final['Score'].values)[i] == 'negative':\n",
    "                        all_negative_words.append(s) \n",
    "                else:\n",
    "                    continue\n",
    "            else:\n",
    "                continue \n",
    "    str1 = b\" \".join(filtered_sentence) \n",
    "    \n",
    "    final_string.append(str1)\n",
    "    i+=1"
   ]
  },
  {
   "cell_type": "code",
   "execution_count": 21,
   "metadata": {},
   "outputs": [],
   "source": [
    "final['CleanedSummary']=final_string \n",
    "final['CleanedSummary']=final['CleanedSummary'].str.decode(\"utf-8\")"
   ]
  },
  {
   "cell_type": "code",
   "execution_count": 22,
   "metadata": {},
   "outputs": [
    {
     "data": {
      "text/html": [
       "<div>\n",
       "<style scoped>\n",
       "    .dataframe tbody tr th:only-of-type {\n",
       "        vertical-align: middle;\n",
       "    }\n",
       "\n",
       "    .dataframe tbody tr th {\n",
       "        vertical-align: top;\n",
       "    }\n",
       "\n",
       "    .dataframe thead th {\n",
       "        text-align: right;\n",
       "    }\n",
       "</style>\n",
       "<table border=\"1\" class=\"dataframe\">\n",
       "  <thead>\n",
       "    <tr style=\"text-align: right;\">\n",
       "      <th></th>\n",
       "      <th>Id</th>\n",
       "      <th>ProductId</th>\n",
       "      <th>UserId</th>\n",
       "      <th>ProfileName</th>\n",
       "      <th>HelpfulnessNumerator</th>\n",
       "      <th>HelpfulnessDenominator</th>\n",
       "      <th>Score</th>\n",
       "      <th>Time</th>\n",
       "      <th>Summary</th>\n",
       "      <th>Text</th>\n",
       "      <th>CleanedText</th>\n",
       "      <th>CleanedSummary</th>\n",
       "    </tr>\n",
       "  </thead>\n",
       "  <tbody>\n",
       "    <tr>\n",
       "      <th>138706</th>\n",
       "      <td>150524</td>\n",
       "      <td>0006641040</td>\n",
       "      <td>ACITT7DI6IDDL</td>\n",
       "      <td>shari zychinski</td>\n",
       "      <td>0</td>\n",
       "      <td>0</td>\n",
       "      <td>positive</td>\n",
       "      <td>939340800</td>\n",
       "      <td>EVERY book is educational</td>\n",
       "      <td>this witty little book makes my son laugh at l...</td>\n",
       "      <td>witti littl book make son laugh loud recit car...</td>\n",
       "      <td>everi book educ</td>\n",
       "    </tr>\n",
       "    <tr>\n",
       "      <th>138683</th>\n",
       "      <td>150501</td>\n",
       "      <td>0006641040</td>\n",
       "      <td>AJ46FKXOVC7NR</td>\n",
       "      <td>Nicholas A Mesiano</td>\n",
       "      <td>2</td>\n",
       "      <td>2</td>\n",
       "      <td>positive</td>\n",
       "      <td>940809600</td>\n",
       "      <td>This whole series is great way to spend time w...</td>\n",
       "      <td>I can remember seeing the show when it aired o...</td>\n",
       "      <td>rememb see show air televis year ago child sis...</td>\n",
       "      <td>whole seri great way spend time child</td>\n",
       "    </tr>\n",
       "    <tr>\n",
       "      <th>417839</th>\n",
       "      <td>451856</td>\n",
       "      <td>B00004CXX9</td>\n",
       "      <td>AIUWLEQ1ADEG5</td>\n",
       "      <td>Elizabeth Medina</td>\n",
       "      <td>0</td>\n",
       "      <td>0</td>\n",
       "      <td>positive</td>\n",
       "      <td>944092800</td>\n",
       "      <td>Entertainingl Funny!</td>\n",
       "      <td>Beetlejuice is a well written movie ..... ever...</td>\n",
       "      <td>beetlejuic well written movi everyth excel act...</td>\n",
       "      <td>entertainingl funni</td>\n",
       "    </tr>\n",
       "    <tr>\n",
       "      <th>417859</th>\n",
       "      <td>451878</td>\n",
       "      <td>B00004CXX9</td>\n",
       "      <td>A344SMIA5JECGM</td>\n",
       "      <td>Vincent P. Ross</td>\n",
       "      <td>1</td>\n",
       "      <td>2</td>\n",
       "      <td>positive</td>\n",
       "      <td>944438400</td>\n",
       "      <td>A modern day fairy tale</td>\n",
       "      <td>A twist of rumplestiskin captured on film, sta...</td>\n",
       "      <td>twist rumplestiskin captur film star michael k...</td>\n",
       "      <td>modern day fairi tale</td>\n",
       "    </tr>\n",
       "    <tr>\n",
       "      <th>417838</th>\n",
       "      <td>451855</td>\n",
       "      <td>B00004CXX9</td>\n",
       "      <td>AJH6LUC1UT1ON</td>\n",
       "      <td>The Phantom of the Opera</td>\n",
       "      <td>0</td>\n",
       "      <td>0</td>\n",
       "      <td>positive</td>\n",
       "      <td>946857600</td>\n",
       "      <td>FANTASTIC!</td>\n",
       "      <td>Beetlejuice is an excellent and funny movie. K...</td>\n",
       "      <td>beetlejuic excel funni movi keaton hilari wack...</td>\n",
       "      <td>fantast</td>\n",
       "    </tr>\n",
       "  </tbody>\n",
       "</table>\n",
       "</div>"
      ],
      "text/plain": [
       "            Id   ProductId          UserId               ProfileName  \\\n",
       "138706  150524  0006641040   ACITT7DI6IDDL           shari zychinski   \n",
       "138683  150501  0006641040   AJ46FKXOVC7NR        Nicholas A Mesiano   \n",
       "417839  451856  B00004CXX9   AIUWLEQ1ADEG5          Elizabeth Medina   \n",
       "417859  451878  B00004CXX9  A344SMIA5JECGM           Vincent P. Ross   \n",
       "417838  451855  B00004CXX9   AJH6LUC1UT1ON  The Phantom of the Opera   \n",
       "\n",
       "        HelpfulnessNumerator  HelpfulnessDenominator     Score       Time  \\\n",
       "138706                     0                       0  positive  939340800   \n",
       "138683                     2                       2  positive  940809600   \n",
       "417839                     0                       0  positive  944092800   \n",
       "417859                     1                       2  positive  944438400   \n",
       "417838                     0                       0  positive  946857600   \n",
       "\n",
       "                                                  Summary  \\\n",
       "138706                          EVERY book is educational   \n",
       "138683  This whole series is great way to spend time w...   \n",
       "417839                               Entertainingl Funny!   \n",
       "417859                            A modern day fairy tale   \n",
       "417838                                         FANTASTIC!   \n",
       "\n",
       "                                                     Text  \\\n",
       "138706  this witty little book makes my son laugh at l...   \n",
       "138683  I can remember seeing the show when it aired o...   \n",
       "417839  Beetlejuice is a well written movie ..... ever...   \n",
       "417859  A twist of rumplestiskin captured on film, sta...   \n",
       "417838  Beetlejuice is an excellent and funny movie. K...   \n",
       "\n",
       "                                              CleanedText  \\\n",
       "138706  witti littl book make son laugh loud recit car...   \n",
       "138683  rememb see show air televis year ago child sis...   \n",
       "417839  beetlejuic well written movi everyth excel act...   \n",
       "417859  twist rumplestiskin captur film star michael k...   \n",
       "417838  beetlejuic excel funni movi keaton hilari wack...   \n",
       "\n",
       "                               CleanedSummary  \n",
       "138706                        everi book educ  \n",
       "138683  whole seri great way spend time child  \n",
       "417839                    entertainingl funni  \n",
       "417859                  modern day fairi tale  \n",
       "417838                                fantast  "
      ]
     },
     "execution_count": 22,
     "metadata": {},
     "output_type": "execute_result"
    }
   ],
   "source": [
    "final.head(3)\n",
    "conn = sqlite3.connect('final.sqlite')\n",
    "c=conn.cursor()\n",
    "conn.text_factory = str\n",
    "final.to_sql('Reviews', conn,  schema=None, if_exists='replace', index=True, index_label=None, chunksize=None, dtype=None)\n",
    "final.head()"
   ]
  },
  {
   "cell_type": "code",
   "execution_count": 23,
   "metadata": {},
   "outputs": [],
   "source": [
    "#Saving the cleaned data for future assignments\n",
    "clean_data = open(\"clean_data_1.pickle\", \"wb\")\n",
    "pickle.dump(final, clean_data)\n",
    "clean_data.close()"
   ]
  },
  {
   "cell_type": "code",
   "execution_count": 4,
   "metadata": {},
   "outputs": [],
   "source": [
    "pickle_in = open(\"clean_data_1.pickle\", \"rb\")\n",
    "final = pickle.load(pickle_in)"
   ]
  },
  {
   "cell_type": "code",
   "execution_count": 5,
   "metadata": {},
   "outputs": [
    {
     "data": {
      "text/html": [
       "<div>\n",
       "<style scoped>\n",
       "    .dataframe tbody tr th:only-of-type {\n",
       "        vertical-align: middle;\n",
       "    }\n",
       "\n",
       "    .dataframe tbody tr th {\n",
       "        vertical-align: top;\n",
       "    }\n",
       "\n",
       "    .dataframe thead th {\n",
       "        text-align: right;\n",
       "    }\n",
       "</style>\n",
       "<table border=\"1\" class=\"dataframe\">\n",
       "  <thead>\n",
       "    <tr style=\"text-align: right;\">\n",
       "      <th></th>\n",
       "      <th>Id</th>\n",
       "      <th>ProductId</th>\n",
       "      <th>UserId</th>\n",
       "      <th>ProfileName</th>\n",
       "      <th>HelpfulnessNumerator</th>\n",
       "      <th>HelpfulnessDenominator</th>\n",
       "      <th>Score</th>\n",
       "      <th>Time</th>\n",
       "      <th>Summary</th>\n",
       "      <th>Text</th>\n",
       "      <th>CleanedText</th>\n",
       "      <th>CleanedSummary</th>\n",
       "    </tr>\n",
       "  </thead>\n",
       "  <tbody>\n",
       "    <tr>\n",
       "      <th>138706</th>\n",
       "      <td>150524</td>\n",
       "      <td>0006641040</td>\n",
       "      <td>ACITT7DI6IDDL</td>\n",
       "      <td>shari zychinski</td>\n",
       "      <td>0</td>\n",
       "      <td>0</td>\n",
       "      <td>positive</td>\n",
       "      <td>939340800</td>\n",
       "      <td>EVERY book is educational</td>\n",
       "      <td>this witty little book makes my son laugh at l...</td>\n",
       "      <td>witti littl book make son laugh loud recit car...</td>\n",
       "      <td>everi book educ</td>\n",
       "    </tr>\n",
       "    <tr>\n",
       "      <th>138683</th>\n",
       "      <td>150501</td>\n",
       "      <td>0006641040</td>\n",
       "      <td>AJ46FKXOVC7NR</td>\n",
       "      <td>Nicholas A Mesiano</td>\n",
       "      <td>2</td>\n",
       "      <td>2</td>\n",
       "      <td>positive</td>\n",
       "      <td>940809600</td>\n",
       "      <td>This whole series is great way to spend time w...</td>\n",
       "      <td>I can remember seeing the show when it aired o...</td>\n",
       "      <td>rememb see show air televis year ago child sis...</td>\n",
       "      <td>whole seri great way spend time child</td>\n",
       "    </tr>\n",
       "    <tr>\n",
       "      <th>417839</th>\n",
       "      <td>451856</td>\n",
       "      <td>B00004CXX9</td>\n",
       "      <td>AIUWLEQ1ADEG5</td>\n",
       "      <td>Elizabeth Medina</td>\n",
       "      <td>0</td>\n",
       "      <td>0</td>\n",
       "      <td>positive</td>\n",
       "      <td>944092800</td>\n",
       "      <td>Entertainingl Funny!</td>\n",
       "      <td>Beetlejuice is a well written movie ..... ever...</td>\n",
       "      <td>beetlejuic well written movi everyth excel act...</td>\n",
       "      <td>entertainingl funni</td>\n",
       "    </tr>\n",
       "    <tr>\n",
       "      <th>417859</th>\n",
       "      <td>451878</td>\n",
       "      <td>B00004CXX9</td>\n",
       "      <td>A344SMIA5JECGM</td>\n",
       "      <td>Vincent P. Ross</td>\n",
       "      <td>1</td>\n",
       "      <td>2</td>\n",
       "      <td>positive</td>\n",
       "      <td>944438400</td>\n",
       "      <td>A modern day fairy tale</td>\n",
       "      <td>A twist of rumplestiskin captured on film, sta...</td>\n",
       "      <td>twist rumplestiskin captur film star michael k...</td>\n",
       "      <td>modern day fairi tale</td>\n",
       "    </tr>\n",
       "    <tr>\n",
       "      <th>417838</th>\n",
       "      <td>451855</td>\n",
       "      <td>B00004CXX9</td>\n",
       "      <td>AJH6LUC1UT1ON</td>\n",
       "      <td>The Phantom of the Opera</td>\n",
       "      <td>0</td>\n",
       "      <td>0</td>\n",
       "      <td>positive</td>\n",
       "      <td>946857600</td>\n",
       "      <td>FANTASTIC!</td>\n",
       "      <td>Beetlejuice is an excellent and funny movie. K...</td>\n",
       "      <td>beetlejuic excel funni movi keaton hilari wack...</td>\n",
       "      <td>fantast</td>\n",
       "    </tr>\n",
       "  </tbody>\n",
       "</table>\n",
       "</div>"
      ],
      "text/plain": [
       "            Id   ProductId          UserId               ProfileName  \\\n",
       "138706  150524  0006641040   ACITT7DI6IDDL           shari zychinski   \n",
       "138683  150501  0006641040   AJ46FKXOVC7NR        Nicholas A Mesiano   \n",
       "417839  451856  B00004CXX9   AIUWLEQ1ADEG5          Elizabeth Medina   \n",
       "417859  451878  B00004CXX9  A344SMIA5JECGM           Vincent P. Ross   \n",
       "417838  451855  B00004CXX9   AJH6LUC1UT1ON  The Phantom of the Opera   \n",
       "\n",
       "        HelpfulnessNumerator  HelpfulnessDenominator     Score       Time  \\\n",
       "138706                     0                       0  positive  939340800   \n",
       "138683                     2                       2  positive  940809600   \n",
       "417839                     0                       0  positive  944092800   \n",
       "417859                     1                       2  positive  944438400   \n",
       "417838                     0                       0  positive  946857600   \n",
       "\n",
       "                                                  Summary  \\\n",
       "138706                          EVERY book is educational   \n",
       "138683  This whole series is great way to spend time w...   \n",
       "417839                               Entertainingl Funny!   \n",
       "417859                            A modern day fairy tale   \n",
       "417838                                         FANTASTIC!   \n",
       "\n",
       "                                                     Text  \\\n",
       "138706  this witty little book makes my son laugh at l...   \n",
       "138683  I can remember seeing the show when it aired o...   \n",
       "417839  Beetlejuice is a well written movie ..... ever...   \n",
       "417859  A twist of rumplestiskin captured on film, sta...   \n",
       "417838  Beetlejuice is an excellent and funny movie. K...   \n",
       "\n",
       "                                              CleanedText  \\\n",
       "138706  witti littl book make son laugh loud recit car...   \n",
       "138683  rememb see show air televis year ago child sis...   \n",
       "417839  beetlejuic well written movi everyth excel act...   \n",
       "417859  twist rumplestiskin captur film star michael k...   \n",
       "417838  beetlejuic excel funni movi keaton hilari wack...   \n",
       "\n",
       "                               CleanedSummary  \n",
       "138706                        everi book educ  \n",
       "138683  whole seri great way spend time child  \n",
       "417839                    entertainingl funni  \n",
       "417859                  modern day fairi tale  \n",
       "417838                                fantast  "
      ]
     },
     "execution_count": 5,
     "metadata": {},
     "output_type": "execute_result"
    }
   ],
   "source": [
    "final.head()"
   ]
  },
  {
   "cell_type": "code",
   "execution_count": 6,
   "metadata": {},
   "outputs": [
    {
     "data": {
      "text/plain": [
       "(100000, 12)"
      ]
     },
     "execution_count": 6,
     "metadata": {},
     "output_type": "execute_result"
    }
   ],
   "source": [
    "final.shape"
   ]
  },
  {
   "cell_type": "code",
   "execution_count": 7,
   "metadata": {},
   "outputs": [
    {
     "data": {
      "text/plain": [
       "(100000,)"
      ]
     },
     "execution_count": 7,
     "metadata": {},
     "output_type": "execute_result"
    }
   ],
   "source": [
    "scores = final['Score'].get_values()\n",
    "li = lambda x: 1 if x=='positive'  else 0\n",
    "final_scores = []\n",
    "for i in range(0,100000):\n",
    "    final_scores.append(li(scores[i]))\n",
    "final_scores = np.asarray(final_scores)\n",
    "final_scores.shape"
   ]
  },
  {
   "cell_type": "markdown",
   "metadata": {},
   "source": [
    "# Dividing the whole data into train, CV and test sets"
   ]
  },
  {
   "cell_type": "code",
   "execution_count": 8,
   "metadata": {},
   "outputs": [
    {
     "name": "stdout",
     "output_type": "stream",
     "text": [
      "(60000, 12)\n",
      "(60000,)\n"
     ]
    }
   ],
   "source": [
    "#train data\n",
    "X_train = final[0: 60000]\n",
    "Y_train = final_scores[0: 60000]\n",
    "print(X_train.shape)\n",
    "print(Y_train.shape)"
   ]
  },
  {
   "cell_type": "code",
   "execution_count": 9,
   "metadata": {},
   "outputs": [
    {
     "name": "stdout",
     "output_type": "stream",
     "text": [
      "(20000, 12)\n",
      "(20000,)\n"
     ]
    }
   ],
   "source": [
    "X_CV = final[60000: 80000]\n",
    "Y_CV = final_scores[60000: 80000]\n",
    "print(X_CV.shape)\n",
    "print(Y_CV.shape)"
   ]
  },
  {
   "cell_type": "code",
   "execution_count": 10,
   "metadata": {},
   "outputs": [
    {
     "name": "stdout",
     "output_type": "stream",
     "text": [
      "(20000, 12)\n",
      "(20000,)\n"
     ]
    }
   ],
   "source": [
    "#test data\n",
    "X_test = final[80000: ]\n",
    "Y_test = final_scores[80000: ]\n",
    "print(X_test.shape)\n",
    "print(Y_test.shape)"
   ]
  },
  {
   "cell_type": "markdown",
   "metadata": {},
   "source": [
    "# [5] Assignment 8: Decision Trees"
   ]
  },
  {
   "cell_type": "markdown",
   "metadata": {},
   "source": [
    "<ol>\n",
    "    <li><strong>Apply Decision Trees on these feature sets</strong>\n",
    "        <ul>\n",
    "            <li><font color='red'>SET 1:</font>Review text, preprocessed one converted into vectors using (BOW)</li>\n",
    "            <li><font color='red'>SET 2:</font>Review text, preprocessed one converted into vectors using (TFIDF)</li>\n",
    "            <li><font color='red'>SET 3:</font>Review text, preprocessed one converted into vectors using (AVG W2v)</li>\n",
    "            <li><font color='red'>SET 4:</font>Review text, preprocessed one converted into vectors using (TFIDF W2v)</li>\n",
    "        </ul>\n",
    "    </li>\n",
    "    <br>\n",
    "    <li><strong>The hyper paramter tuning (best `depth` in range [1, 5, 10, 50, 100, 500, 1000], and the best `min_samples_split` in range [5, 10, 100, 500])</strong>\n",
    "        <ul>\n",
    "    <li>Find the best hyper parameter which will give the maximum <a href='https://www.appliedaicourse.com/course/applied-ai-course-online/lessons/receiver-operating-characteristic-curve-roc-curve-and-auc-1/'>AUC</a> value</li>\n",
    "    <li>Find the best hyper paramter using k-fold cross validation or simple cross validation data</li>\n",
    "    <li>Use gridsearch cv or randomsearch cv or you can also write your own for loops to do this task of hyperparameter tuning</li>          \n",
    "        </ul>\n",
    "    </li>\n",
    "    <br>\n",
    "    <li><strong>Graphviz</strong>\n",
    "        <ul>\n",
    "    <li>Visualize your decision tree with Graphviz. It helps you to understand how a decision is being made, given a new vector.</li>\n",
    "    <li>Since feature names are not obtained from word2vec related models, visualize only BOW & TFIDF decision trees using Graphviz</li>\n",
    "    <li>Make sure to print the words in each node of the decision tree instead of printing its index.</li>\n",
    "    <li>Just for visualization purpose, limit max_depth to 2 or 3 and either embed the generated images of graphviz in your notebook, or directly upload them as .png files.</li>                \n",
    "        </ul>\n",
    "    </li>\n",
    "    <br>\n",
    "    <li><strong>Feature importance</strong>\n",
    "        <ul>\n",
    "    <li>Find the top 20 important features from both feature sets <font color='red'>Set 1</font> and <font color='red'>Set 2</font> using `feature_importances_` method of <a href='https://scikit-learn.org/stable/modules/generated/sklearn.tree.DecisionTreeClassifier.html'>Decision Tree Classifier</a> and print their corresponding feature names</li>\n",
    "        </ul>\n",
    "    </li>\n",
    "    <br>\n",
    "    <li><strong>Feature engineering</strong>\n",
    "        <ul>\n",
    "    <li>To increase the performance of your model, you can also experiment with with feature engineering like :</li>\n",
    "            <ul>\n",
    "            <li>Taking length of reviews as another feature.</li>\n",
    "            <li>Considering some features from review summary as well.</li>\n",
    "        </ul>\n",
    "        </ul>\n",
    "    </li>\n",
    "    <br>\n",
    "    <li><strong>Representation of results</strong>\n",
    "        <ul>\n",
    "    <li>You need to plot the performance of model both on train data and cross validation data for each hyper parameter, like shown in the figure.\n",
    "    <img src='train_cv_auc.JPG' width=300px></li>\n",
    "    <li>Once after you found the best hyper parameter, you need to train your model with it, and find the AUC on test data and plot the ROC curve on both train and test.\n",
    "    <img src='train_test_auc.JPG' width=300px></li>\n",
    "    <li>Along with plotting ROC curve, you need to print the <a href='https://www.appliedaicourse.com/course/applied-ai-course-online/lessons/confusion-matrix-tpr-fpr-fnr-tnr-1/'>confusion matrix</a> with predicted and original labels of test data points. Please visualize your confusion matrices using <a href='https://seaborn.pydata.org/generated/seaborn.heatmap.html'>seaborn heatmaps.\n",
    "    <img src='confusion_matrix.png' width=300px></li>\n",
    "        </ul>\n",
    "    </li>\n",
    "    <br>\n",
    "    <li><strong>Conclusion</strong>\n",
    "        <ul>\n",
    "    <li>You need to summarize the results at the end of the notebook, summarize it in the table format. To print out a table please refer to this prettytable library<a href='http://zetcode.com/python/prettytable/'>  link</a> \n",
    "        <img src='summary.JPG' width=400px>\n",
    "    </li>\n",
    "        </ul>\n",
    "</ol>"
   ]
  },
  {
   "cell_type": "markdown",
   "metadata": {},
   "source": [
    "<h4><font color='red'>Note: Data Leakage</font></h4>\n",
    "\n",
    "1. There will be an issue of data-leakage if you vectorize the entire data and then split it into train/cv/test.\n",
    "2. To avoid the issue of data-leakag, make sure to split your data first and then vectorize it. \n",
    "3. While vectorizing your data, apply the method fit_transform() on you train data, and apply the method transform() on cv/test data.\n",
    "4. For more details please go through this <a href='https://soundcloud.com/applied-ai-course/leakage-bow-and-tfidf'>link.</a>"
   ]
  },
  {
   "cell_type": "markdown",
   "metadata": {},
   "source": [
    "# BOW"
   ]
  },
  {
   "cell_type": "code",
   "execution_count": 9,
   "metadata": {},
   "outputs": [
    {
     "data": {
      "text/plain": [
       "(60000, 6691)"
      ]
     },
     "execution_count": 9,
     "metadata": {},
     "output_type": "execute_result"
    }
   ],
   "source": [
    "count_vect = CountVectorizer(min_df=10)\n",
    "X_train_bow = count_vect.fit_transform(X_train['CleanedText'].values)\n",
    "X_train_bow.shape"
   ]
  },
  {
   "cell_type": "code",
   "execution_count": 10,
   "metadata": {},
   "outputs": [
    {
     "data": {
      "text/plain": [
       "(20000, 6691)"
      ]
     },
     "execution_count": 10,
     "metadata": {},
     "output_type": "execute_result"
    }
   ],
   "source": [
    "X_CV_bow = count_vect.transform(X_CV['CleanedText'].values)\n",
    "X_CV_bow.shape"
   ]
  },
  {
   "cell_type": "code",
   "execution_count": 11,
   "metadata": {},
   "outputs": [
    {
     "data": {
      "text/plain": [
       "(20000, 6691)"
      ]
     },
     "execution_count": 11,
     "metadata": {},
     "output_type": "execute_result"
    }
   ],
   "source": [
    "X_test_bow = count_vect.transform(X_test['CleanedText'].values)\n",
    "X_test_bow.shape"
   ]
  },
  {
   "cell_type": "markdown",
   "metadata": {},
   "source": [
    "## Decision tree implementation on BOW"
   ]
  },
  {
   "cell_type": "code",
   "execution_count": 12,
   "metadata": {},
   "outputs": [
    {
     "name": "stdout",
     "output_type": "stream",
     "text": [
      "DecisionTreeClassifier(class_weight='balanced', criterion='gini',\n",
      "            max_depth=1000, max_features=None, max_leaf_nodes=None,\n",
      "            min_impurity_decrease=0.0, min_impurity_split=None,\n",
      "            min_samples_leaf=1, min_samples_split=5,\n",
      "            min_weight_fraction_leaf=0.0, presort=False, random_state=None,\n",
      "            splitter='best')\n"
     ]
    }
   ],
   "source": [
    "tuned_parameters = {'max_depth':[1, 5, 10, 50, 100, 500, 1000], 'min_samples_split':[5, 10, 100, 500]}\n",
    "\n",
    "\n",
    "DT_model = DecisionTreeClassifier(class_weight='balanced')\n",
    "model = GridSearchCV(DT_model,tuned_parameters,\n",
    "                     scoring='f1',cv=2,n_jobs=-1)\n",
    "\n",
    "model.fit(X_train_bow, Y_train)\n",
    "\n",
    "print(model.best_estimator_)"
   ]
  },
  {
   "cell_type": "markdown",
   "metadata": {},
   "source": [
    "## From the above results it can be seen that optimal depth is 1000 and optimal min_samples_split is 5 now getting the train scores and CV scores for different values of depth and min_samples_split."
   ]
  },
  {
   "cell_type": "code",
   "execution_count": 14,
   "metadata": {},
   "outputs": [],
   "source": [
    "def scores_for_depth(X, Y):\n",
    "    max_depths = [1, 5, 10, 50, 100, 500, 1000]\n",
    "    scores =[]\n",
    "    for max_depth in tqdm(max_depths):\n",
    "            clf = DecisionTreeClassifier(criterion='gini', max_depth=max_depth)\n",
    "            clf.fit(X_train_bow, Y_train)\n",
    "            pred = clf.predict_proba(X)[:, 1]\n",
    "            auc = roc_auc_score(Y, pred)\n",
    "            scores.append(auc)\n",
    "    return scores"
   ]
  },
  {
   "cell_type": "code",
   "execution_count": 15,
   "metadata": {},
   "outputs": [
    {
     "name": "stderr",
     "output_type": "stream",
     "text": [
      "100%|██████████| 7/7 [01:03<00:00,  9.09s/it]\n"
     ]
    }
   ],
   "source": [
    "CV_scores_depth = scores_for_depth(X_CV_bow, Y_CV)"
   ]
  },
  {
   "cell_type": "code",
   "execution_count": 16,
   "metadata": {},
   "outputs": [
    {
     "name": "stderr",
     "output_type": "stream",
     "text": [
      "100%|██████████| 7/7 [01:03<00:00,  9.04s/it]\n"
     ]
    }
   ],
   "source": [
    "train_scores_depth = scores_for_depth(X_train_bow, Y_train)"
   ]
  },
  {
   "cell_type": "code",
   "execution_count": 17,
   "metadata": {},
   "outputs": [
    {
     "data": {
      "image/png": "[encoded data removed]",
      "text/plain": [
       "<matplotlib.figure.Figure at 0x7fb2783777f0>"
      ]
     },
     "metadata": {},
     "output_type": "display_data"
    }
   ],
   "source": [
    "max_depths = [1, 5, 10, 50, 100, 500, 1000]\n",
    "plt.plot(max_depths, CV_scores_depth, label='CV_score')\n",
    "plt.plot(max_depths, train_scores_depth, label='train_score')\n",
    "plt.title('train VS CV for max_depth')\n",
    "plt.ylabel('auc score')\n",
    "plt.xlabel('max depth')\n",
    "plt.legend()\n",
    "plt.show()"
   ]
  },
  {
   "cell_type": "code",
   "execution_count": 18,
   "metadata": {},
   "outputs": [
    {
     "data": {
      "image/png": "[encoded data removed]",
      "text/plain": [
       "<matplotlib.figure.Figure at 0x7fb27819ea58>"
      ]
     },
     "metadata": {},
     "output_type": "display_data"
    },
    {
     "name": "stdout",
     "output_type": "stream",
     "text": [
      "The auc score for each max_depth value for cross validation is :  [0.551 0.67  0.746 0.737 0.731 0.755 0.756]\n"
     ]
    }
   ],
   "source": [
    "plt.plot(max_depths, CV_scores_depth)\n",
    "\n",
    "plt.title('plot for cv scores according to max_depth')\n",
    "for xy in zip(np.round(max_depths, 2), np.round(CV_scores_depth,3)):\n",
    "    plt.annotate('(%s, %s)' % xy, xy=xy, textcoords='data')\n",
    "plt.xlabel('max_depth')\n",
    "plt.ylabel('auc scores for cross validation')\n",
    "plt.show()\n",
    "\n",
    "print(\"The auc score for each max_depth value for cross validation is : \", np.round(CV_scores_depth,3))"
   ]
  },
  {
   "cell_type": "code",
   "execution_count": 19,
   "metadata": {},
   "outputs": [
    {
     "data": {
      "image/png": "[encoded data removed]",
      "text/plain": [
       "<matplotlib.figure.Figure at 0x7fb27817bf98>"
      ]
     },
     "metadata": {},
     "output_type": "display_data"
    },
    {
     "name": "stdout",
     "output_type": "stream",
     "text": [
      "The auc score for each max_depth value for train data is :  [0.545 0.665 0.764 0.936 0.961 0.968 0.968]\n"
     ]
    }
   ],
   "source": [
    "plt.plot(max_depths, train_scores_depth)\n",
    "\n",
    "plt.title('plot for train scores according to max_depth')\n",
    "for xy in zip(np.round(max_depths, 2), np.round(train_scores_depth,3)):\n",
    "    plt.annotate('(%s, %s)' % xy, xy=xy, textcoords='data')\n",
    "plt.xlabel('max_depth')\n",
    "plt.ylabel('auc scores for train scores')\n",
    "plt.show()\n",
    "\n",
    "print(\"The auc score for each max_depth value for train data is : \", np.round(train_scores_depth,3))"
   ]
  },
  {
   "cell_type": "code",
   "execution_count": 20,
   "metadata": {},
   "outputs": [],
   "source": [
    "def scores_for_splits(X, Y):\n",
    "    min_samples_splits=[5, 10, 100, 500]\n",
    "    scores =[]\n",
    "    for min_samples_split in tqdm(min_samples_splits):\n",
    "            clf = DecisionTreeClassifier(criterion='gini', max_depth=1000, min_samples_split=min_samples_split)\n",
    "            clf.fit(X_train_bow, Y_train)\n",
    "            pred = clf.predict_proba(X)[:, 1]\n",
    "            auc = roc_auc_score(Y, pred)\n",
    "            scores.append(auc)\n",
    "    return scores"
   ]
  },
  {
   "cell_type": "code",
   "execution_count": 21,
   "metadata": {},
   "outputs": [
    {
     "name": "stderr",
     "output_type": "stream",
     "text": [
      "100%|██████████| 4/4 [01:04<00:00, 16.21s/it]\n"
     ]
    }
   ],
   "source": [
    "CV_scores_splits = scores_for_splits(X_CV_bow, Y_CV)"
   ]
  },
  {
   "cell_type": "code",
   "execution_count": 22,
   "metadata": {},
   "outputs": [
    {
     "name": "stderr",
     "output_type": "stream",
     "text": [
      "100%|██████████| 4/4 [01:01<00:00, 15.39s/it]\n"
     ]
    }
   ],
   "source": [
    "train_scores_splits = scores_for_splits(X_train_bow, Y_train)"
   ]
  },
  {
   "cell_type": "code",
   "execution_count": 23,
   "metadata": {},
   "outputs": [
    {
     "data": {
      "image/png": "[encoded data removed]",
      "text/plain": [
       "<matplotlib.figure.Figure at 0x7fb27817b9b0>"
      ]
     },
     "metadata": {},
     "output_type": "display_data"
    }
   ],
   "source": [
    "min_samples_splits=[5, 10, 100, 500]\n",
    "plt.plot(min_samples_splits, CV_scores_splits, label='CV_score')\n",
    "plt.plot(min_samples_splits, train_scores_splits, label='train_score')\n",
    "plt.title('train VS CV for min_samples_split')\n",
    "plt.ylabel('auc score')\n",
    "plt.xlabel('min_samples_split')\n",
    "plt.legend()\n",
    "plt.show()"
   ]
  },
  {
   "cell_type": "code",
   "execution_count": 24,
   "metadata": {},
   "outputs": [
    {
     "data": {
      "image/png": "[encoded data removed]",
      "text/plain": [
       "<matplotlib.figure.Figure at 0x7fb278377b38>"
      ]
     },
     "metadata": {},
     "output_type": "display_data"
    },
    {
     "name": "stdout",
     "output_type": "stream",
     "text": [
      "The auc score for each min_samples_split  value for cv data is :  [0.67  0.672 0.663 0.659]\n"
     ]
    }
   ],
   "source": [
    "plt.plot(min_samples_splits, CV_scores_splits)\n",
    "\n",
    "plt.title('plot for cv scores according to min_samples_split ')\n",
    "for xy in zip(np.round(min_samples_splits, 2), np.round(CV_scores_splits,3)):\n",
    "    plt.annotate('(%s, %s)' % xy, xy=xy, textcoords='data')\n",
    "plt.xlabel('min_samples_split ')\n",
    "plt.ylabel('auc scores for cv scores')\n",
    "plt.show()\n",
    "\n",
    "print(\"The auc score for each min_samples_split  value for cv data is : \", np.round(CV_scores_splits,3))"
   ]
  },
  {
   "cell_type": "code",
   "execution_count": 25,
   "metadata": {},
   "outputs": [
    {
     "data": {
      "image/png": "[encoded data removed]",
      "text/plain": [
       "<matplotlib.figure.Figure at 0x7fb2780da160>"
      ]
     },
     "metadata": {},
     "output_type": "display_data"
    },
    {
     "name": "stdout",
     "output_type": "stream",
     "text": [
      "The auc score for each min_samples_split  value for train data is :  [0.797 0.796 0.735 0.687]\n"
     ]
    }
   ],
   "source": [
    "plt.plot(min_samples_splits, train_scores_splits)\n",
    "\n",
    "plt.title('plot for train scores according to min_samples_split ')\n",
    "for xy in zip(np.round(min_samples_splits, 2), np.round(train_scores_splits,3)):\n",
    "    plt.annotate('(%s, %s)' % xy, xy=xy, textcoords='data')\n",
    "plt.xlabel('min_samples_split ')\n",
    "plt.ylabel('auc scores for train scores')\n",
    "plt.show()\n",
    "\n",
    "print(\"The auc score for each min_samples_split  value for train data is : \", np.round(train_scores_splits,3))"
   ]
  },
  {
   "cell_type": "markdown",
   "metadata": {},
   "source": [
    "## Getting the test data scores"
   ]
  },
  {
   "cell_type": "code",
   "execution_count": 31,
   "metadata": {},
   "outputs": [],
   "source": [
    "DT_optimal = DecisionTreeClassifier(criterion='gini', max_depth=1000, min_samples_split=5)\n",
    "\n",
    "# fitting the model\n",
    "DT_optimal.fit(X_train_bow, Y_train)\n",
    "\n",
    "# predict the response\n",
    "pred = DT_optimal.predict_proba(X_test_bow)[:, 1]\n",
    "\n",
    "# evaluate auc_score\n",
    "auc_score = roc_auc_score(Y_test, pred)"
   ]
  },
  {
   "cell_type": "code",
   "execution_count": 32,
   "metadata": {},
   "outputs": [
    {
     "name": "stdout",
     "output_type": "stream",
     "text": [
      "\n",
      "The auc score for test data for max_depth = 1000 and min_samples_split = 5 is 0.666607\n"
     ]
    }
   ],
   "source": [
    "print('\\nThe auc score for test data for max_depth = {} and min_samples_split = {} is {:2f}'.format(1000, 5, auc_score))"
   ]
  },
  {
   "cell_type": "code",
   "execution_count": 33,
   "metadata": {},
   "outputs": [
    {
     "data": {
      "text/plain": [
       "array([[ 1105,  1575],\n",
       "       [ 1370, 15950]])"
      ]
     },
     "execution_count": 33,
     "metadata": {},
     "output_type": "execute_result"
    }
   ],
   "source": [
    "conf_matrix = confusion_matrix(Y_test, pred)\n",
    "conf_matrix"
   ]
  },
  {
   "cell_type": "code",
   "execution_count": 34,
   "metadata": {},
   "outputs": [
    {
     "data": {
      "image/png": "[encoded data removed]",
      "text/plain": [
       "<matplotlib.figure.Figure at 0x7fb276fe95c0>"
      ]
     },
     "metadata": {},
     "output_type": "display_data"
    }
   ],
   "source": [
    "df_cm = pd.DataFrame(conf_matrix, range(2),\n",
    "                  range(2))\n",
    "#plt.figure(figsize = (10,7))\n",
    "sns.set(font_scale=1.4)#for label size\n",
    "sns.heatmap(df_cm, annot=True, fmt=\"d\",cmap=\"YlGnBu\")\n",
    "plt.xlabel('predicted lables')\n",
    "plt.ylabel('actual lables')\n",
    "plt.show()"
   ]
  },
  {
   "cell_type": "code",
   "execution_count": 30,
   "metadata": {},
   "outputs": [
    {
     "name": "stdout",
     "output_type": "stream",
     "text": [
      "             precision    recall  f1-score   support\n",
      "\n",
      "          0       0.50      0.40      0.44      2680\n",
      "          1       0.91      0.94      0.92     17320\n",
      "\n",
      "avg / total       0.86      0.87      0.86     20000\n",
      "\n"
     ]
    }
   ],
   "source": [
    "print(classification_report(Y_test, pred))"
   ]
  },
  {
   "cell_type": "markdown",
   "metadata": {},
   "source": [
    "## Top 20 features"
   ]
  },
  {
   "cell_type": "code",
   "execution_count": 35,
   "metadata": {},
   "outputs": [],
   "source": [
    "def show_most_informative_features(vectorizer, clf, n=20):\n",
    "    feature_names = vectorizer.get_feature_names()\n",
    "    coefs_with_fns = sorted(zip(clf.feature_importances_, feature_names))\n",
    "    top = coefs_with_fns[:-(n + 1):-1]\n",
    "    print(\"Top 20 Features:\")\n",
    "    for (coef_1, fn_1) in top:\n",
    "        print(\"\")\n",
    "        print(\"%-15s\" % (fn_1))"
   ]
  },
  {
   "cell_type": "code",
   "execution_count": 36,
   "metadata": {},
   "outputs": [
    {
     "name": "stdout",
     "output_type": "stream",
     "text": [
      "Top 20 Features:\n",
      "\n",
      "disappoint     \n",
      "\n",
      "great          \n",
      "\n",
      "worst          \n",
      "\n",
      "best           \n",
      "\n",
      "money          \n",
      "\n",
      "horribl        \n",
      "\n",
      "terribl        \n",
      "\n",
      "love           \n",
      "\n",
      "return         \n",
      "\n",
      "delici         \n",
      "\n",
      "bad            \n",
      "\n",
      "wast           \n",
      "\n",
      "good           \n",
      "\n",
      "aw             \n",
      "\n",
      "refund         \n",
      "\n",
      "threw          \n",
      "\n",
      "wont           \n",
      "\n",
      "unfortun       \n",
      "\n",
      "would          \n",
      "\n",
      "product        \n"
     ]
    }
   ],
   "source": [
    "show_most_informative_features(count_vect, DT_optimal)"
   ]
  },
  {
   "cell_type": "markdown",
   "metadata": {},
   "source": [
    "## Visualization of the tree"
   ]
  },
  {
   "cell_type": "code",
   "execution_count": 38,
   "metadata": {},
   "outputs": [
    {
     "data": {
      "text/plain": [
       "DecisionTreeClassifier(class_weight=None, criterion='gini', max_depth=5,\n",
       "            max_features=None, max_leaf_nodes=None,\n",
       "            min_impurity_decrease=0.0, min_impurity_split=None,\n",
       "            min_samples_leaf=1, min_samples_split=5,\n",
       "            min_weight_fraction_leaf=0.0, presort=False, random_state=None,\n",
       "            splitter='best')"
      ]
     },
     "execution_count": 38,
     "metadata": {},
     "output_type": "execute_result"
    }
   ],
   "source": [
    "# For visualization.\n",
    "DT_optimal_for_viz = DecisionTreeClassifier(criterion='gini', max_depth=5, min_samples_split=5)\n",
    "DT_optimal_for_viz.fit(X_test_bow, Y_test)"
   ]
  },
  {
   "cell_type": "code",
   "execution_count": 39,
   "metadata": {},
   "outputs": [
    {
     "data": {
      "text/plain": [
       "True"
      ]
     },
     "execution_count": 39,
     "metadata": {},
     "output_type": "execute_result"
    }
   ],
   "source": [
    "dot_data = tree.export_graphviz(DT_optimal_for_viz,\n",
    "                                feature_names=count_vect.get_feature_names(),\n",
    "                                out_file=None,\n",
    "                                filled=True,\n",
    "                                rounded=True)\n",
    "graph = pydotplus.graph_from_dot_data(dot_data)\n",
    "\n",
    "colors = ('turquoise', 'orange')\n",
    "edges = collections.defaultdict(list)\n",
    "\n",
    "for edge in graph.get_edge_list():\n",
    "    edges[edge.get_source()].append(int(edge.get_destination()))\n",
    "\n",
    "for edge in edges:\n",
    "    edges[edge].sort()    \n",
    "    for i in range(2):\n",
    "        dest = graph.get_node(str(edges[edge][i]))[0]\n",
    "        dest.set_fillcolor(colors[i])\n",
    "\n",
    "graph.write_png('bow.png')"
   ]
  },
  {
   "cell_type": "markdown",
   "metadata": {},
   "source": [
    "# TF-IDF"
   ]
  },
  {
   "cell_type": "code",
   "execution_count": 11,
   "metadata": {},
   "outputs": [
    {
     "data": {
      "text/plain": [
       "(60000, 6691)"
      ]
     },
     "execution_count": 11,
     "metadata": {},
     "output_type": "execute_result"
    }
   ],
   "source": [
    "tf_idf_vect = TfidfVectorizer(min_df=10)\n",
    "X_train_tfidf = tf_idf_vect.fit_transform(X_train['CleanedText'].values)\n",
    "X_train_tfidf.shape"
   ]
  },
  {
   "cell_type": "code",
   "execution_count": 12,
   "metadata": {},
   "outputs": [
    {
     "data": {
      "text/plain": [
       "(20000, 6691)"
      ]
     },
     "execution_count": 12,
     "metadata": {},
     "output_type": "execute_result"
    }
   ],
   "source": [
    "X_CV_tfidf = tf_idf_vect.transform(X_CV['CleanedText'].values)\n",
    "X_CV_tfidf.shape"
   ]
  },
  {
   "cell_type": "code",
   "execution_count": 13,
   "metadata": {},
   "outputs": [
    {
     "data": {
      "text/plain": [
       "(20000, 6691)"
      ]
     },
     "execution_count": 13,
     "metadata": {},
     "output_type": "execute_result"
    }
   ],
   "source": [
    "X_test_tfidf = tf_idf_vect.transform(X_test['CleanedText'].values)\n",
    "X_test_tfidf.shape"
   ]
  },
  {
   "cell_type": "markdown",
   "metadata": {},
   "source": [
    "## Decision Trees on TF-IDF"
   ]
  },
  {
   "cell_type": "code",
   "execution_count": 14,
   "metadata": {},
   "outputs": [
    {
     "name": "stdout",
     "output_type": "stream",
     "text": [
      "DecisionTreeClassifier(class_weight='balanced', criterion='gini',\n",
      "            max_depth=500, max_features=None, max_leaf_nodes=None,\n",
      "            min_impurity_decrease=0.0, min_impurity_split=None,\n",
      "            min_samples_leaf=1, min_samples_split=5,\n",
      "            min_weight_fraction_leaf=0.0, presort=False, random_state=None,\n",
      "            splitter='best')\n"
     ]
    }
   ],
   "source": [
    "tuned_parameters = {'max_depth':[1, 5, 10, 50, 100, 500, 1000], 'min_samples_split':[5, 10, 100, 500]}\n",
    "\n",
    "\n",
    "DT_model = DecisionTreeClassifier(class_weight='balanced')\n",
    "model = GridSearchCV(DT_model,tuned_parameters,\n",
    "                     scoring='f1',cv=2,n_jobs=-1)\n",
    "\n",
    "model.fit(X_train_tfidf, Y_train)\n",
    "\n",
    "print(model.best_estimator_)"
   ]
  },
  {
   "cell_type": "markdown",
   "metadata": {},
   "source": [
    "## From the above results it can be seen that optimal depth is 500 and optimal min_samples_split is 5 now getting the train scores and CV scores for different values of depth and min_samples_split.¶"
   ]
  },
  {
   "cell_type": "code",
   "execution_count": 17,
   "metadata": {},
   "outputs": [],
   "source": [
    "def scores_for_depth(X, Y):\n",
    "    max_depths = [1, 5, 10, 50, 100, 500, 1000]\n",
    "    scores =[]\n",
    "    for max_depth in tqdm(max_depths):\n",
    "            clf = DecisionTreeClassifier(criterion='gini', max_depth=max_depth, min_samples_split=5)\n",
    "            clf.fit(X_train_tfidf, Y_train)\n",
    "            pred = clf.predict_proba(X)[:, 1]\n",
    "            auc = roc_auc_score(Y, pred)\n",
    "            scores.append(auc)\n",
    "    return scores"
   ]
  },
  {
   "cell_type": "code",
   "execution_count": 18,
   "metadata": {},
   "outputs": [
    {
     "name": "stderr",
     "output_type": "stream",
     "text": [
      "100%|██████████| 7/7 [02:10<00:00, 18.70s/it]\n"
     ]
    }
   ],
   "source": [
    "CV_scores_depth = scores_for_depth(X_CV_tfidf, Y_CV)"
   ]
  },
  {
   "cell_type": "code",
   "execution_count": 19,
   "metadata": {},
   "outputs": [
    {
     "name": "stderr",
     "output_type": "stream",
     "text": [
      "100%|██████████| 7/7 [02:05<00:00, 17.99s/it]\n"
     ]
    }
   ],
   "source": [
    "train_scores_depth = scores_for_depth(X_train_tfidf, Y_train)"
   ]
  },
  {
   "cell_type": "code",
   "execution_count": 20,
   "metadata": {},
   "outputs": [
    {
     "data": {
      "image/png": "[encoded data removed]",
      "text/plain": [
       "<matplotlib.figure.Figure at 0x7fdfda1364e0>"
      ]
     },
     "metadata": {},
     "output_type": "display_data"
    }
   ],
   "source": [
    "max_depths = [1, 5, 10, 50, 100, 500, 1000]\n",
    "plt.plot(max_depths, CV_scores_depth, label='CV_score')\n",
    "plt.plot(max_depths, train_scores_depth, label='train_score')\n",
    "plt.title('train VS CV for max_depth')\n",
    "plt.ylabel('auc score')\n",
    "plt.xlabel('max depth')\n",
    "plt.legend()\n",
    "plt.show()"
   ]
  },
  {
   "cell_type": "code",
   "execution_count": 21,
   "metadata": {},
   "outputs": [
    {
     "data": {
      "image/png": "[encoded data removed]",
      "text/plain": [
       "<matplotlib.figure.Figure at 0x7fdfc55ab208>"
      ]
     },
     "metadata": {},
     "output_type": "display_data"
    },
    {
     "name": "stdout",
     "output_type": "stream",
     "text": [
      "The auc score for each max_depth value for cross validation is :  [0.55  0.671 0.734 0.689 0.62  0.673 0.668]\n"
     ]
    }
   ],
   "source": [
    "plt.plot(max_depths, CV_scores_depth)\n",
    "\n",
    "plt.title('plot for cv scores according to max_depth')\n",
    "for xy in zip(np.round(max_depths, 2), np.round(CV_scores_depth,3)):\n",
    "    plt.annotate('(%s, %s)' % xy, xy=xy, textcoords='data')\n",
    "plt.xlabel('max_depth')\n",
    "plt.ylabel('auc scores for cross validation')\n",
    "plt.show()\n",
    "\n",
    "print(\"The auc score for each max_depth value for cross validation is : \", np.round(CV_scores_depth,3))"
   ]
  },
  {
   "cell_type": "code",
   "execution_count": 22,
   "metadata": {},
   "outputs": [
    {
     "data": {
      "image/png": "[encoded data removed]",
      "text/plain": [
       "<matplotlib.figure.Figure at 0x7fdfd420c048>"
      ]
     },
     "metadata": {},
     "output_type": "display_data"
    },
    {
     "name": "stdout",
     "output_type": "stream",
     "text": [
      "The auc score for each max_depth value for train data is :  [0.544 0.669 0.762 0.942 0.978 1.    1.   ]\n"
     ]
    }
   ],
   "source": [
    "plt.plot(max_depths, train_scores_depth)\n",
    "\n",
    "plt.title('plot for train scores according to max_depth')\n",
    "for xy in zip(np.round(max_depths, 2), np.round(train_scores_depth,3)):\n",
    "    plt.annotate('(%s, %s)' % xy, xy=xy, textcoords='data')\n",
    "plt.xlabel('max_depth')\n",
    "plt.ylabel('auc scores for train scores')\n",
    "plt.show()\n",
    "\n",
    "print(\"The auc score for each max_depth value for train data is : \", np.round(train_scores_depth,3))"
   ]
  },
  {
   "cell_type": "code",
   "execution_count": 23,
   "metadata": {},
   "outputs": [],
   "source": [
    "def scores_for_splits(X, Y):\n",
    "    min_samples_splits=[5, 10, 100, 500]\n",
    "    scores =[]\n",
    "    for min_samples_split in tqdm(min_samples_splits):\n",
    "            clf = DecisionTreeClassifier(criterion='gini', max_depth=500, min_samples_split=min_samples_split)\n",
    "            clf.fit(X_train_tfidf, Y_train)\n",
    "            pred = clf.predict_proba(X)[:, 1]\n",
    "            auc = roc_auc_score(Y, pred)\n",
    "            scores.append(auc)\n",
    "    return scores"
   ]
  },
  {
   "cell_type": "code",
   "execution_count": 24,
   "metadata": {},
   "outputs": [
    {
     "name": "stderr",
     "output_type": "stream",
     "text": [
      "100%|██████████| 4/4 [02:39<00:00, 39.87s/it]\n"
     ]
    }
   ],
   "source": [
    "CV_scores_splits = scores_for_splits(X_CV_tfidf, Y_CV)"
   ]
  },
  {
   "cell_type": "code",
   "execution_count": 25,
   "metadata": {},
   "outputs": [
    {
     "name": "stderr",
     "output_type": "stream",
     "text": [
      "100%|██████████| 4/4 [02:35<00:00, 38.91s/it]\n"
     ]
    }
   ],
   "source": [
    "train_scores_splits = scores_for_splits(X_train_tfidf, Y_train)"
   ]
  },
  {
   "cell_type": "code",
   "execution_count": 26,
   "metadata": {},
   "outputs": [
    {
     "data": {
      "image/png": "[encoded data removed]",
      "text/plain": [
       "<matplotlib.figure.Figure at 0x7fdfd8bfe518>"
      ]
     },
     "metadata": {},
     "output_type": "display_data"
    }
   ],
   "source": [
    "min_samples_splits=[5, 10, 100, 500]\n",
    "plt.plot(min_samples_splits, CV_scores_splits, label='CV_score')\n",
    "plt.plot(min_samples_splits, train_scores_splits, label='train_score')\n",
    "plt.title('train VS CV for min_samples_split')\n",
    "plt.ylabel('auc score')\n",
    "plt.xlabel('min_samples_split')\n",
    "plt.legend()\n",
    "plt.show()"
   ]
  },
  {
   "cell_type": "code",
   "execution_count": 27,
   "metadata": {},
   "outputs": [
    {
     "data": {
      "image/png": "[encoded data removed]",
      "text/plain": [
       "<matplotlib.figure.Figure at 0x7fdfd6f6c550>"
      ]
     },
     "metadata": {},
     "output_type": "display_data"
    },
    {
     "name": "stdout",
     "output_type": "stream",
     "text": [
      "The auc score for each min_samples_split  value for cv data is :  [0.669 0.679 0.731 0.772]\n"
     ]
    }
   ],
   "source": [
    "plt.plot(min_samples_splits, CV_scores_splits)\n",
    "\n",
    "plt.title('plot for cv scores according to min_samples_split ')\n",
    "for xy in zip(np.round(min_samples_splits, 2), np.round(CV_scores_splits,3)):\n",
    "    plt.annotate('(%s, %s)' % xy, xy=xy, textcoords='data')\n",
    "plt.xlabel('min_samples_split ')\n",
    "plt.ylabel('auc scores for cv scores')\n",
    "plt.show()\n",
    "\n",
    "print(\"The auc score for each min_samples_split  value for cv data is : \", np.round(CV_scores_splits,3))"
   ]
  },
  {
   "cell_type": "code",
   "execution_count": 28,
   "metadata": {},
   "outputs": [
    {
     "data": {
      "image/png": "[encoded data removed]",
      "text/plain": [
       "<matplotlib.figure.Figure at 0x7fdfd2dceeb8>"
      ]
     },
     "metadata": {},
     "output_type": "display_data"
    },
    {
     "name": "stdout",
     "output_type": "stream",
     "text": [
      "The auc score for each min_samples_split  value for train data is :  [1.    0.998 0.988 0.968]\n"
     ]
    }
   ],
   "source": [
    "plt.plot(min_samples_splits, train_scores_splits)\n",
    "\n",
    "plt.title('plot for train scores according to min_samples_split ')\n",
    "for xy in zip(np.round(min_samples_splits, 2), np.round(train_scores_splits,3)):\n",
    "    plt.annotate('(%s, %s)' % xy, xy=xy, textcoords='data')\n",
    "plt.xlabel('min_samples_split ')\n",
    "plt.ylabel('auc scores for train scores')\n",
    "plt.show()\n",
    "\n",
    "print(\"The auc score for each min_samples_split  value for train data is : \", np.round(train_scores_splits,3))"
   ]
  },
  {
   "cell_type": "markdown",
   "metadata": {},
   "source": [
    "## Getting the test data scores"
   ]
  },
  {
   "cell_type": "code",
   "execution_count": 29,
   "metadata": {},
   "outputs": [],
   "source": [
    "DT_optimal = DecisionTreeClassifier(criterion='gini', max_depth=500, min_samples_split=5)\n",
    "\n",
    "# fitting the model\n",
    "DT_optimal.fit(X_train_tfidf, Y_train)\n",
    "\n",
    "# predict the response\n",
    "pred = DT_optimal.predict_proba(X_test_tfidf)[:, 1]\n",
    "\n",
    "# evaluate auc_score\n",
    "auc_score = roc_auc_score(Y_test, pred)"
   ]
  },
  {
   "cell_type": "code",
   "execution_count": 30,
   "metadata": {},
   "outputs": [
    {
     "name": "stdout",
     "output_type": "stream",
     "text": [
      "\n",
      "The auc score for test data for max_depth = 500 and min_samples_split = 5 is 0.661930\n"
     ]
    }
   ],
   "source": [
    "print('\\nThe auc score for test data for max_depth = {} and min_samples_split = {} is {:2f}'.format(500, 5, auc_score))"
   ]
  },
  {
   "cell_type": "code",
   "execution_count": 31,
   "metadata": {},
   "outputs": [
    {
     "data": {
      "text/plain": [
       "array([[ 1079,  1601],\n",
       "       [ 1364, 15956]])"
      ]
     },
     "execution_count": 31,
     "metadata": {},
     "output_type": "execute_result"
    }
   ],
   "source": [
    "conf_matrix = confusion_matrix(Y_test, pred)\n",
    "conf_matrix"
   ]
  },
  {
   "cell_type": "code",
   "execution_count": 32,
   "metadata": {},
   "outputs": [
    {
     "data": {
      "image/png": "[encoded data removed]",
      "text/plain": [
       "<matplotlib.figure.Figure at 0x7fdfd06b7550>"
      ]
     },
     "metadata": {},
     "output_type": "display_data"
    }
   ],
   "source": [
    "df_cm = pd.DataFrame(conf_matrix, range(2),\n",
    "                  range(2))\n",
    "#plt.figure(figsize = (10,7))\n",
    "sns.set(font_scale=1.4)#for label size\n",
    "sns.heatmap(df_cm, annot=True, fmt=\"d\",cmap=\"YlGnBu\")\n",
    "plt.xlabel('predicted lables')\n",
    "plt.ylabel('actual lables')\n",
    "plt.show()"
   ]
  },
  {
   "cell_type": "code",
   "execution_count": 33,
   "metadata": {},
   "outputs": [
    {
     "name": "stdout",
     "output_type": "stream",
     "text": [
      "             precision    recall  f1-score   support\n",
      "\n",
      "          0       0.44      0.40      0.42      2680\n",
      "          1       0.91      0.92      0.91     17320\n",
      "\n",
      "avg / total       0.85      0.85      0.85     20000\n",
      "\n"
     ]
    }
   ],
   "source": [
    "print(classification_report(Y_test, pred))"
   ]
  },
  {
   "cell_type": "markdown",
   "metadata": {},
   "source": [
    "## Top 20 features"
   ]
  },
  {
   "cell_type": "code",
   "execution_count": 34,
   "metadata": {},
   "outputs": [],
   "source": [
    "def show_most_informative_features(vectorizer, clf, n=20):\n",
    "    feature_names = vectorizer.get_feature_names()\n",
    "    coefs_with_fns = sorted(zip(clf.feature_importances_, feature_names))\n",
    "    top = coefs_with_fns[:-(n + 1):-1]\n",
    "    print(\"Top 20 Features:\")\n",
    "    for (coef_1, fn_1) in top:\n",
    "        print(\"\")\n",
    "        print(\"%-15s\" % (fn_1))"
   ]
  },
  {
   "cell_type": "code",
   "execution_count": 35,
   "metadata": {},
   "outputs": [
    {
     "name": "stdout",
     "output_type": "stream",
     "text": [
      "Top 20 Features:\n",
      "\n",
      "disappoint     \n",
      "\n",
      "worst          \n",
      "\n",
      "great          \n",
      "\n",
      "best           \n",
      "\n",
      "love           \n",
      "\n",
      "wast           \n",
      "\n",
      "bad            \n",
      "\n",
      "return         \n",
      "\n",
      "terribl        \n",
      "\n",
      "horribl        \n",
      "\n",
      "tast           \n",
      "\n",
      "good           \n",
      "\n",
      "delici         \n",
      "\n",
      "aw             \n",
      "\n",
      "would          \n",
      "\n",
      "like           \n",
      "\n",
      "money          \n",
      "\n",
      "refund         \n",
      "\n",
      "stale          \n",
      "\n",
      "product        \n"
     ]
    }
   ],
   "source": [
    "show_most_informative_features(tf_idf_vect, DT_optimal)"
   ]
  },
  {
   "cell_type": "markdown",
   "metadata": {},
   "source": [
    "## Visualizing the tree"
   ]
  },
  {
   "cell_type": "code",
   "execution_count": 38,
   "metadata": {},
   "outputs": [
    {
     "data": {
      "text/plain": [
       "DecisionTreeClassifier(class_weight=None, criterion='gini', max_depth=5,\n",
       "            max_features=None, max_leaf_nodes=None,\n",
       "            min_impurity_decrease=0.0, min_impurity_split=None,\n",
       "            min_samples_leaf=1, min_samples_split=5,\n",
       "            min_weight_fraction_leaf=0.0, presort=False, random_state=None,\n",
       "            splitter='best')"
      ]
     },
     "execution_count": 38,
     "metadata": {},
     "output_type": "execute_result"
    }
   ],
   "source": [
    "# For visualization.\n",
    "DT_optimal_for_viz = DecisionTreeClassifier(criterion='gini', max_depth=5, min_samples_split=5)\n",
    "DT_optimal_for_viz.fit(X_test_tfidf, Y_test)"
   ]
  },
  {
   "cell_type": "code",
   "execution_count": 39,
   "metadata": {},
   "outputs": [
    {
     "data": {
      "text/plain": [
       "True"
      ]
     },
     "execution_count": 39,
     "metadata": {},
     "output_type": "execute_result"
    }
   ],
   "source": [
    "dot_data = tree.export_graphviz(DT_optimal_for_viz,\n",
    "                                feature_names=tf_idf_vect.get_feature_names(),\n",
    "                                out_file=None,\n",
    "                                filled=True,\n",
    "                                rounded=True)\n",
    "graph = pydotplus.graph_from_dot_data(dot_data)\n",
    "\n",
    "colors = ('turquoise', 'orange')\n",
    "edges = collections.defaultdict(list)\n",
    "\n",
    "for edge in graph.get_edge_list():\n",
    "    edges[edge.get_source()].append(int(edge.get_destination()))\n",
    "\n",
    "for edge in edges:\n",
    "    edges[edge].sort()    \n",
    "    for i in range(2):\n",
    "        dest = graph.get_node(str(edges[edge][i]))[0]\n",
    "        dest.set_fillcolor(colors[i])\n",
    "\n",
    "graph.write_png('tfidf.png')"
   ]
  },
  {
   "cell_type": "markdown",
   "metadata": {},
   "source": [
    "# W2V"
   ]
  },
  {
   "cell_type": "code",
   "execution_count": 10,
   "metadata": {},
   "outputs": [],
   "source": [
    "i=0\n",
    "list_of_sent =[]\n",
    "for sent in X_train['Text'].values:\n",
    "    filtered_sentence =[]\n",
    "    sent = clean_html(sent)\n",
    "    for w in sent.split():\n",
    "        for cleaned_words in clean_punctuation(w).split():\n",
    "            if(cleaned_words.isalpha()):\n",
    "                filtered_sentence.append(cleaned_words.lower())\n",
    "            else:\n",
    "                continue\n",
    "    list_of_sent.append(filtered_sentence)"
   ]
  },
  {
   "cell_type": "code",
   "execution_count": 11,
   "metadata": {},
   "outputs": [],
   "source": [
    "w2v_model=Word2Vec(list_of_sent, min_count=5 ,size=50)"
   ]
  },
  {
   "cell_type": "code",
   "execution_count": 12,
   "metadata": {},
   "outputs": [],
   "source": [
    "w2v_words = list(w2v_model.wv.vocab)"
   ]
  },
  {
   "cell_type": "markdown",
   "metadata": {},
   "source": [
    "# Average W2V"
   ]
  },
  {
   "cell_type": "code",
   "execution_count": 13,
   "metadata": {},
   "outputs": [
    {
     "name": "stderr",
     "output_type": "stream",
     "text": [
      "100%|██████████| 60000/60000 [02:57<00:00, 338.14it/s]"
     ]
    },
    {
     "name": "stdout",
     "output_type": "stream",
     "text": [
      "60000\n",
      "50\n"
     ]
    },
    {
     "name": "stderr",
     "output_type": "stream",
     "text": [
      "\n"
     ]
    }
   ],
   "source": [
    "X_train_avgw2v = []; # the avg-w2v for each sentence/review is stored in this list\n",
    "for sent in tqdm(list_of_sent): # for each review/sentence\n",
    "    sent_vec = np.zeros(50) # as word vectors are of zero length\n",
    "    cnt_words =0; # num of words with a valid vector in the sentence/review\n",
    "    for word in sent: # for each word in a review/sentence\n",
    "        if word in w2v_words:\n",
    "            vec = w2v_model.wv[word]\n",
    "            sent_vec += vec\n",
    "            cnt_words += 1\n",
    "    if cnt_words != 0:\n",
    "        sent_vec /= cnt_words\n",
    "    X_train_avgw2v.append(sent_vec)\n",
    "print(len(X_train_avgw2v))\n",
    "print(len(X_train_avgw2v[0]))"
   ]
  },
  {
   "cell_type": "code",
   "execution_count": 14,
   "metadata": {},
   "outputs": [],
   "source": [
    "X_train_avgw2v = np.asarray(X_train_avgw2v)"
   ]
  },
  {
   "cell_type": "code",
   "execution_count": 15,
   "metadata": {},
   "outputs": [],
   "source": [
    "X_train_avgw2v = StandardScaler().fit_transform(X_train_avgw2v)"
   ]
  },
  {
   "cell_type": "code",
   "execution_count": 16,
   "metadata": {},
   "outputs": [],
   "source": [
    "i=0\n",
    "list_of_sentence =[]\n",
    "for sent in X_CV['Text'].values:\n",
    "    filtered_sentence =[]\n",
    "    sent = clean_html(sent)\n",
    "    for w in sent.split():\n",
    "        for cleaned_words in clean_punctuation(w).split():\n",
    "            if(cleaned_words.isalpha()):\n",
    "                filtered_sentence.append(cleaned_words.lower())\n",
    "            else:\n",
    "                continue\n",
    "    list_of_sentence.append(filtered_sentence)"
   ]
  },
  {
   "cell_type": "code",
   "execution_count": 17,
   "metadata": {},
   "outputs": [
    {
     "name": "stderr",
     "output_type": "stream",
     "text": [
      "100%|██████████| 20000/20000 [01:04<00:00, 309.60it/s]"
     ]
    },
    {
     "name": "stdout",
     "output_type": "stream",
     "text": [
      "20000\n",
      "50\n"
     ]
    },
    {
     "name": "stderr",
     "output_type": "stream",
     "text": [
      "\n"
     ]
    }
   ],
   "source": [
    "X_CV_avgw2v = []; # the avg-w2v for each sentence/review is stored in this list\n",
    "for sent in tqdm(list_of_sentence): # for each review/sentence\n",
    "    sent_vec = np.zeros(50) # as word vectors are of zero length\n",
    "    cnt_words =0; # num of words with a valid vector in the sentence/review\n",
    "    for word in sent: # for each word in a review/sentence\n",
    "        if word in w2v_words:\n",
    "            vec = w2v_model.wv[word]\n",
    "            sent_vec += vec\n",
    "            cnt_words += 1\n",
    "    if cnt_words != 0:\n",
    "        sent_vec /= cnt_words\n",
    "    X_CV_avgw2v.append(sent_vec)\n",
    "print(len(X_CV_avgw2v))\n",
    "print(len(X_CV_avgw2v[0]))"
   ]
  },
  {
   "cell_type": "code",
   "execution_count": 18,
   "metadata": {},
   "outputs": [
    {
     "data": {
      "text/plain": [
       "(20000, 50)"
      ]
     },
     "execution_count": 18,
     "metadata": {},
     "output_type": "execute_result"
    }
   ],
   "source": [
    "X_CV_avgw2v = np.asarray(X_CV_avgw2v)\n",
    "X_CV_avgw2v = StandardScaler().fit_transform(X_CV_avgw2v)\n",
    "X_CV_avgw2v.shape"
   ]
  },
  {
   "cell_type": "code",
   "execution_count": 19,
   "metadata": {},
   "outputs": [],
   "source": [
    "i=0\n",
    "list_of_sen =[]\n",
    "for sent in X_test['Text'].values:\n",
    "    filtered_sentence =[]\n",
    "    sent = clean_html(sent)\n",
    "    for w in sent.split():\n",
    "        for cleaned_words in clean_punctuation(w).split():\n",
    "            if(cleaned_words.isalpha()):\n",
    "                filtered_sentence.append(cleaned_words.lower())\n",
    "            else:\n",
    "                continue\n",
    "    list_of_sen.append(filtered_sentence)"
   ]
  },
  {
   "cell_type": "code",
   "execution_count": 20,
   "metadata": {},
   "outputs": [
    {
     "name": "stderr",
     "output_type": "stream",
     "text": [
      "100%|██████████| 20000/20000 [01:03<00:00, 316.57it/s]"
     ]
    },
    {
     "name": "stdout",
     "output_type": "stream",
     "text": [
      "20000\n",
      "50\n"
     ]
    },
    {
     "name": "stderr",
     "output_type": "stream",
     "text": [
      "\n"
     ]
    }
   ],
   "source": [
    "X_test_avgw2v = []; # the avg-w2v for each sentence/review is stored in this list\n",
    "for sent in tqdm(list_of_sen): # for each review/sentence\n",
    "    sent_vec = np.zeros(50) # as word vectors are of zero length\n",
    "    cnt_words =0; # num of words with a valid vector in the sentence/review\n",
    "    for word in sent: # for each word in a review/sentence\n",
    "        if word in w2v_words:\n",
    "            vec = w2v_model.wv[word]\n",
    "            sent_vec += vec\n",
    "            cnt_words += 1\n",
    "    if cnt_words != 0:\n",
    "        sent_vec /= cnt_words\n",
    "    X_test_avgw2v.append(sent_vec)\n",
    "print(len(X_test_avgw2v))\n",
    "print(len(X_test_avgw2v[0]))"
   ]
  },
  {
   "cell_type": "code",
   "execution_count": 21,
   "metadata": {},
   "outputs": [
    {
     "data": {
      "text/plain": [
       "(20000, 50)"
      ]
     },
     "execution_count": 21,
     "metadata": {},
     "output_type": "execute_result"
    }
   ],
   "source": [
    "X_test_avgw2v = np.asarray(X_test_avgw2v)\n",
    "X_test_avgw2v = StandardScaler().fit_transform(X_test_avgw2v)\n",
    "X_test_avgw2v.shape"
   ]
  },
  {
   "cell_type": "code",
   "execution_count": 22,
   "metadata": {},
   "outputs": [],
   "source": [
    "test_w2v = open(\"test_w2v.pickle\", \"wb\")\n",
    "pickle.dump(X_test_avgw2v, test_w2v)\n",
    "test_w2v.close()"
   ]
  },
  {
   "cell_type": "markdown",
   "metadata": {},
   "source": [
    "## Decision Trees on Average W2V"
   ]
  },
  {
   "cell_type": "code",
   "execution_count": 23,
   "metadata": {},
   "outputs": [
    {
     "name": "stdout",
     "output_type": "stream",
     "text": [
      "DecisionTreeClassifier(class_weight='balanced', criterion='gini',\n",
      "            max_depth=100, max_features=None, max_leaf_nodes=None,\n",
      "            min_impurity_decrease=0.0, min_impurity_split=None,\n",
      "            min_samples_leaf=1, min_samples_split=5,\n",
      "            min_weight_fraction_leaf=0.0, presort=False, random_state=None,\n",
      "            splitter='best')\n"
     ]
    }
   ],
   "source": [
    "tuned_parameters = {'max_depth':[1, 5, 10, 50, 100, 500, 1000], 'min_samples_split':[5, 10, 100, 500]}\n",
    "\n",
    "\n",
    "DT_model = DecisionTreeClassifier(class_weight='balanced')\n",
    "model = GridSearchCV(DT_model,tuned_parameters,\n",
    "                     scoring='f1',cv=5,n_jobs=-1)\n",
    "\n",
    "model.fit(X_train_avgw2v, Y_train)\n",
    "\n",
    "print(model.best_estimator_)"
   ]
  },
  {
   "cell_type": "markdown",
   "metadata": {},
   "source": [
    "## From the above results it can be seen that optimal depth is 100 and optimal min_samples_split is 5 now getting the train scores and CV scores for different values of depth and min_samples_split."
   ]
  },
  {
   "cell_type": "code",
   "execution_count": 24,
   "metadata": {},
   "outputs": [],
   "source": [
    "def scores_for_depth(X, Y):\n",
    "    max_depths = [1, 5, 10, 50, 100, 500, 1000]\n",
    "    scores =[]\n",
    "    for max_depth in tqdm(max_depths):\n",
    "            clf = DecisionTreeClassifier(criterion='gini', max_depth=max_depth, min_samples_split=5, min_samples_leaf=5)\n",
    "            clf.fit(X_train_avgw2v, Y_train)\n",
    "            pred = clf.predict_proba(X)[:, 1]\n",
    "            auc = roc_auc_score(Y, pred)\n",
    "            scores.append(auc)\n",
    "    return scores"
   ]
  },
  {
   "cell_type": "code",
   "execution_count": 25,
   "metadata": {},
   "outputs": [
    {
     "name": "stderr",
     "output_type": "stream",
     "text": [
      "100%|██████████| 7/7 [00:28<00:00,  4.06s/it]\n"
     ]
    }
   ],
   "source": [
    "CV_scores_depth = scores_for_depth(X_CV_avgw2v, Y_CV)"
   ]
  },
  {
   "cell_type": "code",
   "execution_count": 27,
   "metadata": {},
   "outputs": [
    {
     "name": "stderr",
     "output_type": "stream",
     "text": [
      "100%|██████████| 7/7 [00:27<00:00,  3.91s/it]\n"
     ]
    }
   ],
   "source": [
    "train_scores_depth = scores_for_depth(X_train_avgw2v, Y_train)"
   ]
  },
  {
   "cell_type": "code",
   "execution_count": 28,
   "metadata": {},
   "outputs": [
    {
     "data": {
      "image/png": "[encoded data removed]",
      "text/plain": [
       "<matplotlib.figure.Figure at 0x7eff93b13278>"
      ]
     },
     "metadata": {},
     "output_type": "display_data"
    }
   ],
   "source": [
    "max_depths = [1, 5, 10, 50, 100, 500, 1000]\n",
    "plt.plot(max_depths, CV_scores_depth, label='CV_score')\n",
    "plt.plot(max_depths, train_scores_depth, label='train_score')\n",
    "plt.title('train VS CV for max_depth')\n",
    "plt.ylabel('auc score')\n",
    "plt.xlabel('max depth')\n",
    "plt.legend()\n",
    "plt.show()"
   ]
  },
  {
   "cell_type": "code",
   "execution_count": 30,
   "metadata": {},
   "outputs": [
    {
     "data": {
      "image/png": "[encoded data removed]",
      "text/plain": [
       "<matplotlib.figure.Figure at 0x7eff91a1d4a8>"
      ]
     },
     "metadata": {},
     "output_type": "display_data"
    },
    {
     "name": "stdout",
     "output_type": "stream",
     "text": [
      "The auc score for each max_depth value for cross validation is :  [0.5   0.553 0.6   0.62  0.62  0.621 0.62 ]\n"
     ]
    }
   ],
   "source": [
    "plt.plot(max_depths, CV_scores_depth)\n",
    "\n",
    "plt.title('plot for cv scores according to max_depth')\n",
    "for xy in zip(np.round(max_depths, 2), np.round(CV_scores_depth,3)):\n",
    "    plt.annotate('(%s, %s)' % xy, xy=xy, textcoords='data')\n",
    "plt.xlabel('max_depth')\n",
    "plt.ylabel('auc scores for cross validation')\n",
    "plt.show()\n",
    "\n",
    "print(\"The auc score for each max_depth value for cross validation is : \", np.round(CV_scores_depth,3))"
   ]
  },
  {
   "cell_type": "code",
   "execution_count": 31,
   "metadata": {},
   "outputs": [
    {
     "data": {
      "image/png": "[encoded data removed]",
      "text/plain": [
       "<matplotlib.figure.Figure at 0x7eff9198a860>"
      ]
     },
     "metadata": {},
     "output_type": "display_data"
    },
    {
     "name": "stdout",
     "output_type": "stream",
     "text": [
      "The auc score for each max_depth value for train data is :  [0.5   0.557 0.704 0.882 0.88  0.881 0.88 ]\n"
     ]
    }
   ],
   "source": [
    "plt.plot(max_depths, train_scores_depth)\n",
    "\n",
    "plt.title('plot for train scores according to max_depth')\n",
    "for xy in zip(np.round(max_depths, 2), np.round(train_scores_depth,3)):\n",
    "    plt.annotate('(%s, %s)' % xy, xy=xy, textcoords='data')\n",
    "plt.xlabel('max_depth')\n",
    "plt.ylabel('auc scores for train scores')\n",
    "plt.show()\n",
    "\n",
    "print(\"The auc score for each max_depth value for train data is : \", np.round(train_scores_depth,3))"
   ]
  },
  {
   "cell_type": "code",
   "execution_count": 32,
   "metadata": {},
   "outputs": [],
   "source": [
    "def scores_for_splits(X, Y):\n",
    "    min_samples_splits=[5, 10, 100, 500]\n",
    "    scores =[]\n",
    "    for min_samples_split in tqdm(min_samples_splits):\n",
    "            clf = DecisionTreeClassifier(criterion='gini', max_depth=100, min_samples_split=min_samples_split, min_samples_leaf=5)\n",
    "            clf.fit(X_train_avgw2v, Y_train)\n",
    "            pred = clf.predict_proba(X)[:, 1]\n",
    "            auc = roc_auc_score(Y, pred)\n",
    "            scores.append(auc)\n",
    "    return scores"
   ]
  },
  {
   "cell_type": "code",
   "execution_count": 33,
   "metadata": {},
   "outputs": [
    {
     "name": "stderr",
     "output_type": "stream",
     "text": [
      "100%|██████████| 4/4 [00:20<00:00,  5.10s/it]\n"
     ]
    }
   ],
   "source": [
    "CV_scores_splits = scores_for_splits(X_CV_avgw2v, Y_CV)"
   ]
  },
  {
   "cell_type": "code",
   "execution_count": 34,
   "metadata": {},
   "outputs": [
    {
     "name": "stderr",
     "output_type": "stream",
     "text": [
      "100%|██████████| 4/4 [00:19<00:00,  4.90s/it]\n"
     ]
    }
   ],
   "source": [
    "train_scores_splits = scores_for_splits(X_train_avgw2v, Y_train)"
   ]
  },
  {
   "cell_type": "code",
   "execution_count": 35,
   "metadata": {},
   "outputs": [
    {
     "data": {
      "image/png": "[encoded data removed]",
      "text/plain": [
       "<matplotlib.figure.Figure at 0x7eff91903160>"
      ]
     },
     "metadata": {},
     "output_type": "display_data"
    }
   ],
   "source": [
    "min_samples_splits=[5, 10, 100, 500]\n",
    "plt.plot(min_samples_splits, CV_scores_splits, label='CV_score')\n",
    "plt.plot(min_samples_splits, train_scores_splits, label='train_score')\n",
    "plt.title('train VS CV for min_samples_split')\n",
    "plt.ylabel('auc score')\n",
    "plt.xlabel('min_samples_split')\n",
    "plt.legend()\n",
    "plt.show()"
   ]
  },
  {
   "cell_type": "code",
   "execution_count": 36,
   "metadata": {},
   "outputs": [
    {
     "data": {
      "image/png": "[encoded data removed]",
      "text/plain": [
       "<matplotlib.figure.Figure at 0x7eff919327b8>"
      ]
     },
     "metadata": {},
     "output_type": "display_data"
    },
    {
     "name": "stdout",
     "output_type": "stream",
     "text": [
      "The auc score for each min_samples_split  value for cv data is :  [0.618 0.619 0.597 0.562]\n"
     ]
    }
   ],
   "source": [
    "plt.plot(min_samples_splits, CV_scores_splits)\n",
    "\n",
    "plt.title('plot for cv scores according to min_samples_split ')\n",
    "for xy in zip(np.round(min_samples_splits, 2), np.round(CV_scores_splits,3)):\n",
    "    plt.annotate('(%s, %s)' % xy, xy=xy, textcoords='data')\n",
    "plt.xlabel('min_samples_split ')\n",
    "plt.ylabel('auc scores for cv scores')\n",
    "plt.show()\n",
    "\n",
    "print(\"The auc score for each min_samples_split  value for cv data is : \", np.round(CV_scores_splits,3))"
   ]
  },
  {
   "cell_type": "code",
   "execution_count": 37,
   "metadata": {},
   "outputs": [
    {
     "data": {
      "image/png": "[encoded data removed]",
      "text/plain": [
       "<matplotlib.figure.Figure at 0x7eff9190c438>"
      ]
     },
     "metadata": {},
     "output_type": "display_data"
    },
    {
     "name": "stdout",
     "output_type": "stream",
     "text": [
      "The auc score for each min_samples_split  value for train data is :  [0.881 0.882 0.676 0.578]\n"
     ]
    }
   ],
   "source": [
    "plt.plot(min_samples_splits, train_scores_splits)\n",
    "\n",
    "plt.title('plot for train scores according to min_samples_split ')\n",
    "for xy in zip(np.round(min_samples_splits, 2), np.round(train_scores_splits,3)):\n",
    "    plt.annotate('(%s, %s)' % xy, xy=xy, textcoords='data')\n",
    "plt.xlabel('min_samples_split ')\n",
    "plt.ylabel('auc scores for train scores')\n",
    "plt.show()\n",
    "\n",
    "print(\"The auc score for each min_samples_split  value for train data is : \", np.round(train_scores_splits,3))"
   ]
  },
  {
   "cell_type": "markdown",
   "metadata": {},
   "source": [
    "## Getting the test data scores."
   ]
  },
  {
   "cell_type": "code",
   "execution_count": 38,
   "metadata": {},
   "outputs": [],
   "source": [
    "DT_optimal = DecisionTreeClassifier(criterion='gini', max_depth=100, min_samples_split=5, min_samples_leaf=5)\n",
    "\n",
    "# fitting the model\n",
    "DT_optimal.fit(X_train_avgw2v, Y_train)\n",
    "\n",
    "# predict the response\n",
    "pred = DT_optimal.predict_proba(X_test_avgw2v)[:, 1]\n",
    "\n",
    "# evaluate auc_score\n",
    "auc_score = roc_auc_score(Y_test, pred)"
   ]
  },
  {
   "cell_type": "code",
   "execution_count": 39,
   "metadata": {},
   "outputs": [
    {
     "name": "stdout",
     "output_type": "stream",
     "text": [
      "\n",
      "The auc score for test data for max_depth = 100 and min_samples_split = 5 is 0.611215\n"
     ]
    }
   ],
   "source": [
    "print('\\nThe auc score for test data for max_depth = {} and min_samples_split = {} is {:2f}'.format(100, 5, auc_score))"
   ]
  },
  {
   "cell_type": "code",
   "execution_count": 40,
   "metadata": {},
   "outputs": [
    {
     "data": {
      "text/plain": [
       "array([[  818,  1862],\n",
       "       [ 1434, 15886]])"
      ]
     },
     "execution_count": 40,
     "metadata": {},
     "output_type": "execute_result"
    }
   ],
   "source": [
    "conf_matrix = confusion_matrix(Y_test, pred)\n",
    "conf_matrix"
   ]
  },
  {
   "cell_type": "code",
   "execution_count": 41,
   "metadata": {},
   "outputs": [
    {
     "data": {
      "image/png": "[encoded data removed]",
      "text/plain": [
       "<matplotlib.figure.Figure at 0x7eff91a1d9b0>"
      ]
     },
     "metadata": {},
     "output_type": "display_data"
    }
   ],
   "source": [
    "df_cm = pd.DataFrame(conf_matrix, range(2),\n",
    "                  range(2))\n",
    "#plt.figure(figsize = (10,7))\n",
    "sns.set(font_scale=1.4)#for label size\n",
    "sns.heatmap(df_cm, annot=True, fmt=\"d\",cmap=\"YlGnBu\")\n",
    "plt.xlabel('predicted lables')\n",
    "plt.ylabel('actual lables')\n",
    "plt.show()"
   ]
  },
  {
   "cell_type": "code",
   "execution_count": 42,
   "metadata": {},
   "outputs": [
    {
     "name": "stdout",
     "output_type": "stream",
     "text": [
      "             precision    recall  f1-score   support\n",
      "\n",
      "          0       0.36      0.31      0.33      2680\n",
      "          1       0.90      0.92      0.91     17320\n",
      "\n",
      "avg / total       0.82      0.84      0.83     20000\n",
      "\n"
     ]
    }
   ],
   "source": [
    "print(classification_report(Y_test, pred))"
   ]
  },
  {
   "cell_type": "markdown",
   "metadata": {},
   "source": [
    "# TF-IDF W2V "
   ]
  },
  {
   "cell_type": "code",
   "execution_count": 11,
   "metadata": {},
   "outputs": [],
   "source": [
    "i=0\n",
    "list_of_sent =[]\n",
    "for sent in X_train['CleanedText'].values:\n",
    "    filtered_sentence =[]\n",
    "    sent = clean_html(sent)\n",
    "    for w in sent.split():\n",
    "        for cleaned_words in clean_punctuation(w).split():\n",
    "            if(cleaned_words.isalpha()):\n",
    "                filtered_sentence.append(cleaned_words.lower())\n",
    "            else:\n",
    "                continue\n",
    "    list_of_sent.append(filtered_sentence)\n"
   ]
  },
  {
   "cell_type": "code",
   "execution_count": 12,
   "metadata": {},
   "outputs": [],
   "source": [
    "w2v_model=Word2Vec(list_of_sent, min_count=5 ,size=50)"
   ]
  },
  {
   "cell_type": "code",
   "execution_count": 13,
   "metadata": {},
   "outputs": [],
   "source": [
    "w2v_words = list(w2v_model.wv.vocab)"
   ]
  },
  {
   "cell_type": "code",
   "execution_count": 14,
   "metadata": {},
   "outputs": [],
   "source": [
    "model = TfidfVectorizer()\n",
    "tf_idf_matrix = model.fit_transform(X_train['CleanedText'].values)\n",
    "dictionary = dict(zip(model.get_feature_names(), list(model.idf_)))"
   ]
  },
  {
   "cell_type": "code",
   "execution_count": 15,
   "metadata": {},
   "outputs": [
    {
     "name": "stderr",
     "output_type": "stream",
     "text": [
      "100%|██████████| 60000/60000 [01:44<00:00, 576.53it/s]\n"
     ]
    }
   ],
   "source": [
    "tfidf_feat = model.get_feature_names()\n",
    "\n",
    "X_train_tf = []\n",
    "row=0;\n",
    "for sent in tqdm(list_of_sent):  \n",
    "    sent_vec = np.zeros(50) \n",
    "    weight_sum =0; \n",
    "    for word in sent: \n",
    "        if word in w2v_words:\n",
    "            vec = w2v_model.wv[word]\n",
    "            tf_idf = dictionary[word]*(sent.count(word)/len(sent))\n",
    "            sent_vec += (vec * tf_idf)\n",
    "            weight_sum += tf_idf\n",
    "    if weight_sum != 0:\n",
    "        sent_vec /= weight_sum\n",
    "    X_train_tf.append(sent_vec)\n",
    "    row += 1"
   ]
  },
  {
   "cell_type": "code",
   "execution_count": 16,
   "metadata": {},
   "outputs": [
    {
     "data": {
      "text/plain": [
       "(60000, 50)"
      ]
     },
     "execution_count": 16,
     "metadata": {},
     "output_type": "execute_result"
    }
   ],
   "source": [
    "X_train_tfidfw2v = np.asarray(X_train_tf)\n",
    "X_train_tfidfw2v = StandardScaler().fit_transform(X_train_tfidfw2v)\n",
    "X_train_tfidfw2v.shape"
   ]
  },
  {
   "cell_type": "code",
   "execution_count": 17,
   "metadata": {},
   "outputs": [],
   "source": [
    "train_tfidfw2v = open(\"train_tfidfw2v.pickle\", \"wb\")\n",
    "pickle.dump(X_train_tfidfw2v, train_tfidfw2v)\n",
    "train_tfidfw2v.close()"
   ]
  },
  {
   "cell_type": "code",
   "execution_count": 18,
   "metadata": {},
   "outputs": [],
   "source": [
    "i=0\n",
    "list_of_sentence =[]\n",
    "for sent in X_CV['CleanedText'].values:\n",
    "    filtered_sentence =[]\n",
    "    sent = clean_html(sent)\n",
    "    for w in sent.split():\n",
    "        for cleaned_words in clean_punctuation(w).split():\n",
    "            if(cleaned_words.isalpha()):\n",
    "                filtered_sentence.append(cleaned_words.lower())\n",
    "            else:\n",
    "                continue\n",
    "    list_of_sentence.append(filtered_sentence)"
   ]
  },
  {
   "cell_type": "code",
   "execution_count": 19,
   "metadata": {},
   "outputs": [],
   "source": [
    "X_CV_tfidf = model.transform(X_CV['CleanedText'].values)"
   ]
  },
  {
   "cell_type": "code",
   "execution_count": 20,
   "metadata": {},
   "outputs": [
    {
     "name": "stderr",
     "output_type": "stream",
     "text": [
      "100%|██████████| 20000/20000 [00:39<00:00, 506.26it/s]\n"
     ]
    }
   ],
   "source": [
    "tfidf_feat = model.get_feature_names()\n",
    "\n",
    "X_CV_tf = []\n",
    "row=0;\n",
    "for sent in tqdm(list_of_sentence):  \n",
    "    sent_vec = np.zeros(50) \n",
    "    weight_sum =0; \n",
    "    for word in sent: \n",
    "        if word in w2v_words:\n",
    "            vec = w2v_model.wv[word]\n",
    "            tf_idf = dictionary[word]*(sent.count(word)/len(sent))\n",
    "            sent_vec += (vec * tf_idf)\n",
    "            weight_sum += tf_idf\n",
    "    if weight_sum != 0:\n",
    "        sent_vec /= weight_sum\n",
    "    X_CV_tf.append(sent_vec)\n",
    "    row += 1"
   ]
  },
  {
   "cell_type": "code",
   "execution_count": 21,
   "metadata": {},
   "outputs": [
    {
     "data": {
      "text/plain": [
       "(20000, 50)"
      ]
     },
     "execution_count": 21,
     "metadata": {},
     "output_type": "execute_result"
    }
   ],
   "source": [
    "X_CV_tfidfw2v = np.asarray(X_CV_tf)\n",
    "X_CV_tfidfw2v = StandardScaler().fit_transform(X_CV_tfidfw2v)\n",
    "X_CV_tfidfw2v.shape"
   ]
  },
  {
   "cell_type": "code",
   "execution_count": 22,
   "metadata": {},
   "outputs": [],
   "source": [
    "i=0\n",
    "list_of_sen =[]\n",
    "for sent in X_test['CleanedText'].values:\n",
    "    filtered_sentence =[]\n",
    "    sent = clean_html(sent)\n",
    "    for w in sent.split():\n",
    "        for cleaned_words in clean_punctuation(w).split():\n",
    "            if(cleaned_words.isalpha()):\n",
    "                filtered_sentence.append(cleaned_words.lower())\n",
    "            else:\n",
    "                continue\n",
    "    list_of_sen.append(filtered_sentence)"
   ]
  },
  {
   "cell_type": "code",
   "execution_count": 23,
   "metadata": {},
   "outputs": [],
   "source": [
    "X_test_tfidf = model.transform(X_test['CleanedText'].values)"
   ]
  },
  {
   "cell_type": "code",
   "execution_count": 24,
   "metadata": {},
   "outputs": [
    {
     "name": "stderr",
     "output_type": "stream",
     "text": [
      "100%|██████████| 20000/20000 [00:36<00:00, 550.42it/s]\n"
     ]
    }
   ],
   "source": [
    "tfidf_feat = model.get_feature_names()\n",
    "\n",
    "X_test_tf = []\n",
    "row=0;\n",
    "for sent in tqdm(list_of_sen):  \n",
    "    sent_vec = np.zeros(50) \n",
    "    weight_sum =0; \n",
    "    for word in sent: \n",
    "        if word in w2v_words:\n",
    "            vec = w2v_model.wv[word]\n",
    "            tf_idf = dictionary[word]*(sent.count(word)/len(sent))\n",
    "            sent_vec += (vec * tf_idf)\n",
    "            weight_sum += tf_idf\n",
    "    if weight_sum != 0:\n",
    "        sent_vec /= weight_sum\n",
    "    X_test_tf.append(sent_vec)\n",
    "    row += 1"
   ]
  },
  {
   "cell_type": "code",
   "execution_count": 25,
   "metadata": {},
   "outputs": [
    {
     "data": {
      "text/plain": [
       "(20000, 50)"
      ]
     },
     "execution_count": 25,
     "metadata": {},
     "output_type": "execute_result"
    }
   ],
   "source": [
    "X_test_tfidfw2v = np.asarray(X_test_tf)\n",
    "X_test_tfidfw2v = StandardScaler().fit_transform(X_test_tfidfw2v)\n",
    "X_test_tfidfw2v.shape"
   ]
  },
  {
   "cell_type": "markdown",
   "metadata": {},
   "source": [
    "## Decision Trees on TF-IDF weighted W2V"
   ]
  },
  {
   "cell_type": "code",
   "execution_count": 27,
   "metadata": {},
   "outputs": [
    {
     "name": "stdout",
     "output_type": "stream",
     "text": [
      "DecisionTreeClassifier(class_weight='balanced', criterion='gini',\n",
      "            max_depth=100, max_features=None, max_leaf_nodes=None,\n",
      "            min_impurity_decrease=0.0, min_impurity_split=None,\n",
      "            min_samples_leaf=1, min_samples_split=5,\n",
      "            min_weight_fraction_leaf=0.0, presort=False, random_state=None,\n",
      "            splitter='best')\n"
     ]
    }
   ],
   "source": [
    "tuned_parameters = {'max_depth':[1, 5, 10, 50, 100, 500, 1000], 'min_samples_split':[5, 10, 100, 500]}\n",
    "\n",
    "\n",
    "DT_model = DecisionTreeClassifier(class_weight='balanced')\n",
    "model = GridSearchCV(DT_model,tuned_parameters,\n",
    "                     scoring='f1',cv=3,n_jobs=-1)\n",
    "\n",
    "model.fit(X_train_tfidfw2v, Y_train)\n",
    "\n",
    "print(model.best_estimator_)"
   ]
  },
  {
   "cell_type": "markdown",
   "metadata": {},
   "source": [
    "## From the above results it can be seen that optimal depth is 100 and optimal min_samples_split is 5 now getting the train scores and CV scores for different values of depth and min_samples_split."
   ]
  },
  {
   "cell_type": "code",
   "execution_count": 28,
   "metadata": {},
   "outputs": [],
   "source": [
    "def scores_for_depth(X, Y):\n",
    "    max_depths = [1, 5, 10, 50, 100, 500, 1000]\n",
    "    scores =[]\n",
    "    for max_depth in tqdm(max_depths):\n",
    "            clf = DecisionTreeClassifier(criterion='gini', max_depth=max_depth, min_samples_split=5, min_samples_leaf=5)\n",
    "            clf.fit(X_train_tfidfw2v, Y_train)\n",
    "            pred = clf.predict_proba(X)[:, 1]\n",
    "            auc = roc_auc_score(Y, pred)\n",
    "            scores.append(auc)\n",
    "    return scores"
   ]
  },
  {
   "cell_type": "code",
   "execution_count": 29,
   "metadata": {},
   "outputs": [
    {
     "name": "stderr",
     "output_type": "stream",
     "text": [
      "100%|██████████| 7/7 [00:30<00:00,  4.39s/it]\n"
     ]
    }
   ],
   "source": [
    "CV_scores_depth = scores_for_depth(X_CV_tfidfw2v, Y_CV)"
   ]
  },
  {
   "cell_type": "code",
   "execution_count": 31,
   "metadata": {},
   "outputs": [
    {
     "name": "stderr",
     "output_type": "stream",
     "text": [
      "100%|██████████| 7/7 [00:29<00:00,  4.26s/it]\n"
     ]
    }
   ],
   "source": [
    "train_scores_depth = scores_for_depth(X_train_tfidfw2v, Y_train)"
   ]
  },
  {
   "cell_type": "code",
   "execution_count": 32,
   "metadata": {},
   "outputs": [
    {
     "data": {
      "image/png": "[encoded data removed]",
      "text/plain": [
       "<matplotlib.figure.Figure at 0x7f09222b7710>"
      ]
     },
     "metadata": {},
     "output_type": "display_data"
    }
   ],
   "source": [
    "max_depths = [1, 5, 10, 50, 100, 500, 1000]\n",
    "plt.plot(max_depths, CV_scores_depth, label='CV_score')\n",
    "plt.plot(max_depths, train_scores_depth, label='train_score')\n",
    "plt.title('train VS CV for max_depth')\n",
    "plt.ylabel('auc score')\n",
    "plt.xlabel('max depth')\n",
    "plt.legend()\n",
    "plt.show()"
   ]
  },
  {
   "cell_type": "code",
   "execution_count": 33,
   "metadata": {},
   "outputs": [
    {
     "data": {
      "image/png": "[encoded data removed]",
      "text/plain": [
       "<matplotlib.figure.Figure at 0x7f0922272630>"
      ]
     },
     "metadata": {},
     "output_type": "display_data"
    },
    {
     "name": "stdout",
     "output_type": "stream",
     "text": [
      "The auc score for each max_depth value for cross validation is :  [0.5   0.548 0.595 0.613 0.612 0.612 0.612]\n"
     ]
    }
   ],
   "source": [
    "plt.plot(max_depths, CV_scores_depth)\n",
    "\n",
    "plt.title('plot for cv scores according to max_depth')\n",
    "for xy in zip(np.round(max_depths, 2), np.round(CV_scores_depth,3)):\n",
    "    plt.annotate('(%s, %s)' % xy, xy=xy, textcoords='data')\n",
    "plt.xlabel('max_depth')\n",
    "plt.ylabel('auc scores for cross validation')\n",
    "plt.show()\n",
    "\n",
    "print(\"The auc score for each max_depth value for cross validation is : \", np.round(CV_scores_depth,3))"
   ]
  },
  {
   "cell_type": "code",
   "execution_count": 34,
   "metadata": {},
   "outputs": [
    {
     "data": {
      "image/png": "[encoded data removed]",
      "text/plain": [
       "<matplotlib.figure.Figure at 0x7f09201a88d0>"
      ]
     },
     "metadata": {},
     "output_type": "display_data"
    },
    {
     "name": "stdout",
     "output_type": "stream",
     "text": [
      "The auc score for each max_depth value for train data is :  [0.5   0.552 0.698 0.877 0.877 0.877 0.878]\n"
     ]
    }
   ],
   "source": [
    "plt.plot(max_depths, train_scores_depth)\n",
    "\n",
    "plt.title('plot for train scores according to max_depth')\n",
    "for xy in zip(np.round(max_depths, 2), np.round(train_scores_depth,3)):\n",
    "    plt.annotate('(%s, %s)' % xy, xy=xy, textcoords='data')\n",
    "plt.xlabel('max_depth')\n",
    "plt.ylabel('auc scores for train scores')\n",
    "plt.show()\n",
    "\n",
    "print(\"The auc score for each max_depth value for train data is : \", np.round(train_scores_depth,3))"
   ]
  },
  {
   "cell_type": "code",
   "execution_count": 38,
   "metadata": {},
   "outputs": [],
   "source": [
    "def scores_for_splits(X, Y):\n",
    "    min_samples_splits=[5, 10, 100, 500]\n",
    "    scores =[]\n",
    "    for min_samples_split in tqdm(min_samples_splits):\n",
    "            clf = DecisionTreeClassifier(criterion='gini', max_depth=500, min_samples_split=min_samples_split, min_samples_leaf=5)\n",
    "            clf.fit(X_train_tfidfw2v, Y_train)\n",
    "            pred = clf.predict_proba(X)[:, 1]\n",
    "            auc = roc_auc_score(Y, pred)\n",
    "            scores.append(auc)\n",
    "    return scores"
   ]
  },
  {
   "cell_type": "code",
   "execution_count": 39,
   "metadata": {},
   "outputs": [
    {
     "name": "stderr",
     "output_type": "stream",
     "text": [
      "100%|██████████| 4/4 [00:22<00:00,  5.68s/it]\n"
     ]
    }
   ],
   "source": [
    "CV_scores_splits = scores_for_splits(X_CV_tfidfw2v, Y_CV)"
   ]
  },
  {
   "cell_type": "code",
   "execution_count": 40,
   "metadata": {},
   "outputs": [
    {
     "name": "stderr",
     "output_type": "stream",
     "text": [
      "100%|██████████| 4/4 [00:22<00:00,  5.63s/it]\n"
     ]
    }
   ],
   "source": [
    "train_scores_splits = scores_for_splits(X_train_tfidfw2v, Y_train)"
   ]
  },
  {
   "cell_type": "code",
   "execution_count": 41,
   "metadata": {},
   "outputs": [
    {
     "data": {
      "image/png": "[encoded data removed]",
      "text/plain": [
       "<matplotlib.figure.Figure at 0x7f09200e14e0>"
      ]
     },
     "metadata": {},
     "output_type": "display_data"
    }
   ],
   "source": [
    "min_samples_splits=[5, 10, 100, 500]\n",
    "plt.plot(min_samples_splits, CV_scores_splits, label='CV_score')\n",
    "plt.plot(min_samples_splits, train_scores_splits, label='train_score')\n",
    "plt.title('train VS CV for min_samples_split')\n",
    "plt.ylabel('auc score')\n",
    "plt.xlabel('min_samples_split')\n",
    "plt.legend()\n",
    "plt.show()"
   ]
  },
  {
   "cell_type": "code",
   "execution_count": 42,
   "metadata": {},
   "outputs": [
    {
     "data": {
      "image/png": "[encoded data removed]",
      "text/plain": [
       "<matplotlib.figure.Figure at 0x7f09200f0b38>"
      ]
     },
     "metadata": {},
     "output_type": "display_data"
    },
    {
     "name": "stdout",
     "output_type": "stream",
     "text": [
      "The auc score for each min_samples_split  value for cv data is :  [0.609 0.613 0.599 0.553]\n"
     ]
    }
   ],
   "source": [
    "plt.plot(min_samples_splits, CV_scores_splits)\n",
    "\n",
    "plt.title('plot for cv scores according to min_samples_split ')\n",
    "for xy in zip(np.round(min_samples_splits, 2), np.round(CV_scores_splits,3)):\n",
    "    plt.annotate('(%s, %s)' % xy, xy=xy, textcoords='data')\n",
    "plt.xlabel('min_samples_split ')\n",
    "plt.ylabel('auc scores for cv scores')\n",
    "plt.show()\n",
    "\n",
    "print(\"The auc score for each min_samples_split  value for cv data is : \", np.round(CV_scores_splits,3))"
   ]
  },
  {
   "cell_type": "code",
   "execution_count": 43,
   "metadata": {},
   "outputs": [
    {
     "data": {
      "image/png": "[encoded data removed]",
      "text/plain": [
       "<matplotlib.figure.Figure at 0x7f092004e550>"
      ]
     },
     "metadata": {},
     "output_type": "display_data"
    },
    {
     "name": "stdout",
     "output_type": "stream",
     "text": [
      "The auc score for each min_samples_split  value for train data is :  [0.875 0.875 0.684 0.563]\n"
     ]
    }
   ],
   "source": [
    "plt.plot(min_samples_splits, train_scores_splits)\n",
    "\n",
    "plt.title('plot for train scores according to min_samples_split ')\n",
    "for xy in zip(np.round(min_samples_splits, 2), np.round(train_scores_splits,3)):\n",
    "    plt.annotate('(%s, %s)' % xy, xy=xy, textcoords='data')\n",
    "plt.xlabel('min_samples_split ')\n",
    "plt.ylabel('auc scores for train scores')\n",
    "plt.show()\n",
    "\n",
    "print(\"The auc score for each min_samples_split  value for train data is : \", np.round(train_scores_splits,3))"
   ]
  },
  {
   "cell_type": "markdown",
   "metadata": {},
   "source": [
    "## Getting the test data scores"
   ]
  },
  {
   "cell_type": "code",
   "execution_count": 44,
   "metadata": {},
   "outputs": [],
   "source": [
    "DT_optimal = DecisionTreeClassifier(criterion='gini', max_depth=100, min_samples_split=5, min_samples_leaf=5)\n",
    "\n",
    "# fitting the model\n",
    "DT_optimal.fit(X_train_tfidfw2v, Y_train)\n",
    "\n",
    "# predict the response\n",
    "pred = DT_optimal.predict_proba(X_test_tfidfw2v)[:, 1]\n",
    "\n",
    "# evaluate auc_score\n",
    "auc_score = roc_auc_score(Y_test, pred)"
   ]
  },
  {
   "cell_type": "code",
   "execution_count": 45,
   "metadata": {},
   "outputs": [
    {
     "name": "stdout",
     "output_type": "stream",
     "text": [
      "\n",
      "The auc score for test data for max_depth = 100 and min_samples_split = 5 is 0.616668\n"
     ]
    }
   ],
   "source": [
    "print('\\nThe auc score for test data for max_depth = {} and min_samples_split = {} is {:2f}'.format(100, 5, auc_score))"
   ]
  },
  {
   "cell_type": "code",
   "execution_count": 46,
   "metadata": {},
   "outputs": [
    {
     "data": {
      "text/plain": [
       "array([[  861,  1819],\n",
       "       [ 1523, 15797]])"
      ]
     },
     "execution_count": 46,
     "metadata": {},
     "output_type": "execute_result"
    }
   ],
   "source": [
    "conf_matrix = confusion_matrix(Y_test, pred)\n",
    "conf_matrix"
   ]
  },
  {
   "cell_type": "code",
   "execution_count": 47,
   "metadata": {},
   "outputs": [
    {
     "data": {
      "image/png": "[encoded data removed]",
      "text/plain": [
       "<matplotlib.figure.Figure at 0x7f09200bf7b8>"
      ]
     },
     "metadata": {},
     "output_type": "display_data"
    }
   ],
   "source": [
    "df_cm = pd.DataFrame(conf_matrix, range(2),\n",
    "                  range(2))\n",
    "#plt.figure(figsize = (10,7))\n",
    "sns.set(font_scale=1.4)#for label size\n",
    "sns.heatmap(df_cm, annot=True, fmt=\"d\",cmap=\"YlGnBu\")\n",
    "plt.xlabel('predicted lables')\n",
    "plt.ylabel('actual lables')\n",
    "plt.show()"
   ]
  },
  {
   "cell_type": "code",
   "execution_count": 48,
   "metadata": {},
   "outputs": [
    {
     "name": "stdout",
     "output_type": "stream",
     "text": [
      "             precision    recall  f1-score   support\n",
      "\n",
      "          0       0.36      0.32      0.34      2680\n",
      "          1       0.90      0.91      0.90     17320\n",
      "\n",
      "avg / total       0.82      0.83      0.83     20000\n",
      "\n"
     ]
    }
   ],
   "source": [
    "print(classification_report(Y_test, pred))"
   ]
  },
  {
   "cell_type": "markdown",
   "metadata": {},
   "source": [
    "# Comparison of all the models."
   ]
  },
  {
   "cell_type": "code",
   "execution_count": 40,
   "metadata": {},
   "outputs": [
    {
     "name": "stdout",
     "output_type": "stream",
     "text": [
      "+---------------------+---------------+-----------+-------------------+----------------------------+\n",
      "|      Vectorizer     |     Model     | Max Depth | min_samples_split | AUC-Score on the test data |\n",
      "+---------------------+---------------+-----------+-------------------+----------------------------+\n",
      "|         BOW         | Decision Tree |    1000   |         5         |           0.6666           |\n",
      "|        TF-IDF       | Decision Tree |    500    |         5         |           0.6619           |\n",
      "|     Average W2V     | Decision Tree |    100    |         5         |           0.6112           |\n",
      "| TF-IDF Weighted W2V | Decision Tree |    100    |         5         |           0.6166           |\n",
      "+---------------------+---------------+-----------+-------------------+----------------------------+\n"
     ]
    }
   ],
   "source": [
    "x = PrettyTable()\n",
    "x.field_names = [\"Vectorizer\", \"Model\", \"Max Depth\", \"min_samples_split\", \"AUC-Score on the test data\"]\n",
    "x.add_row(['BOW', 'Decision Tree', 1000, 5, '0.6666'])\n",
    "x.add_row(['TF-IDF', 'Decision Tree', 500, 5, '0.6619'])\n",
    "x.add_row(['Average W2V', 'Decision Tree',100, 5, '0.6112'])\n",
    "x.add_row(['TF-IDF Weighted W2V', 'Decision Tree', 100, 5, '0.6166'])\n",
    "print(x)"
   ]
  },
  {
   "cell_type": "markdown",
   "metadata": {},
   "source": [
    "## Thus, from the above table we can see that the model with BOW vectorizer performed better."
   ]
  }
 ],
 "metadata": {
  "kernelspec": {
   "display_name": "Python 3",
   "language": "python",
   "name": "python3"
  },
  "language_info": {
   "codemirror_mode": {
    "name": "ipython",
    "version": 3
   },
   "file_extension": ".py",
   "mimetype": "text/x-python",
   "name": "python",
   "nbconvert_exporter": "python",
   "pygments_lexer": "ipython3",
   "version": "3.6.4"
  }
 },
 "nbformat": 4,
 "nbformat_minor": 2
}
